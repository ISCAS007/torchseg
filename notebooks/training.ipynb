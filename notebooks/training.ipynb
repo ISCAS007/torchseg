{
 "cells": [
  {
   "cell_type": "markdown",
   "metadata": {},
   "source": [
    "# Traing model in notebook\n",
    "- start with a best model weight\n",
    "- load and train it with different config\n",
    "- save the new best model if miou increased\n",
    "\n",
    "# Target\n",
    "- best optimizer + lr + weight decay + lr_mult\n",
    "- best batch size + data augmentation\n",
    "- best loss function"
   ]
  },
  {
   "cell_type": "code",
   "execution_count": 1,
   "metadata": {},
   "outputs": [
    {
     "name": "stdout",
     "output_type": "stream",
     "text": [
      "['/home/yzbx/git/torchseg', '', '/home/yzbx/git/torchseg/notebooks', '/home/yzbx/git/gnu/models/research', '/home/yzbx/git/gnu/models/research/slim', '/home/yzbx/bin/miniconda3/envs/new/lib/python36.zip', '/home/yzbx/bin/miniconda3/envs/new/lib/python3.6', '/home/yzbx/bin/miniconda3/envs/new/lib/python3.6/lib-dynload', '/home/yzbx/bin/miniconda3/envs/new/lib/python3.6/site-packages', '/home/yzbx/bin/miniconda3/envs/new/lib/python3.6/site-packages/cityscapesscripts-1.0.0-py3.6-linux-x86_64.egg', '/home/yzbx/bin/miniconda3/envs/new/lib/python3.6/site-packages/torchvision-0.2.1-py3.6.egg', '/home/yzbx/bin/miniconda3/envs/new/lib/python3.6/site-packages/IPython/extensions', '/home/yzbx/.ipython']\n"
     ]
    }
   ],
   "source": [
    "import sys\n",
    "import os\n",
    "project_dir=os.path.expanduser('~/git/torchseg')\n",
    "os.chdir(project_dir)\n",
    "sys.path.insert(0,project_dir)\n",
    "print(sys.path)\n",
    "from utils.config import get_parser,get_config\n",
    "from utils.disc_tools import get_newest_file\n",
    "from models.pspnet import pspnet\n",
    "import glob\n",
    "import torch\n",
    "%matplotlib inline\n",
    "import matplotlib.pyplot as plt\n",
    "from utils.survey import dataset_survey\n",
    "from utils.metrics import runningScore,get_scores\n",
    "from PIL import Image\n",
    "from tqdm import tqdm"
   ]
  },
  {
   "cell_type": "code",
   "execution_count": 6,
   "metadata": {
    "scrolled": true
   },
   "outputs": [
    {
     "name": "stdout",
     "output_type": "stream",
     "text": [
      "convert input shape is (240, 240) ******************************\n",
      "{'model': {'upsample_type': 'bilinear', 'auxnet_type': 'bilinear', 'upsample_layer': 4, 'auxnet_layer': 4, 'cross_merge_times': 1, 'use_momentum': True, 'backbone_pretrained': True, 'use_bn': True, 'use_dropout': False, 'use_bias': True, 'eps': 1e-05, 'momentum': 0.01, 'learning_rate': 0.0001, 'optimizer': 'adam', 'lr_weight_decay': 0.0001, 'lr_momentum': 0.9, 'use_lr_mult': True, 'changed_lr_mult': 2.0, 'new_lr_mult': 5.0, 'use_reg': False, 'use_class_weight': False, 'class_weight_alpha': 0.0, 'focal_loss_gamma': -1.0, 'focal_loss_alpha': 1.0, 'l2_reg': 1e-05, 'backbone_name': 'vgg16_bn', 'backbone_freeze': False, 'layer_preference': 'first', 'edge_seg_order': 'same', 'midnet_pool_sizes': [6, 3, 2, 1], 'midnet_scale': 5, 'midnet_name': 'psp', 'edge_bg_weight': 0.01, 'edge_base_weight': 1.0, 'edge_power': 0.9, 'aux_base_weight': 1.0, 'input_shape': [240, 240], 'midnet_out_channels': 512, 'class_number': 21}, 'dataset': {'edge_class_num': 2, 'edge_width': 10, 'edge_with_gray': False, 'with_edge': False, 'norm_ways': 'pytorch', 'root_path': '/home/yzbx/.cv/datasets/VOC', 'txt_note': 'voc2012', 'txt_path': '/home/yzbx/git/torchseg/dataset/txt', 'foreground_class_ids': [0, 1, 2, 3, 4, 5, 6, 7, 8, 9, 10, 11, 12, 13, 14, 15, 16, 17, 18, 19, 20], 'labels': ['background', 'aeroplane', 'bicycle', 'bird', 'boat', 'bottle', 'bus', 'car', 'cat', 'chair', 'cow', 'diningtable', 'dog', 'horse', 'motorbike', 'person', 'pottedplant', 'sheep', 'sofa', 'train', 'tvmonitor'], 'counts': [182014429, 1780580, 758311, 2232247, 1514260, 1517186, 4375622, 3494749, 6752515, 2861091, 2060925, 3381632, 4344951, 2283739, 2888641, 11995853, 1670340, 2254463, 3612229, 3984238, 2349235], 'ignore_index': 255, 'resize_shape': [240, 240], 'name': 'voc2012', 'augmentations_blur': True, 'dataset_use_part': 0}, 'args': {'n_epoch': 50, 'log_dir': '/home/yzbx/tmp/logs/pytorch', 'summary_image': False, 'save_model': True, 'iou_save_threshold': 0.5, 'batch_size': 4, 'augmentation': True, 'augmentations_rotate': True, 'net_name': 'pspnet', 'note': 'jupyter001'}}\n",
      "use_bn True\n",
      "use_dropout False\n",
      "use_bias True\n"
     ]
    },
    {
     "ename": "AssertionError",
     "evalue": "no weight file found under /home/yzbx/tmp/logs/pytorch/pspnet/voc2012/jupyter001, \n please specify checkpoint path",
     "output_type": "error",
     "traceback": [
      "\u001b[0;31m---------------------------------------------------------------------------\u001b[0m",
      "\u001b[0;31mAssertionError\u001b[0m                            Traceback (most recent call last)",
      "\u001b[0;32m<ipython-input-6-3ce82b3a6592>\u001b[0m in \u001b[0;36m<module>\u001b[0;34m()\u001b[0m\n\u001b[1;32m     18\u001b[0m         \u001b[0mckpt_files\u001b[0m\u001b[0;34m=\u001b[0m\u001b[0mglob\u001b[0m\u001b[0;34m.\u001b[0m\u001b[0mglob\u001b[0m\u001b[0;34m(\u001b[0m\u001b[0mos\u001b[0m\u001b[0;34m.\u001b[0m\u001b[0mpath\u001b[0m\u001b[0;34m.\u001b[0m\u001b[0mjoin\u001b[0m\u001b[0;34m(\u001b[0m\u001b[0mlog_dir\u001b[0m\u001b[0;34m,\u001b[0m\u001b[0;34m'**'\u001b[0m\u001b[0;34m,\u001b[0m\u001b[0;34m'*.pkl'\u001b[0m\u001b[0;34m)\u001b[0m\u001b[0;34m,\u001b[0m\u001b[0mrecursive\u001b[0m\u001b[0;34m=\u001b[0m\u001b[0;32mTrue\u001b[0m\u001b[0;34m)\u001b[0m\u001b[0;34m\u001b[0m\u001b[0m\n\u001b[1;32m     19\u001b[0m \u001b[0;34m\u001b[0m\u001b[0m\n\u001b[0;32m---> 20\u001b[0;31m     \u001b[0;32massert\u001b[0m \u001b[0mlen\u001b[0m\u001b[0;34m(\u001b[0m\u001b[0mckpt_files\u001b[0m\u001b[0;34m)\u001b[0m\u001b[0;34m>\u001b[0m\u001b[0;36m0\u001b[0m\u001b[0;34m,\u001b[0m\u001b[0;34m'no weight file found under %s, \\n please specify checkpoint path'\u001b[0m\u001b[0;34m%\u001b[0m\u001b[0mlog_dir\u001b[0m\u001b[0;34m\u001b[0m\u001b[0m\n\u001b[0m\u001b[1;32m     21\u001b[0m     \u001b[0mcheckpoint_path\u001b[0m\u001b[0;34m=\u001b[0m\u001b[0mget_newest_file\u001b[0m\u001b[0;34m(\u001b[0m\u001b[0mckpt_files\u001b[0m\u001b[0;34m)\u001b[0m\u001b[0;34m\u001b[0m\u001b[0m\n\u001b[1;32m     22\u001b[0m     \u001b[0mprint\u001b[0m\u001b[0;34m(\u001b[0m\u001b[0;34m'no checkpoint file given, auto find %s'\u001b[0m\u001b[0;34m%\u001b[0m\u001b[0mcheckpoint_path\u001b[0m\u001b[0;34m)\u001b[0m\u001b[0;34m\u001b[0m\u001b[0m\n",
      "\u001b[0;31mAssertionError\u001b[0m: no weight file found under /home/yzbx/tmp/logs/pytorch/pspnet/voc2012/jupyter001, \n please specify checkpoint path"
     ]
    }
   ],
   "source": [
    "#checkpoint_path=os.path.expanduser('~/tmp/logs/pytorch/pspnet/voc2012/voc_benchmark/2018-10-26___17-00-45/model-last-49.pkl')\n",
    "parser=get_parser()\n",
    "argv='--upsample_layer=4 --use_momentum=True --backbone_name=vgg16_bn --use_lr_mult=True --changed_lr_mult=2 --new_lr_mult=5 --midnet_scale=5 --batch_size=4 --momentum=0.01 --dataset_name=VOC2012 --note=jupyter001 --save_model=True --n_epoch=50'\n",
    "args=parser.parse_args(argv.split(' '))\n",
    "config=get_config(args)\n",
    "print(config)\n",
    "\n",
    "model = globals()[args.net_name](config)\n",
    "\n",
    "checkpoint_path=None\n",
    "if checkpoint_path is None:\n",
    "    log_dir = os.path.join(config.args.log_dir, model.name,\n",
    "                       config.dataset.name, config.args.note)\n",
    "    ckpt_files=glob.glob(os.path.join(log_dir,'**','model-best-*.pkl'),recursive=True)\n",
    "\n",
    "    # use best model first, then use the last model, because the last model will be the newest one if exist.\n",
    "    if len(ckpt_files)==0:\n",
    "        ckpt_files=glob.glob(os.path.join(log_dir,'**','*.pkl'),recursive=True)\n",
    "\n",
    "    assert len(ckpt_files)>0,'no weight file found under %s, \\n please specify checkpoint path'%log_dir\n",
    "    checkpoint_path=get_newest_file(ckpt_files)\n",
    "    print('no checkpoint file given, auto find %s'%checkpoint_path)\n",
    "else:\n",
    "    assert os.path.exists(checkpoint_path),'checkpoint path %s not exist'%checkpoint_path\n",
    "    \n",
    "device = torch.device('cuda' if torch.cuda.is_available() else 'cpu')\n",
    "model.to(device)\n",
    "\n",
    "state_dict=torch.load(checkpoint_path)\n",
    "if 'model_state' in state_dict.keys():\n",
    "    model.load_state_dict(state_dict['model_state'])\n",
    "else:\n",
    "    model.load_state_dict(state_dict)\n",
    "model.train()"
   ]
  },
  {
   "cell_type": "markdown",
   "metadata": {},
   "source": [
    "# cycle lr mult"
   ]
  },
  {
   "cell_type": "code",
   "execution_count": null,
   "metadata": {},
   "outputs": [],
   "source": [
    "n_epoch=15\n",
    "net = model\n",
    "config.args.note+='_cycle'\n",
    "for times in range(3):\n",
    "    config.args.n_epoch=n_epoch*2**times\n",
    "    config.args.note = note+'_%d'%times\n",
    "    assert net.config.args.n_epoch==config.args.n_epoch\n",
    "    keras_fit(model=net,train_loader=train_loader,val_loader=val_loader)"
   ]
  },
  {
   "cell_type": "markdown",
   "metadata": {},
   "source": [
    "# modify_resnet_head"
   ]
  },
  {
   "cell_type": "code",
   "execution_count": 2,
   "metadata": {
    "scrolled": true
   },
   "outputs": [
    {
     "name": "stdout",
     "output_type": "stream",
     "text": [
      "convert input shape is (240, 240) ******************************\n",
      "{'model': {'upsample_type': 'bilinear', 'auxnet_type': 'bilinear', 'upsample_layer': 4, 'use_momentum': True, 'auxnet_layer': 4, 'cross_merge_times': 1, 'backbone_pretrained': True, 'use_bn': True, 'use_dropout': False, 'use_bias': True, 'modify_resnet_head': False, 'eps': 1e-05, 'momentum': 0.01, 'learning_rate': 0.0001, 'optimizer': 'adam', 'scheduler': None, 'lr_weight_decay': 0.0001, 'lr_momentum': 0.9, 'use_lr_mult': True, 'changed_lr_mult': 10.0, 'new_lr_mult': 20.0, 'use_reg': False, 'use_class_weight': False, 'class_weight_alpha': 0.0, 'focal_loss_gamma': -1.0, 'focal_loss_alpha': 1.0, 'focal_loss_grad': True, 'l2_reg': 1e-05, 'backbone_name': 'resnet50', 'backbone_freeze': True, 'layer_preference': 'first', 'edge_seg_order': 'same', 'midnet_pool_sizes': [6, 3, 2, 1], 'midnet_scale': 5, 'midnet_name': 'psp', 'edge_bg_weight': 0.01, 'edge_base_weight': 1.0, 'edge_power': 0.9, 'aux_base_weight': 1.0, 'input_shape': [240, 240], 'midnet_out_channels': 512, 'class_number': 21}, 'dataset': {'edge_class_num': 2, 'edge_width': 10, 'edge_with_gray': False, 'with_edge': False, 'norm_ways': 'pytorch', 'root_path': '/home/yzbx/.cv/datasets/VOC', 'txt_note': 'voc2012', 'txt_path': '/home/yzbx/git/torchseg/dataset/txt', 'foreground_class_ids': [0, 1, 2, 3, 4, 5, 6, 7, 8, 9, 10, 11, 12, 13, 14, 15, 16, 17, 18, 19, 20], 'labels': ['background', 'aeroplane', 'bicycle', 'bird', 'boat', 'bottle', 'bus', 'car', 'cat', 'chair', 'cow', 'diningtable', 'dog', 'horse', 'motorbike', 'person', 'pottedplant', 'sheep', 'sofa', 'train', 'tvmonitor'], 'counts': [182014429, 1780580, 758311, 2232247, 1514260, 1517186, 4375622, 3494749, 6752515, 2861091, 2060925, 3381632, 4344951, 2283739, 2888641, 11995853, 1670340, 2254463, 3612229, 3984238, 2349235], 'ignore_index': 255, 'resize_shape': [240, 240], 'name': 'voc2012', 'augmentations_blur': True, 'dataset_use_part': 0}, 'args': {'n_epoch': 50, 'log_dir': '/home/yzbx/tmp/logs/pytorch', 'summary_image': False, 'save_model': False, 'iou_save_threshold': 0.5, 'batch_size': 2, 'augmentation': True, 'augmentations_rotate': True, 'net_name': 'pspnet', 'checkpoint_path': None, 'note': 'test'}, 'aug': {'propability': 0.25, 'use_rotate': True, 'rotate_max_angle': 15, 'keep_crop_ratio': True, 'min_crop_size': 480, 'max_crop_size': [480, 720], 'crop_ratio': [0.85, 1.0], 'horizontal_flip': True, 'vertical_flip': False, 'debug': False, 'use_imgaug': True}}\n"
     ]
    },
    {
     "name": "stderr",
     "output_type": "stream",
     "text": [
      "/home/yzbx/git/torchseg/models/psp_resnet.py:80: UserWarning: use config from os.environ[modify_resnet_head]\n",
      "  warnings.warn('use config from os.environ[modify_resnet_head]')\n"
     ]
    },
    {
     "name": "stdout",
     "output_type": "stream",
     "text": [
      "use_bn True\n",
      "use_dropout False\n",
      "use_bias True\n"
     ]
    }
   ],
   "source": [
    "parser=get_parser()\n",
    "argv='--upsample_layer=4 --backbone_freeze=True --modify_resnet_head=False --use_momentum=True --backbone_name=resnet50 --midnet_scale=5 --batch_size=2 --momentum=0.01 --dataset_name=VOC2012 --note=test --n_epoch=50'\n",
    "args=parser.parse_args(argv.split(' '))\n",
    "config=get_config(args)\n",
    "print(config)\n",
    "\n",
    "model = globals()[args.net_name](config)"
   ]
  },
  {
   "cell_type": "code",
   "execution_count": 9,
   "metadata": {},
   "outputs": [
    {
     "name": "stdout",
     "output_type": "stream",
     "text": [
      "odict_keys(['backbone.model.conv1.weight', 'backbone.model.bn1.weight', 'backbone.model.bn1.bias', 'backbone.model.bn1.running_mean', 'backbone.model.bn1.running_var', 'backbone.model.bn1.num_batches_tracked', 'backbone.model.prefix_net.0.weight', 'backbone.model.prefix_net.1.weight', 'backbone.model.prefix_net.1.bias', 'backbone.model.prefix_net.1.running_mean', 'backbone.model.prefix_net.1.running_var', 'backbone.model.prefix_net.1.num_batches_tracked', 'backbone.model.layer1.0.conv1.weight', 'backbone.model.layer1.0.bn1.weight', 'backbone.model.layer1.0.bn1.bias', 'backbone.model.layer1.0.bn1.running_mean', 'backbone.model.layer1.0.bn1.running_var', 'backbone.model.layer1.0.bn1.num_batches_tracked', 'backbone.model.layer1.0.conv2.weight', 'backbone.model.layer1.0.bn2.weight', 'backbone.model.layer1.0.bn2.bias', 'backbone.model.layer1.0.bn2.running_mean', 'backbone.model.layer1.0.bn2.running_var', 'backbone.model.layer1.0.bn2.num_batches_tracked', 'backbone.model.layer1.0.conv3.weight', 'backbone.model.layer1.0.bn3.weight', 'backbone.model.layer1.0.bn3.bias', 'backbone.model.layer1.0.bn3.running_mean', 'backbone.model.layer1.0.bn3.running_var', 'backbone.model.layer1.0.bn3.num_batches_tracked', 'backbone.model.layer1.0.downsample.0.weight', 'backbone.model.layer1.0.downsample.1.weight', 'backbone.model.layer1.0.downsample.1.bias', 'backbone.model.layer1.0.downsample.1.running_mean', 'backbone.model.layer1.0.downsample.1.running_var', 'backbone.model.layer1.0.downsample.1.num_batches_tracked', 'backbone.model.layer1.1.conv1.weight', 'backbone.model.layer1.1.bn1.weight', 'backbone.model.layer1.1.bn1.bias', 'backbone.model.layer1.1.bn1.running_mean', 'backbone.model.layer1.1.bn1.running_var', 'backbone.model.layer1.1.bn1.num_batches_tracked', 'backbone.model.layer1.1.conv2.weight', 'backbone.model.layer1.1.bn2.weight', 'backbone.model.layer1.1.bn2.bias', 'backbone.model.layer1.1.bn2.running_mean', 'backbone.model.layer1.1.bn2.running_var', 'backbone.model.layer1.1.bn2.num_batches_tracked', 'backbone.model.layer1.1.conv3.weight', 'backbone.model.layer1.1.bn3.weight', 'backbone.model.layer1.1.bn3.bias', 'backbone.model.layer1.1.bn3.running_mean', 'backbone.model.layer1.1.bn3.running_var', 'backbone.model.layer1.1.bn3.num_batches_tracked', 'backbone.model.layer1.2.conv1.weight', 'backbone.model.layer1.2.bn1.weight', 'backbone.model.layer1.2.bn1.bias', 'backbone.model.layer1.2.bn1.running_mean', 'backbone.model.layer1.2.bn1.running_var', 'backbone.model.layer1.2.bn1.num_batches_tracked', 'backbone.model.layer1.2.conv2.weight', 'backbone.model.layer1.2.bn2.weight', 'backbone.model.layer1.2.bn2.bias', 'backbone.model.layer1.2.bn2.running_mean', 'backbone.model.layer1.2.bn2.running_var', 'backbone.model.layer1.2.bn2.num_batches_tracked', 'backbone.model.layer1.2.conv3.weight', 'backbone.model.layer1.2.bn3.weight', 'backbone.model.layer1.2.bn3.bias', 'backbone.model.layer1.2.bn3.running_mean', 'backbone.model.layer1.2.bn3.running_var', 'backbone.model.layer1.2.bn3.num_batches_tracked', 'backbone.model.layer2.0.conv1.weight', 'backbone.model.layer2.0.bn1.weight', 'backbone.model.layer2.0.bn1.bias', 'backbone.model.layer2.0.bn1.running_mean', 'backbone.model.layer2.0.bn1.running_var', 'backbone.model.layer2.0.bn1.num_batches_tracked', 'backbone.model.layer2.0.conv2.weight', 'backbone.model.layer2.0.bn2.weight', 'backbone.model.layer2.0.bn2.bias', 'backbone.model.layer2.0.bn2.running_mean', 'backbone.model.layer2.0.bn2.running_var', 'backbone.model.layer2.0.bn2.num_batches_tracked', 'backbone.model.layer2.0.conv3.weight', 'backbone.model.layer2.0.bn3.weight', 'backbone.model.layer2.0.bn3.bias', 'backbone.model.layer2.0.bn3.running_mean', 'backbone.model.layer2.0.bn3.running_var', 'backbone.model.layer2.0.bn3.num_batches_tracked', 'backbone.model.layer2.0.downsample.0.weight', 'backbone.model.layer2.0.downsample.1.weight', 'backbone.model.layer2.0.downsample.1.bias', 'backbone.model.layer2.0.downsample.1.running_mean', 'backbone.model.layer2.0.downsample.1.running_var', 'backbone.model.layer2.0.downsample.1.num_batches_tracked', 'backbone.model.layer2.1.conv1.weight', 'backbone.model.layer2.1.bn1.weight', 'backbone.model.layer2.1.bn1.bias', 'backbone.model.layer2.1.bn1.running_mean', 'backbone.model.layer2.1.bn1.running_var', 'backbone.model.layer2.1.bn1.num_batches_tracked', 'backbone.model.layer2.1.conv2.weight', 'backbone.model.layer2.1.bn2.weight', 'backbone.model.layer2.1.bn2.bias', 'backbone.model.layer2.1.bn2.running_mean', 'backbone.model.layer2.1.bn2.running_var', 'backbone.model.layer2.1.bn2.num_batches_tracked', 'backbone.model.layer2.1.conv3.weight', 'backbone.model.layer2.1.bn3.weight', 'backbone.model.layer2.1.bn3.bias', 'backbone.model.layer2.1.bn3.running_mean', 'backbone.model.layer2.1.bn3.running_var', 'backbone.model.layer2.1.bn3.num_batches_tracked', 'backbone.model.layer2.2.conv1.weight', 'backbone.model.layer2.2.bn1.weight', 'backbone.model.layer2.2.bn1.bias', 'backbone.model.layer2.2.bn1.running_mean', 'backbone.model.layer2.2.bn1.running_var', 'backbone.model.layer2.2.bn1.num_batches_tracked', 'backbone.model.layer2.2.conv2.weight', 'backbone.model.layer2.2.bn2.weight', 'backbone.model.layer2.2.bn2.bias', 'backbone.model.layer2.2.bn2.running_mean', 'backbone.model.layer2.2.bn2.running_var', 'backbone.model.layer2.2.bn2.num_batches_tracked', 'backbone.model.layer2.2.conv3.weight', 'backbone.model.layer2.2.bn3.weight', 'backbone.model.layer2.2.bn3.bias', 'backbone.model.layer2.2.bn3.running_mean', 'backbone.model.layer2.2.bn3.running_var', 'backbone.model.layer2.2.bn3.num_batches_tracked', 'backbone.model.layer2.3.conv1.weight', 'backbone.model.layer2.3.bn1.weight', 'backbone.model.layer2.3.bn1.bias', 'backbone.model.layer2.3.bn1.running_mean', 'backbone.model.layer2.3.bn1.running_var', 'backbone.model.layer2.3.bn1.num_batches_tracked', 'backbone.model.layer2.3.conv2.weight', 'backbone.model.layer2.3.bn2.weight', 'backbone.model.layer2.3.bn2.bias', 'backbone.model.layer2.3.bn2.running_mean', 'backbone.model.layer2.3.bn2.running_var', 'backbone.model.layer2.3.bn2.num_batches_tracked', 'backbone.model.layer2.3.conv3.weight', 'backbone.model.layer2.3.bn3.weight', 'backbone.model.layer2.3.bn3.bias', 'backbone.model.layer2.3.bn3.running_mean', 'backbone.model.layer2.3.bn3.running_var', 'backbone.model.layer2.3.bn3.num_batches_tracked', 'backbone.model.layer3.0.conv1.weight', 'backbone.model.layer3.0.bn1.weight', 'backbone.model.layer3.0.bn1.bias', 'backbone.model.layer3.0.bn1.running_mean', 'backbone.model.layer3.0.bn1.running_var', 'backbone.model.layer3.0.bn1.num_batches_tracked', 'backbone.model.layer3.0.conv2.weight', 'backbone.model.layer3.0.bn2.weight', 'backbone.model.layer3.0.bn2.bias', 'backbone.model.layer3.0.bn2.running_mean', 'backbone.model.layer3.0.bn2.running_var', 'backbone.model.layer3.0.bn2.num_batches_tracked', 'backbone.model.layer3.0.conv3.weight', 'backbone.model.layer3.0.bn3.weight', 'backbone.model.layer3.0.bn3.bias', 'backbone.model.layer3.0.bn3.running_mean', 'backbone.model.layer3.0.bn3.running_var', 'backbone.model.layer3.0.bn3.num_batches_tracked', 'backbone.model.layer3.0.downsample.0.weight', 'backbone.model.layer3.0.downsample.1.weight', 'backbone.model.layer3.0.downsample.1.bias', 'backbone.model.layer3.0.downsample.1.running_mean', 'backbone.model.layer3.0.downsample.1.running_var', 'backbone.model.layer3.0.downsample.1.num_batches_tracked', 'backbone.model.layer3.1.conv1.weight', 'backbone.model.layer3.1.bn1.weight', 'backbone.model.layer3.1.bn1.bias', 'backbone.model.layer3.1.bn1.running_mean', 'backbone.model.layer3.1.bn1.running_var', 'backbone.model.layer3.1.bn1.num_batches_tracked', 'backbone.model.layer3.1.conv2.weight', 'backbone.model.layer3.1.bn2.weight', 'backbone.model.layer3.1.bn2.bias', 'backbone.model.layer3.1.bn2.running_mean', 'backbone.model.layer3.1.bn2.running_var', 'backbone.model.layer3.1.bn2.num_batches_tracked', 'backbone.model.layer3.1.conv3.weight', 'backbone.model.layer3.1.bn3.weight', 'backbone.model.layer3.1.bn3.bias', 'backbone.model.layer3.1.bn3.running_mean', 'backbone.model.layer3.1.bn3.running_var', 'backbone.model.layer3.1.bn3.num_batches_tracked', 'backbone.model.layer3.2.conv1.weight', 'backbone.model.layer3.2.bn1.weight', 'backbone.model.layer3.2.bn1.bias', 'backbone.model.layer3.2.bn1.running_mean', 'backbone.model.layer3.2.bn1.running_var', 'backbone.model.layer3.2.bn1.num_batches_tracked', 'backbone.model.layer3.2.conv2.weight', 'backbone.model.layer3.2.bn2.weight', 'backbone.model.layer3.2.bn2.bias', 'backbone.model.layer3.2.bn2.running_mean', 'backbone.model.layer3.2.bn2.running_var', 'backbone.model.layer3.2.bn2.num_batches_tracked', 'backbone.model.layer3.2.conv3.weight', 'backbone.model.layer3.2.bn3.weight', 'backbone.model.layer3.2.bn3.bias', 'backbone.model.layer3.2.bn3.running_mean', 'backbone.model.layer3.2.bn3.running_var', 'backbone.model.layer3.2.bn3.num_batches_tracked', 'backbone.model.layer3.3.conv1.weight', 'backbone.model.layer3.3.bn1.weight', 'backbone.model.layer3.3.bn1.bias', 'backbone.model.layer3.3.bn1.running_mean', 'backbone.model.layer3.3.bn1.running_var', 'backbone.model.layer3.3.bn1.num_batches_tracked', 'backbone.model.layer3.3.conv2.weight', 'backbone.model.layer3.3.bn2.weight', 'backbone.model.layer3.3.bn2.bias', 'backbone.model.layer3.3.bn2.running_mean', 'backbone.model.layer3.3.bn2.running_var', 'backbone.model.layer3.3.bn2.num_batches_tracked', 'backbone.model.layer3.3.conv3.weight', 'backbone.model.layer3.3.bn3.weight', 'backbone.model.layer3.3.bn3.bias', 'backbone.model.layer3.3.bn3.running_mean', 'backbone.model.layer3.3.bn3.running_var', 'backbone.model.layer3.3.bn3.num_batches_tracked', 'backbone.model.layer3.4.conv1.weight', 'backbone.model.layer3.4.bn1.weight', 'backbone.model.layer3.4.bn1.bias', 'backbone.model.layer3.4.bn1.running_mean', 'backbone.model.layer3.4.bn1.running_var', 'backbone.model.layer3.4.bn1.num_batches_tracked', 'backbone.model.layer3.4.conv2.weight', 'backbone.model.layer3.4.bn2.weight', 'backbone.model.layer3.4.bn2.bias', 'backbone.model.layer3.4.bn2.running_mean', 'backbone.model.layer3.4.bn2.running_var', 'backbone.model.layer3.4.bn2.num_batches_tracked', 'backbone.model.layer3.4.conv3.weight', 'backbone.model.layer3.4.bn3.weight', 'backbone.model.layer3.4.bn3.bias', 'backbone.model.layer3.4.bn3.running_mean', 'backbone.model.layer3.4.bn3.running_var', 'backbone.model.layer3.4.bn3.num_batches_tracked', 'backbone.model.layer3.5.conv1.weight', 'backbone.model.layer3.5.bn1.weight', 'backbone.model.layer3.5.bn1.bias', 'backbone.model.layer3.5.bn1.running_mean', 'backbone.model.layer3.5.bn1.running_var', 'backbone.model.layer3.5.bn1.num_batches_tracked', 'backbone.model.layer3.5.conv2.weight', 'backbone.model.layer3.5.bn2.weight', 'backbone.model.layer3.5.bn2.bias', 'backbone.model.layer3.5.bn2.running_mean', 'backbone.model.layer3.5.bn2.running_var', 'backbone.model.layer3.5.bn2.num_batches_tracked', 'backbone.model.layer3.5.conv3.weight', 'backbone.model.layer3.5.bn3.weight', 'backbone.model.layer3.5.bn3.bias', 'backbone.model.layer3.5.bn3.running_mean', 'backbone.model.layer3.5.bn3.running_var', 'backbone.model.layer3.5.bn3.num_batches_tracked', 'backbone.model.layer4.0.conv1.weight', 'backbone.model.layer4.0.bn1.weight', 'backbone.model.layer4.0.bn1.bias', 'backbone.model.layer4.0.bn1.running_mean', 'backbone.model.layer4.0.bn1.running_var', 'backbone.model.layer4.0.bn1.num_batches_tracked', 'backbone.model.layer4.0.conv2.weight', 'backbone.model.layer4.0.bn2.weight', 'backbone.model.layer4.0.bn2.bias', 'backbone.model.layer4.0.bn2.running_mean', 'backbone.model.layer4.0.bn2.running_var', 'backbone.model.layer4.0.bn2.num_batches_tracked', 'backbone.model.layer4.0.conv3.weight', 'backbone.model.layer4.0.bn3.weight', 'backbone.model.layer4.0.bn3.bias', 'backbone.model.layer4.0.bn3.running_mean', 'backbone.model.layer4.0.bn3.running_var', 'backbone.model.layer4.0.bn3.num_batches_tracked', 'backbone.model.layer4.0.downsample.0.weight', 'backbone.model.layer4.0.downsample.1.weight', 'backbone.model.layer4.0.downsample.1.bias', 'backbone.model.layer4.0.downsample.1.running_mean', 'backbone.model.layer4.0.downsample.1.running_var', 'backbone.model.layer4.0.downsample.1.num_batches_tracked', 'backbone.model.layer4.1.conv1.weight', 'backbone.model.layer4.1.bn1.weight', 'backbone.model.layer4.1.bn1.bias', 'backbone.model.layer4.1.bn1.running_mean', 'backbone.model.layer4.1.bn1.running_var', 'backbone.model.layer4.1.bn1.num_batches_tracked', 'backbone.model.layer4.1.conv2.weight', 'backbone.model.layer4.1.bn2.weight', 'backbone.model.layer4.1.bn2.bias', 'backbone.model.layer4.1.bn2.running_mean', 'backbone.model.layer4.1.bn2.running_var', 'backbone.model.layer4.1.bn2.num_batches_tracked', 'backbone.model.layer4.1.conv3.weight', 'backbone.model.layer4.1.bn3.weight', 'backbone.model.layer4.1.bn3.bias', 'backbone.model.layer4.1.bn3.running_mean', 'backbone.model.layer4.1.bn3.running_var', 'backbone.model.layer4.1.bn3.num_batches_tracked', 'backbone.model.layer4.2.conv1.weight', 'backbone.model.layer4.2.bn1.weight', 'backbone.model.layer4.2.bn1.bias', 'backbone.model.layer4.2.bn1.running_mean', 'backbone.model.layer4.2.bn1.running_var', 'backbone.model.layer4.2.bn1.num_batches_tracked', 'backbone.model.layer4.2.conv2.weight', 'backbone.model.layer4.2.bn2.weight', 'backbone.model.layer4.2.bn2.bias', 'backbone.model.layer4.2.bn2.running_mean', 'backbone.model.layer4.2.bn2.running_var', 'backbone.model.layer4.2.bn2.num_batches_tracked', 'backbone.model.layer4.2.conv3.weight', 'backbone.model.layer4.2.bn3.weight', 'backbone.model.layer4.2.bn3.bias', 'backbone.model.layer4.2.bn3.running_mean', 'backbone.model.layer4.2.bn3.running_var', 'backbone.model.layer4.2.bn3.num_batches_tracked', 'backbone.prefix_net.0.weight', 'backbone.prefix_net.1.weight', 'backbone.prefix_net.1.bias', 'backbone.prefix_net.1.running_mean', 'backbone.prefix_net.1.running_var', 'backbone.prefix_net.1.num_batches_tracked', 'backbone.layer1.0.conv1.weight', 'backbone.layer1.0.bn1.weight', 'backbone.layer1.0.bn1.bias', 'backbone.layer1.0.bn1.running_mean', 'backbone.layer1.0.bn1.running_var', 'backbone.layer1.0.bn1.num_batches_tracked', 'backbone.layer1.0.conv2.weight', 'backbone.layer1.0.bn2.weight', 'backbone.layer1.0.bn2.bias', 'backbone.layer1.0.bn2.running_mean', 'backbone.layer1.0.bn2.running_var', 'backbone.layer1.0.bn2.num_batches_tracked', 'backbone.layer1.0.conv3.weight', 'backbone.layer1.0.bn3.weight', 'backbone.layer1.0.bn3.bias', 'backbone.layer1.0.bn3.running_mean', 'backbone.layer1.0.bn3.running_var', 'backbone.layer1.0.bn3.num_batches_tracked', 'backbone.layer1.0.downsample.0.weight', 'backbone.layer1.0.downsample.1.weight', 'backbone.layer1.0.downsample.1.bias', 'backbone.layer1.0.downsample.1.running_mean', 'backbone.layer1.0.downsample.1.running_var', 'backbone.layer1.0.downsample.1.num_batches_tracked', 'backbone.layer1.1.conv1.weight', 'backbone.layer1.1.bn1.weight', 'backbone.layer1.1.bn1.bias', 'backbone.layer1.1.bn1.running_mean', 'backbone.layer1.1.bn1.running_var', 'backbone.layer1.1.bn1.num_batches_tracked', 'backbone.layer1.1.conv2.weight', 'backbone.layer1.1.bn2.weight', 'backbone.layer1.1.bn2.bias', 'backbone.layer1.1.bn2.running_mean', 'backbone.layer1.1.bn2.running_var', 'backbone.layer1.1.bn2.num_batches_tracked', 'backbone.layer1.1.conv3.weight', 'backbone.layer1.1.bn3.weight', 'backbone.layer1.1.bn3.bias', 'backbone.layer1.1.bn3.running_mean', 'backbone.layer1.1.bn3.running_var', 'backbone.layer1.1.bn3.num_batches_tracked', 'backbone.layer1.2.conv1.weight', 'backbone.layer1.2.bn1.weight', 'backbone.layer1.2.bn1.bias', 'backbone.layer1.2.bn1.running_mean', 'backbone.layer1.2.bn1.running_var', 'backbone.layer1.2.bn1.num_batches_tracked', 'backbone.layer1.2.conv2.weight', 'backbone.layer1.2.bn2.weight', 'backbone.layer1.2.bn2.bias', 'backbone.layer1.2.bn2.running_mean', 'backbone.layer1.2.bn2.running_var', 'backbone.layer1.2.bn2.num_batches_tracked', 'backbone.layer1.2.conv3.weight', 'backbone.layer1.2.bn3.weight', 'backbone.layer1.2.bn3.bias', 'backbone.layer1.2.bn3.running_mean', 'backbone.layer1.2.bn3.running_var', 'backbone.layer1.2.bn3.num_batches_tracked', 'backbone.layer2.0.conv1.weight', 'backbone.layer2.0.bn1.weight', 'backbone.layer2.0.bn1.bias', 'backbone.layer2.0.bn1.running_mean', 'backbone.layer2.0.bn1.running_var', 'backbone.layer2.0.bn1.num_batches_tracked', 'backbone.layer2.0.conv2.weight', 'backbone.layer2.0.bn2.weight', 'backbone.layer2.0.bn2.bias', 'backbone.layer2.0.bn2.running_mean', 'backbone.layer2.0.bn2.running_var', 'backbone.layer2.0.bn2.num_batches_tracked', 'backbone.layer2.0.conv3.weight', 'backbone.layer2.0.bn3.weight', 'backbone.layer2.0.bn3.bias', 'backbone.layer2.0.bn3.running_mean', 'backbone.layer2.0.bn3.running_var', 'backbone.layer2.0.bn3.num_batches_tracked', 'backbone.layer2.0.downsample.0.weight', 'backbone.layer2.0.downsample.1.weight', 'backbone.layer2.0.downsample.1.bias', 'backbone.layer2.0.downsample.1.running_mean', 'backbone.layer2.0.downsample.1.running_var', 'backbone.layer2.0.downsample.1.num_batches_tracked', 'backbone.layer2.1.conv1.weight', 'backbone.layer2.1.bn1.weight', 'backbone.layer2.1.bn1.bias', 'backbone.layer2.1.bn1.running_mean', 'backbone.layer2.1.bn1.running_var', 'backbone.layer2.1.bn1.num_batches_tracked', 'backbone.layer2.1.conv2.weight', 'backbone.layer2.1.bn2.weight', 'backbone.layer2.1.bn2.bias', 'backbone.layer2.1.bn2.running_mean', 'backbone.layer2.1.bn2.running_var', 'backbone.layer2.1.bn2.num_batches_tracked', 'backbone.layer2.1.conv3.weight', 'backbone.layer2.1.bn3.weight', 'backbone.layer2.1.bn3.bias', 'backbone.layer2.1.bn3.running_mean', 'backbone.layer2.1.bn3.running_var', 'backbone.layer2.1.bn3.num_batches_tracked', 'backbone.layer2.2.conv1.weight', 'backbone.layer2.2.bn1.weight', 'backbone.layer2.2.bn1.bias', 'backbone.layer2.2.bn1.running_mean', 'backbone.layer2.2.bn1.running_var', 'backbone.layer2.2.bn1.num_batches_tracked', 'backbone.layer2.2.conv2.weight', 'backbone.layer2.2.bn2.weight', 'backbone.layer2.2.bn2.bias', 'backbone.layer2.2.bn2.running_mean', 'backbone.layer2.2.bn2.running_var', 'backbone.layer2.2.bn2.num_batches_tracked', 'backbone.layer2.2.conv3.weight', 'backbone.layer2.2.bn3.weight', 'backbone.layer2.2.bn3.bias', 'backbone.layer2.2.bn3.running_mean', 'backbone.layer2.2.bn3.running_var', 'backbone.layer2.2.bn3.num_batches_tracked', 'backbone.layer2.3.conv1.weight', 'backbone.layer2.3.bn1.weight', 'backbone.layer2.3.bn1.bias', 'backbone.layer2.3.bn1.running_mean', 'backbone.layer2.3.bn1.running_var', 'backbone.layer2.3.bn1.num_batches_tracked', 'backbone.layer2.3.conv2.weight', 'backbone.layer2.3.bn2.weight', 'backbone.layer2.3.bn2.bias', 'backbone.layer2.3.bn2.running_mean', 'backbone.layer2.3.bn2.running_var', 'backbone.layer2.3.bn2.num_batches_tracked', 'backbone.layer2.3.conv3.weight', 'backbone.layer2.3.bn3.weight', 'backbone.layer2.3.bn3.bias', 'backbone.layer2.3.bn3.running_mean', 'backbone.layer2.3.bn3.running_var', 'backbone.layer2.3.bn3.num_batches_tracked', 'backbone.layer3.0.conv1.weight', 'backbone.layer3.0.bn1.weight', 'backbone.layer3.0.bn1.bias', 'backbone.layer3.0.bn1.running_mean', 'backbone.layer3.0.bn1.running_var', 'backbone.layer3.0.bn1.num_batches_tracked', 'backbone.layer3.0.conv2.weight', 'backbone.layer3.0.bn2.weight', 'backbone.layer3.0.bn2.bias', 'backbone.layer3.0.bn2.running_mean', 'backbone.layer3.0.bn2.running_var', 'backbone.layer3.0.bn2.num_batches_tracked', 'backbone.layer3.0.conv3.weight', 'backbone.layer3.0.bn3.weight', 'backbone.layer3.0.bn3.bias', 'backbone.layer3.0.bn3.running_mean', 'backbone.layer3.0.bn3.running_var', 'backbone.layer3.0.bn3.num_batches_tracked', 'backbone.layer3.0.downsample.0.weight', 'backbone.layer3.0.downsample.1.weight', 'backbone.layer3.0.downsample.1.bias', 'backbone.layer3.0.downsample.1.running_mean', 'backbone.layer3.0.downsample.1.running_var', 'backbone.layer3.0.downsample.1.num_batches_tracked', 'backbone.layer3.1.conv1.weight', 'backbone.layer3.1.bn1.weight', 'backbone.layer3.1.bn1.bias', 'backbone.layer3.1.bn1.running_mean', 'backbone.layer3.1.bn1.running_var', 'backbone.layer3.1.bn1.num_batches_tracked', 'backbone.layer3.1.conv2.weight', 'backbone.layer3.1.bn2.weight', 'backbone.layer3.1.bn2.bias', 'backbone.layer3.1.bn2.running_mean', 'backbone.layer3.1.bn2.running_var', 'backbone.layer3.1.bn2.num_batches_tracked', 'backbone.layer3.1.conv3.weight', 'backbone.layer3.1.bn3.weight', 'backbone.layer3.1.bn3.bias', 'backbone.layer3.1.bn3.running_mean', 'backbone.layer3.1.bn3.running_var', 'backbone.layer3.1.bn3.num_batches_tracked', 'backbone.layer3.2.conv1.weight', 'backbone.layer3.2.bn1.weight', 'backbone.layer3.2.bn1.bias', 'backbone.layer3.2.bn1.running_mean', 'backbone.layer3.2.bn1.running_var', 'backbone.layer3.2.bn1.num_batches_tracked', 'backbone.layer3.2.conv2.weight', 'backbone.layer3.2.bn2.weight', 'backbone.layer3.2.bn2.bias', 'backbone.layer3.2.bn2.running_mean', 'backbone.layer3.2.bn2.running_var', 'backbone.layer3.2.bn2.num_batches_tracked', 'backbone.layer3.2.conv3.weight', 'backbone.layer3.2.bn3.weight', 'backbone.layer3.2.bn3.bias', 'backbone.layer3.2.bn3.running_mean', 'backbone.layer3.2.bn3.running_var', 'backbone.layer3.2.bn3.num_batches_tracked', 'backbone.layer3.3.conv1.weight', 'backbone.layer3.3.bn1.weight', 'backbone.layer3.3.bn1.bias', 'backbone.layer3.3.bn1.running_mean', 'backbone.layer3.3.bn1.running_var', 'backbone.layer3.3.bn1.num_batches_tracked', 'backbone.layer3.3.conv2.weight', 'backbone.layer3.3.bn2.weight', 'backbone.layer3.3.bn2.bias', 'backbone.layer3.3.bn2.running_mean', 'backbone.layer3.3.bn2.running_var', 'backbone.layer3.3.bn2.num_batches_tracked', 'backbone.layer3.3.conv3.weight', 'backbone.layer3.3.bn3.weight', 'backbone.layer3.3.bn3.bias', 'backbone.layer3.3.bn3.running_mean', 'backbone.layer3.3.bn3.running_var', 'backbone.layer3.3.bn3.num_batches_tracked', 'backbone.layer3.4.conv1.weight', 'backbone.layer3.4.bn1.weight', 'backbone.layer3.4.bn1.bias', 'backbone.layer3.4.bn1.running_mean', 'backbone.layer3.4.bn1.running_var', 'backbone.layer3.4.bn1.num_batches_tracked', 'backbone.layer3.4.conv2.weight', 'backbone.layer3.4.bn2.weight', 'backbone.layer3.4.bn2.bias', 'backbone.layer3.4.bn2.running_mean', 'backbone.layer3.4.bn2.running_var', 'backbone.layer3.4.bn2.num_batches_tracked', 'backbone.layer3.4.conv3.weight', 'backbone.layer3.4.bn3.weight', 'backbone.layer3.4.bn3.bias', 'backbone.layer3.4.bn3.running_mean', 'backbone.layer3.4.bn3.running_var', 'backbone.layer3.4.bn3.num_batches_tracked', 'backbone.layer3.5.conv1.weight', 'backbone.layer3.5.bn1.weight', 'backbone.layer3.5.bn1.bias', 'backbone.layer3.5.bn1.running_mean', 'backbone.layer3.5.bn1.running_var', 'backbone.layer3.5.bn1.num_batches_tracked', 'backbone.layer3.5.conv2.weight', 'backbone.layer3.5.bn2.weight', 'backbone.layer3.5.bn2.bias', 'backbone.layer3.5.bn2.running_mean', 'backbone.layer3.5.bn2.running_var', 'backbone.layer3.5.bn2.num_batches_tracked', 'backbone.layer3.5.conv3.weight', 'backbone.layer3.5.bn3.weight', 'backbone.layer3.5.bn3.bias', 'backbone.layer3.5.bn3.running_mean', 'backbone.layer3.5.bn3.running_var', 'backbone.layer3.5.bn3.num_batches_tracked', 'backbone.layer4.0.conv1.weight', 'backbone.layer4.0.bn1.weight', 'backbone.layer4.0.bn1.bias', 'backbone.layer4.0.bn1.running_mean', 'backbone.layer4.0.bn1.running_var', 'backbone.layer4.0.bn1.num_batches_tracked', 'backbone.layer4.0.conv2.weight', 'backbone.layer4.0.bn2.weight', 'backbone.layer4.0.bn2.bias', 'backbone.layer4.0.bn2.running_mean', 'backbone.layer4.0.bn2.running_var', 'backbone.layer4.0.bn2.num_batches_tracked', 'backbone.layer4.0.conv3.weight', 'backbone.layer4.0.bn3.weight', 'backbone.layer4.0.bn3.bias', 'backbone.layer4.0.bn3.running_mean', 'backbone.layer4.0.bn3.running_var', 'backbone.layer4.0.bn3.num_batches_tracked', 'backbone.layer4.0.downsample.0.weight', 'backbone.layer4.0.downsample.1.weight', 'backbone.layer4.0.downsample.1.bias', 'backbone.layer4.0.downsample.1.running_mean', 'backbone.layer4.0.downsample.1.running_var', 'backbone.layer4.0.downsample.1.num_batches_tracked', 'backbone.layer4.1.conv1.weight', 'backbone.layer4.1.bn1.weight', 'backbone.layer4.1.bn1.bias', 'backbone.layer4.1.bn1.running_mean', 'backbone.layer4.1.bn1.running_var', 'backbone.layer4.1.bn1.num_batches_tracked', 'backbone.layer4.1.conv2.weight', 'backbone.layer4.1.bn2.weight', 'backbone.layer4.1.bn2.bias', 'backbone.layer4.1.bn2.running_mean', 'backbone.layer4.1.bn2.running_var', 'backbone.layer4.1.bn2.num_batches_tracked', 'backbone.layer4.1.conv3.weight', 'backbone.layer4.1.bn3.weight', 'backbone.layer4.1.bn3.bias', 'backbone.layer4.1.bn3.running_mean', 'backbone.layer4.1.bn3.running_var', 'backbone.layer4.1.bn3.num_batches_tracked', 'backbone.layer4.2.conv1.weight', 'backbone.layer4.2.bn1.weight', 'backbone.layer4.2.bn1.bias', 'backbone.layer4.2.bn1.running_mean', 'backbone.layer4.2.bn1.running_var', 'backbone.layer4.2.bn1.num_batches_tracked', 'backbone.layer4.2.conv2.weight', 'backbone.layer4.2.bn2.weight', 'backbone.layer4.2.bn2.bias', 'backbone.layer4.2.bn2.running_mean', 'backbone.layer4.2.bn2.running_var', 'backbone.layer4.2.bn2.num_batches_tracked', 'backbone.layer4.2.conv3.weight', 'backbone.layer4.2.bn3.weight', 'backbone.layer4.2.bn3.bias', 'backbone.layer4.2.bn3.running_mean', 'backbone.layer4.2.bn3.running_var', 'backbone.layer4.2.bn3.num_batches_tracked', 'midnet.pool_paths.0.1.weight', 'midnet.pool_paths.0.1.bias', 'midnet.pool_paths.0.2.bn.weight', 'midnet.pool_paths.0.2.bn.bias', 'midnet.pool_paths.0.2.bn.running_mean', 'midnet.pool_paths.0.2.bn.running_var', 'midnet.pool_paths.0.2.bn.num_batches_tracked', 'midnet.pool_paths.1.1.weight', 'midnet.pool_paths.1.1.bias', 'midnet.pool_paths.1.2.bn.weight', 'midnet.pool_paths.1.2.bn.bias', 'midnet.pool_paths.1.2.bn.running_mean', 'midnet.pool_paths.1.2.bn.running_var', 'midnet.pool_paths.1.2.bn.num_batches_tracked', 'midnet.pool_paths.2.1.weight', 'midnet.pool_paths.2.1.bias', 'midnet.pool_paths.2.2.bn.weight', 'midnet.pool_paths.2.2.bn.bias', 'midnet.pool_paths.2.2.bn.running_mean', 'midnet.pool_paths.2.2.bn.running_var', 'midnet.pool_paths.2.2.bn.num_batches_tracked', 'midnet.pool_paths.3.1.weight', 'midnet.pool_paths.3.1.bias', 'midnet.pool_paths.3.2.bn.weight', 'midnet.pool_paths.3.2.bn.bias', 'midnet.pool_paths.3.2.bn.running_mean', 'midnet.pool_paths.3.2.bn.running_var', 'midnet.pool_paths.3.2.bn.num_batches_tracked', 'decoder.conv_bn_relu.conv_bn_relu.0.weight', 'decoder.conv_bn_relu.conv_bn_relu.0.bias', 'decoder.conv_bn_relu.conv_bn_relu.1.bn.weight', 'decoder.conv_bn_relu.conv_bn_relu.1.bn.bias', 'decoder.conv_bn_relu.conv_bn_relu.1.bn.running_mean', 'decoder.conv_bn_relu.conv_bn_relu.1.bn.running_var', 'decoder.conv_bn_relu.conv_bn_relu.1.bn.num_batches_tracked', 'decoder.conv.weight', 'decoder.conv.bias'])\n",
      "tensor([1.2248, 1.6062, 1.0125, 1.1327, 1.1803, 1.1474, 1.1743, 1.1902, 1.2323,\n",
      "        1.2008, 1.1283, 0.7871, 1.1507, 1.0000, 1.2499, 1.2045, 1.5493, 1.2102,\n",
      "        1.2250, 1.4648, 1.2389, 1.2044, 1.2155, 1.6619, 1.2275, 1.6607, 1.2059,\n",
      "        1.1929, 1.1120, 1.3378, 1.1239, 1.0411, 1.7715, 1.2696, 1.3335, 1.5791,\n",
      "        1.1503, 1.1753, 1.1943, 1.1725, 1.8058, 1.2369, 0.5663, 1.8481, 0.6214,\n",
      "        1.2479, 1.1810, 1.3295, 0.7140, 1.2272, 1.2617, 1.0576, 0.4968, 1.1570,\n",
      "        1.1789, 1.2811, 1.4217, 0.9024, 0.6877, 0.9744, 1.0886, 1.1805, 1.8304,\n",
      "        1.2502], device='cuda:0')\n",
      "tensor([1.2248, 1.6062, 1.0125, 1.1327, 1.1803, 1.1474, 1.1743, 1.1902, 1.2323,\n",
      "        1.2008, 1.1283, 0.7871, 1.1507, 1.0000, 1.2499, 1.2045, 1.5493, 1.2102,\n",
      "        1.2250, 1.4648, 1.2389, 1.2044, 1.2155, 1.6619, 1.2275, 1.6607, 1.2059,\n",
      "        1.1929, 1.1120, 1.3378, 1.1239, 1.0411, 1.7715, 1.2696, 1.3335, 1.5791,\n",
      "        1.1503, 1.1753, 1.1943, 1.1725, 1.8058, 1.2369, 0.5663, 1.8481, 0.6214,\n",
      "        1.2479, 1.1810, 1.3295, 0.7140, 1.2272, 1.2617, 1.0576, 0.4968, 1.1570,\n",
      "        1.1789, 1.2811, 1.4217, 0.9024, 0.6877, 0.9744, 1.0886, 1.1805, 1.8304,\n",
      "        1.2502], device='cuda:0')\n"
     ]
    }
   ],
   "source": [
    "print(model.state_dict().keys())\n",
    "s=model.state_dict()\n",
    "s['backbone.model.bn1.bias']+=1.0\n",
    "print(model.state_dict()['backbone.model.bn1.bias'])\n",
    "print(model.state_dict()['backbone.model.prefix_net.1.bias'])"
   ]
  }
 ],
 "metadata": {
  "kernelspec": {
   "display_name": "Python [conda env:new]",
   "language": "python",
   "name": "conda-env-new-py"
  },
  "language_info": {
   "codemirror_mode": {
    "name": "ipython",
    "version": 3
   },
   "file_extension": ".py",
   "mimetype": "text/x-python",
   "name": "python",
   "nbconvert_exporter": "python",
   "pygments_lexer": "ipython3",
   "version": "3.6.5"
  }
 },
 "nbformat": 4,
 "nbformat_minor": 2
}
