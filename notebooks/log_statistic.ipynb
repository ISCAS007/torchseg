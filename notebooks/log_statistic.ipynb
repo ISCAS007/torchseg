{
 "cells": [
  {
   "cell_type": "markdown",
   "metadata": {},
   "source": [
    "# Analysis of tensorboard results\n",
    "- view motion_statistic for automatic analysis.\n",
    "- due to history code problem, cannot show dataset name in table directly (name for ss001 and ss002, dataset_name for others), modify summary() to support it."
   ]
  },
  {
   "cell_type": "code",
   "execution_count": 1,
   "metadata": {},
   "outputs": [
    {
     "name": "stdout",
     "output_type": "stream",
     "text": [
      "['/data02/jiaxin15/git/torchseg', '', '/data02/jiaxin15/git/torchseg/notebooks', '/data02/jiaxin15/bin/miniconda3/envs/env3/lib/python36.zip', '/data02/jiaxin15/bin/miniconda3/envs/env3/lib/python3.6', '/data02/jiaxin15/bin/miniconda3/envs/env3/lib/python3.6/lib-dynload', '/data02/jiaxin15/bin/miniconda3/envs/env3/lib/python3.6/site-packages', '/data02/jiaxin15/bin/miniconda3/envs/env3/lib/python3.6/site-packages/Sphinx-1.6.3-py3.6.egg', '/data02/jiaxin15/bin/miniconda3/envs/env3/lib/python3.6/site-packages/IPython/extensions', '/data02/jiaxin15/.ipython']\n"
     ]
    }
   ],
   "source": [
    "import os\n",
    "import sys\n",
    "sys.path.insert(0,os.path.expanduser('~/git/torchseg'))\n",
    "print(sys.path)\n",
    "\n",
    "%reload_ext autoreload\n",
    "%autoreload 2\n",
    "from utils.summary_to_jupyter import summary,dump"
   ]
  },
  {
   "cell_type": "code",
   "execution_count": 9,
   "metadata": {
    "scrolled": false
   },
   "outputs": [
    {
     "name": "stdout",
     "output_type": "stream",
     "text": [
      "### ss060 backbone_name,note\n",
      "|                                |   val/iou |   train/iou |   n_epoch |\n",
      "|:-------------------------------|----------:|------------:|----------:|\n",
      "| ('vgg11_bn', 'ss060_vgg11_bn') |  0.658007 |    0.896222 |       100 |\n",
      "| ('vgg13_bn', 'ss060_vgg13_bn') |  0.672904 |    0.903331 |       100 |\n",
      "| ('vgg16_bn', 'ss060_vgg16_bn') |  0.690852 |    0.886607 |       100 |\n",
      "| ('vgg19_bn', 'ss060_vgg19_bn') |  0.708305 |    0.86769  |       100 |\n",
      "\n",
      "\n",
      "|                                |   ('val/iou', 'mean') |   ('val/iou', 'std') |   ('val/iou', 'amax') |\n",
      "|:-------------------------------|----------------------:|---------------------:|----------------------:|\n",
      "| ('vgg11_bn', 'ss060_vgg11_bn') |              0.658007 |                  nan |              0.658007 |\n",
      "| ('vgg13_bn', 'ss060_vgg13_bn') |              0.672904 |                  nan |              0.672904 |\n",
      "| ('vgg16_bn', 'ss060_vgg16_bn') |              0.690852 |                  nan |              0.690852 |\n",
      "| ('vgg19_bn', 'ss060_vgg19_bn') |              0.708305 |                  nan |              0.708305 |\n",
      "\n",
      "\n",
      "|    | backbone_name   |   val/iou |   train/iou | note           | input_shape   |   n_epoch |\n",
      "|---:|:----------------|----------:|------------:|:---------------|:--------------|----------:|\n",
      "|  3 | vgg11_bn        |  0.658007 |    0.896222 | ss060_vgg11_bn | [512, 1024]   |       100 |\n",
      "|  2 | vgg13_bn        |  0.672904 |    0.903331 | ss060_vgg13_bn | [512, 1024]   |       100 |\n",
      "|  1 | vgg16_bn        |  0.690852 |    0.886607 | ss060_vgg16_bn | [512, 1024]   |       100 |\n",
      "|  0 | vgg19_bn        |  0.708305 |    0.86769  | ss060_vgg19_bn | [512, 1024]   |       100 |\n",
      "\n",
      "\n",
      "|    |   val/iou | dir                                                                                                  |\n",
      "|---:|----------:|:-----------------------------------------------------------------------------------------------------|\n",
      "|  3 |  0.658007 | /data02/jiaxin15/tmp/logs/pytorch/PSPUNet/cityscapes/ss060_vgg11_bn/2019-11-12___13-40-32/config.txt |\n",
      "|  2 |  0.672904 | /data02/jiaxin15/tmp/logs/pytorch/PSPUNet/cityscapes/ss060_vgg13_bn/2019-11-12___09-21-50/config.txt |\n",
      "|  1 |  0.690852 | /data02/jiaxin15/tmp/logs/pytorch/PSPUNet/cityscapes/ss060_vgg16_bn/2019-11-12___04-32-21/config.txt |\n",
      "|  0 |  0.708305 | /data02/jiaxin15/tmp/logs/pytorch/PSPUNet/cityscapes/ss060_vgg19_bn/2019-11-11___23-13-44/config.txt |\n",
      "\n",
      "\n",
      "### ss061 backbone_name,note\n",
      "|                                |   val/iou |   train/iou |   n_epoch |\n",
      "|:-------------------------------|----------:|------------:|----------:|\n",
      "| ('vgg11_bn', 'ss061_vgg11_bn') |  0.664498 |    0.899207 |       100 |\n",
      "| ('vgg13_bn', 'ss061_vgg13_bn') |  0.675539 |    0.904045 |       100 |\n",
      "| ('vgg19_bn', 'ss061_vgg19_bn') |  0.712858 |    0.860548 |       100 |\n",
      "| ('vgg16_bn', 'ss061_vgg16_bn') |  0.715005 |    0.894412 |       100 |\n",
      "\n",
      "\n",
      "|                                |   ('val/iou', 'mean') |   ('val/iou', 'std') |   ('val/iou', 'amax') |\n",
      "|:-------------------------------|----------------------:|---------------------:|----------------------:|\n",
      "| ('vgg11_bn', 'ss061_vgg11_bn') |              0.664498 |                  nan |              0.664498 |\n",
      "| ('vgg13_bn', 'ss061_vgg13_bn') |              0.675539 |                  nan |              0.675539 |\n",
      "| ('vgg16_bn', 'ss061_vgg16_bn') |              0.715005 |                  nan |              0.715005 |\n",
      "| ('vgg19_bn', 'ss061_vgg19_bn') |              0.712858 |                  nan |              0.712858 |\n",
      "\n",
      "\n",
      "|    | backbone_name   |   val/iou |   train/iou | note           | input_shape   |   n_epoch |\n",
      "|---:|:----------------|----------:|------------:|:---------------|:--------------|----------:|\n",
      "|  3 | vgg11_bn        |  0.664498 |    0.899207 | ss061_vgg11_bn | [768, 1536]   |       100 |\n",
      "|  2 | vgg13_bn        |  0.675539 |    0.904045 | ss061_vgg13_bn | [768, 1536]   |       100 |\n",
      "|  0 | vgg19_bn        |  0.712858 |    0.860548 | ss061_vgg19_bn | [768, 1536]   |       100 |\n",
      "|  1 | vgg16_bn        |  0.715005 |    0.894412 | ss061_vgg16_bn | [768, 1536]   |       100 |\n",
      "\n",
      "\n",
      "|    |   val/iou | dir                                                                                                  |\n",
      "|---:|----------:|:-----------------------------------------------------------------------------------------------------|\n",
      "|  3 |  0.664498 | /data02/jiaxin15/tmp/logs/pytorch/PSPUNet/cityscapes/ss061_vgg11_bn/2019-11-14___04-14-47/config.txt |\n",
      "|  2 |  0.675539 | /data02/jiaxin15/tmp/logs/pytorch/PSPUNet/cityscapes/ss061_vgg13_bn/2019-11-13___19-32-35/config.txt |\n",
      "|  0 |  0.712858 | /data02/jiaxin15/tmp/logs/pytorch/PSPUNet/cityscapes/ss061_vgg19_bn/2019-11-12___23-09-51/config.txt |\n",
      "|  1 |  0.715005 | /data02/jiaxin15/tmp/logs/pytorch/PSPUNet/cityscapes/ss061_vgg16_bn/2019-11-13___09-52-05/config.txt |\n",
      "\n",
      "\n",
      "### ss062 n_epoch,net_name,note,actual_step\n",
      "|                                        |   val/iou |   train/iou |\n",
      "|:---------------------------------------|----------:|------------:|\n",
      "| (3, 'AuxNet', 'ss062_AuxNet', 2)       |  0.399304 |    0.415646 |\n",
      "| (3, 'AuxNet', 'ss062_AuxNet', 3)       |  0.431736 |    0.406646 |\n",
      "| (100, 'AuxNet', 'ss062_AuxNet', 100)   |  0.635752 |    0.867254 |\n",
      "| (100, 'PSPUNet', 'ss062_PSPUNet', 100) |  0.665498 |    0.862172 |\n",
      "\n",
      "\n",
      "|                                        |   ('val/iou', 'mean') |   ('val/iou', 'std') |   ('val/iou', 'amax') |\n",
      "|:---------------------------------------|----------------------:|---------------------:|----------------------:|\n",
      "| (3, 'AuxNet', 'ss062_AuxNet', 2)       |              0.399304 |            0.0239959 |              0.424821 |\n",
      "| (3, 'AuxNet', 'ss062_AuxNet', 3)       |              0.431736 |          nan         |              0.431736 |\n",
      "| (100, 'AuxNet', 'ss062_AuxNet', 100)   |              0.635752 |          nan         |              0.635752 |\n",
      "| (100, 'PSPUNet', 'ss062_PSPUNet', 100) |              0.665498 |          nan         |              0.665498 |\n",
      "\n",
      "\n",
      "|    |   val/iou |   train/iou |   actual_step | note          | input_shape   | net_name   |   n_epoch |\n",
      "|---:|----------:|------------:|--------------:|:--------------|:--------------|:-----------|----------:|\n",
      "|  1 |  0.377194 |    0.400424 |             2 | ss062_AuxNet  | [512, 1024]   | AuxNet     |         3 |\n",
      "|  2 |  0.395895 |    0.419841 |             2 | ss062_AuxNet  | [512, 1024]   | AuxNet     |         3 |\n",
      "|  3 |  0.424821 |    0.426673 |             2 | ss062_AuxNet  | [512, 1024]   | AuxNet     |         3 |\n",
      "|  4 |  0.431736 |    0.406646 |             3 | ss062_AuxNet  | [512, 1024]   | AuxNet     |         3 |\n",
      "|  5 |  0.635752 |    0.867254 |           100 | ss062_AuxNet  | [512, 1024]   | AuxNet     |       100 |\n",
      "|  0 |  0.665498 |    0.862172 |           100 | ss062_PSPUNet | [512, 1024]   | PSPUNet    |       100 |\n",
      "\n",
      "\n",
      "|    |   val/iou | dir                                                                                                 |\n",
      "|---:|----------:|:----------------------------------------------------------------------------------------------------|\n",
      "|  1 |  0.377194 | /data02/jiaxin15/tmp/logs/pytorch/AuxNet/cityscapes/ss062_AuxNet/2019-11-14___19-47-02/config.txt   |\n",
      "|  2 |  0.395895 | /data02/jiaxin15/tmp/logs/pytorch/AuxNet/cityscapes/ss062_AuxNet/2019-11-14___20-12-23/config.txt   |\n",
      "|  3 |  0.424821 | /data02/jiaxin15/tmp/logs/pytorch/AuxNet/cityscapes/ss062_AuxNet/2019-11-14___20-35-26/config.txt   |\n",
      "|  4 |  0.431736 | /data02/jiaxin15/tmp/logs/pytorch/AuxNet/cityscapes/ss062_AuxNet/2019-11-14___20-58-16/config.txt   |\n",
      "|  5 |  0.635752 | /data02/jiaxin15/tmp/logs/pytorch/AuxNet/cityscapes/ss062_AuxNet/2019-11-14___22-42-28/config.txt   |\n",
      "|  0 |  0.665498 | /data02/jiaxin15/tmp/logs/pytorch/PSPUNet/cityscapes/ss062_PSPUNet/2019-11-14___16-18-28/config.txt |\n",
      "\n",
      "\n",
      "### ss063 main_base_weight\n",
      "|   main_base_weight |   val/iou |   train/iou |   n_epoch |\n",
      "|-------------------:|----------:|------------:|----------:|\n",
      "|                  1 |  0.581078 |    0.862932 |       100 |\n",
      "\n",
      "\n",
      "|   main_base_weight |   ('val/iou', 'mean') |   ('val/iou', 'std') |   ('val/iou', 'amax') |\n",
      "|-------------------:|----------------------:|---------------------:|----------------------:|\n",
      "|                  1 |              0.581078 |           0.00820995 |              0.586884 |\n",
      "\n",
      "\n",
      "|    |   main_base_weight |   val/iou |   train/iou | note                 | input_shape   |   n_epoch |\n",
      "|---:|-------------------:|----------:|------------:|:---------------------|:--------------|----------:|\n",
      "|  0 |                nan |  0.532047 |    0.862013 | ss063_GlobalLocalNet | [224, 224]    |       100 |\n",
      "|  1 |                nan |  0.553509 |    0.849157 | ss063_GlobalLocalNet | [256, 256]    |       100 |\n",
      "|  2 |                nan |  0.564464 |    0.850887 | ss063_GlobalLocalNet | [288, 288]    |       100 |\n",
      "|  4 |                  1 |  0.575273 |    0.866726 | ss063_GlobalLocalNet | [352, 352]    |       100 |\n",
      "|  3 |                nan |  0.578983 |    0.850966 | ss063_GlobalLocalNet | [320, 320]    |       100 |\n",
      "|  5 |                  1 |  0.586884 |    0.859139 | ss063_GlobalLocalNet | [384, 384]    |       100 |\n",
      "\n",
      "\n",
      "|    |   val/iou | dir                                                                                                               |\n",
      "|---:|----------:|:------------------------------------------------------------------------------------------------------------------|\n",
      "|  0 |  0.532047 | /data02/jiaxin15/tmp/logs/pytorch/GlobalLocalNet/cityscapes/ss063_GlobalLocalNet/2019-11-14___23-45-36/config.txt |\n",
      "|  1 |  0.553509 | /data02/jiaxin15/tmp/logs/pytorch/GlobalLocalNet/cityscapes/ss063_GlobalLocalNet/2019-11-15___13-53-38/config.txt |\n",
      "|  2 |  0.564464 | /data02/jiaxin15/tmp/logs/pytorch/GlobalLocalNet/cityscapes/ss063_GlobalLocalNet/2019-11-15___13-57-05/config.txt |\n",
      "|  4 |  0.575273 | /data02/jiaxin15/tmp/logs/pytorch/GlobalLocalNet/cityscapes/ss063_GlobalLocalNet/2019-11-16___01-49-49/config.txt |\n",
      "|  3 |  0.578983 | /data02/jiaxin15/tmp/logs/pytorch/GlobalLocalNet/cityscapes/ss063_GlobalLocalNet/2019-11-15___19-28-17/config.txt |\n",
      "|  5 |  0.586884 | /data02/jiaxin15/tmp/logs/pytorch/GlobalLocalNet/cityscapes/ss063_GlobalLocalNet/2019-11-16___09-19-57/config.txt |\n",
      "\n",
      "\n"
     ]
    },
    {
     "name": "stdout",
     "output_type": "stream",
     "text": [
      "### ss064 main_base_weight,note,actual_step\n",
      "|                          |   val/iou |   train/iou |   n_epoch |\n",
      "|:-------------------------|----------:|------------:|----------:|\n",
      "| (0.2, 'ss064_m0.2', 100) |  0.260995 |    0.270895 |       100 |\n",
      "| (0.5, 'ss064_m0.5', 55)  |  0.285288 |    0.296962 |       100 |\n",
      "| (0.1, 'ss064_m0.1', 100) |  0.287708 |    0.297304 |       100 |\n",
      "| (0.1, 'ss064_m0.1', 51)  |  0.536684 |    0.668544 |       100 |\n",
      "| (0.2, 'ss064_m0.2', 51)  |  0.621598 |    0.72651  |       100 |\n",
      "| (0.5, 'ss064_m0.5', 51)  |  0.640648 |    0.781061 |       100 |\n",
      "| (1.0, 'ss064_m1.0', 50)  |  0.652586 |    0.786964 |       100 |\n",
      "\n",
      "\n",
      "|                          |   ('val/iou', 'mean') |   ('val/iou', 'std') |   ('val/iou', 'amax') |\n",
      "|:-------------------------|----------------------:|---------------------:|----------------------:|\n",
      "| (0.1, 'ss064_m0.1', 51)  |              0.536684 |                  nan |              0.536684 |\n",
      "| (0.1, 'ss064_m0.1', 100) |              0.287708 |                  nan |              0.287708 |\n",
      "| (0.2, 'ss064_m0.2', 51)  |              0.621598 |                  nan |              0.621598 |\n",
      "| (0.2, 'ss064_m0.2', 100) |              0.260995 |                  nan |              0.260995 |\n",
      "| (0.5, 'ss064_m0.5', 51)  |              0.640648 |                  nan |              0.640648 |\n",
      "| (0.5, 'ss064_m0.5', 55)  |              0.285288 |                  nan |              0.285288 |\n",
      "| (1.0, 'ss064_m1.0', 50)  |              0.652586 |                  nan |              0.652586 |\n",
      "\n",
      "\n",
      "|    |   main_base_weight |   val/iou |   train/iou |   actual_step | note       | input_shape   |   n_epoch |\n",
      "|---:|-------------------:|----------:|------------:|--------------:|:-----------|:--------------|----------:|\n",
      "|  3 |                0.2 |  0.260995 |    0.270895 |           100 | ss064_m0.2 | [512, 1024]   |       100 |\n",
      "|  5 |                0.5 |  0.285288 |    0.296962 |            55 | ss064_m0.5 | [512, 1024]   |       100 |\n",
      "|  1 |                0.1 |  0.287708 |    0.297304 |           100 | ss064_m0.1 | [512, 1024]   |       100 |\n",
      "|  0 |                0.1 |  0.536684 |    0.668544 |            51 | ss064_m0.1 | [512, 1024]   |       100 |\n",
      "|  2 |                0.2 |  0.621598 |    0.72651  |            51 | ss064_m0.2 | [512, 1024]   |       100 |\n",
      "|  4 |                0.5 |  0.640648 |    0.781061 |            51 | ss064_m0.5 | [512, 1024]   |       100 |\n",
      "|  6 |                1   |  0.652586 |    0.786964 |            50 | ss064_m1.0 | [512, 1024]   |       100 |\n",
      "\n",
      "\n",
      "|    |   val/iou | dir                                                                                             |\n",
      "|---:|----------:|:------------------------------------------------------------------------------------------------|\n",
      "|  3 |  0.260995 | /data02/jiaxin15/tmp/logs/pytorch/AuxNet/cityscapes/ss064_m0.2/2019-11-20___12-15-44/config.txt |\n",
      "|  5 |  0.285288 | /data02/jiaxin15/tmp/logs/pytorch/AuxNet/cityscapes/ss064_m0.5/2019-11-21___04-26-48/config.txt |\n",
      "|  1 |  0.287708 | /data02/jiaxin15/tmp/logs/pytorch/AuxNet/cityscapes/ss064_m0.1/2019-11-19___20-04-05/config.txt |\n",
      "|  0 |  0.536684 | /data02/jiaxin15/tmp/logs/pytorch/AuxNet/cityscapes/ss064_m0.1/2019-11-15___21-01-57/config.txt |\n",
      "|  2 |  0.621598 | /data02/jiaxin15/tmp/logs/pytorch/AuxNet/cityscapes/ss064_m0.2/2019-11-16___03-14-11/config.txt |\n",
      "|  4 |  0.640648 | /data02/jiaxin15/tmp/logs/pytorch/AuxNet/cityscapes/ss064_m0.5/2019-11-16___09-26-26/config.txt |\n",
      "|  6 |  0.652586 | /data02/jiaxin15/tmp/logs/pytorch/AuxNet/cityscapes/ss064_m1.0/2019-11-16___15-39-01/config.txt |\n",
      "\n",
      "\n",
      "### ss065 aux_base_weight,midnet_scale,net_name,note,actual_step\n",
      "|                                           |   val/iou |   train/iou |   n_epoch |\n",
      "|:------------------------------------------|----------:|------------:|----------:|\n",
      "| (1.0, 1, 'AuxNet', 'ss065_aux', 100)      |  0.213457 |    0.225988 |       100 |\n",
      "| (5.0, 1, 'AuxNet', 'ss065_aux', 100)      |  0.24907  |    0.268701 |       100 |\n",
      "| (10.0, 1, 'AuxNet', 'ss065_aux', 100)     |  0.285844 |    0.312622 |       100 |\n",
      "| (2.0, 1, 'AuxNet', 'ss065_aux', 100)      |  0.32292  |    0.357181 |       100 |\n",
      "| (2.0, 2, 'AuxNet', 'ss065_aux1.0', 100)   |  0.349    |    0.388016 |       100 |\n",
      "| (5.0, 2, 'AuxNet', 'ss065_aux1.0', 54)    |  0.381539 |    0.423551 |       100 |\n",
      "| (1.0, 2, 'AuxNet', 'ss065_aux1.0', 100)   |  0.406035 |    0.483575 |       100 |\n",
      "| (10.0, 2, 'AuxNet', 'ss065_aux1.0', 51)   |  0.58661  |    0.810503 |       100 |\n",
      "| (1.0, 2, 'AuxNet', 'ss065_aux1.0', 51)    |  0.600631 |    0.781212 |       100 |\n",
      "| (5.0, 2, 'AuxNet', 'ss065_aux1.0', 51)    |  0.60071  |    0.816578 |       100 |\n",
      "| (2.0, 2, 'AuxNet', 'ss065_aux1.0', 51)    |  0.601407 |    0.782224 |       100 |\n",
      "| (1.0, 2, 'PSPUNet', 'ss065_PSPUNet', 100) |  0.629481 |    0.85841  |       100 |\n",
      "\n",
      "\n",
      "|                                           |   ('val/iou', 'mean') |   ('val/iou', 'std') |   ('val/iou', 'amax') |\n",
      "|:------------------------------------------|----------------------:|---------------------:|----------------------:|\n",
      "| (1.0, 1, 'AuxNet', 'ss065_aux', 100)      |              0.213457 |                  nan |              0.213457 |\n",
      "| (1.0, 2, 'AuxNet', 'ss065_aux1.0', 51)    |              0.600631 |                  nan |              0.600631 |\n",
      "| (1.0, 2, 'AuxNet', 'ss065_aux1.0', 100)   |              0.406035 |                  nan |              0.406035 |\n",
      "| (1.0, 2, 'PSPUNet', 'ss065_PSPUNet', 100) |              0.629481 |                  nan |              0.629481 |\n",
      "| (2.0, 1, 'AuxNet', 'ss065_aux', 100)      |              0.32292  |                  nan |              0.32292  |\n",
      "| (2.0, 2, 'AuxNet', 'ss065_aux1.0', 51)    |              0.601407 |                  nan |              0.601407 |\n",
      "| (2.0, 2, 'AuxNet', 'ss065_aux1.0', 100)   |              0.349    |                  nan |              0.349    |\n",
      "| (5.0, 1, 'AuxNet', 'ss065_aux', 100)      |              0.24907  |                  nan |              0.24907  |\n",
      "| (5.0, 2, 'AuxNet', 'ss065_aux1.0', 51)    |              0.60071  |                  nan |              0.60071  |\n",
      "| (5.0, 2, 'AuxNet', 'ss065_aux1.0', 54)    |              0.381539 |                  nan |              0.381539 |\n",
      "| (10.0, 1, 'AuxNet', 'ss065_aux', 100)     |              0.285844 |                  nan |              0.285844 |\n",
      "| (10.0, 2, 'AuxNet', 'ss065_aux1.0', 51)   |              0.58661  |                  nan |              0.58661  |\n",
      "\n",
      "\n",
      "|    |   val/iou |   aux_base_weight |   train/iou |   actual_step | note          | input_shape   | net_name   |   n_epoch |   midnet_scale |\n",
      "|---:|----------:|------------------:|------------:|--------------:|:--------------|:--------------|:-----------|----------:|---------------:|\n",
      "|  1 |  0.213457 |                 1 |    0.225988 |           100 | ss065_aux     | [256, 512]    | AuxNet     |       100 |              1 |\n",
      "|  3 |  0.24907  |                 5 |    0.268701 |           100 | ss065_aux     | [256, 512]    | AuxNet     |       100 |              1 |\n",
      "|  4 |  0.285844 |                10 |    0.312622 |           100 | ss065_aux     | [256, 512]    | AuxNet     |       100 |              1 |\n",
      "|  2 |  0.32292  |                 2 |    0.357181 |           100 | ss065_aux     | [256, 512]    | AuxNet     |       100 |              1 |\n",
      "| 10 |  0.349    |                 2 |    0.388016 |           100 | ss065_aux1.0  | [512, 1024]   | AuxNet     |       100 |              2 |\n",
      "| 11 |  0.381539 |                 5 |    0.423551 |            54 | ss065_aux1.0  | [512, 1024]   | AuxNet     |       100 |              2 |\n",
      "|  9 |  0.406035 |                 1 |    0.483575 |           100 | ss065_aux1.0  | [512, 1024]   | AuxNet     |       100 |              2 |\n",
      "|  8 |  0.58661  |                10 |    0.810503 |            51 | ss065_aux1.0  | [512, 512]    | AuxNet     |       100 |              2 |\n",
      "|  5 |  0.600631 |                 1 |    0.781212 |            51 | ss065_aux1.0  | [512, 512]    | AuxNet     |       100 |              2 |\n",
      "|  7 |  0.60071  |                 5 |    0.816578 |            51 | ss065_aux1.0  | [512, 512]    | AuxNet     |       100 |              2 |\n",
      "|  6 |  0.601407 |                 2 |    0.782224 |            51 | ss065_aux1.0  | [512, 512]    | AuxNet     |       100 |              2 |\n",
      "|  0 |  0.629481 |                 1 |    0.85841  |           100 | ss065_PSPUNet | [512, 512]    | PSPUNet    |       100 |              2 |\n",
      "\n",
      "\n",
      "|    |   val/iou | dir                                                                                                 |\n",
      "|---:|----------:|:----------------------------------------------------------------------------------------------------|\n",
      "|  1 |  0.213457 | /data02/jiaxin15/tmp/logs/pytorch/AuxNet/cityscapes/ss065_aux/2019-11-19___20-03-40/config.txt      |\n",
      "|  3 |  0.24907  | /data02/jiaxin15/tmp/logs/pytorch/AuxNet/cityscapes/ss065_aux/2019-11-20___05-13-59/config.txt      |\n",
      "|  4 |  0.285844 | /data02/jiaxin15/tmp/logs/pytorch/AuxNet/cityscapes/ss065_aux/2019-11-20___09-49-04/config.txt      |\n",
      "|  2 |  0.32292  | /data02/jiaxin15/tmp/logs/pytorch/AuxNet/cityscapes/ss065_aux/2019-11-20___00-38-38/config.txt      |\n",
      "| 10 |  0.349    | /data02/jiaxin15/tmp/logs/pytorch/AuxNet/cityscapes/ss065_aux1.0/2019-11-20___12-18-25/config.txt   |\n",
      "| 11 |  0.381539 | /data02/jiaxin15/tmp/logs/pytorch/AuxNet/cityscapes/ss065_aux1.0/2019-11-21___04-31-05/config.txt   |\n",
      "|  9 |  0.406035 | /data02/jiaxin15/tmp/logs/pytorch/AuxNet/cityscapes/ss065_aux1.0/2019-11-19___20-04-48/config.txt   |\n",
      "|  8 |  0.58661  | /data02/jiaxin15/tmp/logs/pytorch/AuxNet/cityscapes/ss065_aux1.0/2019-11-19___00-19-39/config.txt   |\n",
      "|  5 |  0.600631 | /data02/jiaxin15/tmp/logs/pytorch/AuxNet/cityscapes/ss065_aux1.0/2019-11-18___14-23-47/config.txt   |\n",
      "|  7 |  0.60071  | /data02/jiaxin15/tmp/logs/pytorch/AuxNet/cityscapes/ss065_aux1.0/2019-11-18___21-00-59/config.txt   |\n",
      "|  6 |  0.601407 | /data02/jiaxin15/tmp/logs/pytorch/AuxNet/cityscapes/ss065_aux1.0/2019-11-18___17-42-23/config.txt   |\n",
      "|  0 |  0.629481 | /data02/jiaxin15/tmp/logs/pytorch/PSPUNet/cityscapes/ss065_PSPUNet/2019-11-18___14-27-05/config.txt |\n",
      "\n",
      "\n"
     ]
    }
   ],
   "source": [
    "tags=['train/iou','val/iou']\n",
    "rootpath=os.path.expanduser('~/tmp/logs/pytorch')\n",
    "descripe=['note','n_epoch','input_shape']\n",
    "# attention_type aux_backbone filter_feature\n",
    "invalid_param_list=['dir','log_time','root_path',\n",
    "                    'test_path', 'train_path', 'val_path',\n",
    "                    'use_optical_flow','flow_backbone',\n",
    "                    'ignore_outOfRoi','exception_value',\n",
    "                    'cityscapes_split','txt_path',\n",
    "                    'decode_main_layer','gpu','ngpus_per_node',\n",
    "                    'rank']\n",
    "note_gtags=[['dataset','note'],['dataset','note']]\n",
    "note_gtags=None\n",
    "notes=['ss06'+str(i) for i in range(10)]\n",
    "# notes=['ss042_attention','ss042_resnet','ss042_vgg']\n",
    "# notes=['ss059']\n",
    "tasks=dump(tags=tags,rootpath=rootpath,notes=notes,descripe=descripe,\n",
    "     invalid_param_list=invalid_param_list,delete_nan=False,dump_group=True,\n",
    "     note_gtags=note_gtags)"
   ]
  },
  {
   "cell_type": "code",
   "execution_count": 8,
   "metadata": {
    "scrolled": false
   },
   "outputs": [
    {
     "name": "stdout",
     "output_type": "stream",
     "text": [
      "|    |   val/iou |   train/iou | note              | dataset_name   | net_name   | log_time              |   n_epoch |\n",
      "|---:|----------:|------------:|:------------------|:---------------|:-----------|:----------------------|----------:|\n",
      "|  0 |   0.64366 |    0.783796 | ss052_bn6_lrmultF | cityscapes     | PSPUNet    | 2019-11-04___21-18-07 |       100 |\n",
      "\n",
      "\n",
      "|    |   val/iou | dir                                                                                                     |\n",
      "|---:|----------:|:--------------------------------------------------------------------------------------------------------|\n",
      "|  0 |   0.64366 | /data02/jiaxin15/tmp/logs/pytorch/PSPUNet/cityscapes/ss052_bn6_lrmultF/2019-11-04___21-18-07/config.txt |\n",
      "\n",
      "\n",
      "|    |   val/iou |   train/iou | note                  | dataset_name   | net_name   | log_time              |   n_epoch |\n",
      "|---:|----------:|------------:|:----------------------|:---------------|:-----------|:----------------------|----------:|\n",
      "| 85 |  0.444649 |    0.720441 | docker                | cityscapes     | pspnet     | 2019-10-22___09-47-10 |       100 |\n",
      "| 84 |  0.4537   |    0.475487 | ss047_accumulate4     | cityscapes     | PSPUNet    | 2019-10-21___04-56-25 |       100 |\n",
      "| 70 |  0.454603 |    0.479902 | ss049_dropoutF        | cityscapes     | PSPUNet    | 2019-10-18___09-04-39 |       100 |\n",
      "| 64 |  0.455908 |    0.478642 | ss049_dropoutT        | cityscapes     | PSPUNet    | 2019-10-17___16-40-39 |       100 |\n",
      "| 67 |  0.45614  |    0.470349 | ss047_accumulate2     | cityscapes     | PSPUNet    | 2019-10-18___04-21-19 |       100 |\n",
      "| 79 |  0.458183 |    0.481144 | ss047_accumulate4     | cityscapes     | PSPUNet    | 2019-10-20___07-42-34 |       100 |\n",
      "| 82 |  0.459446 |    0.476517 | ss047_accumulate2     | cityscapes     | PSPUNet    | 2019-10-20___21-51-56 |       100 |\n",
      "| 76 |  0.459891 |    0.478765 | ss047_accumulate1     | cityscapes     | PSPUNet    | 2019-10-19___15-38-27 |       100 |\n",
      "| 77 |  0.461136 |    0.478827 | ss049_dropoutF        | cityscapes     | PSPUNet    | 2019-10-19___18-12-47 |       100 |\n",
      "| 73 |  0.462026 |    0.478013 | ss047_accumulate4     | cityscapes     | PSPUNet    | 2019-10-18___21-58-59 |       100 |\n",
      "| 81 |  0.462295 |    0.484198 | ss047_accumulate1     | cityscapes     | PSPUNet    | 2019-10-20___14-47-00 |       100 |\n",
      "| 80 |  0.463023 |    0.48064  | ss049_dropoutT        | cityscapes     | PSPUNet    | 2019-10-20___10-48-46 |       100 |\n",
      "| 62 |  0.463598 |    0.479472 | ss047_accumulate1     | cityscapes     | PSPUNet    | 2019-10-17___11-26-47 |       100 |\n",
      "| 74 |  0.464617 |    0.481137 | ss049_dropoutT        | cityscapes     | PSPUNet    | 2019-10-19___01-37-34 |       100 |\n",
      "| 78 |  0.473787 |    0.487986 | ss047_accumulate2     | cityscapes     | PSPUNet    | 2019-10-20___00-38-08 |       100 |\n",
      "| 83 |  0.474558 |    0.494398 | ss049_dropoutF        | cityscapes     | PSPUNet    | 2019-10-21___03-24-17 |       100 |\n",
      "|  3 |  0.575948 |    0.690136 | ss042_vgg16_bn_ucwT   | cityscapes     | PSPUNet    | 2019-10-12___05-37-43 |       100 |\n",
      "| 26 |  0.58459  |    0.782145 | ss041_up2_fz3         | cityscapes     | PSPUNet    | 2019-10-14___11-15-33 |       100 |\n",
      "| 55 |  0.58639  |    0.797873 | ss041_up1_fz2         | cityscapes     | PSPUNet    | 2019-10-16___13-55-05 |       100 |\n",
      "|  6 |  0.58882  |    0.789334 | ss041_up1_fz2         | cityscapes     | PSPUNet    | 2019-10-12___11-54-58 |       100 |\n",
      "| 75 |  0.589175 |    0.798782 | ss041_up2_fz3         | cityscapes     | PSPUNet    | 2019-10-19___05-19-38 |       100 |\n",
      "| 72 |  0.590101 |    0.791073 | ss041_up2_fz2         | cityscapes     | PSPUNet    | 2019-10-18___18-31-50 |       100 |\n",
      "| 15 |  0.59025  |    0.811122 | ss041_up2_fz0         | cityscapes     | PSPUNet    | 2019-10-13___07-52-48 |       100 |\n",
      "| 59 |  0.590668 |    0.785711 | ss041_up1_fz3         | cityscapes     | PSPUNet    | 2019-10-17___05-05-42 |       100 |\n",
      "| 10 |  0.590928 |    0.789997 | ss041_up1_fz3         | cityscapes     | PSPUNet    | 2019-10-12___18-33-16 |       100 |\n",
      "| 97 |  0.595087 |    0.855696 | ss053_syncbn16        | cityscapes     | PSPUNet    | 2019-11-01___17-34-54 |       100 |\n",
      "| 96 |  0.595087 |    0.85668  | ss053_syncbn16        | cityscapes     | PSPUNet    | 2019-11-01___17-34-53 |       100 |\n",
      "| 89 |  0.595359 |    0.818244 | ss051_syncbn16        | cityscapes     | PSPUNet    | 2019-10-26___04-42-15 |       100 |\n",
      "|  1 |  0.59822  |    0.789774 | ss042_resnet50_ucwF   | cityscapes     | PSPUNet    | 2019-10-12___00-12-03 |       100 |\n",
      "| 69 |  0.598545 |    0.812647 | ss041_up2_fz1         | cityscapes     | PSPUNet    | 2019-10-18___06-50-29 |       100 |\n",
      "| 46 |  0.598594 |    0.802855 | ss041_up1_fz1         | cityscapes     | PSPUNet    | 2019-10-15___21-50-57 |       100 |\n",
      "| 22 |  0.599074 |    0.804307 | ss041_up2_fz2         | cityscapes     | PSPUNet    | 2019-10-14___00-24-50 |       100 |\n",
      "| 61 |  0.599226 |    0.880433 | ss048_scale10         | cityscapes     | pspnet     | 2019-10-17___11-23-03 |       200 |\n",
      "| 17 |  0.601002 |    0.805263 | ss041_up2_fz1         | cityscapes     | PSPUNet    | 2019-10-13___13-17-35 |       100 |\n",
      "| 65 |  0.601294 |    0.794332 | ss041_up2_fz0         | cityscapes     | PSPUNet    | 2019-10-17___18-59-55 |       100 |\n",
      "| 87 |  0.603434 |    0.820238 | ss051_syncbn8         | cityscapes     | PSPUNet    | 2019-10-26___00-39-12 |       100 |\n",
      "| 60 |  0.603755 |    0.807727 | ss043                 | cityscapes     | PSPUNet    | 2019-10-17___05-07-56 |       100 |\n",
      "| 33 |  0.60405  |    0.797011 | ss040_up1_fz3         | cityscapes     | PSPUNet    | 2019-10-14___22-54-54 |       100 |\n",
      "|  2 |  0.604607 |    0.813891 | ss041_up1_fz1         | cityscapes     | PSPUNet    | 2019-10-12___04-52-22 |       100 |\n",
      "| 49 |  0.604954 |    0.816853 | ss045_biasT           | cityscapes     | PSPUNet    | 2019-10-16___00-57-16 |       100 |\n",
      "| 34 |  0.605274 |    0.803792 | ss041_up1_fz0         | cityscapes     | PSPUNet    | 2019-10-15___02-26-41 |       100 |\n",
      "| 11 |  0.605445 |    0.797501 | ss040_up1_fz3         | cityscapes     | PSPUNet    | 2019-10-12___21-37-34 |       100 |\n",
      "| 45 |  0.605506 |    0.795642 | ss044                 | cityscapes     | PSPUNet    | 2019-10-15___19-33-01 |       100 |\n",
      "| 38 |  0.605596 |    0.80878  | ss046_imgaugF         | cityscapes     | PSPUNet    | 2019-10-15___09-15-48 |       100 |\n",
      "| 28 |  0.605949 |    0.806747 | ss040_up1_fz2         | cityscapes     | PSPUNet    | 2019-10-14___16-21-01 |       100 |\n",
      "| 14 |  0.607164 |    0.813789 | ss043                 | cityscapes     | PSPUNet    | 2019-10-13___04-21-55 |       100 |\n",
      "| 63 |  0.607345 |    0.79373  | ss044                 | cityscapes     | PSPUNet    | 2019-10-17___13-47-22 |       100 |\n",
      "| 25 |  0.607512 |    0.815774 | ss042_attentiong_resF | cityscapes     | PSPUNet    | 2019-10-14___11-06-47 |       100 |\n",
      "| 52 |  0.607852 |    0.806985 | ss043                 | cityscapes     | PSPUNet    | 2019-10-16___05-53-56 |       100 |\n",
      "| 21 |  0.60832  |    0.79645  | ss040_up2_fz3         | cityscapes     | PSPUNet    | 2019-10-13___19-57-59 |       100 |\n",
      "| 30 |  0.608468 |    0.794203 | ss046_imgaugT         | cityscapes     | PSPUNet    | 2019-10-14___17-49-08 |       100 |\n",
      "| 54 |  0.609429 |    0.818716 | ss045_biasF           | cityscapes     | PSPUNet    | 2019-10-16___13-11-42 |       100 |\n",
      "| 57 |  0.609468 |    0.799533 | ss045_biasT           | cityscapes     | PSPUNet    | 2019-10-16___19-47-26 |       100 |\n",
      "| 58 |  0.6109   |    0.814028 | ss045_biasF           | cityscapes     | PSPUNet    | 2019-10-17___02-29-22 |       100 |\n",
      "| 41 |  0.611513 |    0.81171  | ss040_up2_fz1         | cityscapes     | PSPUNet    | 2019-10-15___10-48-32 |       100 |\n",
      "| 95 |  0.611585 |    0.831341 | ss053_syncbn8         | cityscapes     | PSPUNet    | 2019-11-01___12-55-20 |       100 |\n",
      "| 27 |  0.611641 |    0.810414 | ss043                 | cityscapes     | PSPUNet    | 2019-10-14___11-28-41 |       100 |\n",
      "| 40 |  0.612268 |    0.795089 | ss045_biasF           | cityscapes     | PSPUNet    | 2019-10-15___09-28-19 |       100 |\n",
      "| 42 |  0.612598 |    0.815782 | ss046_imgaugT         | cityscapes     | PSPUNet    | 2019-10-15___15-57-10 |       100 |\n",
      "| 48 |  0.613923 |    0.814902 | ss046_imgaugF         | cityscapes     | PSPUNet    | 2019-10-15___22-38-28 |       100 |\n",
      "| 44 |  0.614058 |    0.782668 | ss040_up2_fz2         | cityscapes     | PSPUNet    | 2019-10-15___16-28-16 |       100 |\n",
      "|  9 |  0.614398 |    0.81439  | ss040_up1_fz2         | cityscapes     | PSPUNet    | 2019-10-12___15-03-19 |       100 |\n",
      "|  5 |  0.614734 |    0.817169 | ss042_vgg16_bn_ucwF   | cityscapes     | PSPUNet    | 2019-10-12___11-13-41 |       100 |\n",
      "| 56 |  0.614895 |    0.811196 | ss044                 | cityscapes     | PSPUNet    | 2019-10-16___18-56-22 |       100 |\n",
      "| 51 |  0.615089 |    0.808311 | ss042_attentionn_resF | cityscapes     | PSPUNet    | 2019-10-16___05-24-14 |       100 |\n",
      "| 18 |  0.615447 |    0.794877 | ss040_up2_fz2         | cityscapes     | PSPUNet    | 2019-10-13___14-42-46 |       100 |\n",
      "| 20 |  0.615831 |    0.819329 | ss043                 | cityscapes     | PSPUNet    | 2019-10-13___19-53-57 |       100 |\n",
      "| 36 |  0.615986 |    0.811825 | ss042_attentionh_resF | cityscapes     | PSPUNet    | 2019-10-15___05-58-41 |       100 |\n",
      "|  8 |  0.616003 |    0.805367 | ss043                 | cityscapes     | PSPUNet    | 2019-10-12___12-47-15 |       100 |\n",
      "| 12 |  0.61649  |    0.81982  | ss040_up2_fz0         | cityscapes     | PSPUNet    | 2019-10-13___03-33-40 |       100 |\n",
      "| 37 |  0.616712 |    0.806819 | ss043                 | cityscapes     | PSPUNet    | 2019-10-15___06-30-21 |       100 |\n",
      "| 16 |  0.616905 |    0.806504 | ss040_up2_fz1         | cityscapes     | PSPUNet    | 2019-10-13___09-21-19 |       100 |\n",
      "| 47 |  0.616916 |    0.801281 | ss040_up2_fz3         | cityscapes     | PSPUNet    | 2019-10-15___22-08-03 |       100 |\n",
      "| 23 |  0.617704 |    0.824627 | ss040_up1_fz0         | cityscapes     | PSPUNet    | 2019-10-14___01-18-16 |       100 |\n",
      "| 43 |  0.618276 |    0.863638 | ss046_semsegT         | cityscapes     | PSPUNet    | 2019-10-15___16-04-40 |       100 |\n",
      "| 39 |  0.619007 |    0.870273 | ss046_semsegT         | cityscapes     | PSPUNet    | 2019-10-15___09-19-05 |       100 |\n",
      "|  7 |  0.619468 |    0.821606 | ss042_attentionn_resT | cityscapes     | PSPUNet    | 2019-10-12___12-24-48 |       100 |\n",
      "| 53 |  0.620034 |    0.799967 | ss046_imgaugF         | cityscapes     | PSPUNet    | 2019-10-16___11-57-57 |       100 |\n",
      "| 35 |  0.621477 |    0.821935 | ss040_up2_fz0         | cityscapes     | PSPUNet    | 2019-10-15___04-54-20 |       100 |\n",
      "|  0 |  0.622639 |    0.831551 | ss040_up1_fz0         | cityscapes     | PSPUNet    | 2019-10-11___23-57-35 |       100 |\n",
      "|  4 |  0.623026 |    0.822214 | ss040_up1_fz1         | cityscapes     | PSPUNet    | 2019-10-12___07-53-28 |       100 |\n",
      "| 32 |  0.624028 |    0.800428 | ss044                 | cityscapes     | PSPUNet    | 2019-10-14___20-08-10 |       100 |\n",
      "| 19 |  0.624638 |    0.810286 | ss042_attentionc_resF | cityscapes     | PSPUNet    | 2019-10-13___19-32-10 |       100 |\n",
      "| 66 |  0.625046 |    0.802341 | ss043                 | cityscapes     | PSPUNet    | 2019-10-17___20-40-25 |       100 |\n",
      "| 29 |  0.625148 |    0.808489 | ss045_biasT           | cityscapes     | PSPUNet    | 2019-10-14___17-47-33 |       100 |\n",
      "| 71 |  0.625308 |    0.814824 | ss044                 | cityscapes     | PSPUNet    | 2019-10-18___16-22-27 |       100 |\n",
      "| 50 |  0.625349 |    0.797145 | ss046_imgaugT         | cityscapes     | PSPUNet    | 2019-10-16___05-18-46 |       100 |\n",
      "| 13 |  0.625566 |    0.807693 | ss042_attentions_resF | cityscapes     | PSPUNet    | 2019-10-13___04-00-10 |       100 |\n",
      "| 88 |  0.626449 |    0.819698 | ss050_syncbnT         | cityscapes     | PSPUNet    | 2019-10-26___02-30-18 |       100 |\n",
      "| 93 |  0.627718 |    0.866079 | ss052_bn24_lrmultT    | cityscapes     | PSPUNet    | 2019-10-31___23-14-37 |       100 |\n",
      "| 24 |  0.628033 |    0.815556 | ss040_up1_fz1         | cityscapes     | PSPUNet    | 2019-10-14___09-12-53 |       100 |\n",
      "| 68 |  0.628961 |    0.81645  | ss044                 | cityscapes     | PSPUNet    | 2019-10-18___05-19-45 |       100 |\n",
      "| 92 |  0.631405 |    0.853179 | ss052_bn12_lrmultT    | cityscapes     | PSPUNet    | 2019-10-31___20-02-42 |       100 |\n",
      "| 31 |  0.631612 |    0.867286 | ss046_semsegT         | cityscapes     | PSPUNet    | 2019-10-14___17-51-43 |       100 |\n",
      "| 90 |  0.632416 |    0.808656 | ss050_syncbnT         | cityscapes     | PSPUNet    | 2019-10-26___06-25-34 |       100 |\n",
      "| 86 |  0.632955 |    0.800278 | ss050_syncbnT         | cityscapes     | PSPUNet    | 2019-10-25___21-17-41 |       100 |\n",
      "| 98 |  0.633648 |    0.826153 | ss054_demo            | cityscapes     | PSPUNet    | 2019-11-01___17-57-53 |       100 |\n",
      "| 94 |  0.636687 |    0.820512 | ss052_bn6_lrmultF     | cityscapes     | PSPUNet    | 2019-11-01___02-15-31 |       100 |\n",
      "| 91 |  0.642105 |    0.819377 | ss052_bn6_lrmultT     | cityscapes     | PSPUNet    | 2019-10-31___16-29-28 |       100 |\n",
      "| 99 |  0.64366  |    0.783796 | ss052_bn6_lrmultF     | cityscapes     | PSPUNet    | 2019-11-04___21-18-07 |       100 |\n",
      "\n",
      "\n",
      "|    |   val/iou | dir                                                                                                         |\n",
      "|---:|----------:|:------------------------------------------------------------------------------------------------------------|\n",
      "| 85 |  0.444649 | /data02/jiaxin15/tmp/logs/pytorch/pspnet/cityscapes/docker/2019-10-22___09-47-10/config.txt                 |\n",
      "| 84 |  0.4537   | /data02/jiaxin15/tmp/logs/pytorch/PSPUNet/cityscapes/ss047_accumulate4/2019-10-21___04-56-25/config.txt     |\n",
      "| 70 |  0.454603 | /data02/jiaxin15/tmp/logs/pytorch/PSPUNet/cityscapes/ss049_dropoutF/2019-10-18___09-04-39/config.txt        |\n",
      "| 64 |  0.455908 | /data02/jiaxin15/tmp/logs/pytorch/PSPUNet/cityscapes/ss049_dropoutT/2019-10-17___16-40-39/config.txt        |\n",
      "| 67 |  0.45614  | /data02/jiaxin15/tmp/logs/pytorch/PSPUNet/cityscapes/ss047_accumulate2/2019-10-18___04-21-19/config.txt     |\n",
      "| 79 |  0.458183 | /data02/jiaxin15/tmp/logs/pytorch/PSPUNet/cityscapes/ss047_accumulate4/2019-10-20___07-42-34/config.txt     |\n",
      "| 82 |  0.459446 | /data02/jiaxin15/tmp/logs/pytorch/PSPUNet/cityscapes/ss047_accumulate2/2019-10-20___21-51-56/config.txt     |\n",
      "| 76 |  0.459891 | /data02/jiaxin15/tmp/logs/pytorch/PSPUNet/cityscapes/ss047_accumulate1/2019-10-19___15-38-27/config.txt     |\n",
      "| 77 |  0.461136 | /data02/jiaxin15/tmp/logs/pytorch/PSPUNet/cityscapes/ss049_dropoutF/2019-10-19___18-12-47/config.txt        |\n",
      "| 73 |  0.462026 | /data02/jiaxin15/tmp/logs/pytorch/PSPUNet/cityscapes/ss047_accumulate4/2019-10-18___21-58-59/config.txt     |\n",
      "| 81 |  0.462295 | /data02/jiaxin15/tmp/logs/pytorch/PSPUNet/cityscapes/ss047_accumulate1/2019-10-20___14-47-00/config.txt     |\n",
      "| 80 |  0.463023 | /data02/jiaxin15/tmp/logs/pytorch/PSPUNet/cityscapes/ss049_dropoutT/2019-10-20___10-48-46/config.txt        |\n",
      "| 62 |  0.463598 | /data02/jiaxin15/tmp/logs/pytorch/PSPUNet/cityscapes/ss047_accumulate1/2019-10-17___11-26-47/config.txt     |\n",
      "| 74 |  0.464617 | /data02/jiaxin15/tmp/logs/pytorch/PSPUNet/cityscapes/ss049_dropoutT/2019-10-19___01-37-34/config.txt        |\n",
      "| 78 |  0.473787 | /data02/jiaxin15/tmp/logs/pytorch/PSPUNet/cityscapes/ss047_accumulate2/2019-10-20___00-38-08/config.txt     |\n",
      "| 83 |  0.474558 | /data02/jiaxin15/tmp/logs/pytorch/PSPUNet/cityscapes/ss049_dropoutF/2019-10-21___03-24-17/config.txt        |\n",
      "|  3 |  0.575948 | /data02/jiaxin15/tmp/logs/pytorch/PSPUNet/cityscapes/ss042_vgg16_bn_ucwT/2019-10-12___05-37-43/config.txt   |\n",
      "| 26 |  0.58459  | /data02/jiaxin15/tmp/logs/pytorch/PSPUNet/cityscapes/ss041_up2_fz3/2019-10-14___11-15-33/config.txt         |\n",
      "| 55 |  0.58639  | /data02/jiaxin15/tmp/logs/pytorch/PSPUNet/cityscapes/ss041_up1_fz2/2019-10-16___13-55-05/config.txt         |\n",
      "|  6 |  0.58882  | /data02/jiaxin15/tmp/logs/pytorch/PSPUNet/cityscapes/ss041_up1_fz2/2019-10-12___11-54-58/config.txt         |\n",
      "| 75 |  0.589175 | /data02/jiaxin15/tmp/logs/pytorch/PSPUNet/cityscapes/ss041_up2_fz3/2019-10-19___05-19-38/config.txt         |\n",
      "| 72 |  0.590101 | /data02/jiaxin15/tmp/logs/pytorch/PSPUNet/cityscapes/ss041_up2_fz2/2019-10-18___18-31-50/config.txt         |\n",
      "| 15 |  0.59025  | /data02/jiaxin15/tmp/logs/pytorch/PSPUNet/cityscapes/ss041_up2_fz0/2019-10-13___07-52-48/config.txt         |\n",
      "| 59 |  0.590668 | /data02/jiaxin15/tmp/logs/pytorch/PSPUNet/cityscapes/ss041_up1_fz3/2019-10-17___05-05-42/config.txt         |\n",
      "| 10 |  0.590928 | /data02/jiaxin15/tmp/logs/pytorch/PSPUNet/cityscapes/ss041_up1_fz3/2019-10-12___18-33-16/config.txt         |\n",
      "| 97 |  0.595087 | /data02/jiaxin15/tmp/logs/pytorch/PSPUNet/cityscapes/ss053_syncbn16/2019-11-01___17-34-54/config.txt        |\n",
      "| 96 |  0.595087 | /data02/jiaxin15/tmp/logs/pytorch/PSPUNet/cityscapes/ss053_syncbn16/2019-11-01___17-34-53/config.txt        |\n",
      "| 89 |  0.595359 | /data02/jiaxin15/tmp/logs/pytorch/PSPUNet/cityscapes/ss051_syncbn16/2019-10-26___04-42-15/config.txt        |\n",
      "|  1 |  0.59822  | /data02/jiaxin15/tmp/logs/pytorch/PSPUNet/cityscapes/ss042_resnet50_ucwF/2019-10-12___00-12-03/config.txt   |\n",
      "| 69 |  0.598545 | /data02/jiaxin15/tmp/logs/pytorch/PSPUNet/cityscapes/ss041_up2_fz1/2019-10-18___06-50-29/config.txt         |\n",
      "| 46 |  0.598594 | /data02/jiaxin15/tmp/logs/pytorch/PSPUNet/cityscapes/ss041_up1_fz1/2019-10-15___21-50-57/config.txt         |\n",
      "| 22 |  0.599074 | /data02/jiaxin15/tmp/logs/pytorch/PSPUNet/cityscapes/ss041_up2_fz2/2019-10-14___00-24-50/config.txt         |\n",
      "| 61 |  0.599226 | /data02/jiaxin15/tmp/logs/pytorch/pspnet/cityscapes/ss048_scale10/2019-10-17___11-23-03/config.txt          |\n",
      "| 17 |  0.601002 | /data02/jiaxin15/tmp/logs/pytorch/PSPUNet/cityscapes/ss041_up2_fz1/2019-10-13___13-17-35/config.txt         |\n",
      "| 65 |  0.601294 | /data02/jiaxin15/tmp/logs/pytorch/PSPUNet/cityscapes/ss041_up2_fz0/2019-10-17___18-59-55/config.txt         |\n",
      "| 87 |  0.603434 | /data02/jiaxin15/tmp/logs/pytorch/PSPUNet/cityscapes/ss051_syncbn8/2019-10-26___00-39-12/config.txt         |\n",
      "| 60 |  0.603755 | /data02/jiaxin15/tmp/logs/pytorch/PSPUNet/cityscapes/ss043/2019-10-17___05-07-56/config.txt                 |\n",
      "| 33 |  0.60405  | /data02/jiaxin15/tmp/logs/pytorch/PSPUNet/cityscapes/ss040_up1_fz3/2019-10-14___22-54-54/config.txt         |\n",
      "|  2 |  0.604607 | /data02/jiaxin15/tmp/logs/pytorch/PSPUNet/cityscapes/ss041_up1_fz1/2019-10-12___04-52-22/config.txt         |\n",
      "| 49 |  0.604954 | /data02/jiaxin15/tmp/logs/pytorch/PSPUNet/cityscapes/ss045_biasT/2019-10-16___00-57-16/config.txt           |\n",
      "| 34 |  0.605274 | /data02/jiaxin15/tmp/logs/pytorch/PSPUNet/cityscapes/ss041_up1_fz0/2019-10-15___02-26-41/config.txt         |\n",
      "| 11 |  0.605445 | /data02/jiaxin15/tmp/logs/pytorch/PSPUNet/cityscapes/ss040_up1_fz3/2019-10-12___21-37-34/config.txt         |\n",
      "| 45 |  0.605506 | /data02/jiaxin15/tmp/logs/pytorch/PSPUNet/cityscapes/ss044/2019-10-15___19-33-01/config.txt                 |\n",
      "| 38 |  0.605596 | /data02/jiaxin15/tmp/logs/pytorch/PSPUNet/cityscapes/ss046_imgaugF/2019-10-15___09-15-48/config.txt         |\n",
      "| 28 |  0.605949 | /data02/jiaxin15/tmp/logs/pytorch/PSPUNet/cityscapes/ss040_up1_fz2/2019-10-14___16-21-01/config.txt         |\n",
      "| 14 |  0.607164 | /data02/jiaxin15/tmp/logs/pytorch/PSPUNet/cityscapes/ss043/2019-10-13___04-21-55/config.txt                 |\n",
      "| 63 |  0.607345 | /data02/jiaxin15/tmp/logs/pytorch/PSPUNet/cityscapes/ss044/2019-10-17___13-47-22/config.txt                 |\n",
      "| 25 |  0.607512 | /data02/jiaxin15/tmp/logs/pytorch/PSPUNet/cityscapes/ss042_attentiong_resF/2019-10-14___11-06-47/config.txt |\n",
      "| 52 |  0.607852 | /data02/jiaxin15/tmp/logs/pytorch/PSPUNet/cityscapes/ss043/2019-10-16___05-53-56/config.txt                 |\n",
      "| 21 |  0.60832  | /data02/jiaxin15/tmp/logs/pytorch/PSPUNet/cityscapes/ss040_up2_fz3/2019-10-13___19-57-59/config.txt         |\n",
      "| 30 |  0.608468 | /data02/jiaxin15/tmp/logs/pytorch/PSPUNet/cityscapes/ss046_imgaugT/2019-10-14___17-49-08/config.txt         |\n",
      "| 54 |  0.609429 | /data02/jiaxin15/tmp/logs/pytorch/PSPUNet/cityscapes/ss045_biasF/2019-10-16___13-11-42/config.txt           |\n",
      "| 57 |  0.609468 | /data02/jiaxin15/tmp/logs/pytorch/PSPUNet/cityscapes/ss045_biasT/2019-10-16___19-47-26/config.txt           |\n",
      "| 58 |  0.6109   | /data02/jiaxin15/tmp/logs/pytorch/PSPUNet/cityscapes/ss045_biasF/2019-10-17___02-29-22/config.txt           |\n",
      "| 41 |  0.611513 | /data02/jiaxin15/tmp/logs/pytorch/PSPUNet/cityscapes/ss040_up2_fz1/2019-10-15___10-48-32/config.txt         |\n",
      "| 95 |  0.611585 | /data02/jiaxin15/tmp/logs/pytorch/PSPUNet/cityscapes/ss053_syncbn8/2019-11-01___12-55-20/config.txt         |\n",
      "| 27 |  0.611641 | /data02/jiaxin15/tmp/logs/pytorch/PSPUNet/cityscapes/ss043/2019-10-14___11-28-41/config.txt                 |\n",
      "| 40 |  0.612268 | /data02/jiaxin15/tmp/logs/pytorch/PSPUNet/cityscapes/ss045_biasF/2019-10-15___09-28-19/config.txt           |\n",
      "| 42 |  0.612598 | /data02/jiaxin15/tmp/logs/pytorch/PSPUNet/cityscapes/ss046_imgaugT/2019-10-15___15-57-10/config.txt         |\n",
      "| 48 |  0.613923 | /data02/jiaxin15/tmp/logs/pytorch/PSPUNet/cityscapes/ss046_imgaugF/2019-10-15___22-38-28/config.txt         |\n",
      "| 44 |  0.614058 | /data02/jiaxin15/tmp/logs/pytorch/PSPUNet/cityscapes/ss040_up2_fz2/2019-10-15___16-28-16/config.txt         |\n",
      "|  9 |  0.614398 | /data02/jiaxin15/tmp/logs/pytorch/PSPUNet/cityscapes/ss040_up1_fz2/2019-10-12___15-03-19/config.txt         |\n",
      "|  5 |  0.614734 | /data02/jiaxin15/tmp/logs/pytorch/PSPUNet/cityscapes/ss042_vgg16_bn_ucwF/2019-10-12___11-13-41/config.txt   |\n",
      "| 56 |  0.614895 | /data02/jiaxin15/tmp/logs/pytorch/PSPUNet/cityscapes/ss044/2019-10-16___18-56-22/config.txt                 |\n",
      "| 51 |  0.615089 | /data02/jiaxin15/tmp/logs/pytorch/PSPUNet/cityscapes/ss042_attentionn_resF/2019-10-16___05-24-14/config.txt |\n",
      "| 18 |  0.615447 | /data02/jiaxin15/tmp/logs/pytorch/PSPUNet/cityscapes/ss040_up2_fz2/2019-10-13___14-42-46/config.txt         |\n",
      "| 20 |  0.615831 | /data02/jiaxin15/tmp/logs/pytorch/PSPUNet/cityscapes/ss043/2019-10-13___19-53-57/config.txt                 |\n",
      "| 36 |  0.615986 | /data02/jiaxin15/tmp/logs/pytorch/PSPUNet/cityscapes/ss042_attentionh_resF/2019-10-15___05-58-41/config.txt |\n",
      "|  8 |  0.616003 | /data02/jiaxin15/tmp/logs/pytorch/PSPUNet/cityscapes/ss043/2019-10-12___12-47-15/config.txt                 |\n",
      "| 12 |  0.61649  | /data02/jiaxin15/tmp/logs/pytorch/PSPUNet/cityscapes/ss040_up2_fz0/2019-10-13___03-33-40/config.txt         |\n",
      "| 37 |  0.616712 | /data02/jiaxin15/tmp/logs/pytorch/PSPUNet/cityscapes/ss043/2019-10-15___06-30-21/config.txt                 |\n",
      "| 16 |  0.616905 | /data02/jiaxin15/tmp/logs/pytorch/PSPUNet/cityscapes/ss040_up2_fz1/2019-10-13___09-21-19/config.txt         |\n",
      "| 47 |  0.616916 | /data02/jiaxin15/tmp/logs/pytorch/PSPUNet/cityscapes/ss040_up2_fz3/2019-10-15___22-08-03/config.txt         |\n",
      "| 23 |  0.617704 | /data02/jiaxin15/tmp/logs/pytorch/PSPUNet/cityscapes/ss040_up1_fz0/2019-10-14___01-18-16/config.txt         |\n",
      "| 43 |  0.618276 | /data02/jiaxin15/tmp/logs/pytorch/PSPUNet/cityscapes/ss046_semsegT/2019-10-15___16-04-40/config.txt         |\n",
      "| 39 |  0.619007 | /data02/jiaxin15/tmp/logs/pytorch/PSPUNet/cityscapes/ss046_semsegT/2019-10-15___09-19-05/config.txt         |\n",
      "|  7 |  0.619468 | /data02/jiaxin15/tmp/logs/pytorch/PSPUNet/cityscapes/ss042_attentionn_resT/2019-10-12___12-24-48/config.txt |\n",
      "| 53 |  0.620034 | /data02/jiaxin15/tmp/logs/pytorch/PSPUNet/cityscapes/ss046_imgaugF/2019-10-16___11-57-57/config.txt         |\n",
      "| 35 |  0.621477 | /data02/jiaxin15/tmp/logs/pytorch/PSPUNet/cityscapes/ss040_up2_fz0/2019-10-15___04-54-20/config.txt         |\n",
      "|  0 |  0.622639 | /data02/jiaxin15/tmp/logs/pytorch/PSPUNet/cityscapes/ss040_up1_fz0/2019-10-11___23-57-35/config.txt         |\n",
      "|  4 |  0.623026 | /data02/jiaxin15/tmp/logs/pytorch/PSPUNet/cityscapes/ss040_up1_fz1/2019-10-12___07-53-28/config.txt         |\n",
      "| 32 |  0.624028 | /data02/jiaxin15/tmp/logs/pytorch/PSPUNet/cityscapes/ss044/2019-10-14___20-08-10/config.txt                 |\n",
      "| 19 |  0.624638 | /data02/jiaxin15/tmp/logs/pytorch/PSPUNet/cityscapes/ss042_attentionc_resF/2019-10-13___19-32-10/config.txt |\n",
      "| 66 |  0.625046 | /data02/jiaxin15/tmp/logs/pytorch/PSPUNet/cityscapes/ss043/2019-10-17___20-40-25/config.txt                 |\n",
      "| 29 |  0.625148 | /data02/jiaxin15/tmp/logs/pytorch/PSPUNet/cityscapes/ss045_biasT/2019-10-14___17-47-33/config.txt           |\n",
      "| 71 |  0.625308 | /data02/jiaxin15/tmp/logs/pytorch/PSPUNet/cityscapes/ss044/2019-10-18___16-22-27/config.txt                 |\n",
      "| 50 |  0.625349 | /data02/jiaxin15/tmp/logs/pytorch/PSPUNet/cityscapes/ss046_imgaugT/2019-10-16___05-18-46/config.txt         |\n",
      "| 13 |  0.625566 | /data02/jiaxin15/tmp/logs/pytorch/PSPUNet/cityscapes/ss042_attentions_resF/2019-10-13___04-00-10/config.txt |\n",
      "| 88 |  0.626449 | /data02/jiaxin15/tmp/logs/pytorch/PSPUNet/cityscapes/ss050_syncbnT/2019-10-26___02-30-18/config.txt         |\n",
      "| 93 |  0.627718 | /data02/jiaxin15/tmp/logs/pytorch/PSPUNet/cityscapes/ss052_bn24_lrmultT/2019-10-31___23-14-37/config.txt    |\n",
      "| 24 |  0.628033 | /data02/jiaxin15/tmp/logs/pytorch/PSPUNet/cityscapes/ss040_up1_fz1/2019-10-14___09-12-53/config.txt         |\n",
      "| 68 |  0.628961 | /data02/jiaxin15/tmp/logs/pytorch/PSPUNet/cityscapes/ss044/2019-10-18___05-19-45/config.txt                 |\n",
      "| 92 |  0.631405 | /data02/jiaxin15/tmp/logs/pytorch/PSPUNet/cityscapes/ss052_bn12_lrmultT/2019-10-31___20-02-42/config.txt    |\n",
      "| 31 |  0.631612 | /data02/jiaxin15/tmp/logs/pytorch/PSPUNet/cityscapes/ss046_semsegT/2019-10-14___17-51-43/config.txt         |\n",
      "| 90 |  0.632416 | /data02/jiaxin15/tmp/logs/pytorch/PSPUNet/cityscapes/ss050_syncbnT/2019-10-26___06-25-34/config.txt         |\n",
      "| 86 |  0.632955 | /data02/jiaxin15/tmp/logs/pytorch/PSPUNet/cityscapes/ss050_syncbnT/2019-10-25___21-17-41/config.txt         |\n",
      "| 98 |  0.633648 | /data02/jiaxin15/tmp/logs/pytorch/PSPUNet/cityscapes/ss054_demo/2019-11-01___17-57-53/config.txt            |\n",
      "| 94 |  0.636687 | /data02/jiaxin15/tmp/logs/pytorch/PSPUNet/cityscapes/ss052_bn6_lrmultF/2019-11-01___02-15-31/config.txt     |\n",
      "| 91 |  0.642105 | /data02/jiaxin15/tmp/logs/pytorch/PSPUNet/cityscapes/ss052_bn6_lrmultT/2019-10-31___16-29-28/config.txt     |\n",
      "| 99 |  0.64366  | /data02/jiaxin15/tmp/logs/pytorch/PSPUNet/cityscapes/ss052_bn6_lrmultF/2019-11-04___21-18-07/config.txt     |\n",
      "\n",
      "\n"
     ]
    }
   ],
   "source": [
    "rootpath=os.path.expanduser('~/tmp/logs/pytorch')\n",
    "tags=['train/iou','val/iou']\n",
    "descripe=['note','n_epoch']\n",
    "notes=['today','recent']\n",
    "note_gtags=[['dataset_name','log_time','net_name'],\n",
    "           ['dataset_name','log_time','net_name']]\n",
    "recent_log_number=100\n",
    "tasks=dump(tags=tags,rootpath=rootpath,notes=notes,note_gtags=note_gtags,sort_tags=['dataset_name','val/iou'],\n",
    "     descripe=descripe,delete_nan=False,dump_group=False,recent_log_number=recent_log_number)"
   ]
  },
  {
   "cell_type": "code",
   "execution_count": 36,
   "metadata": {},
   "outputs": [
    {
     "name": "stdout",
     "output_type": "stream",
     "text": [
      "Index(['accumulate', 'attention_type', 'augmentation', 'augmentations_blur',\n",
      "       'aux_base_weight', 'auxnet_layer', 'auxnet_type', 'backbone_freeze',\n",
      "       'backbone_name', 'backbone_pretrained',\n",
      "       ...\n",
      "       'use_lr_mult', 'use_none_layer', 'use_reg', 'use_rotate',\n",
      "       'vertical_flip', 'with_edge', 'train/iou', 'val/iou', 'dir',\n",
      "       'log_time'],\n",
      "      dtype='object', length=104)\n",
      "0    1.0\n",
      "1    1.0\n",
      "2    NaN\n",
      "Name: decode_main_layer, dtype: float64\n",
      "a is not nan\n",
      "False\n",
      "False\n"
     ]
    }
   ],
   "source": [
    "print(tasks.columns)\n",
    "print(tasks['decode_main_layer'])\n",
    "import math\n",
    "import numpy as np\n",
    "a=tasks['decode_main_layer']\n",
    "if np.nan in tasks['decode_main_layer']:\n",
    "    print('a is nan')\n",
    "else:\n",
    "    print('a is not nan')\n",
    "\n",
    "import pandas as pd\n",
    "print(pd.isna(tasks['accumulate']).any())\n",
    "print(pd.isnull(tasks['accumulate']).any())"
   ]
  },
  {
   "cell_type": "code",
   "execution_count": null,
   "metadata": {
    "collapsed": true
   },
   "outputs": [],
   "source": []
  }
 ],
 "metadata": {
  "kernelspec": {
   "display_name": "Python 3",
   "language": "python",
   "name": "python3"
  },
  "language_info": {
   "codemirror_mode": {
    "name": "ipython",
    "version": 3
   },
   "file_extension": ".py",
   "mimetype": "text/x-python",
   "name": "python",
   "nbconvert_exporter": "python",
   "pygments_lexer": "ipython3",
   "version": "3.6.8"
  },
  "nbpresent": {
   "slides": {},
   "themes": {
    "default": "fc255d06-66c6-4a6b-a8c4-42a6f20eb29b",
    "theme": {
     "738f3cfd-9013-49aa-939c-a1216d389da2": {
      "backgrounds": {
       "dc7afa04-bf90-40b1-82a5-726e3cff5267": {
        "background-color": "31af15d2-7e15-44c5-ab5e-e04b16a89eff",
        "id": "dc7afa04-bf90-40b1-82a5-726e3cff5267"
       }
      },
      "id": "738f3cfd-9013-49aa-939c-a1216d389da2",
      "palette": {
       "19cc588f-0593-49c9-9f4b-e4d7cc113b1c": {
        "id": "19cc588f-0593-49c9-9f4b-e4d7cc113b1c",
        "rgb": [
         252,
         252,
         252
        ]
       },
       "31af15d2-7e15-44c5-ab5e-e04b16a89eff": {
        "id": "31af15d2-7e15-44c5-ab5e-e04b16a89eff",
        "rgb": [
         68,
         68,
         68
        ]
       },
       "50f92c45-a630-455b-aec3-788680ec7410": {
        "id": "50f92c45-a630-455b-aec3-788680ec7410",
        "rgb": [
         197,
         226,
         245
        ]
       },
       "c5cc3653-2ee1-402a-aba2-7caae1da4f6c": {
        "id": "c5cc3653-2ee1-402a-aba2-7caae1da4f6c",
        "rgb": [
         43,
         126,
         184
        ]
       },
       "efa7f048-9acb-414c-8b04-a26811511a21": {
        "id": "efa7f048-9acb-414c-8b04-a26811511a21",
        "rgb": [
         25.118061674008803,
         73.60176211453744,
         107.4819383259912
        ]
       }
      },
      "rules": {
       "a": {
        "color": "19cc588f-0593-49c9-9f4b-e4d7cc113b1c"
       },
       "blockquote": {
        "color": "50f92c45-a630-455b-aec3-788680ec7410",
        "font-size": 3
       },
       "code": {
        "font-family": "Anonymous Pro"
       },
       "h1": {
        "color": "19cc588f-0593-49c9-9f4b-e4d7cc113b1c",
        "font-family": "Merriweather",
        "font-size": 8
       },
       "h2": {
        "color": "19cc588f-0593-49c9-9f4b-e4d7cc113b1c",
        "font-family": "Merriweather",
        "font-size": 6
       },
       "h3": {
        "color": "50f92c45-a630-455b-aec3-788680ec7410",
        "font-family": "Lato",
        "font-size": 5.5
       },
       "h4": {
        "color": "c5cc3653-2ee1-402a-aba2-7caae1da4f6c",
        "font-family": "Lato",
        "font-size": 5
       },
       "h5": {
        "font-family": "Lato"
       },
       "h6": {
        "font-family": "Lato"
       },
       "h7": {
        "font-family": "Lato"
       },
       "li": {
        "color": "50f92c45-a630-455b-aec3-788680ec7410",
        "font-size": 3.25
       },
       "pre": {
        "font-family": "Anonymous Pro",
        "font-size": 4
       }
      },
      "text-base": {
       "color": "19cc588f-0593-49c9-9f4b-e4d7cc113b1c",
       "font-family": "Lato",
       "font-size": 4
      }
     },
     "fc255d06-66c6-4a6b-a8c4-42a6f20eb29b": {
      "backgrounds": {
       "backgroundColor": {
        "background-color": "backgroundColor",
        "id": "backgroundColor"
       }
      },
      "id": "fc255d06-66c6-4a6b-a8c4-42a6f20eb29b",
      "palette": {
       "backgroundColor": {
        "id": "backgroundColor",
        "rgb": [
         34,
         34,
         34
        ]
       },
       "headingColor": {
        "id": "headingColor",
        "rgb": [
         256,
         256,
         256
        ]
       },
       "linkColor": {
        "id": "linkColor",
        "rgb": [
         66,
         175,
         250
        ]
       },
       "mainColor": {
        "id": "mainColor",
        "rgb": [
         256,
         256,
         256
        ]
       }
      },
      "rules": {
       "a": {
        "color": "linkColor"
       },
       "h1": {
        "color": "headingColor",
        "font-family": "Source Sans Pro",
        "font-size": 5.25
       },
       "h2": {
        "color": "headingColor",
        "font-family": "Source Sans Pro",
        "font-size": 4
       },
       "h3": {
        "color": "headingColor",
        "font-family": "Source Sans Pro",
        "font-size": 3.5
       },
       "h4": {
        "color": "headingColor",
        "font-family": "Source Sans Pro",
        "font-size": 3
       },
       "h5": {
        "color": "headingColor",
        "font-family": "Source Sans Pro"
       },
       "h6": {
        "color": "headingColor",
        "font-family": "Source Sans Pro"
       },
       "h7": {
        "color": "headingColor",
        "font-family": "Source Sans Pro"
       },
       "li": {
        "color": "mainColor",
        "font-family": "Source Sans Pro",
        "font-size": 6
       },
       "p": {
        "color": "mainColor",
        "font-family": "Source Sans Pro",
        "font-size": 6
       }
      },
      "text-base": {
       "color": "mainColor",
       "font-family": "Source Sans Pro",
       "font-size": 6
      }
     }
    }
   }
  }
 },
 "nbformat": 4,
 "nbformat_minor": 2
}
