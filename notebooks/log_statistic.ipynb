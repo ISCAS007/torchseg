{
 "cells": [
  {
   "cell_type": "code",
   "execution_count": 8,
   "metadata": {},
   "outputs": [
    {
     "name": "stdout",
     "output_type": "stream",
     "text": [
      "['/home/yzbx/git/torchseg', '/home/yzbx/git/torchseg', '', '/home/yzbx/git/torchseg/notebooks', '/home/yzbx/git/gnu/models/research', '/home/yzbx/git/gnu/models/research/slim', '/home/yzbx/bin/miniconda3/envs/new/lib/python36.zip', '/home/yzbx/bin/miniconda3/envs/new/lib/python3.6', '/home/yzbx/bin/miniconda3/envs/new/lib/python3.6/lib-dynload', '/home/yzbx/bin/miniconda3/envs/new/lib/python3.6/site-packages', '/home/yzbx/bin/miniconda3/envs/new/lib/python3.6/site-packages/cityscapesscripts-1.0.0-py3.6-linux-x86_64.egg', '/home/yzbx/bin/miniconda3/envs/new/lib/python3.6/site-packages/torchvision-0.2.1-py3.6.egg', '/home/yzbx/bin/miniconda3/envs/new/lib/python3.6/site-packages/IPython/extensions', '/home/yzbx/.ipython']\n"
     ]
    }
   ],
   "source": [
    "import pandas as pd\n",
    "import tensorflow as tf\n",
    "from glob import glob\n",
    "import numpy as np\n",
    "from easydict import EasyDict as edict\n",
    "import os\n",
    "import time\n",
    "import sys\n",
    "\n",
    "sys.path.insert(0,os.path.expanduser('~/git/torchseg'))\n",
    "print(sys.path)\n",
    "\n",
    "from utils.config import load_config\n",
    "from utils.summary_to_csv import config_to_log,load_config,load_log,edict_to_pandas\n",
    "\n",
    "def summary(rootpath,tags,filter_str=None,):\n",
    "    config_files=glob(os.path.join(rootpath,'**','config.txt'),recursive=True)\n",
    "    if filter_str is not None:\n",
    "        config_files=[f for f in config_files if f.find(filter_str)>=0]\n",
    "    \n",
    "    tasks=pd.DataFrame()\n",
    "    for cfg in config_files:\n",
    "        log=config_to_log(cfg)\n",
    "        if log is not None:\n",
    "            ed=load_config(cfg)\n",
    "            metrics=load_log(log,tags)\n",
    "            for key,value in metrics.items():\n",
    "                ed[key]=value\n",
    "                \n",
    "            task=edict_to_pandas(ed)\n",
    "            tasks=tasks.append(task,ignore_index=True,sort=False)\n",
    "        else:\n",
    "            print('cannot find log file for',cfg)\n",
    "            \n",
    "    return tasks"
   ]
  },
  {
   "cell_type": "code",
   "execution_count": 11,
   "metadata": {},
   "outputs": [
    {
     "name": "stdout",
     "output_type": "stream",
     "text": [
      "   train/iou   val/iou        note\n",
      "0   0.459440  0.403973       caffe\n",
      "1   0.460660  0.405963     pytorch\n",
      "2   0.463188  0.416964  cityscapes\n",
      "3   0.460112  0.400258        -1,1\n",
      "4   0.460654  0.401508         0,1\n"
     ]
    }
   ],
   "source": [
    "rootpath=os.path.expanduser('~/tmp/logs/pytorch')\n",
    "tags=['train/iou','val/iou']\n",
    "filters=['caffe','pytorch','cityscapes','-1,1','0,1']\n",
    "\n",
    "group_str='note'\n",
    "group_tags=tags.copy()\n",
    "group_tags.append(group_str)\n",
    "    \n",
    "tasks=summary(rootpath,tags)\n",
    "filter_tasks=pd.DataFrame()\n",
    "for filter_str in filters:\n",
    "    filter_tasks=filter_tasks.append(tasks[tasks[group_str]==filter_str][group_tags],ignore_index=True,sort=False)\n",
    "\n",
    "print(filter_tasks.to_string())"
   ]
  },
  {
   "cell_type": "code",
   "execution_count": 3,
   "metadata": {},
   "outputs": [],
   "source": [
    "rootpath=os.path.expanduser('~/tmp/logs/pytorch')\n",
    "tags=['train/iou','val/iou']\n",
    "configs=[\n",
    "    {'filter_str':'hyperopt004',\n",
    "    'group_str':'norm_ways'},\n",
    "    {'filter_str':'hyperopt005',\n",
    "    'group_str':'l2_reg'},\n",
    "    {'filter_str':'hyperopt006',\n",
    "    'group_str':'l2_reg'},\n",
    "    {'filter_str':'hyperopt007',\n",
    "    'group_str':'norm_ways'},\n",
    "    {'filter_str':'hyperopt008',\n",
    "    'group_str':'norm_ways'},\n",
    "    {'filter_str':'hyperopt009',\n",
    "    'group_str':'norm_ways'},\n",
    "    {'filter_str':'hyperopt010',\n",
    "    'group_str':'norm_ways'},\n",
    "]\n",
    "\n",
    "pd_strs=[]\n",
    "for config in configs:\n",
    "    tasks=summary(rootpath,tags,config['filter_str'])\n",
    "    group_str=config['group_str']\n",
    "    group_tags=tags.copy()\n",
    "    group_tags.append(group_str)\n",
    "    max_str=tasks[group_tags].groupby([group_str]).max().to_string()\n",
    "    mean_str=tasks[group_tags].groupby([group_str]).mean().to_string()\n",
    "    \n",
    "    pd_strs.append((max_str,mean_str))"
   ]
  },
  {
   "cell_type": "code",
   "execution_count": 6,
   "metadata": {},
   "outputs": [
    {
     "name": "stdout",
     "output_type": "stream",
     "text": [
      "max hyperopt004 norm_ways ******************************\n",
      "            train/iou   val/iou\n",
      "norm_ways                      \n",
      "-1,1         0.737600  0.222334\n",
      "0,1          0.733858  0.206601\n",
      "caffe        0.737186  0.214802\n",
      "cityscapes   0.743215  0.231846\n",
      "pytorch      0.730023  0.208678\n",
      "mean hyperopt004 norm_ways ******************************\n",
      "            train/iou   val/iou\n",
      "norm_ways                      \n",
      "-1,1         0.731978  0.186179\n",
      "0,1          0.728715  0.189355\n",
      "caffe        0.711750  0.191525\n",
      "cityscapes   0.727899  0.200267\n",
      "pytorch      0.727013  0.187163\n",
      "max hyperopt005 l2_reg ******************************\n",
      "        train/iou   val/iou\n",
      "l2_reg                     \n",
      "0.0001   0.745121  0.221688\n",
      "0.001    0.725888  0.221025\n",
      "0.01     0.711914  0.220541\n",
      "0.1      0.533035  0.197450\n",
      "1e-05    0.738100  0.209281\n",
      "mean hyperopt005 l2_reg ******************************\n",
      "        train/iou   val/iou\n",
      "l2_reg                     \n",
      "0.0001   0.727874  0.191264\n",
      "0.001    0.721769  0.185075\n",
      "0.01     0.694604  0.194846\n",
      "0.1      0.516797  0.181090\n",
      "1e-05    0.729217  0.187572\n",
      "max hyperopt006 l2_reg ******************************\n",
      "        train/iou   val/iou\n",
      "l2_reg                     \n",
      "0.0001   0.797486  0.377943\n",
      "0.001    0.783965  0.381637\n",
      "0.01     0.658299  0.366019\n",
      "0.1      0.349307  0.254865\n",
      "1e-05    0.788434  0.378732\n",
      "mean hyperopt006 l2_reg ******************************\n",
      "        train/iou   val/iou\n",
      "l2_reg                     \n",
      "0.0001   0.785462  0.370618\n",
      "0.001    0.777588  0.374658\n",
      "0.01     0.651019  0.349297\n",
      "0.1      0.340829  0.241365\n",
      "1e-05    0.782067  0.373603\n",
      "max hyperopt007 norm_ways ******************************\n",
      "            train/iou   val/iou\n",
      "norm_ways                      \n",
      "-1,1         0.796653  0.377777\n",
      "0,1          0.797381  0.381825\n",
      "caffe        0.789363  0.379361\n",
      "cityscapes   0.793626  0.392324\n",
      "pytorch      0.792334  0.383774\n",
      "mean hyperopt007 norm_ways ******************************\n",
      "            train/iou   val/iou\n",
      "norm_ways                      \n",
      "-1,1         0.787498  0.364685\n",
      "0,1          0.783770  0.368864\n",
      "caffe        0.782131  0.371920\n",
      "cityscapes   0.785335  0.371775\n",
      "pytorch      0.782552  0.368613\n",
      "max hyperopt008 norm_ways ******************************\n",
      "            train/iou   val/iou\n",
      "norm_ways                      \n",
      "-1,1         0.734129  0.223043\n",
      "0,1          0.743829  0.209925\n",
      "caffe        0.740234  0.203969\n",
      "cityscapes   0.734632  0.216859\n",
      "pytorch      0.737144  0.216049\n",
      "mean hyperopt008 norm_ways ******************************\n",
      "            train/iou   val/iou\n",
      "norm_ways                      \n",
      "-1,1         0.725734  0.190831\n",
      "0,1          0.729589  0.193581\n",
      "caffe        0.731093  0.184074\n",
      "cityscapes   0.725789  0.199930\n",
      "pytorch      0.726876  0.189584\n",
      "max hyperopt009 norm_ways ******************************\n",
      "            train/iou   val/iou\n",
      "norm_ways                      \n",
      "-1,1         0.715410  0.204841\n",
      "0,1          0.716581  0.205622\n",
      "caffe        0.714231  0.202703\n",
      "cityscapes   0.718410  0.207391\n",
      "pytorch      0.719986  0.215195\n",
      "mean hyperopt009 norm_ways ******************************\n",
      "            train/iou   val/iou\n",
      "norm_ways                      \n",
      "-1,1         0.706099  0.187279\n",
      "0,1          0.709263  0.185067\n",
      "caffe        0.710132  0.183899\n",
      "cityscapes   0.706856  0.178887\n",
      "pytorch      0.706030  0.184660\n",
      "max hyperopt010 norm_ways ******************************\n",
      "            train/iou   val/iou\n",
      "norm_ways                      \n",
      "-1,1         0.676492  0.152615\n",
      "0,1          0.679592  0.154941\n",
      "caffe        0.684939  0.150943\n",
      "cityscapes   0.681049  0.126306\n",
      "pytorch      0.680471  0.150084\n",
      "mean hyperopt010 norm_ways ******************************\n",
      "            train/iou   val/iou\n",
      "norm_ways                      \n",
      "-1,1         0.656932  0.132506\n",
      "0,1          0.655741  0.137881\n",
      "caffe        0.662873  0.133385\n",
      "cityscapes   0.654435  0.121993\n",
      "pytorch      0.653812  0.130335\n"
     ]
    }
   ],
   "source": [
    "for d,(max_str,mean_str) in zip(configs,pd_strs):\n",
    "    print('max',d['filter_str'],d['group_str'],'*'*30)\n",
    "    print(max_str)\n",
    "    print('mean',d['filter_str'],d['group_str'],'*'*30)\n",
    "    print(mean_str)"
   ]
  },
  {
   "cell_type": "code",
   "execution_count": null,
   "metadata": {},
   "outputs": [],
   "source": []
  }
 ],
 "metadata": {
  "kernelspec": {
   "display_name": "Python [conda env:new]",
   "language": "python",
   "name": "conda-env-new-py"
  },
  "language_info": {
   "codemirror_mode": {
    "name": "ipython",
    "version": 3
   },
   "file_extension": ".py",
   "mimetype": "text/x-python",
   "name": "python",
   "nbconvert_exporter": "python",
   "pygments_lexer": "ipython3",
   "version": "3.6.5"
  },
  "nbpresent": {
   "slides": {},
   "themes": {
    "default": "fc255d06-66c6-4a6b-a8c4-42a6f20eb29b",
    "theme": {
     "738f3cfd-9013-49aa-939c-a1216d389da2": {
      "backgrounds": {
       "dc7afa04-bf90-40b1-82a5-726e3cff5267": {
        "background-color": "31af15d2-7e15-44c5-ab5e-e04b16a89eff",
        "id": "dc7afa04-bf90-40b1-82a5-726e3cff5267"
       }
      },
      "id": "738f3cfd-9013-49aa-939c-a1216d389da2",
      "palette": {
       "19cc588f-0593-49c9-9f4b-e4d7cc113b1c": {
        "id": "19cc588f-0593-49c9-9f4b-e4d7cc113b1c",
        "rgb": [
         252,
         252,
         252
        ]
       },
       "31af15d2-7e15-44c5-ab5e-e04b16a89eff": {
        "id": "31af15d2-7e15-44c5-ab5e-e04b16a89eff",
        "rgb": [
         68,
         68,
         68
        ]
       },
       "50f92c45-a630-455b-aec3-788680ec7410": {
        "id": "50f92c45-a630-455b-aec3-788680ec7410",
        "rgb": [
         197,
         226,
         245
        ]
       },
       "c5cc3653-2ee1-402a-aba2-7caae1da4f6c": {
        "id": "c5cc3653-2ee1-402a-aba2-7caae1da4f6c",
        "rgb": [
         43,
         126,
         184
        ]
       },
       "efa7f048-9acb-414c-8b04-a26811511a21": {
        "id": "efa7f048-9acb-414c-8b04-a26811511a21",
        "rgb": [
         25.118061674008803,
         73.60176211453744,
         107.4819383259912
        ]
       }
      },
      "rules": {
       "a": {
        "color": "19cc588f-0593-49c9-9f4b-e4d7cc113b1c"
       },
       "blockquote": {
        "color": "50f92c45-a630-455b-aec3-788680ec7410",
        "font-size": 3
       },
       "code": {
        "font-family": "Anonymous Pro"
       },
       "h1": {
        "color": "19cc588f-0593-49c9-9f4b-e4d7cc113b1c",
        "font-family": "Merriweather",
        "font-size": 8
       },
       "h2": {
        "color": "19cc588f-0593-49c9-9f4b-e4d7cc113b1c",
        "font-family": "Merriweather",
        "font-size": 6
       },
       "h3": {
        "color": "50f92c45-a630-455b-aec3-788680ec7410",
        "font-family": "Lato",
        "font-size": 5.5
       },
       "h4": {
        "color": "c5cc3653-2ee1-402a-aba2-7caae1da4f6c",
        "font-family": "Lato",
        "font-size": 5
       },
       "h5": {
        "font-family": "Lato"
       },
       "h6": {
        "font-family": "Lato"
       },
       "h7": {
        "font-family": "Lato"
       },
       "li": {
        "color": "50f92c45-a630-455b-aec3-788680ec7410",
        "font-size": 3.25
       },
       "pre": {
        "font-family": "Anonymous Pro",
        "font-size": 4
       }
      },
      "text-base": {
       "color": "19cc588f-0593-49c9-9f4b-e4d7cc113b1c",
       "font-family": "Lato",
       "font-size": 4
      }
     },
     "fc255d06-66c6-4a6b-a8c4-42a6f20eb29b": {
      "backgrounds": {
       "backgroundColor": {
        "background-color": "backgroundColor",
        "id": "backgroundColor"
       }
      },
      "id": "fc255d06-66c6-4a6b-a8c4-42a6f20eb29b",
      "palette": {
       "backgroundColor": {
        "id": "backgroundColor",
        "rgb": [
         34,
         34,
         34
        ]
       },
       "headingColor": {
        "id": "headingColor",
        "rgb": [
         256,
         256,
         256
        ]
       },
       "linkColor": {
        "id": "linkColor",
        "rgb": [
         66,
         175,
         250
        ]
       },
       "mainColor": {
        "id": "mainColor",
        "rgb": [
         256,
         256,
         256
        ]
       }
      },
      "rules": {
       "a": {
        "color": "linkColor"
       },
       "h1": {
        "color": "headingColor",
        "font-family": "Source Sans Pro",
        "font-size": 5.25
       },
       "h2": {
        "color": "headingColor",
        "font-family": "Source Sans Pro",
        "font-size": 4
       },
       "h3": {
        "color": "headingColor",
        "font-family": "Source Sans Pro",
        "font-size": 3.5
       },
       "h4": {
        "color": "headingColor",
        "font-family": "Source Sans Pro",
        "font-size": 3
       },
       "h5": {
        "color": "headingColor",
        "font-family": "Source Sans Pro"
       },
       "h6": {
        "color": "headingColor",
        "font-family": "Source Sans Pro"
       },
       "h7": {
        "color": "headingColor",
        "font-family": "Source Sans Pro"
       },
       "li": {
        "color": "mainColor",
        "font-family": "Source Sans Pro",
        "font-size": 6
       },
       "p": {
        "color": "mainColor",
        "font-family": "Source Sans Pro",
        "font-size": 6
       }
      },
      "text-base": {
       "color": "mainColor",
       "font-family": "Source Sans Pro",
       "font-size": 6
      }
     }
    }
   }
  }
 },
 "nbformat": 4,
 "nbformat_minor": 2
}
