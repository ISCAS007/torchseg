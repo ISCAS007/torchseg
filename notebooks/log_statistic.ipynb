{
 "cells": [
  {
   "cell_type": "code",
   "execution_count": 19,
   "metadata": {},
   "outputs": [
    {
     "name": "stderr",
     "output_type": "stream",
     "text": [
      "/home/yzbx/bin/miniconda3/envs/new/lib/python3.6/site-packages/h5py/__init__.py:36: FutureWarning: Conversion of the second argument of issubdtype from `float` to `np.floating` is deprecated. In future, it will be treated as `np.float64 == np.dtype(float).type`.\n",
      "  from ._conv import register_converters as _register_converters\n"
     ]
    },
    {
     "name": "stdout",
     "output_type": "stream",
     "text": [
      "['/home/yzbx/git/torchseg', '', '/home/yzbx/git/torchseg/notebooks', '/home/yzbx/git/gnu/models/research', '/home/yzbx/git/gnu/models/research/slim', '/home/yzbx/bin/miniconda3/envs/new/lib/python36.zip', '/home/yzbx/bin/miniconda3/envs/new/lib/python3.6', '/home/yzbx/bin/miniconda3/envs/new/lib/python3.6/lib-dynload', '/home/yzbx/bin/miniconda3/envs/new/lib/python3.6/site-packages', '/home/yzbx/bin/miniconda3/envs/new/lib/python3.6/site-packages/cityscapesscripts-1.0.0-py3.6-linux-x86_64.egg', '/home/yzbx/bin/miniconda3/envs/new/lib/python3.6/site-packages/torchvision-0.2.1-py3.6.egg', '/home/yzbx/bin/miniconda3/envs/new/lib/python3.6/site-packages/IPython/extensions', '/home/yzbx/.ipython']\n"
     ]
    }
   ],
   "source": [
    "import pandas as pd\n",
    "import tensorflow as tf\n",
    "from glob import glob\n",
    "import numpy as np\n",
    "from easydict import EasyDict as edict\n",
    "import os\n",
    "import time\n",
    "import sys\n",
    "\n",
    "sys.path.insert(0,os.path.expanduser('~/git/torchseg'))\n",
    "print(sys.path)\n",
    "\n",
    "from utils.config import load_config\n",
    "from utils.summary_to_csv import config_to_log,load_log,edict_to_pandas\n",
    "\n",
    "def summary(rootpath,tags,filter_str=None,):\n",
    "    config_files=glob(os.path.join(rootpath,'**','config.txt'),recursive=True)\n",
    "    if filter_str is not None:\n",
    "        config_files=[f for f in config_files if f.find(filter_str)>=0]\n",
    "    \n",
    "    tasks=pd.DataFrame()\n",
    "    for cfg in config_files:\n",
    "        log=config_to_log(cfg)\n",
    "        if log is not None:\n",
    "            ed=load_config(cfg)\n",
    "            metrics=load_log(log,tags)\n",
    "            for key,value in metrics.items():\n",
    "                ed[key]=value\n",
    "                \n",
    "            task=edict_to_pandas(ed)\n",
    "            tasks=tasks.append(task,ignore_index=True,sort=False)\n",
    "        else:\n",
    "            print('cannot find log file for',cfg)\n",
    "            \n",
    "    return tasks\n",
    "\n",
    "rootpath=os.path.expanduser('~/tmp/logs/pytorch')\n",
    "tags=['train/iou','val/iou']"
   ]
  },
  {
   "cell_type": "code",
   "execution_count": 11,
   "metadata": {},
   "outputs": [
    {
     "name": "stdout",
     "output_type": "stream",
     "text": [
      "   train/iou   val/iou        note\n",
      "0   0.459440  0.403973       caffe\n",
      "1   0.460660  0.405963     pytorch\n",
      "2   0.463188  0.416964  cityscapes\n",
      "3   0.460112  0.400258        -1,1\n",
      "4   0.460654  0.401508         0,1\n"
     ]
    }
   ],
   "source": [
    "rootpath=os.path.expanduser('~/tmp/logs/pytorch')\n",
    "tags=['train/iou','val/iou']\n",
    "filters=['caffe','pytorch','cityscapes','-1,1','0,1']\n",
    "\n",
    "group_str='note'\n",
    "group_tags=tags.copy()\n",
    "group_tags.append(group_str)\n",
    "    \n",
    "tasks=summary(rootpath,tags)\n",
    "filter_tasks=pd.DataFrame()\n",
    "for filter_str in filters:\n",
    "    filter_tasks=filter_tasks.append(tasks[tasks[group_str]==filter_str][group_tags],ignore_index=True,sort=False)\n",
    "\n",
    "print(filter_tasks.to_string())"
   ]
  },
  {
   "cell_type": "code",
   "execution_count": 45,
   "metadata": {},
   "outputs": [],
   "source": [
    "rootpath=os.path.expanduser('~/tmp/logs/pytorch')\n",
    "tags=['train/iou','val/iou']\n",
    "configs=[\n",
    "    {'filter_str':'hyperopt004',\n",
    "    'group_str':'norm_ways'},\n",
    "    {'filter_str':'hyperopt005',\n",
    "    'group_str':'l2_reg'},\n",
    "    {'filter_str':'hyperopt006',\n",
    "    'group_str':'l2_reg'},\n",
    "    {'filter_str':'hyperopt007',\n",
    "    'group_str':'norm_ways'},\n",
    "    {'filter_str':'hyperopt008',\n",
    "    'group_str':'norm_ways'},\n",
    "    {'filter_str':'hyperopt009',\n",
    "    'group_str':'norm_ways'},\n",
    "    {'filter_str':'hyperopt010',\n",
    "    'group_str':'norm_ways'},\n",
    "]\n",
    "\n",
    "pd_strs=[]\n",
    "for config in configs:\n",
    "    tasks=summary(rootpath,tags,config['filter_str'])\n",
    "    group_str=config['group_str']\n",
    "    group_tags=tags.copy()\n",
    "    group_tags.append(group_str)\n",
    "    max_str=tasks[group_tags].groupby([group_str]).max().to_string()\n",
    "    mean_str=tasks[group_tags].groupby([group_str]).mean().to_string()\n",
    "    \n",
    "    pd_strs.append((max_str,mean_str))"
   ]
  },
  {
   "cell_type": "code",
   "execution_count": 6,
   "metadata": {},
   "outputs": [
    {
     "name": "stdout",
     "output_type": "stream",
     "text": [
      "max hyperopt004 norm_ways ******************************\n",
      "            train/iou   val/iou\n",
      "norm_ways                      \n",
      "-1,1         0.737600  0.222334\n",
      "0,1          0.733858  0.206601\n",
      "caffe        0.737186  0.214802\n",
      "cityscapes   0.743215  0.231846\n",
      "pytorch      0.730023  0.208678\n",
      "mean hyperopt004 norm_ways ******************************\n",
      "            train/iou   val/iou\n",
      "norm_ways                      \n",
      "-1,1         0.731978  0.186179\n",
      "0,1          0.728715  0.189355\n",
      "caffe        0.711750  0.191525\n",
      "cityscapes   0.727899  0.200267\n",
      "pytorch      0.727013  0.187163\n",
      "max hyperopt005 l2_reg ******************************\n",
      "        train/iou   val/iou\n",
      "l2_reg                     \n",
      "0.0001   0.745121  0.221688\n",
      "0.001    0.725888  0.221025\n",
      "0.01     0.711914  0.220541\n",
      "0.1      0.533035  0.197450\n",
      "1e-05    0.738100  0.209281\n",
      "mean hyperopt005 l2_reg ******************************\n",
      "        train/iou   val/iou\n",
      "l2_reg                     \n",
      "0.0001   0.727874  0.191264\n",
      "0.001    0.721769  0.185075\n",
      "0.01     0.694604  0.194846\n",
      "0.1      0.516797  0.181090\n",
      "1e-05    0.729217  0.187572\n",
      "max hyperopt006 l2_reg ******************************\n",
      "        train/iou   val/iou\n",
      "l2_reg                     \n",
      "0.0001   0.797486  0.377943\n",
      "0.001    0.783965  0.381637\n",
      "0.01     0.658299  0.366019\n",
      "0.1      0.349307  0.254865\n",
      "1e-05    0.788434  0.378732\n",
      "mean hyperopt006 l2_reg ******************************\n",
      "        train/iou   val/iou\n",
      "l2_reg                     \n",
      "0.0001   0.785462  0.370618\n",
      "0.001    0.777588  0.374658\n",
      "0.01     0.651019  0.349297\n",
      "0.1      0.340829  0.241365\n",
      "1e-05    0.782067  0.373603\n",
      "max hyperopt007 norm_ways ******************************\n",
      "            train/iou   val/iou\n",
      "norm_ways                      \n",
      "-1,1         0.796653  0.377777\n",
      "0,1          0.797381  0.381825\n",
      "caffe        0.789363  0.379361\n",
      "cityscapes   0.793626  0.392324\n",
      "pytorch      0.792334  0.383774\n",
      "mean hyperopt007 norm_ways ******************************\n",
      "            train/iou   val/iou\n",
      "norm_ways                      \n",
      "-1,1         0.787498  0.364685\n",
      "0,1          0.783770  0.368864\n",
      "caffe        0.782131  0.371920\n",
      "cityscapes   0.785335  0.371775\n",
      "pytorch      0.782552  0.368613\n",
      "max hyperopt008 norm_ways ******************************\n",
      "            train/iou   val/iou\n",
      "norm_ways                      \n",
      "-1,1         0.734129  0.223043\n",
      "0,1          0.743829  0.209925\n",
      "caffe        0.740234  0.203969\n",
      "cityscapes   0.734632  0.216859\n",
      "pytorch      0.737144  0.216049\n",
      "mean hyperopt008 norm_ways ******************************\n",
      "            train/iou   val/iou\n",
      "norm_ways                      \n",
      "-1,1         0.725734  0.190831\n",
      "0,1          0.729589  0.193581\n",
      "caffe        0.731093  0.184074\n",
      "cityscapes   0.725789  0.199930\n",
      "pytorch      0.726876  0.189584\n",
      "max hyperopt009 norm_ways ******************************\n",
      "            train/iou   val/iou\n",
      "norm_ways                      \n",
      "-1,1         0.715410  0.204841\n",
      "0,1          0.716581  0.205622\n",
      "caffe        0.714231  0.202703\n",
      "cityscapes   0.718410  0.207391\n",
      "pytorch      0.719986  0.215195\n",
      "mean hyperopt009 norm_ways ******************************\n",
      "            train/iou   val/iou\n",
      "norm_ways                      \n",
      "-1,1         0.706099  0.187279\n",
      "0,1          0.709263  0.185067\n",
      "caffe        0.710132  0.183899\n",
      "cityscapes   0.706856  0.178887\n",
      "pytorch      0.706030  0.184660\n",
      "max hyperopt010 norm_ways ******************************\n",
      "            train/iou   val/iou\n",
      "norm_ways                      \n",
      "-1,1         0.676492  0.152615\n",
      "0,1          0.679592  0.154941\n",
      "caffe        0.684939  0.150943\n",
      "cityscapes   0.681049  0.126306\n",
      "pytorch      0.680471  0.150084\n",
      "mean hyperopt010 norm_ways ******************************\n",
      "            train/iou   val/iou\n",
      "norm_ways                      \n",
      "-1,1         0.656932  0.132506\n",
      "0,1          0.655741  0.137881\n",
      "caffe        0.662873  0.133385\n",
      "cityscapes   0.654435  0.121993\n",
      "pytorch      0.653812  0.130335\n"
     ]
    }
   ],
   "source": [
    "for d,(max_str,mean_str) in zip(configs,pd_strs):\n",
    "    print('max',d['filter_str'],d['group_str'],'*'*30)\n",
    "    print(max_str)\n",
    "    print('mean',d['filter_str'],d['group_str'],'*'*30)\n",
    "    print(mean_str)"
   ]
  },
  {
   "cell_type": "code",
   "execution_count": 53,
   "metadata": {},
   "outputs": [
    {
     "name": "stdout",
     "output_type": "stream",
     "text": [
      "   train/iou   val/iou        note\n",
      "0    0.73829  0.526092  wo_lr_mult\n",
      "   train/iou   val/iou       note\n",
      "0   0.718299  0.532547  w_lr_mult\n",
      "   train/iou   val/iou           note\n",
      "0   0.788829  0.529173  nw_cityscapes\n"
     ]
    }
   ],
   "source": [
    "notes=['wo_lr_mult','w_lr_mult','nw_cityscapes']\n",
    "rootpath=os.path.expanduser('~/tmp/logs/pytorch')\n",
    "tags=['train/iou','val/iou']\n",
    "\n",
    "show_tags=tags.copy()\n",
    "show_tags.append('note')\n",
    "for note in notes:\n",
    "    tasks=summary(rootpath,tags,note)\n",
    "    print(tasks[show_tags].to_string())\n",
    "    \n"
   ]
  },
  {
   "cell_type": "code",
   "execution_count": null,
   "metadata": {},
   "outputs": [],
   "source": [
    "notes=['cityscapes/cityscapes']\n",
    "show_tags=tags.copy()\n",
    "show_tags.append('note')\n",
    "show_tags.append('learning_rate')\n",
    "for note in notes:\n",
    "    tasks=summary(rootpath,tags,note)\n",
    "    print(tasks[show_tags].sort_values('val/iou').to_string())\n"
   ]
  },
  {
   "cell_type": "code",
   "execution_count": null,
   "metadata": {},
   "outputs": [],
   "source": [
    "notes=['hyperopt011']\n",
    "show_tags=tags.copy()\n",
    "show_tags.append('note')\n",
    "show_tags.append('use_lr_mult')\n",
    "for note in notes:\n",
    "    tasks=summary(rootpath,tags,note)\n",
    "    print(tasks[show_tags].sort_values('val/iou').to_string())"
   ]
  },
  {
   "cell_type": "code",
   "execution_count": 74,
   "metadata": {
    "scrolled": true
   },
   "outputs": [
    {
     "name": "stdout",
     "output_type": "stream",
     "text": [
      "    train/iou   val/iou         note       l1_reg       l2_reg  learning_rate\n",
      "42   0.330699  0.246900  hyperopt012  1.20756e-05  5.19419e-05      39.978041\n",
      "39   0.309704  0.254502  hyperopt012  3.12072e-05  3.44768e-06      49.488407\n",
      "11   0.419695  0.267556  hyperopt012  2.97143e-06  0.000673939      19.785350\n",
      "16   0.357555  0.273255  hyperopt012  2.65235e-07  7.84155e-06      32.902678\n",
      "18   0.394275  0.297194  hyperopt012  2.12853e-05  1.41089e-05      27.622648\n",
      "33   0.538827  0.309125  hyperopt012  0.000238267   0.00027026      15.335193\n",
      "37   0.695417  0.348852  hyperopt012  0.000177286  8.31589e-06       9.022569\n",
      "24   0.733858  0.349068  hyperopt012  0.000994241  1.06206e-07       7.908760\n",
      "47   0.733766  0.351638  hyperopt012  0.000220961  2.23658e-06       6.103369\n",
      "5    0.755240  0.357506  hyperopt012  2.90612e-07  0.000935574       3.792917\n",
      "31   0.792348  0.362193  hyperopt012        0.001  1.22799e-05       1.000000\n",
      "13   0.753151  0.362380  hyperopt012  1.11975e-07  0.000983984       1.827985\n",
      "41   0.786223  0.362409  hyperopt012   0.00089585  8.05343e-06       1.551195\n",
      "29   0.760846  0.363258  hyperopt012  0.000393365        1e-07       4.239918\n",
      "43   0.802963  0.363404  hyperopt012  1.46997e-07  7.48749e-06       1.592936\n",
      "12   0.778904  0.363430  hyperopt012  1.68598e-07  1.23204e-06       3.936128\n",
      "28   0.779419  0.364164  hyperopt012  9.94583e-05  1.01343e-07       3.276611\n",
      "10   0.785491  0.364684  hyperopt012  1.30334e-07  1.34681e-05       1.004360\n",
      "1    0.801764  0.364726  hyperopt012        0.001        1e-07       1.674579\n",
      "40   0.761850  0.365630  hyperopt012  0.000575536  0.000958384       2.647493\n",
      "0    0.778303  0.369723  hyperopt012        1e-07        1e-07       1.000000\n",
      "49   0.777692  0.370570  hyperopt012  1.46324e-07  0.000935528       1.013013\n",
      "19   0.781962  0.370947  hyperopt012  1.62734e-06  1.00775e-07       1.018106\n",
      "15   0.761492  0.371246  hyperopt012  0.000803591        0.001       2.167340\n",
      "38   0.787012  0.371252  hyperopt012        0.001        1e-07       1.000000\n",
      "14   0.770455  0.371632  hyperopt012   0.00023959  0.000865142       1.016730\n",
      "26   0.780563  0.372621  hyperopt012        0.001        1e-07       1.000000\n",
      "9    0.805527  0.372948  hyperopt012  6.72401e-07  1.05768e-07       2.335814\n",
      "22   0.797232  0.373183  hyperopt012  1.54164e-07  1.02631e-07       2.109445\n",
      "36   0.777954  0.373629  hyperopt012  4.33927e-05  0.000904399       1.004532\n",
      "46   0.791971  0.374922  hyperopt012  0.000302238   7.8421e-06       1.908541\n",
      "30   0.765227  0.375311  hyperopt012        1e-07        0.001       1.000000\n",
      "45   0.778143  0.375357  hyperopt012  5.59515e-06  0.000942209       1.022139\n",
      "25   0.752739  0.376387  hyperopt012  0.000924166  0.000969766       2.472743\n",
      "27   0.784970  0.376633  hyperopt012  0.000218578  0.000955656       1.003155\n",
      "17   0.799290  0.377605  hyperopt012        0.001        1e-07       2.105022\n",
      "44   0.780406  0.378942  hyperopt012        0.001        0.001       1.000000\n",
      "34   0.778105  0.378969  hyperopt012  2.48093e-06  0.000787158       1.003899\n",
      "2    0.792507  0.379150  hyperopt012  0.000130612  1.01029e-07       1.910926\n",
      "23   0.785932  0.380095  hyperopt012        0.001        1e-07       1.000000\n",
      "7    0.784202  0.380225  hyperopt012  1.15614e-07        1e-07       1.000000\n",
      "3    0.799673  0.380921  hyperopt012        1e-07        1e-07       2.233222\n",
      "32   0.780359  0.381205  hyperopt012  2.36643e-07    0.0009736       1.012365\n",
      "48   0.780334  0.382831  hyperopt012        1e-07  1.14353e-05       1.000000\n",
      "20   0.783472  0.382921  hyperopt012        0.001        1e-07       1.000000\n",
      "21   0.782420  0.383049  hyperopt012        0.001        1e-07       1.000000\n",
      "4    0.793816  0.383942  hyperopt012        0.001  1.37172e-05       1.000000\n",
      "8    0.793777  0.384268  hyperopt012   4.5157e-07  1.17026e-07       1.001952\n",
      "6    0.786611  0.384560  hyperopt012        0.001        1e-07       1.000000\n",
      "35   0.784682  0.385403  hyperopt012        0.001  1.11085e-05       1.000000\n",
      "    train/iou   val/iou         note       l1_reg       l2_reg  learning_rate\n",
      "32   0.302732  0.253993  hyperopt013  3.12072e-05  3.44768e-06      49.488407\n",
      "16   0.325483  0.260770  hyperopt013  1.20756e-05  5.19419e-05      39.978041\n",
      "41   0.370776  0.294552  hyperopt013  2.12853e-05  1.41089e-05      27.622648\n",
      "10   0.352339  0.301990  hyperopt013  2.65235e-07  7.84155e-06      32.902678\n",
      "23   0.393495  0.333704  hyperopt013  2.97143e-06  0.000673939      19.785350\n",
      "15   0.508707  0.343164  hyperopt013  0.000238267   0.00027026      15.335193\n",
      "43   0.666636  0.385745  hyperopt013  0.000177286  8.31589e-06       9.022569\n",
      "4    0.739569  0.398805  hyperopt013  0.000220961  2.23658e-06       6.103369\n",
      "38   0.715220  0.401254  hyperopt013   1.0586e-07  1.42221e-07       7.534755\n",
      "37   0.769597  0.413027  hyperopt013  1.48043e-07  0.000943543       3.327895\n",
      "45   0.796475  0.418749  hyperopt013  1.68598e-07  1.23204e-06       3.936128\n",
      "40   0.815788  0.420533  hyperopt013   0.00097425  1.58648e-07       2.808254\n",
      "19   0.810925  0.422626  hyperopt013  1.30848e-07  0.000928579       1.025264\n",
      "5    0.823737  0.424433  hyperopt013  1.31385e-07  1.51759e-07       1.972624\n",
      "24   0.801117  0.425669  hyperopt013  0.000960593  1.66292e-07       2.992403\n",
      "13   0.800213  0.426330  hyperopt013  5.68766e-07   0.00098792       1.012823\n",
      "27   0.812815  0.426868  hyperopt013  1.00263e-07  0.000743163       1.561752\n",
      "8    0.809767  0.431317  hyperopt013  1.13177e-07  0.000363672       1.006154\n",
      "25   0.817308  0.431813  hyperopt013  0.000891571  0.000652886       1.442016\n",
      "47   0.820552  0.431866  hyperopt013  1.89677e-05   1.0282e-07       1.313724\n",
      "12   0.819648  0.432454  hyperopt013  1.63585e-07  1.08681e-07       1.437094\n",
      "48   0.809693  0.433318  hyperopt013  1.34057e-05   0.00092859       1.015681\n",
      "14   0.808585  0.435728  hyperopt013        0.001        0.001       1.000000\n",
      "44   0.815238  0.436184  hyperopt013  0.000492331  0.000650626       1.823089\n",
      "35   0.821490  0.436671  hyperopt013  0.000302238   7.8421e-06       1.908541\n",
      "36   0.823347  0.437272  hyperopt013  1.13228e-07  1.29467e-07       1.722233\n",
      "1    0.815297  0.437999  hyperopt013        1e-07        1e-07       1.000000\n",
      "20   0.806480  0.438456  hyperopt013  0.000961396  0.000852259       1.015561\n",
      "46   0.811268  0.439006  hyperopt013        1e-07        1e-07       1.000000\n",
      "2    0.806589  0.439524  hyperopt013        0.001        1e-07       1.000000\n",
      "21   0.820846  0.439534  hyperopt013  0.000707614  1.00508e-07       1.594139\n",
      "39   0.825185  0.439668  hyperopt013  1.36742e-07  1.04568e-07       1.586572\n",
      "11   0.807088  0.440567  hyperopt013  1.05178e-07  1.08942e-07       1.012770\n",
      "34   0.810899  0.440673  hyperopt013        0.001        1e-07       1.000000\n",
      "26   0.813315  0.441511  hyperopt013  0.000530348    5.352e-06       1.000491\n",
      "7    0.815340  0.441788  hyperopt013  1.19774e-07  1.28927e-07       1.020808\n",
      "9    0.804187  0.442197  hyperopt013        0.001        1e-07       1.000000\n",
      "49   0.806453  0.442333  hyperopt013        0.001        1e-07       1.000000\n",
      "31   0.821967  0.443971  hyperopt013  0.000506164   1.0951e-07       1.754176\n",
      "28   0.809781  0.444017  hyperopt013        0.001        1e-07       1.000000\n",
      "22   0.798189  0.444396  hyperopt013  1.46324e-07  0.000935528       1.013013\n",
      "3    0.812341  0.444853  hyperopt013        1e-07        1e-07       1.000000\n",
      "33   0.814213  0.446117  hyperopt013    1.396e-05  1.34724e-07       1.054220\n",
      "29   0.810424  0.446843  hyperopt013        0.001        1e-07       1.000000\n",
      "17   0.803408  0.446871  hyperopt013  0.000766685  2.83924e-07       1.004644\n",
      "18   0.806705  0.447206  hyperopt013  0.000820403  1.07813e-07       1.006030\n",
      "30   0.815089  0.448159  hyperopt013  1.12115e-05        1e-07       1.000000\n",
      "42   0.806605  0.450803  hyperopt013        1e-07        0.001       1.000000\n",
      "0    0.812492  0.451280  hyperopt013  1.04673e-07  1.32046e-07       1.003466\n",
      "6    0.812712  0.454330  hyperopt013  0.000226119  1.15701e-07       1.004154\n"
     ]
    }
   ],
   "source": [
    "notes=['hyperopt012','hyperopt013']\n",
    "show_tags=[]\n",
    "show_tags=tags.copy()\n",
    "show_tags.append('note')\n",
    "show_tags.append('l1_reg')\n",
    "show_tags.append('l2_reg')\n",
    "show_tags.append('learning_rate')\n",
    "for note in notes:\n",
    "    tasks=summary(rootpath,tags,note)\n",
    "    tasks['learning_rate']=tasks['learning_rate']*float(10**4)\n",
    "    print(tasks[show_tags].sort_values('val/iou').to_string())"
   ]
  },
  {
   "cell_type": "code",
   "execution_count": 71,
   "metadata": {},
   "outputs": [
    {
     "name": "stdout",
     "output_type": "stream",
     "text": [
      "                              train/iou   val/iou\n",
      "dataset_use_part note                            \n",
      "0                hyperopt      0.467577  0.402875\n",
      "1                hyperopt002   0.800826  0.228747\n",
      "                 hyperopt004   0.743215  0.231846\n",
      "                 hyperopt005   0.745121  0.221688\n",
      "32               hyperopt008   0.743829  0.223043\n",
      "                 hyperopt009   0.719986  0.215195\n",
      "                 hyperopt010   0.684939  0.154941\n",
      "                 hyperopt011   0.748290  0.215824\n",
      "320              hyperopt006   0.797486  0.381637\n",
      "                 hyperopt007   0.797381  0.392324\n",
      "                 hyperopt012   0.805527  0.385403\n",
      "                 hyperopt014   0.811780  0.386256\n",
      "640              hyperopt013   0.825185  0.454330\n"
     ]
    }
   ],
   "source": [
    "notes=['hyperopt']\n",
    "show_tags=[]\n",
    "show_tags=tags.copy()\n",
    "show_tags.append('note')\n",
    "show_tags.append('dataset_use_part')\n",
    "for note in notes:\n",
    "    tasks=summary(rootpath,tags,note)\n",
    "    print(tasks[show_tags].groupby(['dataset_use_part','note']).max().to_string())"
   ]
  },
  {
   "cell_type": "code",
   "execution_count": 69,
   "metadata": {
    "scrolled": true
   },
   "outputs": [
    {
     "name": "stdout",
     "output_type": "stream",
     "text": [
      "| note                 |   train/iou |   val/iou |   n_epoch |\n",
      "|:---------------------|------------:|----------:|----------:|\n",
      "| bn2_sgd200_nwcaffe   |    0.847756 |  0.55307  |       200 |\n",
      "| bn2_sgd200_nwcity    |    0.842374 |  0.544636 |       200 |\n",
      "| bn2_sgd200_nwpytorch |    0.822187 |  0.523619 |       200 |\n",
      "|    |   train/iou |   val/iou | note                 |   n_epoch |\n",
      "|---:|------------:|----------:|:---------------------|----------:|\n",
      "|  0 |    0.822187 |  0.523619 | bn2_sgd200_nwpytorch |       200 |\n",
      "|  1 |    0.842374 |  0.544636 | bn2_sgd200_nwcity    |       200 |\n",
      "|  2 |    0.847756 |  0.55307  | bn2_sgd200_nwcaffe   |       200 |\n",
      "| note            |   train/iou |   val/iou |   n_epoch |\n",
      "|:----------------|------------:|----------:|----------:|\n",
      "| bn12_nw_caffe   |    0.663704 |  0.516348 |        30 |\n",
      "| bn12_nw_pytorch |    0.660641 |  0.524681 |        30 |\n",
      "|    |   train/iou |   val/iou | note            |   n_epoch |\n",
      "|---:|------------:|----------:|:----------------|----------:|\n",
      "|  3 |    0.659751 |  0.489004 | bn12_nw_pytorch |        30 |\n",
      "|  1 |    0.662099 |  0.492727 | bn12_nw_caffe   |        30 |\n",
      "|  5 |    0.657091 |  0.493804 | bn12_nw_pytorch |        30 |\n",
      "|  2 |    0.661716 |  0.50363  | bn12_nw_caffe   |        30 |\n",
      "|  0 |    0.663704 |  0.516348 | bn12_nw_caffe   |        30 |\n",
      "|  4 |    0.660641 |  0.524681 | bn12_nw_pytorch |        30 |\n",
      "| note             |   train/iou |   val/iou |   n_epoch |\n",
      "|:-----------------|------------:|----------:|----------:|\n",
      "| bn2_wo_batchnorm |    0.750111 |  0.527493 |       100 |\n",
      "| bn4_wo_batchnorm |    0.772401 |  0.521195 |       100 |\n",
      "| bs2_wo_bn_city   |    0.752197 |  0.523592 |       100 |\n",
      "|    |   train/iou |   val/iou | note             |   n_epoch |\n",
      "|---:|------------:|----------:|:-----------------|----------:|\n",
      "|  1 |    0.772401 |  0.521195 | bn4_wo_batchnorm |       100 |\n",
      "|  2 |    0.752197 |  0.523592 | bs2_wo_bn_city   |       100 |\n",
      "|  0 |    0.750111 |  0.527493 | bn2_wo_batchnorm |       100 |\n",
      "| note        |   train/iou |   val/iou |   n_epoch |\n",
      "|:------------|------------:|----------:|----------:|\n",
      "| hyperopt014 |     0.81178 |  0.386256 |       100 |\n",
      "|    |   train/iou |   val/iou | note        |   n_epoch |\n",
      "|---:|------------:|----------:|:------------|----------:|\n",
      "|  6 |    0.732704 |  0.310706 | hyperopt014 |       100 |\n",
      "|  0 |    0.67292  |  0.312546 | hyperopt014 |       100 |\n",
      "| 34 |    0.730112 |  0.31484  | hyperopt014 |       100 |\n",
      "|  5 |    0.729856 |  0.324675 | hyperopt014 |       100 |\n",
      "| 11 |    0.736022 |  0.326508 | hyperopt014 |       100 |\n",
      "| 33 |    0.747475 |  0.327545 | hyperopt014 |       100 |\n",
      "| 49 |    0.688488 |  0.331308 | hyperopt014 |       100 |\n",
      "|  4 |    0.743171 |  0.333374 | hyperopt014 |       100 |\n",
      "|  2 |    0.747299 |  0.337404 | hyperopt014 |       100 |\n",
      "| 23 |    0.753189 |  0.340169 | hyperopt014 |       100 |\n",
      "|  7 |    0.730472 |  0.340416 | hyperopt014 |       100 |\n",
      "|  8 |    0.694236 |  0.343163 | hyperopt014 |       100 |\n",
      "| 30 |    0.663999 |  0.343455 | hyperopt014 |       100 |\n",
      "| 17 |    0.692847 |  0.344539 | hyperopt014 |       100 |\n",
      "| 10 |    0.762288 |  0.345951 | hyperopt014 |       100 |\n",
      "| 18 |    0.702388 |  0.348859 | hyperopt014 |       100 |\n",
      "| 26 |    0.67754  |  0.351366 | hyperopt014 |       100 |\n",
      "| 24 |    0.692754 |  0.3526   | hyperopt014 |       100 |\n",
      "| 39 |    0.759189 |  0.354151 | hyperopt014 |       100 |\n",
      "| 19 |    0.766097 |  0.354477 | hyperopt014 |       100 |\n",
      "| 35 |    0.757057 |  0.355328 | hyperopt014 |       100 |\n",
      "| 29 |    0.794435 |  0.35696  | hyperopt014 |       100 |\n",
      "| 15 |    0.785403 |  0.357194 | hyperopt014 |       100 |\n",
      "| 13 |    0.677294 |  0.358228 | hyperopt014 |       100 |\n",
      "| 37 |    0.749712 |  0.358767 | hyperopt014 |       100 |\n",
      "| 47 |    0.758255 |  0.360731 | hyperopt014 |       100 |\n",
      "| 32 |    0.764002 |  0.361266 | hyperopt014 |       100 |\n",
      "| 27 |    0.779138 |  0.361284 | hyperopt014 |       100 |\n",
      "| 21 |    0.75046  |  0.3613   | hyperopt014 |       100 |\n",
      "| 31 |    0.765725 |  0.3626   | hyperopt014 |       100 |\n",
      "| 12 |    0.790835 |  0.363902 | hyperopt014 |       100 |\n",
      "| 20 |    0.81178  |  0.364093 | hyperopt014 |       100 |\n",
      "| 16 |    0.754406 |  0.364143 | hyperopt014 |       100 |\n",
      "|  3 |    0.754786 |  0.364355 | hyperopt014 |       100 |\n",
      "| 36 |    0.757044 |  0.364845 | hyperopt014 |       100 |\n",
      "| 48 |    0.758428 |  0.365497 | hyperopt014 |       100 |\n",
      "| 25 |    0.796684 |  0.36589  | hyperopt014 |       100 |\n",
      "| 45 |    0.780509 |  0.366227 | hyperopt014 |       100 |\n",
      "| 22 |    0.788065 |  0.366351 | hyperopt014 |       100 |\n",
      "| 40 |    0.757582 |  0.367989 | hyperopt014 |       100 |\n",
      "| 43 |    0.781022 |  0.370937 | hyperopt014 |       100 |\n",
      "| 44 |    0.788295 |  0.371546 | hyperopt014 |       100 |\n",
      "| 41 |    0.800283 |  0.37222  | hyperopt014 |       100 |\n",
      "| 46 |    0.777025 |  0.375225 | hyperopt014 |       100 |\n",
      "| 42 |    0.783687 |  0.378018 | hyperopt014 |       100 |\n",
      "|  1 |    0.789476 |  0.378719 | hyperopt014 |       100 |\n",
      "| 38 |    0.748739 |  0.380692 | hyperopt014 |       100 |\n",
      "| 14 |    0.773779 |  0.382354 | hyperopt014 |       100 |\n",
      "| 28 |    0.801149 |  0.383002 | hyperopt014 |       100 |\n",
      "|  9 |    0.805771 |  0.386256 | hyperopt014 |       100 |\n"
     ]
    }
   ],
   "source": [
    "from tabulate import tabulate\n",
    "notes=['bn2_sgd200_nw','bn12','_wo_']\n",
    "show_tags=[]\n",
    "show_tags=tags.copy()\n",
    "group_tags=['note']\n",
    "show_tags+=group_tags\n",
    "show_tags+=['n_epoch']\n",
    "for note in notes:\n",
    "    tasks=summary(rootpath,tags,note)\n",
    "    #print(tasks[show_tags].groupby(group_tags).max().to_string())\n",
    "    print(tabulate(tasks[show_tags].groupby(group_tags).max(),tablefmt='pipe',headers='keys'))\n",
    "    print(tabulate(tasks[show_tags].sort_values('val/iou'),tablefmt='pipe',headers='keys'))"
   ]
  },
  {
   "cell_type": "code",
   "execution_count": 20,
   "metadata": {},
   "outputs": [
    {
     "name": "stdout",
     "output_type": "stream",
     "text": [
      "|                          |   train/iou |   val/iou |   n_epoch |\n",
      "|:-------------------------|------------:|----------:|----------:|\n",
      "| ('hyperopt014', '1e-05') |    0.731833 |  0.323429 |       100 |\n",
      "| ('hyperopt014', '2e-05') |    0.747784 |  0.334623 |       100 |\n",
      "| ('hyperopt014', 0.001)   |    0.684718 |  0.342896 |       100 |\n",
      "| ('hyperopt014', '5e-05') |    0.758231 |  0.359602 |       100 |\n",
      "| ('hyperopt014', 0.0005)  |    0.756845 |  0.363612 |       100 |\n",
      "| ('hyperopt014', 0.0001)  |    0.782894 |  0.370021 |       100 |\n",
      "| ('hyperopt014', 0.0002)  |    0.799771 |  0.371424 |       100 |\n",
      "|                          |   ('val/iou', 'mean') |   ('val/iou', 'std') |   ('val/iou', 'amax') |\n",
      "|:-------------------------|----------------------:|---------------------:|----------------------:|\n",
      "| ('hyperopt014', 0.0001)  |              0.370021 |           0.00833878 |              0.382354 |\n",
      "| ('hyperopt014', 0.0002)  |              0.371424 |           0.0103945  |              0.386256 |\n",
      "| ('hyperopt014', 0.0005)  |              0.363612 |           0.00266757 |              0.367989 |\n",
      "| ('hyperopt014', 0.001)   |              0.342896 |           0.0136704  |              0.358228 |\n",
      "| ('hyperopt014', '1e-05') |              0.323429 |           0.0115674  |              0.340416 |\n",
      "| ('hyperopt014', '2e-05') |              0.334623 |           0.00548159 |              0.340169 |\n",
      "| ('hyperopt014', '5e-05') |              0.359602 |           0.0102995  |              0.380692 |\n",
      "|    |   train/iou |   val/iou | note        |   learning_rate |   n_epoch |\n",
      "|---:|------------:|----------:|:------------|----------------:|----------:|\n",
      "|  6 |    0.732704 |  0.310706 | hyperopt014 |          1e-05  |       100 |\n",
      "|  0 |    0.67292  |  0.312546 | hyperopt014 |          0.001  |       100 |\n",
      "| 34 |    0.730112 |  0.31484  | hyperopt014 |          1e-05  |       100 |\n",
      "|  5 |    0.729856 |  0.324675 | hyperopt014 |          1e-05  |       100 |\n",
      "| 11 |    0.736022 |  0.326508 | hyperopt014 |          1e-05  |       100 |\n",
      "| 33 |    0.747475 |  0.327545 | hyperopt014 |          2e-05  |       100 |\n",
      "| 49 |    0.688488 |  0.331308 | hyperopt014 |          0.001  |       100 |\n",
      "|  4 |    0.743171 |  0.333374 | hyperopt014 |          2e-05  |       100 |\n",
      "|  2 |    0.747299 |  0.337404 | hyperopt014 |          2e-05  |       100 |\n",
      "| 23 |    0.753189 |  0.340169 | hyperopt014 |          2e-05  |       100 |\n",
      "|  7 |    0.730472 |  0.340416 | hyperopt014 |          1e-05  |       100 |\n",
      "|  8 |    0.694236 |  0.343163 | hyperopt014 |          0.001  |       100 |\n",
      "| 30 |    0.663999 |  0.343455 | hyperopt014 |          0.001  |       100 |\n",
      "| 17 |    0.692847 |  0.344539 | hyperopt014 |          0.001  |       100 |\n",
      "| 10 |    0.762288 |  0.345951 | hyperopt014 |          5e-05  |       100 |\n",
      "| 18 |    0.702388 |  0.348859 | hyperopt014 |          0.001  |       100 |\n",
      "| 26 |    0.67754  |  0.351366 | hyperopt014 |          0.001  |       100 |\n",
      "| 24 |    0.692754 |  0.3526   | hyperopt014 |          0.001  |       100 |\n",
      "| 39 |    0.759189 |  0.354151 | hyperopt014 |          5e-05  |       100 |\n",
      "| 19 |    0.766097 |  0.354477 | hyperopt014 |          5e-05  |       100 |\n",
      "| 35 |    0.757057 |  0.355328 | hyperopt014 |          5e-05  |       100 |\n",
      "| 29 |    0.794435 |  0.35696  | hyperopt014 |          0.0002 |       100 |\n",
      "| 15 |    0.785403 |  0.357194 | hyperopt014 |          0.0001 |       100 |\n",
      "| 13 |    0.677294 |  0.358228 | hyperopt014 |          0.001  |       100 |\n",
      "| 37 |    0.749712 |  0.358767 | hyperopt014 |          5e-05  |       100 |\n",
      "| 47 |    0.758255 |  0.360731 | hyperopt014 |          0.0005 |       100 |\n",
      "| 32 |    0.764002 |  0.361266 | hyperopt014 |          0.0005 |       100 |\n",
      "| 27 |    0.779138 |  0.361284 | hyperopt014 |          0.0001 |       100 |\n",
      "| 21 |    0.75046  |  0.3613   | hyperopt014 |          0.0005 |       100 |\n",
      "| 31 |    0.765725 |  0.3626   | hyperopt014 |          5e-05  |       100 |\n",
      "| 12 |    0.790835 |  0.363902 | hyperopt014 |          0.0001 |       100 |\n",
      "| 20 |    0.81178  |  0.364093 | hyperopt014 |          0.0002 |       100 |\n",
      "| 16 |    0.754406 |  0.364143 | hyperopt014 |          0.0005 |       100 |\n",
      "|  3 |    0.754786 |  0.364355 | hyperopt014 |          0.0005 |       100 |\n",
      "| 36 |    0.757044 |  0.364845 | hyperopt014 |          5e-05  |       100 |\n",
      "| 48 |    0.758428 |  0.365497 | hyperopt014 |          0.0005 |       100 |\n",
      "| 25 |    0.796684 |  0.36589  | hyperopt014 |          0.0002 |       100 |\n",
      "| 45 |    0.780509 |  0.366227 | hyperopt014 |          0.0001 |       100 |\n",
      "| 22 |    0.788065 |  0.366351 | hyperopt014 |          0.0001 |       100 |\n",
      "| 40 |    0.757582 |  0.367989 | hyperopt014 |          0.0005 |       100 |\n",
      "| 43 |    0.781022 |  0.370937 | hyperopt014 |          0.0001 |       100 |\n",
      "| 44 |    0.788295 |  0.371546 | hyperopt014 |          0.0002 |       100 |\n",
      "| 41 |    0.800283 |  0.37222  | hyperopt014 |          0.0002 |       100 |\n",
      "| 46 |    0.777025 |  0.375225 | hyperopt014 |          0.0001 |       100 |\n",
      "| 42 |    0.783687 |  0.378018 | hyperopt014 |          0.0001 |       100 |\n",
      "|  1 |    0.789476 |  0.378719 | hyperopt014 |          0.0001 |       100 |\n",
      "| 38 |    0.748739 |  0.380692 | hyperopt014 |          5e-05  |       100 |\n",
      "| 14 |    0.773779 |  0.382354 | hyperopt014 |          0.0001 |       100 |\n",
      "| 28 |    0.801149 |  0.383002 | hyperopt014 |          0.0002 |       100 |\n",
      "|  9 |    0.805771 |  0.386256 | hyperopt014 |          0.0002 |       100 |\n",
      "|                             |   train/iou |   val/iou |   n_epoch |\n",
      "|:----------------------------|------------:|----------:|----------:|\n",
      "| ('wo_bn_015', '-1,1')       |    0.767147 |  0.365011 |       100 |\n",
      "| ('wo_bn_015', 'cityscapes') |    0.763904 |  0.370536 |       100 |\n",
      "| ('wo_bn_015', 'pytorch')    |    0.761691 |  0.37097  |       100 |\n",
      "| ('wo_bn_015', '0,1')        |    0.761224 |  0.372147 |       100 |\n",
      "| ('wo_bn_015', 'caffe')      |    0.763061 |  0.372286 |       100 |\n",
      "|                             |   ('val/iou', 'mean') |   ('val/iou', 'std') |   ('val/iou', 'amax') |\n",
      "|:----------------------------|----------------------:|---------------------:|----------------------:|\n",
      "| ('wo_bn_015', '-1,1')       |              0.365011 |           0.00591723 |              0.371074 |\n",
      "| ('wo_bn_015', '0,1')        |              0.372147 |           0.00311127 |              0.375468 |\n",
      "| ('wo_bn_015', 'caffe')      |              0.372286 |           0.00741026 |              0.381298 |\n",
      "| ('wo_bn_015', 'cityscapes') |              0.370536 |           0.00578118 |              0.375322 |\n",
      "| ('wo_bn_015', 'pytorch')    |              0.37097  |           0.00532321 |              0.374734 |\n",
      "|    |   train/iou |   val/iou | note      | norm_ways   |   n_epoch |\n",
      "|---:|------------:|----------:|:----------|:------------|----------:|\n",
      "|  5 |    0.771725 |  0.359251 | wo_bn_015 | -1,1        |       100 |\n",
      "|  3 |    0.762008 |  0.363241 | wo_bn_015 | cityscapes  |       100 |\n",
      "| 12 |    0.760188 |  0.364708 | wo_bn_015 | -1,1        |       100 |\n",
      "|  9 |    0.766215 |  0.366179 | wo_bn_015 | caffe       |       100 |\n",
      "| 11 |    0.755899 |  0.366251 | wo_bn_015 | caffe       |       100 |\n",
      "|  8 |    0.764234 |  0.367206 | wo_bn_015 | pytorch     |       100 |\n",
      "|  0 |    0.759914 |  0.368262 | wo_bn_015 | 0,1         |       100 |\n",
      "|  1 |    0.765721 |  0.36855  | wo_bn_015 | cityscapes  |       100 |\n",
      "| 14 |    0.739821 |  0.369615 | wo_bn_015 | 0,1         |       100 |\n",
      "|  2 |    0.769528 |  0.371074 | wo_bn_015 | -1,1        |       100 |\n",
      "| 16 |    0.774355 |  0.372864 | wo_bn_015 | 0,1         |       100 |\n",
      "|  7 |    0.76759  |  0.374529 | wo_bn_015 | 0,1         |       100 |\n",
      "| 15 |    0.759148 |  0.374734 | wo_bn_015 | pytorch     |       100 |\n",
      "| 17 |    0.765927 |  0.37503  | wo_bn_015 | cityscapes  |       100 |\n",
      "|  4 |    0.761961 |  0.375322 | wo_bn_015 | cityscapes  |       100 |\n",
      "| 10 |    0.762262 |  0.375416 | wo_bn_015 | caffe       |       100 |\n",
      "|  6 |    0.764441 |  0.375468 | wo_bn_015 | 0,1         |       100 |\n",
      "| 13 |    0.767866 |  0.381298 | wo_bn_015 | caffe       |       100 |\n"
     ]
    }
   ],
   "source": [
    "from tabulate import tabulate\n",
    "notes=['014','015']\n",
    "note_gtags=['learning_rate','norm_ways']\n",
    "describe=[]\n",
    "for note,ntag in zip(notes,note_gtags):\n",
    "    show_tags=[]\n",
    "    show_tags=tags.copy()\n",
    "    group_tags=['note',ntag]\n",
    "    show_tags+=group_tags\n",
    "    show_tags+=['n_epoch']\n",
    "    tasks=summary(rootpath,tags,note)\n",
    "    #print(tasks[show_tags].groupby(group_tags).max().to_string())\n",
    "    print(tabulate(tasks[show_tags].groupby(group_tags).mean().sort_values('val/iou'),tablefmt='pipe',headers='keys'))\n",
    "    print(tabulate(tasks[['val/iou']+group_tags].groupby(group_tags).agg([np.mean,np.std,np.max]),tablefmt='pipe',headers='keys'))\n",
    "    print(tabulate(tasks[show_tags].sort_values('val/iou'),tablefmt='pipe',headers='keys'))"
   ]
  },
  {
   "cell_type": "code",
   "execution_count": 66,
   "metadata": {},
   "outputs": [
    {
     "name": "stdout",
     "output_type": "stream",
     "text": [
      "                       val/iou                    \n",
      "                          mean       std      amax\n",
      "note      norm_ways                               \n",
      "wo_bn_015 -1,1        0.365011  0.005917  0.371074\n",
      "          0,1         0.372147  0.003111  0.375468\n",
      "          caffe       0.372286  0.007410  0.381298\n",
      "          cityscapes  0.370536  0.005781  0.375322\n",
      "          pytorch     0.370970  0.005323  0.374734\n",
      "MultiIndex(levels=[['val/iou'], ['mean', 'std', 'amax']],\n",
      "           labels=[[0, 0, 0], [0, 1, 2]])\n",
      "<bound method NDFrame.keys of                        val/iou                    \n",
      "                          mean       std      amax\n",
      "note      norm_ways                               \n",
      "wo_bn_015 -1,1        0.365011  0.005917  0.371074\n",
      "          0,1         0.372147  0.003111  0.375468\n",
      "          caffe       0.372286  0.007410  0.381298\n",
      "          cityscapes  0.370536  0.005781  0.375322\n",
      "          pytorch     0.370970  0.005323  0.374734>\n",
      "Index(['mean', 'std', 'amax'], dtype='object')\n",
      "note       norm_ways \n",
      "wo_bn_015  -1,1          0.365011\n",
      "           0,1           0.372147\n",
      "           caffe         0.372286\n",
      "           cityscapes    0.370536\n",
      "           pytorch       0.370970\n",
      "Name: mean, dtype: float64\n",
      "note       norm_ways \n",
      "wo_bn_015  -1,1          0.005917\n",
      "           0,1           0.003111\n",
      "           caffe         0.007410\n",
      "           cityscapes    0.005781\n",
      "           pytorch       0.005323\n",
      "Name: (val/iou, std), dtype: float64\n",
      "0.37214739322662355\n",
      "        note   norm_ways   val/iou                    \n",
      "                              mean       std      amax\n",
      "0  wo_bn_015        -1,1  0.365011  0.005917  0.371074\n",
      "1  wo_bn_015         0,1  0.372147  0.003111  0.375468\n",
      "2  wo_bn_015       caffe  0.372286  0.007410  0.381298\n",
      "3  wo_bn_015  cityscapes  0.370536  0.005781  0.375322\n",
      "4  wo_bn_015     pytorch  0.370970  0.005323  0.374734\n"
     ]
    }
   ],
   "source": [
    "g_tasks=tasks[['val/iou']+group_tags].groupby(group_tags).agg([np.mean,np.std,np.max])\n",
    "print(g_tasks)\n",
    "print(g_tasks.columns)\n",
    "print(g_tasks.keys)\n",
    "print(g_tasks['val/iou'].columns)\n",
    "print(g_tasks['val/iou']['mean'])\n",
    "print(g_tasks['val/iou','std'])\n",
    "print(g_tasks.loc[('wo_bn_015','0,1'),('val/iou','mean')])\n",
    "\n",
    "g_tasks.reset_index(inplace=True)\n",
    "print(g_tasks)"
   ]
  },
  {
   "cell_type": "code",
   "execution_count": 67,
   "metadata": {},
   "outputs": [
    {
     "name": "stdout",
     "output_type": "stream",
     "text": [
      "     level_0 level_1           0           1           2           3  \\\n",
      "0       note           wo_bn_015   wo_bn_015   wo_bn_015   wo_bn_015   \n",
      "1  norm_ways                -1,1         0,1       caffe  cityscapes   \n",
      "2    val/iou    mean    0.365011    0.372147    0.372286    0.370536   \n",
      "3    val/iou     std  0.00591723  0.00311127  0.00741026  0.00578118   \n",
      "4    val/iou    amax    0.371074    0.375468    0.381298    0.375322   \n",
      "\n",
      "            4  \n",
      "0   wo_bn_015  \n",
      "1     pytorch  \n",
      "2     0.37097  \n",
      "3  0.00532321  \n",
      "4    0.374734  \n"
     ]
    }
   ],
   "source": [
    "g_tasks=g_tasks.transpose()\n",
    "g_tasks.reset_index(inplace=True)\n",
    "print(g_tasks)"
   ]
  },
  {
   "cell_type": "code",
   "execution_count": 68,
   "metadata": {},
   "outputs": [
    {
     "data": {
      "text/plain": [
       "\u001b[0;31mSignature:\u001b[0m \u001b[0mg_tasks\u001b[0m\u001b[0;34m.\u001b[0m\u001b[0mreset_index\u001b[0m\u001b[0;34m(\u001b[0m\u001b[0mlevel\u001b[0m\u001b[0;34m=\u001b[0m\u001b[0;32mNone\u001b[0m\u001b[0;34m,\u001b[0m \u001b[0mdrop\u001b[0m\u001b[0;34m=\u001b[0m\u001b[0;32mFalse\u001b[0m\u001b[0;34m,\u001b[0m \u001b[0minplace\u001b[0m\u001b[0;34m=\u001b[0m\u001b[0;32mFalse\u001b[0m\u001b[0;34m,\u001b[0m \u001b[0mcol_level\u001b[0m\u001b[0;34m=\u001b[0m\u001b[0;36m0\u001b[0m\u001b[0;34m,\u001b[0m \u001b[0mcol_fill\u001b[0m\u001b[0;34m=\u001b[0m\u001b[0;34m''\u001b[0m\u001b[0;34m)\u001b[0m\u001b[0;34m\u001b[0m\u001b[0m\n",
       "\u001b[0;31mDocstring:\u001b[0m\n",
       "For DataFrame with multi-level index, return new DataFrame with\n",
       "labeling information in the columns under the index names, defaulting\n",
       "to 'level_0', 'level_1', etc. if any are None. For a standard index,\n",
       "the index name will be used (if set), otherwise a default 'index' or\n",
       "'level_0' (if 'index' is already taken) will be used.\n",
       "\n",
       "Parameters\n",
       "----------\n",
       "level : int, str, tuple, or list, default None\n",
       "    Only remove the given levels from the index. Removes all levels by\n",
       "    default\n",
       "drop : boolean, default False\n",
       "    Do not try to insert index into dataframe columns. This resets\n",
       "    the index to the default integer index.\n",
       "inplace : boolean, default False\n",
       "    Modify the DataFrame in place (do not create a new object)\n",
       "col_level : int or str, default 0\n",
       "    If the columns have multiple levels, determines which level the\n",
       "    labels are inserted into. By default it is inserted into the first\n",
       "    level.\n",
       "col_fill : object, default ''\n",
       "    If the columns have multiple levels, determines how the other\n",
       "    levels are named. If None then the index name is repeated.\n",
       "\n",
       "Returns\n",
       "-------\n",
       "resetted : DataFrame\n",
       "\n",
       "Examples\n",
       "--------\n",
       ">>> df = pd.DataFrame([('bird',    389.0),\n",
       "...                    ('bird',     24.0),\n",
       "...                    ('mammal',   80.5),\n",
       "...                    ('mammal', np.nan)],\n",
       "...                   index=['falcon', 'parrot', 'lion', 'monkey'],\n",
       "...                   columns=('class', 'max_speed'))\n",
       ">>> df\n",
       "         class  max_speed\n",
       "falcon    bird      389.0\n",
       "parrot    bird       24.0\n",
       "lion    mammal       80.5\n",
       "monkey  mammal        NaN\n",
       "\n",
       "When we reset the index, the old index is added as a column, and a\n",
       "new sequential index is used:\n",
       "\n",
       ">>> df.reset_index()\n",
       "    index   class  max_speed\n",
       "0  falcon    bird      389.0\n",
       "1  parrot    bird       24.0\n",
       "2    lion  mammal       80.5\n",
       "3  monkey  mammal        NaN\n",
       "\n",
       "We can use the `drop` parameter to avoid the old index being added as\n",
       "a column:\n",
       "\n",
       ">>> df.reset_index(drop=True)\n",
       "    class  max_speed\n",
       "0    bird      389.0\n",
       "1    bird       24.0\n",
       "2  mammal       80.5\n",
       "3  mammal        NaN\n",
       "\n",
       "You can also use `reset_index` with `MultiIndex`.\n",
       "\n",
       ">>> index = pd.MultiIndex.from_tuples([('bird', 'falcon'),\n",
       "...                                    ('bird', 'parrot'),\n",
       "...                                    ('mammal', 'lion'),\n",
       "...                                    ('mammal', 'monkey')],\n",
       "...                                   names=['class', 'name'])\n",
       ">>> columns = pd.MultiIndex.from_tuples([('speed', 'max'),\n",
       "...                                      ('species', 'type')])\n",
       ">>> df = pd.DataFrame([(389.0, 'fly'),\n",
       "...                    ( 24.0, 'fly'),\n",
       "...                    ( 80.5, 'run'),\n",
       "...                    (np.nan, 'jump')],\n",
       "...                   index=index,\n",
       "...                   columns=columns)\n",
       ">>> df\n",
       "               speed species\n",
       "                 max    type\n",
       "class  name\n",
       "bird   falcon  389.0     fly\n",
       "       parrot   24.0     fly\n",
       "mammal lion     80.5     run\n",
       "       monkey    NaN    jump\n",
       "\n",
       "If the index has multiple levels, we can reset a subset of them:\n",
       "\n",
       ">>> df.reset_index(level='class')\n",
       "         class  speed species\n",
       "                  max    type\n",
       "name\n",
       "falcon    bird  389.0     fly\n",
       "parrot    bird   24.0     fly\n",
       "lion    mammal   80.5     run\n",
       "monkey  mammal    NaN    jump\n",
       "\n",
       "If we are not dropping the index, by default, it is placed in the top\n",
       "level. We can place it in another level:\n",
       "\n",
       ">>> df.reset_index(level='class', col_level=1)\n",
       "                speed species\n",
       "         class    max    type\n",
       "name\n",
       "falcon    bird  389.0     fly\n",
       "parrot    bird   24.0     fly\n",
       "lion    mammal   80.5     run\n",
       "monkey  mammal    NaN    jump\n",
       "\n",
       "When the index is inserted under another level, we can specify under\n",
       "which one with the parameter `col_fill`:\n",
       "\n",
       ">>> df.reset_index(level='class', col_level=1, col_fill='species')\n",
       "              species  speed species\n",
       "                class    max    type\n",
       "name\n",
       "falcon           bird  389.0     fly\n",
       "parrot           bird   24.0     fly\n",
       "lion           mammal   80.5     run\n",
       "monkey         mammal    NaN    jump\n",
       "\n",
       "If we specify a nonexistent level for `col_fill`, it is created:\n",
       "\n",
       ">>> df.reset_index(level='class', col_level=1, col_fill='genus')\n",
       "                genus  speed species\n",
       "                class    max    type\n",
       "name\n",
       "falcon           bird  389.0     fly\n",
       "parrot           bird   24.0     fly\n",
       "lion           mammal   80.5     run\n",
       "monkey         mammal    NaN    jump\n",
       "\u001b[0;31mFile:\u001b[0m      ~/bin/miniconda3/envs/new/lib/python3.6/site-packages/pandas/core/frame.py\n",
       "\u001b[0;31mType:\u001b[0m      method\n"
      ]
     },
     "metadata": {},
     "output_type": "display_data"
    }
   ],
   "source": [
    "g_tasks.reset_index?"
   ]
  },
  {
   "cell_type": "code",
   "execution_count": null,
   "metadata": {},
   "outputs": [],
   "source": []
  }
 ],
 "metadata": {
  "kernelspec": {
   "display_name": "Python [conda env:new]",
   "language": "python",
   "name": "conda-env-new-py"
  },
  "language_info": {
   "codemirror_mode": {
    "name": "ipython",
    "version": 3
   },
   "file_extension": ".py",
   "mimetype": "text/x-python",
   "name": "python",
   "nbconvert_exporter": "python",
   "pygments_lexer": "ipython3",
   "version": "3.6.5"
  },
  "nbpresent": {
   "slides": {},
   "themes": {
    "default": "fc255d06-66c6-4a6b-a8c4-42a6f20eb29b",
    "theme": {
     "738f3cfd-9013-49aa-939c-a1216d389da2": {
      "backgrounds": {
       "dc7afa04-bf90-40b1-82a5-726e3cff5267": {
        "background-color": "31af15d2-7e15-44c5-ab5e-e04b16a89eff",
        "id": "dc7afa04-bf90-40b1-82a5-726e3cff5267"
       }
      },
      "id": "738f3cfd-9013-49aa-939c-a1216d389da2",
      "palette": {
       "19cc588f-0593-49c9-9f4b-e4d7cc113b1c": {
        "id": "19cc588f-0593-49c9-9f4b-e4d7cc113b1c",
        "rgb": [
         252,
         252,
         252
        ]
       },
       "31af15d2-7e15-44c5-ab5e-e04b16a89eff": {
        "id": "31af15d2-7e15-44c5-ab5e-e04b16a89eff",
        "rgb": [
         68,
         68,
         68
        ]
       },
       "50f92c45-a630-455b-aec3-788680ec7410": {
        "id": "50f92c45-a630-455b-aec3-788680ec7410",
        "rgb": [
         197,
         226,
         245
        ]
       },
       "c5cc3653-2ee1-402a-aba2-7caae1da4f6c": {
        "id": "c5cc3653-2ee1-402a-aba2-7caae1da4f6c",
        "rgb": [
         43,
         126,
         184
        ]
       },
       "efa7f048-9acb-414c-8b04-a26811511a21": {
        "id": "efa7f048-9acb-414c-8b04-a26811511a21",
        "rgb": [
         25.118061674008803,
         73.60176211453744,
         107.4819383259912
        ]
       }
      },
      "rules": {
       "a": {
        "color": "19cc588f-0593-49c9-9f4b-e4d7cc113b1c"
       },
       "blockquote": {
        "color": "50f92c45-a630-455b-aec3-788680ec7410",
        "font-size": 3
       },
       "code": {
        "font-family": "Anonymous Pro"
       },
       "h1": {
        "color": "19cc588f-0593-49c9-9f4b-e4d7cc113b1c",
        "font-family": "Merriweather",
        "font-size": 8
       },
       "h2": {
        "color": "19cc588f-0593-49c9-9f4b-e4d7cc113b1c",
        "font-family": "Merriweather",
        "font-size": 6
       },
       "h3": {
        "color": "50f92c45-a630-455b-aec3-788680ec7410",
        "font-family": "Lato",
        "font-size": 5.5
       },
       "h4": {
        "color": "c5cc3653-2ee1-402a-aba2-7caae1da4f6c",
        "font-family": "Lato",
        "font-size": 5
       },
       "h5": {
        "font-family": "Lato"
       },
       "h6": {
        "font-family": "Lato"
       },
       "h7": {
        "font-family": "Lato"
       },
       "li": {
        "color": "50f92c45-a630-455b-aec3-788680ec7410",
        "font-size": 3.25
       },
       "pre": {
        "font-family": "Anonymous Pro",
        "font-size": 4
       }
      },
      "text-base": {
       "color": "19cc588f-0593-49c9-9f4b-e4d7cc113b1c",
       "font-family": "Lato",
       "font-size": 4
      }
     },
     "fc255d06-66c6-4a6b-a8c4-42a6f20eb29b": {
      "backgrounds": {
       "backgroundColor": {
        "background-color": "backgroundColor",
        "id": "backgroundColor"
       }
      },
      "id": "fc255d06-66c6-4a6b-a8c4-42a6f20eb29b",
      "palette": {
       "backgroundColor": {
        "id": "backgroundColor",
        "rgb": [
         34,
         34,
         34
        ]
       },
       "headingColor": {
        "id": "headingColor",
        "rgb": [
         256,
         256,
         256
        ]
       },
       "linkColor": {
        "id": "linkColor",
        "rgb": [
         66,
         175,
         250
        ]
       },
       "mainColor": {
        "id": "mainColor",
        "rgb": [
         256,
         256,
         256
        ]
       }
      },
      "rules": {
       "a": {
        "color": "linkColor"
       },
       "h1": {
        "color": "headingColor",
        "font-family": "Source Sans Pro",
        "font-size": 5.25
       },
       "h2": {
        "color": "headingColor",
        "font-family": "Source Sans Pro",
        "font-size": 4
       },
       "h3": {
        "color": "headingColor",
        "font-family": "Source Sans Pro",
        "font-size": 3.5
       },
       "h4": {
        "color": "headingColor",
        "font-family": "Source Sans Pro",
        "font-size": 3
       },
       "h5": {
        "color": "headingColor",
        "font-family": "Source Sans Pro"
       },
       "h6": {
        "color": "headingColor",
        "font-family": "Source Sans Pro"
       },
       "h7": {
        "color": "headingColor",
        "font-family": "Source Sans Pro"
       },
       "li": {
        "color": "mainColor",
        "font-family": "Source Sans Pro",
        "font-size": 6
       },
       "p": {
        "color": "mainColor",
        "font-family": "Source Sans Pro",
        "font-size": 6
       }
      },
      "text-base": {
       "color": "mainColor",
       "font-family": "Source Sans Pro",
       "font-size": 6
      }
     }
    }
   }
  }
 },
 "nbformat": 4,
 "nbformat_minor": 2
}
