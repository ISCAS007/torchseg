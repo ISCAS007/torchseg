{
 "cells": [
  {
   "cell_type": "markdown",
   "metadata": {},
   "source": [
    "# Analysis of tensorboard results\n",
    "- view motion_statistic for automatic analysis.\n",
    "- due to history code problem, cannot show dataset name in table directly (name for ss001 and ss002, dataset_name for others), modify summary() to support it."
   ]
  },
  {
   "cell_type": "code",
   "execution_count": 75,
   "metadata": {},
   "outputs": [
    {
     "name": "stdout",
     "output_type": "stream",
     "text": [
      "['/home/yzbx/git/torchseg', '/home/yzbx/git/torchseg', '/home/yzbx/git/torchseg', '/home/yzbx/git/torchseg', '/home/yzbx/git/torchseg', '/home/yzbx/git/torchseg', '/home/yzbx/git/torchseg', '/home/yzbx/git/torchseg', '/home/yzbx/git/torchseg', '/home/yzbx/git/torchseg/notebooks', '/home/yzbx/git/torchseg/notebooks', '/home/yzbx/miniconda3/envs/new/lib/python38.zip', '/home/yzbx/miniconda3/envs/new/lib/python3.8', '/home/yzbx/miniconda3/envs/new/lib/python3.8/lib-dynload', '', '/home/yzbx/.local/lib/python3.8/site-packages', '/home/yzbx/miniconda3/envs/new/lib/python3.8/site-packages', '/home/yzbx/miniconda3/envs/new/lib/python3.8/site-packages/IPython/extensions', '/home/yzbx/.ipython']\n"
     ]
    }
   ],
   "source": [
    "import os\n",
    "import sys\n",
    "sys.path.insert(0,os.path.expanduser('~/git/torchseg'))\n",
    "print(sys.path)\n",
    "\n",
    "%reload_ext autoreload\n",
    "%autoreload 2\n",
    "from torchseg.utils.summary_to_jupyter import summary,dump"
   ]
  },
  {
   "cell_type": "code",
   "execution_count": 79,
   "metadata": {
    "scrolled": false
   },
   "outputs": [
    {
     "name": "stdout",
     "output_type": "stream",
     "text": [
      "### mox032 \n",
      "|    |   n_epoch |   actual_step | note   |   train/iou |   val/iou |\n",
      "|---:|----------:|--------------:|:-------|------------:|----------:|\n",
      "|  0 |      1000 |           444 | mox032 |    0.756105 |  0.710636 |\n",
      "\n",
      "\n",
      "|    |   val/iou | dir                                                                                |\n",
      "|---:|----------:|:-----------------------------------------------------------------------------------|\n",
      "|  0 |  0.710636 | /home/yzbx/tmp/logs/pytorch/PSPUNet/huawei/mox032/2020-12-31___14-27-49/config.txt |\n",
      "\n",
      "\n"
     ]
    }
   ],
   "source": [
    "tags=['train/iou','val/iou']\n",
    "rootpath=os.path.expanduser('~/tmp/logs/pytorch')\n",
    "descripe=['note','n_epoch','actual_step']\n",
    "# attention_type aux_backbone filter_feature\n",
    "invalid_param_list=['dir','log_time','root_path',\n",
    "                    'test_path', 'train_path', 'val_path',\n",
    "                    'use_optical_flow','flow_backbone',\n",
    "                    'ignore_outOfRoi','exception_value',\n",
    "                    'cityscapes_split','txt_path',\n",
    "                    'decode_main_layer','gpu','ngpus_per_node',\n",
    "                    'rank','sub_config','focal_loss_gamma' ]\n",
    "note_gtags=[['dataset','note'],['dataset','note']]\n",
    "note_gtags=None\n",
    "notes=['mox032']\n",
    "# notes=['ss042_attention','ss042_resnet','ss042_vgg']\n",
    "# notes=['ss059']\n",
    "tasks=dump(tags=tags,sort_tags=[tags[1]],rootpath=rootpath,notes=notes,descripe=descripe,\n",
    "     invalid_param_list=invalid_param_list,delete_nan=False,dump_group=False,\n",
    "     note_gtags=note_gtags)"
   ]
  },
  {
   "cell_type": "code",
   "execution_count": 70,
   "metadata": {
    "scrolled": false
   },
   "outputs": [
    {
     "name": "stdout",
     "output_type": "stream",
     "text": [
      "empty config_files, \n",
      "               rootpath=/home/yzbx/tmp/logs/pytorch,tags=['train/iou', 'val/iou'],filter_str=today\n"
     ]
    },
    {
     "name": "stderr",
     "output_type": "stream",
     "text": [
      "/home/yzbx/git/torchseg/torchseg/utils/summary_to_jupyter.py:77: UserWarning: today task is empty\n",
      "  warnings.warn('{} task is empty'.format(note))\n"
     ]
    },
    {
     "name": "stdout",
     "output_type": "stream",
     "text": [
      "|    |   n_epoch | note                   |   train/iou | dataset_name        |   val/iou |\n",
      "|---:|----------:|:-----------------------|------------:|:--------------------|----------:|\n",
      "| 25 |        50 | mox004                 |    0.817388 | HuaWei              | 0.0665172 |\n",
      "| 21 |        50 | mox004                 |    0.939379 | HuaWei              | 0.0701626 |\n",
      "| 56 |       100 | mox015                 |    0.320252 | huawei              | 0.371507  |\n",
      "| 48 |        50 | mox011                 |    0.34321  | huawei              | 0.379402  |\n",
      "| 47 |        50 | mox011                 |    0.42196  | huawei              | 0.469354  |\n",
      "| 81 |       100 | mox015                 |    0.451426 | huawei              | 0.472099  |\n",
      "| 49 |        10 | mox013_cropT_rotateT_0 |    0.442802 | huawei              | 0.472858  |\n",
      "| 90 |       500 | mox034_nesterovT       |    0.536095 | huawei              | 0.479557  |\n",
      "| 53 |       100 | mox015                 |    0.430343 | huawei              | 0.481187  |\n",
      "| 54 |        10 | mox013_cropT_rotateF_0 |    0.454972 | huawei              | 0.502571  |\n",
      "| 86 |        50 | mox010_catalyst        |    0.49669  | huawei              | 0.515015  |\n",
      "| 58 |        10 | mox013_cropF_rotateT_0 |    0.509502 | huawei              | 0.526722  |\n",
      "| 67 |        10 | mox022_adam_0          |    0.544063 | huawei              | 0.531647  |\n",
      "| 40 |        50 | mox010                 |    0.456077 | huawei              | 0.53873   |\n",
      "| 50 |        20 | mox013_cropT_rotateT_1 |    0.526948 | huawei              | 0.553187  |\n",
      "| 51 |       100 | mox015                 |    0.554069 | huawei              | 0.553447  |\n",
      "| 61 |        10 | mox013_cropF_rotateF_0 |    0.52663  | huawei              | 0.555281  |\n",
      "|  1 |        50 | mox001                 |    0.755054 | huawei              | 0.558589  |\n",
      "| 55 |        20 | mox013_cropT_rotateF_1 |    0.540399 | huawei              | 0.568595  |\n",
      "| 68 |        10 | mox022_adam_1          |    0.588258 | huawei              | 0.575196  |\n",
      "|  3 |         5 | mox001                 |    0.585819 | huawei              | 0.581732  |\n",
      "| 52 |        40 | mox013_cropT_rotateT_2 |    0.579846 | huawei              | 0.585156  |\n",
      "| 69 |        10 | mox022_adam_2          |    0.608129 | huawei              | 0.599072  |\n",
      "| 64 |       100 | mox018_lr1e-2          |    0.610811 | huawei              | 0.602997  |\n",
      "| 57 |        40 | mox013_cropT_rotateF_2 |    0.597741 | huawei              | 0.60557   |\n",
      "| 70 |        10 | mox022_adam_3          |    0.626142 | huawei              | 0.609587  |\n",
      "| 72 |        10 | mox022_adam_5          |    0.6454   | huawei              | 0.610627  |\n",
      "|  6 |        50 | mox001                 |    0.82232  | huawei              | 0.613748  |\n",
      "|  2 |        50 | mox001                 |    0.816314 | huawei              | 0.614639  |\n",
      "|  7 |        50 | mox001                 |    0.827575 | huawei              | 0.614761  |\n",
      "|  5 |        50 | mox001                 |    0.8203   | huawei              | 0.615319  |\n",
      "|  8 |        50 | mox001                 |    0.821357 | huawei              | 0.617964  |\n",
      "| 73 |        10 | mox022_adam_6          |    0.653542 | huawei              | 0.619464  |\n",
      "|  4 |        50 | mox001                 |    0.815139 | huawei              | 0.619493  |\n",
      "| 76 |        10 | mox022_adam_9          |    0.66309  | huawei              | 0.620662  |\n",
      "| 74 |        10 | mox022_adam_7          |    0.658466 | huawei              | 0.620753  |\n",
      "| 71 |        10 | mox022_adam_4          |    0.636205 | huawei              | 0.621315  |\n",
      "| 80 |        50 | mox026                 |    0.587056 | huawei              | 0.622913  |\n",
      "|  0 |        50 | mox001                 |    0.80292  | huawei              | 0.624322  |\n",
      "| 75 |        10 | mox022_adam_8          |    0.657906 | huawei              | 0.624402  |\n",
      "| 59 |        20 | mox013_cropF_rotateT_1 |    0.607078 | huawei              | 0.625055  |\n",
      "| 77 |        50 | mox023                 |    0.601883 | huawei              | 0.626581  |\n",
      "| 45 |        50 | mox010                 |    0.610244 | huawei              | 0.626854  |\n",
      "| 62 |        20 | mox013_cropF_rotateF_1 |    0.621678 | huawei              | 0.634626  |\n",
      "| 42 |        50 | mox010                 |    0.612526 | huawei              | 0.643552  |\n",
      "| 78 |        50 | mox023                 |    0.599017 | huawei              | 0.656008  |\n",
      "| 43 |        50 | mox011                 |    0.66473  | huawei              | 0.666003  |\n",
      "| 60 |        40 | mox013_cropF_rotateT_2 |    0.679691 | huawei              | 0.674557  |\n",
      "| 46 |        50 | mox012                 |    0.681833 | huawei              | 0.677637  |\n",
      "| 79 |        50 | mox023                 |    0.673243 | huawei              | 0.680737  |\n",
      "| 63 |        40 | mox013_cropF_rotateF_2 |    0.695695 | huawei              | 0.690436  |\n",
      "| 41 |        50 | mox009                 |    0.619563 | huawei              | 0.691005  |\n",
      "| 44 |        50 | mox011                 |    0.68665  | huawei              | 0.693001  |\n",
      "| 10 |         5 | mox002                 |    0.712139 | huawei              | 0.696109  |\n",
      "| 89 |      1000 | mox032                 |    0.713413 | huawei              | 0.710636  |\n",
      "| 65 |       100 | mox018_lr1e-3          |    0.84564  | huawei              | 0.715511  |\n",
      "| 39 |        50 | mox009                 |    0.684946 | huawei              | 0.719419  |\n",
      "| 22 |        50 | mox003                 |    0.863778 | huawei              | 0.723956  |\n",
      "| 13 |        50 | mox001                 |    0.862657 | huawei              | 0.728364  |\n",
      "| 29 |        50 | mox003                 |    0.862241 | huawei              | 0.730425  |\n",
      "| 15 |        50 | mox001                 |    0.864692 | huawei              | 0.731056  |\n",
      "| 11 |        50 | mox001                 |    0.86349  | huawei              | 0.731069  |\n",
      "| 27 |        50 | mox004                 |    0.869232 | HuaWei              | 0.731486  |\n",
      "| 16 |        50 | mox001                 |    0.863861 | huawei              | 0.731621  |\n",
      "| 14 |        50 | mox001                 |    0.861771 | huawei              | 0.732483  |\n",
      "| 12 |        50 | mox001                 |    0.86339  | huawei              | 0.733331  |\n",
      "| 19 |        50 | mox003                 |    0.875729 | huawei              | 0.7335    |\n",
      "| 17 |        50 | mox003                 |    0.864604 | huawei              | 0.735533  |\n",
      "| 83 |        50 | mox018_adam_0          |    0.720442 | huawei              | 0.735726  |\n",
      "| 31 |        50 | mox005                 |    0.851074 | huawei              | 0.738006  |\n",
      "| 18 |        50 | mox003                 |    0.882808 | huawei              | 0.739103  |\n",
      "| 36 |        50 | mox006                 |    0.753871 | huawei              | 0.741729  |\n",
      "| 38 |        50 | mox006                 |    0.748046 | huawei              | 0.742412  |\n",
      "| 37 |        50 | mox008                 |    0.7543   | huawei              | 0.745092  |\n",
      "| 87 |       150 | mox030_adam_0          |    0.753643 | huawei              | 0.748531  |\n",
      "| 66 |       100 | mox018_lr1e-4          |    0.918708 | huawei              | 0.748731  |\n",
      "| 32 |        50 | mox006                 |    0.872372 | huawei              | 0.753478  |\n",
      "| 34 |        50 | mox006                 |    0.848954 | huawei              | 0.753505  |\n",
      "| 30 |        50 | mox005                 |    0.886115 | huawei              | 0.753669  |\n",
      "| 33 |        50 | mox006                 |    0.849034 | huawei              | 0.753897  |\n",
      "| 35 |        50 | mox006                 |    0.795009 | huawei              | 0.759682  |\n",
      "|  9 |         5 | mox001                 |    0.779446 | cityscapes_category | 0.765276  |\n",
      "| 84 |       100 | mox018_adam_1          |    0.792106 | huawei              | 0.765431  |\n",
      "| 88 |       150 | mox030_adam_1          |    0.815813 | huawei              | 0.765953  |\n",
      "| 85 |       150 | mox018_adam_2          |    0.805188 | huawei              | 0.769646  |\n",
      "| 82 |       300 | mox027                 |    0.824256 | huawei              | 0.781184  |\n",
      "| 26 |        50 | mox002                 |    0.868287 | cityscapes_category | 0.789169  |\n",
      "| 20 |        50 | mox002                 |    0.865475 | cityscapes_category | 0.798626  |\n",
      "| 28 |        50 | mox002                 |    0.866245 | cityscapes_category | 0.798661  |\n",
      "| 24 |        50 | mox002                 |    0.880054 | cityscapes_category | 0.810874  |\n",
      "| 23 |        50 | mox002                 |    0.882178 | cityscapes_category | 0.813998  |\n",
      "\n",
      "\n",
      "|    |   val/iou | dir                                                                                                   |\n",
      "|---:|----------:|:------------------------------------------------------------------------------------------------------|\n",
      "| 25 | 0.0665172 | /home/yzbx/tmp/logs/pytorch/FPN/HuaWei/mox004/2020-12-25___19-33-46/config.txt                        |\n",
      "| 21 | 0.0701626 | /home/yzbx/tmp/logs/pytorch/FPN/HuaWei/mox004/2020-12-25___16-16-21/config.txt                        |\n",
      "| 56 | 0.371507  | /home/yzbx/tmp/logs/pytorch/PSPUNet/huawei/mox015/2020-12-29___01-53-20/config.txt                    |\n",
      "| 48 | 0.379402  | /home/yzbx/tmp/logs/pytorch/PSPUNet/huawei/mox011/2020-12-28___19-15-10/config.txt                    |\n",
      "| 47 | 0.469354  | /home/yzbx/tmp/logs/pytorch/PSPUNet/huawei/mox011/2020-12-28___18-32-50/config.txt                    |\n",
      "| 81 | 0.472099  | /home/yzbx/tmp/logs/pytorch/PSPUNet/huawei/mox015/2020-12-30___09-31-14/config.txt                    |\n",
      "| 49 | 0.472858  | /home/yzbx/tmp/logs/pytorch/PSPUNet/huawei/mox013_cropT_rotateT_0/2020-12-28___20-47-45/config.txt    |\n",
      "| 90 | 0.479557  | /home/yzbx/tmp/logs/pytorch/PSPUNet/huawei/mox034_nesterovT/2020-12-31___18-23-50/config.txt          |\n",
      "| 53 | 0.481187  | /home/yzbx/tmp/logs/pytorch/PSPUNet/huawei/mox015/2020-12-28___23-48-49/config.txt                    |\n",
      "| 54 | 0.502571  | /home/yzbx/tmp/logs/pytorch/PSPUNet/huawei/mox013_cropT_rotateF_0/2020-12-29___00-10-24/config.txt    |\n",
      "| 86 | 0.515015  | /home/yzbx/tmp/logs/pytorch/PSPUNet/huawei/mox010_catalyst/2020-12-30___21-27-10/config.txt           |\n",
      "| 58 | 0.526722  | /home/yzbx/tmp/logs/pytorch/PSPUNet/huawei/mox013_cropF_rotateT_0/2020-12-29___03-32-52/config.txt    |\n",
      "| 67 | 0.531647  | /home/yzbx/tmp/logs/pytorch/PSPUNet/huawei/mox022_adam_0/2020-12-29___16-51-32/config.txt             |\n",
      "| 40 | 0.53873   | /home/yzbx/tmp/logs/pytorch/PSPUNet/huawei/mox010/2020-12-28___12-53-31/config.txt                    |\n",
      "| 50 | 0.553187  | /home/yzbx/tmp/logs/pytorch/PSPUNet/huawei/mox013_cropT_rotateT_1/2020-12-28___21-37-44/config.txt    |\n",
      "| 51 | 0.553447  | /home/yzbx/tmp/logs/pytorch/PSPUNet/huawei/mox015/2020-12-28___21-43-55/config.txt                    |\n",
      "| 61 | 0.555281  | /home/yzbx/tmp/logs/pytorch/PSPUNet/huawei/mox013_cropF_rotateF_0/2020-12-29___06-40-51/config.txt    |\n",
      "|  1 | 0.558589  | /home/yzbx/tmp/logs/pytorch/DeepLabV3Plus/huawei/mox001/2020-12-23___13-42-06/config.txt              |\n",
      "| 55 | 0.568595  | /home/yzbx/tmp/logs/pytorch/PSPUNet/huawei/mox013_cropT_rotateF_1/2020-12-29___01-01-45/config.txt    |\n",
      "| 68 | 0.575196  | /home/yzbx/tmp/logs/pytorch/PSPUNet/huawei/mox022_adam_1/2020-12-29___17-37-09/config.txt             |\n",
      "|  3 | 0.581732  | /home/yzbx/tmp/logs/pytorch/PSPUNet/huawei/mox001/2020-12-23___20-44-26/config.txt                    |\n",
      "| 52 | 0.585156  | /home/yzbx/tmp/logs/pytorch/PSPUNet/huawei/mox013_cropT_rotateT_2/2020-12-28___22-41-45/config.txt    |\n",
      "| 69 | 0.599072  | /home/yzbx/tmp/logs/pytorch/PSPUNet/huawei/mox022_adam_2/2020-12-29___18-22-39/config.txt             |\n",
      "| 64 | 0.602997  | /home/yzbx/tmp/logs/pytorch/PSPUNet/huawei/mox018_lr1e-2/2020-12-29___10-42-14/config.txt             |\n",
      "| 57 | 0.60557   | /home/yzbx/tmp/logs/pytorch/PSPUNet/huawei/mox013_cropT_rotateF_2/2020-12-29___02-05-56/config.txt    |\n",
      "| 70 | 0.609587  | /home/yzbx/tmp/logs/pytorch/PSPUNet/huawei/mox022_adam_3/2020-12-29___19-06-18/config.txt             |\n",
      "| 72 | 0.610627  | /home/yzbx/tmp/logs/pytorch/PSPUNet/huawei/mox022_adam_5/2020-12-29___20-33-29/config.txt             |\n",
      "|  6 | 0.613748  | /home/yzbx/tmp/logs/pytorch/DeepLabV3Plus/huawei/mox001/2020-12-23___23-56-40/config.txt              |\n",
      "|  2 | 0.614639  | /home/yzbx/tmp/logs/pytorch/DeepLabV3Plus/huawei/mox001/2020-12-23___13-45-14/config.txt              |\n",
      "|  7 | 0.614761  | /home/yzbx/tmp/logs/pytorch/DeepLabV3Plus/huawei/mox001/2020-12-24___01-20-57/config.txt              |\n",
      "|  5 | 0.615319  | /home/yzbx/tmp/logs/pytorch/DeepLabV3Plus/huawei/mox001/2020-12-23___22-32-21/config.txt              |\n",
      "|  8 | 0.617964  | /home/yzbx/tmp/logs/pytorch/DeepLabV3Plus/huawei/mox001/2020-12-24___02-44-53/config.txt              |\n",
      "| 73 | 0.619464  | /home/yzbx/tmp/logs/pytorch/PSPUNet/huawei/mox022_adam_6/2020-12-29___21-16-57/config.txt             |\n",
      "|  4 | 0.619493  | /home/yzbx/tmp/logs/pytorch/DeepLabV3Plus/huawei/mox001/2020-12-23___21-08-15/config.txt              |\n",
      "| 76 | 0.620662  | /home/yzbx/tmp/logs/pytorch/PSPUNet/huawei/mox022_adam_9/2020-12-29___23-26-04/config.txt             |\n",
      "| 74 | 0.620753  | /home/yzbx/tmp/logs/pytorch/PSPUNet/huawei/mox022_adam_7/2020-12-29___22-00-03/config.txt             |\n",
      "| 71 | 0.621315  | /home/yzbx/tmp/logs/pytorch/PSPUNet/huawei/mox022_adam_4/2020-12-29___19-49-48/config.txt             |\n",
      "| 80 | 0.622913  | /home/yzbx/tmp/logs/pytorch/PSPUNet/huawei/mox026/2020-12-30___09-04-21/config.txt                    |\n",
      "|  0 | 0.624322  | /home/yzbx/tmp/logs/pytorch/PSPUNet/huawei/mox001/2020-12-23___12-31-57/config.txt                    |\n",
      "| 75 | 0.624402  | /home/yzbx/tmp/logs/pytorch/PSPUNet/huawei/mox022_adam_8/2020-12-29___22-43-01/config.txt             |\n",
      "| 59 | 0.625055  | /home/yzbx/tmp/logs/pytorch/PSPUNet/huawei/mox013_cropF_rotateT_1/2020-12-29___04-21-12/config.txt    |\n",
      "| 77 | 0.626581  | /home/yzbx/tmp/logs/pytorch/PSPUNet/huawei/mox023/2020-12-30___00-01-03/config.txt                    |\n",
      "| 45 | 0.626854  | /home/yzbx/tmp/logs/pytorch/PSPUNet/huawei/mox010/2020-12-28___17-30-21/config.txt                    |\n",
      "| 62 | 0.634626  | /home/yzbx/tmp/logs/pytorch/PSPUNet/huawei/mox013_cropF_rotateF_1/2020-12-29___07-27-18/config.txt    |\n",
      "| 42 | 0.643552  | /home/yzbx/tmp/logs/pytorch/PSPUNet/huawei/mox010/2020-12-28___14-57-42/config.txt                    |\n",
      "| 78 | 0.656008  | /home/yzbx/tmp/logs/pytorch/PSPUNet/huawei/mox023/2020-12-30___00-51-11/config.txt                    |\n",
      "| 43 | 0.666003  | /home/yzbx/tmp/logs/pytorch/PSPUNet/huawei/mox011/2020-12-28___15-37-12/config.txt                    |\n",
      "| 60 | 0.674557  | /home/yzbx/tmp/logs/pytorch/PSPUNet/huawei/mox013_cropF_rotateT_2/2020-12-29___05-20-26/config.txt    |\n",
      "| 46 | 0.677637  | /home/yzbx/tmp/logs/pytorch/PSPUNet/huawei/mox012/2020-12-28___17-36-38/config.txt                    |\n",
      "| 79 | 0.680737  | /home/yzbx/tmp/logs/pytorch/PSPUNet/huawei/mox023/2020-12-30___01-46-41/config.txt                    |\n",
      "| 63 | 0.690436  | /home/yzbx/tmp/logs/pytorch/PSPUNet/huawei/mox013_cropF_rotateF_2/2020-12-29___08-25-55/config.txt    |\n",
      "| 41 | 0.691005  | /home/yzbx/tmp/logs/pytorch/PSPUNet/huawei/mox009/2020-12-28___14-56-57/config.txt                    |\n",
      "| 44 | 0.693001  | /home/yzbx/tmp/logs/pytorch/PSPUNet/huawei/mox011/2020-12-28___16-18-56/config.txt                    |\n",
      "| 10 | 0.696109  | /home/yzbx/tmp/logs/pytorch/DeepLabV3Plus/huawei/mox002/2020-12-24___20-31-50/config.txt              |\n",
      "| 89 | 0.710636  | /home/yzbx/tmp/logs/pytorch/PSPUNet/huawei/mox032/2020-12-31___14-27-49/config.txt                    |\n",
      "| 65 | 0.715511  | /home/yzbx/tmp/logs/pytorch/PSPUNet/huawei/mox018_lr1e-3/2020-12-29___13-14-32/config.txt             |\n",
      "| 39 | 0.719419  | /home/yzbx/tmp/logs/pytorch/PSPUNet/huawei/mox009/2020-12-28___11-43-35/config.txt                    |\n",
      "| 22 | 0.723956  | /home/yzbx/tmp/logs/pytorch/PAN/huawei/mox003/2020-12-25___17-38-28/config.txt                        |\n",
      "| 13 | 0.728364  | /home/yzbx/tmp/logs/pytorch/DeepLabV3Plus/huawei/mox001/2020-12-25___00-29-39/config.txt              |\n",
      "| 29 | 0.730425  | /home/yzbx/tmp/logs/pytorch/FPN/huawei/mox003/2020-12-26___00-52-15/config.txt                        |\n",
      "| 15 | 0.731056  | /home/yzbx/tmp/logs/pytorch/DeepLabV3Plus/huawei/mox001/2020-12-25___03-17-56/config.txt              |\n",
      "| 11 | 0.731069  | /home/yzbx/tmp/logs/pytorch/DeepLabV3Plus/huawei/mox001/2020-12-24___21-40-11/config.txt              |\n",
      "| 27 | 0.731486  | /home/yzbx/tmp/logs/pytorch/PSPUNet/HuaWei/mox004/2020-12-25___20-42-40/config.txt                    |\n",
      "| 16 | 0.731621  | /home/yzbx/tmp/logs/pytorch/DeepLabV3Plus/huawei/mox001/2020-12-25___04-41-58/config.txt              |\n",
      "| 14 | 0.732483  | /home/yzbx/tmp/logs/pytorch/DeepLabV3Plus/huawei/mox001/2020-12-25___01-53-55/config.txt              |\n",
      "| 12 | 0.733331  | /home/yzbx/tmp/logs/pytorch/DeepLabV3Plus/huawei/mox001/2020-12-24___23-05-42/config.txt              |\n",
      "| 19 | 0.7335    | /home/yzbx/tmp/logs/pytorch/Linknet/huawei/mox003/2020-12-25___15-20-22/config.txt                    |\n",
      "| 17 | 0.735533  | /home/yzbx/tmp/logs/pytorch/DeepLabV3Plus/huawei/mox003/2020-12-25___13-13-02/config.txt              |\n",
      "| 83 | 0.735726  | /home/yzbx/tmp/logs/pytorch/PSPUNet/huawei/mox018_adam_0/2020-12-30___14-13-21/config.txt             |\n",
      "| 31 | 0.738006  | /home/yzbx/tmp/logs/pytorch/PSPUNet/huawei/mox005/2020-12-26___09-08-11/config.txt                    |\n",
      "| 18 | 0.739103  | /home/yzbx/tmp/logs/pytorch/Unet/huawei/mox003/2020-12-25___14-43-28/config.txt                       |\n",
      "| 36 | 0.741729  | /home/yzbx/tmp/logs/pytorch/PSPUNet/huawei/mox006/2020-12-27___17-18-27/config.txt                    |\n",
      "| 38 | 0.742412  | /home/yzbx/tmp/logs/pytorch/PSPUNet/huawei/mox006/2020-12-27___18-18-06/config.txt                    |\n",
      "| 37 | 0.745092  | /home/yzbx/tmp/logs/pytorch/PSPUNet/huawei/mox008/2020-12-27___17-48-27/config.txt                    |\n",
      "| 87 | 0.748531  | /home/yzbx/tmp/logs/pytorch/PSPUNet/huawei/mox030_adam_0/2020-12-30___21-38-47/config.txt             |\n",
      "| 66 | 0.748731  | /home/yzbx/tmp/logs/pytorch/PSPUNet/huawei/mox018_lr1e-4/2020-12-29___15-47-19/config.txt             |\n",
      "| 32 | 0.753478  | /home/yzbx/tmp/logs/pytorch/PSPUNet/huawei/mox006/2020-12-27___12-39-38/config.txt                    |\n",
      "| 34 | 0.753505  | /home/yzbx/tmp/logs/pytorch/PSPUNet/huawei/mox006/2020-12-27___14-14-58/config.txt                    |\n",
      "| 30 | 0.753669  | /home/yzbx/tmp/logs/pytorch/PSPUNet/huawei/mox005/2020-12-26___09-05-34/config.txt                    |\n",
      "| 33 | 0.753897  | /home/yzbx/tmp/logs/pytorch/PSPUNet/huawei/mox006/2020-12-27___13-25-39/config.txt                    |\n",
      "| 35 | 0.759682  | /home/yzbx/tmp/logs/pytorch/PSPUNet/huawei/mox006/2020-12-27___15-02-08/config.txt                    |\n",
      "|  9 | 0.765276  | /home/yzbx/tmp/logs/pytorch/PSPUNet/cityscapes_category/mox001/2020-12-24___15-17-36/config.txt       |\n",
      "| 84 | 0.765431  | /home/yzbx/tmp/logs/pytorch/PSPUNet/huawei/mox018_adam_1/2020-12-30___15-36-13/config.txt             |\n",
      "| 88 | 0.765953  | /home/yzbx/tmp/logs/pytorch/PSPUNet/huawei/mox030_adam_1/2020-12-31___01-14-59/config.txt             |\n",
      "| 85 | 0.769646  | /home/yzbx/tmp/logs/pytorch/PSPUNet/huawei/mox018_adam_2/2020-12-30___17-43-34/config.txt             |\n",
      "| 82 | 0.781184  | /home/yzbx/tmp/logs/pytorch/Linknet/huawei/mox027/2020-12-30___11-54-22/config.txt                    |\n",
      "| 26 | 0.789169  | /home/yzbx/tmp/logs/pytorch/PAN/cityscapes_category/mox002/2020-12-25___20-36-04/config.txt           |\n",
      "| 20 | 0.798626  | /home/yzbx/tmp/logs/pytorch/DeepLabV3Plus/cityscapes_category/mox002/2020-12-25___15-28-53/config.txt |\n",
      "| 28 | 0.798661  | /home/yzbx/tmp/logs/pytorch/FPN/cityscapes_category/mox002/2020-12-25___23-10-52/config.txt           |\n",
      "| 24 | 0.810874  | /home/yzbx/tmp/logs/pytorch/Linknet/cityscapes_category/mox002/2020-12-25___19-21-24/config.txt       |\n",
      "| 23 | 0.813998  | /home/yzbx/tmp/logs/pytorch/Unet/cityscapes_category/mox002/2020-12-25___18-06-56/config.txt          |\n",
      "\n",
      "\n"
     ]
    }
   ],
   "source": [
    "rootpath=os.path.expanduser('~/tmp/logs/pytorch')\n",
    "tags=['train/iou','val/iou']\n",
    "descripe=['note','n_epoch']\n",
    "notes=['today','recent']\n",
    "note_gtags=[['dataset_name','log_time','net_name'],\n",
    "           ['dataset_name','log_time','net_name']]\n",
    "recent_log_number=100\n",
    "tasks=dump(tags=tags,rootpath=rootpath,notes=notes,note_gtags=note_gtags,sort_tags=['dataset_name','val/iou'],\n",
    "     descripe=descripe,delete_nan=False,dump_group=False,recent_log_number=recent_log_number)"
   ]
  },
  {
   "cell_type": "code",
   "execution_count": 36,
   "metadata": {},
   "outputs": [
    {
     "name": "stdout",
     "output_type": "stream",
     "text": [
      "Index(['accumulate', 'attention_type', 'augmentation', 'augmentations_blur',\n",
      "       'aux_base_weight', 'auxnet_layer', 'auxnet_type', 'backbone_freeze',\n",
      "       'backbone_name', 'backbone_pretrained',\n",
      "       ...\n",
      "       'use_lr_mult', 'use_none_layer', 'use_reg', 'use_rotate',\n",
      "       'vertical_flip', 'with_edge', 'train/iou', 'val/iou', 'dir',\n",
      "       'log_time'],\n",
      "      dtype='object', length=104)\n",
      "0    1.0\n",
      "1    1.0\n",
      "2    NaN\n",
      "Name: decode_main_layer, dtype: float64\n",
      "a is not nan\n",
      "False\n",
      "False\n"
     ]
    }
   ],
   "source": [
    "print(tasks.columns)\n",
    "print(tasks['decode_main_layer'])\n",
    "import math\n",
    "import numpy as np\n",
    "a=tasks['decode_main_layer']\n",
    "if np.nan in tasks['decode_main_layer']:\n",
    "    print('a is nan')\n",
    "else:\n",
    "    print('a is not nan')\n",
    "\n",
    "import pandas as pd\n",
    "print(pd.isna(tasks['accumulate']).any())\n",
    "print(pd.isnull(tasks['accumulate']).any())"
   ]
  },
  {
   "cell_type": "code",
   "execution_count": null,
   "metadata": {
    "collapsed": true
   },
   "outputs": [],
   "source": []
  }
 ],
 "metadata": {
  "kernelspec": {
   "display_name": "Python 3",
   "language": "python",
   "name": "python3"
  },
  "language_info": {
   "codemirror_mode": {
    "name": "ipython",
    "version": 3
   },
   "file_extension": ".py",
   "mimetype": "text/x-python",
   "name": "python",
   "nbconvert_exporter": "python",
   "pygments_lexer": "ipython3",
   "version": "3.8.3"
  },
  "nbpresent": {
   "slides": {},
   "themes": {
    "default": "fc255d06-66c6-4a6b-a8c4-42a6f20eb29b",
    "theme": {
     "738f3cfd-9013-49aa-939c-a1216d389da2": {
      "backgrounds": {
       "dc7afa04-bf90-40b1-82a5-726e3cff5267": {
        "background-color": "31af15d2-7e15-44c5-ab5e-e04b16a89eff",
        "id": "dc7afa04-bf90-40b1-82a5-726e3cff5267"
       }
      },
      "id": "738f3cfd-9013-49aa-939c-a1216d389da2",
      "palette": {
       "19cc588f-0593-49c9-9f4b-e4d7cc113b1c": {
        "id": "19cc588f-0593-49c9-9f4b-e4d7cc113b1c",
        "rgb": [
         252,
         252,
         252
        ]
       },
       "31af15d2-7e15-44c5-ab5e-e04b16a89eff": {
        "id": "31af15d2-7e15-44c5-ab5e-e04b16a89eff",
        "rgb": [
         68,
         68,
         68
        ]
       },
       "50f92c45-a630-455b-aec3-788680ec7410": {
        "id": "50f92c45-a630-455b-aec3-788680ec7410",
        "rgb": [
         197,
         226,
         245
        ]
       },
       "c5cc3653-2ee1-402a-aba2-7caae1da4f6c": {
        "id": "c5cc3653-2ee1-402a-aba2-7caae1da4f6c",
        "rgb": [
         43,
         126,
         184
        ]
       },
       "efa7f048-9acb-414c-8b04-a26811511a21": {
        "id": "efa7f048-9acb-414c-8b04-a26811511a21",
        "rgb": [
         25.118061674008803,
         73.60176211453744,
         107.4819383259912
        ]
       }
      },
      "rules": {
       "a": {
        "color": "19cc588f-0593-49c9-9f4b-e4d7cc113b1c"
       },
       "blockquote": {
        "color": "50f92c45-a630-455b-aec3-788680ec7410",
        "font-size": 3
       },
       "code": {
        "font-family": "Anonymous Pro"
       },
       "h1": {
        "color": "19cc588f-0593-49c9-9f4b-e4d7cc113b1c",
        "font-family": "Merriweather",
        "font-size": 8
       },
       "h2": {
        "color": "19cc588f-0593-49c9-9f4b-e4d7cc113b1c",
        "font-family": "Merriweather",
        "font-size": 6
       },
       "h3": {
        "color": "50f92c45-a630-455b-aec3-788680ec7410",
        "font-family": "Lato",
        "font-size": 5.5
       },
       "h4": {
        "color": "c5cc3653-2ee1-402a-aba2-7caae1da4f6c",
        "font-family": "Lato",
        "font-size": 5
       },
       "h5": {
        "font-family": "Lato"
       },
       "h6": {
        "font-family": "Lato"
       },
       "h7": {
        "font-family": "Lato"
       },
       "li": {
        "color": "50f92c45-a630-455b-aec3-788680ec7410",
        "font-size": 3.25
       },
       "pre": {
        "font-family": "Anonymous Pro",
        "font-size": 4
       }
      },
      "text-base": {
       "color": "19cc588f-0593-49c9-9f4b-e4d7cc113b1c",
       "font-family": "Lato",
       "font-size": 4
      }
     },
     "fc255d06-66c6-4a6b-a8c4-42a6f20eb29b": {
      "backgrounds": {
       "backgroundColor": {
        "background-color": "backgroundColor",
        "id": "backgroundColor"
       }
      },
      "id": "fc255d06-66c6-4a6b-a8c4-42a6f20eb29b",
      "palette": {
       "backgroundColor": {
        "id": "backgroundColor",
        "rgb": [
         34,
         34,
         34
        ]
       },
       "headingColor": {
        "id": "headingColor",
        "rgb": [
         256,
         256,
         256
        ]
       },
       "linkColor": {
        "id": "linkColor",
        "rgb": [
         66,
         175,
         250
        ]
       },
       "mainColor": {
        "id": "mainColor",
        "rgb": [
         256,
         256,
         256
        ]
       }
      },
      "rules": {
       "a": {
        "color": "linkColor"
       },
       "h1": {
        "color": "headingColor",
        "font-family": "Source Sans Pro",
        "font-size": 5.25
       },
       "h2": {
        "color": "headingColor",
        "font-family": "Source Sans Pro",
        "font-size": 4
       },
       "h3": {
        "color": "headingColor",
        "font-family": "Source Sans Pro",
        "font-size": 3.5
       },
       "h4": {
        "color": "headingColor",
        "font-family": "Source Sans Pro",
        "font-size": 3
       },
       "h5": {
        "color": "headingColor",
        "font-family": "Source Sans Pro"
       },
       "h6": {
        "color": "headingColor",
        "font-family": "Source Sans Pro"
       },
       "h7": {
        "color": "headingColor",
        "font-family": "Source Sans Pro"
       },
       "li": {
        "color": "mainColor",
        "font-family": "Source Sans Pro",
        "font-size": 6
       },
       "p": {
        "color": "mainColor",
        "font-family": "Source Sans Pro",
        "font-size": 6
       }
      },
      "text-base": {
       "color": "mainColor",
       "font-family": "Source Sans Pro",
       "font-size": 6
      }
     }
    }
   }
  }
 },
 "nbformat": 4,
 "nbformat_minor": 2
}
