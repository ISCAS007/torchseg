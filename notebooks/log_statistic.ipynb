{
 "cells": [
  {
   "cell_type": "code",
   "execution_count": 8,
   "metadata": {},
   "outputs": [
    {
     "name": "stdout",
     "output_type": "stream",
     "text": [
      "['/home/yzbx/git/torchseg', '/home/yzbx/git/torchseg', '/home/yzbx/git/torchseg', '/home/yzbx/git/torchseg', '', '/home/yzbx/git/torchseg/notebooks', '/home/yzbx/git/gnu/models/research', '/home/yzbx/git/gnu/models/research/slim', '/home/yzbx/bin/miniconda3/envs/new/lib/python36.zip', '/home/yzbx/bin/miniconda3/envs/new/lib/python3.6', '/home/yzbx/bin/miniconda3/envs/new/lib/python3.6/lib-dynload', '/home/yzbx/bin/miniconda3/envs/new/lib/python3.6/site-packages', '/home/yzbx/bin/miniconda3/envs/new/lib/python3.6/site-packages/cityscapesscripts-1.0.0-py3.6-linux-x86_64.egg', '/home/yzbx/bin/miniconda3/envs/new/lib/python3.6/site-packages/torchvision-0.2.1-py3.6.egg', '/home/yzbx/bin/miniconda3/envs/new/lib/python3.6/site-packages/IPython/extensions', '/home/yzbx/.ipython']\n"
     ]
    }
   ],
   "source": [
    "import pandas as pd\n",
    "import tensorflow as tf\n",
    "from glob import glob\n",
    "import numpy as np\n",
    "from easydict import EasyDict as edict\n",
    "import os\n",
    "import time\n",
    "import sys\n",
    "from tabulate import tabulate\n",
    "\n",
    "sys.path.insert(0,os.path.expanduser('~/git/torchseg'))\n",
    "print(sys.path)\n",
    "\n",
    "from utils.config import load_config\n",
    "from utils.summary_to_csv import config_to_log,load_log,edict_to_pandas,today_log,recent_log\n",
    "\n",
    "def summary(rootpath,tags,filter_str=None,):\n",
    "    config_files=glob(os.path.join(rootpath,'**','config.txt'),recursive=True)\n",
    "    \n",
    "    if filter_str == 'today':\n",
    "        config_files=today_log(config_files)\n",
    "    elif filter_str == 'recent':\n",
    "        config_files=recent_log(config_files)\n",
    "    elif filter_str is not None:\n",
    "        config_files=[f for f in config_files if f.find(filter_str)>=0]\n",
    "    \n",
    "    tasks=pd.DataFrame()\n",
    "    for cfg in config_files:\n",
    "        log=config_to_log(cfg)\n",
    "        if log is not None:\n",
    "            ed=load_config(cfg)\n",
    "            metrics=load_log(log,tags)\n",
    "            \n",
    "            ed['dir']=cfg\n",
    "            log_time=''\n",
    "            for s in cfg.split(os.sep):\n",
    "                if s.find('___')>=0:\n",
    "                    log_time=s\n",
    "                    break\n",
    "            ed['log_time']=log_time\n",
    "            for key,value in metrics.items():\n",
    "                ed[key]=value\n",
    "             \n",
    "            task=edict_to_pandas(ed)\n",
    "            tasks=tasks.append(task,ignore_index=True,sort=False)\n",
    "        else:\n",
    "            print('cannot find log file for',cfg)\n",
    "            \n",
    "    return tasks\n",
    "\n",
    "def dump(tags=['train/iou','val/iou'],\n",
    "        rootpath=os.path.expanduser('~/tmp/logs/pytorch'),\n",
    "        notes=['today','recent'],\n",
    "        note_gtags=[['log_time'],\n",
    "                    ['log_time']],\n",
    "        descripe=['n_epoch'],\n",
    "        delete_nan=False,\n",
    "        dump_group=False,\n",
    "        dump_dir=True):\n",
    "    dir_tags=[tags[1],'dir']\n",
    "    for note,ntag in zip(notes,note_gtags):\n",
    "        show_tags=[]\n",
    "        show_tags=tags.copy()\n",
    "        group_tags=['note']+ntag\n",
    "        show_tags+=group_tags\n",
    "        show_tags+=descripe\n",
    "        tasks=summary(rootpath,tags,note)\n",
    "        if tasks.empty:\n",
    "            print(note,ntag,'task is empty')\n",
    "            continue\n",
    "\n",
    "        # remove empty dirs\n",
    "        if delete_nan:\n",
    "            dirs=tasks[tasks[tags[1]].isna()]['dir'].tolist()\n",
    "            tasks=tasks[tasks[tags[1]].notna()]\n",
    "            for dir in dirs:\n",
    "                print(os.path.dirname(dir))\n",
    "                os.system('rm -rf {}'.format(os.path.dirname(dir)))\n",
    "\n",
    "        #print(tasks[show_tags].groupby(group_tags).max().to_string())\n",
    "        if dump_group:\n",
    "            print(tabulate(tasks[show_tags].groupby(group_tags).mean().sort_values(tags[1]),tablefmt='pipe',headers='keys'))\n",
    "            print('\\n')\n",
    "            print(tabulate(tasks[[tags[1]]+group_tags].groupby(group_tags).agg([np.mean,np.std,np.max]),tablefmt='pipe',headers='keys'))\n",
    "            print('\\n')\n",
    "        print(tabulate(tasks[show_tags].sort_values(tags[1]),tablefmt='pipe',headers='keys'))\n",
    "        print('\\n')\n",
    "        if note=='recent':\n",
    "            print(tabulate(tasks[show_tags].sort_values('log_time'),tablefmt='pipe',headers='keys'))\n",
    "            print('\\n')\n",
    "        if dump_dir:\n",
    "            print(tabulate(tasks[dir_tags].sort_values(tags[1]),tablefmt='pipe',headers='keys'))\n",
    "            print('\\n')\n",
    "            \n"
   ]
  },
  {
   "cell_type": "code",
   "execution_count": 9,
   "metadata": {
    "scrolled": false
   },
   "outputs": [
    {
     "name": "stdout",
     "output_type": "stream",
     "text": [
      "|    |   train/iou |   val/iou | note           | log_time              |   n_epoch |\n",
      "|---:|------------:|----------:|:---------------|:----------------------|----------:|\n",
      "|  3 |    0.132616 |  0.145005 | center_loss    | 2019-03-15___14-14-33 |       150 |\n",
      "|  1 |    0.149774 |  0.172003 | wo_sum_feature | 2019-03-15___16-25-36 |       150 |\n",
      "|  2 |    0.393983 |  0.362395 | center_loss    | 2019-03-15___15-19-56 |       150 |\n",
      "|  0 |    0.565192 |  0.507013 | wo_center_loss | 2019-03-15___15-21-31 |       150 |\n",
      "\n",
      "\n",
      "|    |   val/iou | dir                                                                                           |\n",
      "|---:|----------:|:----------------------------------------------------------------------------------------------|\n",
      "|  3 |  0.145005 | /home/yzbx/tmp/logs/pytorch/pspnet/cityscapes/center_loss/2019-03-15___14-14-33/config.txt    |\n",
      "|  1 |  0.172003 | /home/yzbx/tmp/logs/pytorch/pspnet/cityscapes/wo_sum_feature/2019-03-15___16-25-36/config.txt |\n",
      "|  2 |  0.362395 | /home/yzbx/tmp/logs/pytorch/pspnet/cityscapes/center_loss/2019-03-15___15-19-56/config.txt    |\n",
      "|  0 |  0.507013 | /home/yzbx/tmp/logs/pytorch/pspnet/cityscapes/wo_center_loss/2019-03-15___15-21-31/config.txt |\n",
      "\n",
      "\n",
      "|    |   train/iou |     val/iou | note                | log_time              |   n_epoch |\n",
      "|---:|------------:|------------:|:--------------------|:----------------------|----------:|\n",
      "| 35 |   0.0248624 |   0.0229158 | flcw_no_pop         | 2018-11-15___23-28-21 |       250 |\n",
      "| 83 |   0.225388  |   0.119103  | min_crop_size       | 2018-12-06___20-53-46 |        50 |\n",
      "| 84 |   0.245791  |   0.123478  | min_crop_size       | 2018-12-06___21-20-35 |        50 |\n",
      "| 37 |   0.221185  |   0.132536  | change_crop_ratio   | 2018-11-16___13-24-36 |        50 |\n",
      "|  5 |   0.184858  |   0.135332  | jupyter001_cycle_0  | 2018-11-10___22-32-21 |        15 |\n",
      "| 96 |   0.132616  |   0.145005  | center_loss         | 2019-03-15___14-14-33 |       150 |\n",
      "| 86 |   0.250772  |   0.148659  | min_crop_size       | 2018-12-06___23-22-22 |        50 |\n",
      "| 87 |   0.263122  |   0.16726   | min_crop_size       | 2018-12-07___00-01-16 |        50 |\n",
      "| 41 |   0.349747  |   0.168421  | wo_resnet_head      | 2018-11-16___19-17-55 |        50 |\n",
      "| 99 |   0.149774  |   0.172003  | wo_sum_feature      | 2019-03-15___16-25-36 |       150 |\n",
      "| 34 |   0.264362  |   0.188187  | change_crop_ratio   | 2018-11-15___21-34-43 |        50 |\n",
      "|  6 |   0.290726  |   0.190971  | jupyter001_cycle_1  | 2018-11-10___22-41-08 |        30 |\n",
      "| 85 |   0.252041  |   0.216793  | min_crop_size       | 2018-12-06___22-17-32 |        50 |\n",
      "|  8 |   0.486393  |   0.228233  | jupyter001_cycle_2  | 2018-11-10___22-58-13 |        60 |\n",
      "|  2 |   0.498724  |   0.249211  | jupyter001_cycle_2  | 2018-11-09___19-29-31 |        60 |\n",
      "| 40 |   0.566011  |   0.311546  | w_resnet_head       | 2018-11-16___18-57-28 |        50 |\n",
      "| 39 |   0.378793  |   0.325898  | change_crop_ratio04 | 2018-11-16___14-49-03 |        50 |\n",
      "| 46 |   0.37623   |   0.330849  | change_crop_ratio05 | 2018-11-17___00-06-05 |        50 |\n",
      "| 53 |   0.449149  |   0.33499   | scheduler043_poly   | 2018-11-17___19-34-57 |       100 |\n",
      "| 38 |   0.369987  |   0.346508  | change_crop_ratio   | 2018-11-16___13-32-50 |        50 |\n",
      "| 97 |   0.393983  |   0.362395  | center_loss         | 2019-03-15___15-19-56 |       150 |\n",
      "| 58 |   0.389654  |   0.368599  | change_crop_ratio05 | 2018-11-18___11-42-15 |        50 |\n",
      "| 55 |   0.38759   |   0.369896  | change_crop_ratio05 | 2018-11-18___04-43-11 |        50 |\n",
      "|  0 |   0.808733  |   0.372586  | jupyter003          | 2018-11-09___19-03-44 |       100 |\n",
      "| 56 |   0.389605  |   0.375429  | change_crop_ratio05 | 2018-11-18___08-15-41 |        50 |\n",
      "| 49 |   0.628333  |   0.390597  | scheduler043_pop    | 2018-11-17___12-04-16 |       100 |\n",
      "| 42 |   0.605244  |   0.393496  | freeze_layer045     | 2018-11-16___20-25-32 |        50 |\n",
      "| 50 |   0.451383  |   0.399587  | keep_crop_ratio     | 2018-11-17___12-13-19 |        50 |\n",
      "| 54 |   0.45044   |   0.40584   | keep_crop_ratio     | 2018-11-17___20-44-19 |        50 |\n",
      "| 13 |   0.837138  |   0.408618  | vgg19_bn_psp        | 2018-11-10___23-29-48 |       100 |\n",
      "| 52 |   0.670823  |   0.410676  | scheduler043_adam   | 2018-11-17___15-15-39 |       100 |\n",
      "|  7 |   0.898963  |   0.412924  | jupyter001_cycle_0  | 2018-11-10___22-56-52 |        15 |\n",
      "| 33 |   0.448341  |   0.414462  | keep_crop_ratio     | 2018-11-15___21-33-19 |        50 |\n",
      "| 11 |   0.915408  |   0.421898  | jupyter001_cycle_1  | 2018-11-10___23-14-06 |        30 |\n",
      "| 45 |   0.670808  |   0.428208  | freeze_layer045     | 2018-11-16___22-39-28 |        50 |\n",
      "| 28 |   0.553842  |   0.431579  | flcw_poly_rop_ft    | 2018-11-13___15-07-56 |       250 |\n",
      "| 10 |   0.586138  |   0.431868  | fl_cw_alpha7_ft2_0  | 2018-11-10___23-10-58 |        50 |\n",
      "| 14 |   0.939027  |   0.435213  | jupyter001_cycle_2  | 2018-11-10___23-48-27 |        60 |\n",
      "| 25 |   0.518915  |   0.436921  | fl_plateau_ul4      | 2018-11-12___23-19-51 |       250 |\n",
      "| 15 |   0.604822  |   0.441564  | fl_cw_alpha7_ft2_1  | 2018-11-11___03-18-18 |       100 |\n",
      "| 16 |   0.62339   |   0.443782  | fl_cw_alpha7_ft2_2  | 2018-11-11___11-26-20 |       200 |\n",
      "| 24 |   0.568463  |   0.443785  | fl_plateau_ul4      | 2018-11-12___23-10-24 |       250 |\n",
      "|  9 |   0.592296  |   0.451766  | fl_cw_alpha7        | 2018-11-10___23-05-39 |       250 |\n",
      "| 22 |   0.504173  |   0.454455  | plateau             | 2018-11-12___22-16-55 |       250 |\n",
      "| 27 |   0.669754  |   0.463747  | fl_poly_rop         | 2018-11-13___15-06-54 |       250 |\n",
      "| 26 |   0.563162  |   0.463881  | fl_poly_rop         | 2018-11-13___15-01-42 |       250 |\n",
      "| 44 |   0.604936  |   0.472562  | w_resnet_head2      | 2018-11-16___20-53-31 |       100 |\n",
      "| 19 |   0.55358   |   0.473572  | vgg16_fz_psp        | 2018-11-11___21-28-10 |       100 |\n",
      "|  1 |   0.555107  |   0.480891  | jupyter004_0        | 2018-11-09___19-10-56 |        15 |\n",
      "| 79 |   0.602388  |   0.481789  | fcn8_vgg16          | 2018-12-04___22-46-33 |       100 |\n",
      "| 47 |   0.520772  |   0.487923  | res50_freeze4_3_0   | 2018-11-17___00-20-30 |        15 |\n",
      "| 65 |   0.614322  |   0.488148  | mres50_freeze5_3_0  | 2018-11-20___00-13-26 |        30 |\n",
      "| 67 |   0.592956  |   0.489685  | fr0.5               | 2018-11-21___00-36-31 |       100 |\n",
      "| 95 |   0.597911  |   0.489733  | center_loss         | 2019-03-14___23-32-21 |       150 |\n",
      "| 71 |   0.730959  |   0.501585  | mres50_freeze5_3_2  | 2018-11-21___10-13-09 |       120 |\n",
      "| 59 |   0.544159  |   0.502219  | res50_freeze5_3_0   | 2018-11-18___21-49-58 |        15 |\n",
      "| 66 |   0.70172   |   0.504066  | mres50_freeze5_3_1  | 2018-11-20___14-38-32 |        60 |\n",
      "| 98 |   0.565192  |   0.507013  | wo_center_loss      | 2019-03-15___15-21-31 |       150 |\n",
      "| 23 |   0.755878  |   0.515256  | fl_plateau_ft       | 2018-11-12___22-58-04 |       250 |\n",
      "| 29 |   0.602852  |   0.517956  | flcw_pop            | 2018-11-13___23-36-58 |       250 |\n",
      "| 20 |   0.684266  |   0.523931  | vgg11_psp           | 2018-11-11___22-20-13 |       100 |\n",
      "| 73 |   0.664645  |   0.539331  | vgg19_gn            | 2018-12-02___23-16-25 |       100 |\n",
      "| 74 |   0.666785  |   0.539916  | vgg19_gn_nopre      | 2018-12-02___23-22-28 |       100 |\n",
      "| 91 |   0.678474  |   0.553926  | motionnet_res       | 2018-12-09___20-25-48 |       100 |\n",
      "| 48 |   0.637632  |   0.560305  | res50_freeze4_3_1   | 2018-11-17___05-01-19 |        30 |\n",
      "| 80 |   0.711822  |   0.560617  | fcn16_vgg16         | 2018-12-05___13-07-13 |       100 |\n",
      "| 17 |   0.745514  |   0.561583  | cycle_sgd_0         | 2018-11-11___18-06-18 |       100 |\n",
      "| 60 |   0.63801   |   0.561965  | cycle_sgd_0         | 2018-11-18___22-00-18 |        20 |\n",
      "| 90 |   0.699731  |   0.569535  | motionnet_nl        | 2018-12-09___20-16-21 |       100 |\n",
      "| 89 |   0.704552  |   0.571447  | motionnet_nl        | 2018-12-07___19-31-56 |       100 |\n",
      "| 31 |   0.765724  |   0.57696   | cycle_sgd_0         | 2018-11-14___22-47-06 |       100 |\n",
      "| 61 |   0.674059  |   0.57963   | res50_freeze5_3_1   | 2018-11-19___00-48-58 |        30 |\n",
      "| 92 |   0.716365  |   0.579735  | motionnet_res       | 2018-12-09___20-26-23 |       100 |\n",
      "| 72 |   0.70724   |   0.580211  | vgg16_gn            | 2018-12-02___23-15-51 |       100 |\n",
      "| 69 |   0.683408  |   0.580683  | ul4_fr0.3           | 2018-11-21___01-15-49 |       100 |\n",
      "| 51 |   0.694688  |   0.580893  | res50_freeze4_3_2   | 2018-11-17___12-52-00 |        60 |\n",
      "|  3 |   0.692078  |   0.583679  | jupyter004_1        | 2018-11-09___23-02-22 |        30 |\n",
      "| 88 |   0.694472  |   0.585284  | motionnet           | 2018-12-07___19-02-38 |       100 |\n",
      "| 78 |   0.71189   |   0.588305  | vgg16_gn32          | 2018-12-04___21-01-08 |       100 |\n",
      "| 76 |   0.72956   |   0.589235  | vgg16_bn            | 2018-12-03___13-26-29 |       100 |\n",
      "| 36 |   0.792745  |   0.591652  | fl_pop              | 2018-11-16___00-02-28 |       250 |\n",
      "| 81 |   0.722444  |   0.592189  | fcn32_vgg16         | 2018-12-05___13-07-46 |       100 |\n",
      "| 43 |   0.668338  |   0.593148  | vgg19_freeze3_5     | 2018-11-16___20-47-03 |       100 |\n",
      "| 62 |   0.705706  |   0.595081  | cycle_sgd_1         | 2018-11-19___01-13-07 |        40 |\n",
      "| 63 |   0.713566  |   0.596853  | res50_freeze5_3_2   | 2018-11-19___06-34-15 |        60 |\n",
      "| 75 |   0.704294  |   0.599245  | vgg19_gn_nopre      | 2018-12-02___23-22-47 |       100 |\n",
      "| 94 |   0.700528  |   0.603254  | center_loss         | 2019-03-14___20-49-50 |       150 |\n",
      "| 64 |   0.758444  |   0.610479  | cycle_sgd_2         | 2018-11-19___07-30-52 |        80 |\n",
      "| 82 |   0.714108  |   0.616367  | motionnet           | 2018-12-05___17-44-33 |       100 |\n",
      "|  4 |   0.732816  |   0.620921  | jupyter004_2        | 2018-11-10___06-20-27 |        60 |\n",
      "| 77 |   0.701463  |   0.622954  | vgg16_duc           | 2018-12-03___17-22-42 |       100 |\n",
      "| 32 |   0.852245  |   0.623333  | cycle_sgd_1         | 2018-11-15___15-34-49 |       200 |\n",
      "| 70 |   0.746501  |   0.624686  | cos_lr5_2           | 2018-11-21___01-59-15 |       150 |\n",
      "| 21 |   0.857052  |   0.626912  | cycle_sgd_1         | 2018-11-12___18-18-22 |       200 |\n",
      "| 68 |   0.814978  |   0.631636  | cos_lr5_2           | 2018-11-21___01-09-22 |       150 |\n",
      "| 57 |   0.874513  |   0.639883  | cycle_sgd_2         | 2018-11-18___09-32-10 |       400 |\n",
      "| 30 |   0.88921   |   0.651515  | cycle_sgd_2         | 2018-11-14___17-00-00 |       400 |\n",
      "| 12 |   0.169777  | nan         | cycle_sgd_0         | 2018-11-10___23-17-14 |       100 |\n",
      "| 18 |   0.13988   | nan         | cycle_sgd_0         | 2018-11-11___18-13-13 |       100 |\n",
      "| 93 |   0.221328  | nan         | center_loss         | 2019-03-14___18-50-58 |       150 |\n",
      "\n",
      "\n",
      "|    |   train/iou |     val/iou | note                | log_time              |   n_epoch |\n",
      "|---:|------------:|------------:|:--------------------|:----------------------|----------:|\n",
      "|  0 |   0.808733  |   0.372586  | jupyter003          | 2018-11-09___19-03-44 |       100 |\n",
      "|  1 |   0.555107  |   0.480891  | jupyter004_0        | 2018-11-09___19-10-56 |        15 |\n",
      "|  2 |   0.498724  |   0.249211  | jupyter001_cycle_2  | 2018-11-09___19-29-31 |        60 |\n",
      "|  3 |   0.692078  |   0.583679  | jupyter004_1        | 2018-11-09___23-02-22 |        30 |\n",
      "|  4 |   0.732816  |   0.620921  | jupyter004_2        | 2018-11-10___06-20-27 |        60 |\n",
      "|  5 |   0.184858  |   0.135332  | jupyter001_cycle_0  | 2018-11-10___22-32-21 |        15 |\n",
      "|  6 |   0.290726  |   0.190971  | jupyter001_cycle_1  | 2018-11-10___22-41-08 |        30 |\n",
      "|  7 |   0.898963  |   0.412924  | jupyter001_cycle_0  | 2018-11-10___22-56-52 |        15 |\n",
      "|  8 |   0.486393  |   0.228233  | jupyter001_cycle_2  | 2018-11-10___22-58-13 |        60 |\n",
      "|  9 |   0.592296  |   0.451766  | fl_cw_alpha7        | 2018-11-10___23-05-39 |       250 |\n",
      "| 10 |   0.586138  |   0.431868  | fl_cw_alpha7_ft2_0  | 2018-11-10___23-10-58 |        50 |\n",
      "| 11 |   0.915408  |   0.421898  | jupyter001_cycle_1  | 2018-11-10___23-14-06 |        30 |\n",
      "| 12 |   0.169777  | nan         | cycle_sgd_0         | 2018-11-10___23-17-14 |       100 |\n",
      "| 13 |   0.837138  |   0.408618  | vgg19_bn_psp        | 2018-11-10___23-29-48 |       100 |\n",
      "| 14 |   0.939027  |   0.435213  | jupyter001_cycle_2  | 2018-11-10___23-48-27 |        60 |\n",
      "| 15 |   0.604822  |   0.441564  | fl_cw_alpha7_ft2_1  | 2018-11-11___03-18-18 |       100 |\n",
      "| 16 |   0.62339   |   0.443782  | fl_cw_alpha7_ft2_2  | 2018-11-11___11-26-20 |       200 |\n",
      "| 17 |   0.745514  |   0.561583  | cycle_sgd_0         | 2018-11-11___18-06-18 |       100 |\n",
      "| 18 |   0.13988   | nan         | cycle_sgd_0         | 2018-11-11___18-13-13 |       100 |\n",
      "| 19 |   0.55358   |   0.473572  | vgg16_fz_psp        | 2018-11-11___21-28-10 |       100 |\n",
      "| 20 |   0.684266  |   0.523931  | vgg11_psp           | 2018-11-11___22-20-13 |       100 |\n",
      "| 21 |   0.857052  |   0.626912  | cycle_sgd_1         | 2018-11-12___18-18-22 |       200 |\n",
      "| 22 |   0.504173  |   0.454455  | plateau             | 2018-11-12___22-16-55 |       250 |\n",
      "| 23 |   0.755878  |   0.515256  | fl_plateau_ft       | 2018-11-12___22-58-04 |       250 |\n",
      "| 24 |   0.568463  |   0.443785  | fl_plateau_ul4      | 2018-11-12___23-10-24 |       250 |\n",
      "| 25 |   0.518915  |   0.436921  | fl_plateau_ul4      | 2018-11-12___23-19-51 |       250 |\n",
      "| 26 |   0.563162  |   0.463881  | fl_poly_rop         | 2018-11-13___15-01-42 |       250 |\n",
      "| 27 |   0.669754  |   0.463747  | fl_poly_rop         | 2018-11-13___15-06-54 |       250 |\n",
      "| 28 |   0.553842  |   0.431579  | flcw_poly_rop_ft    | 2018-11-13___15-07-56 |       250 |\n",
      "| 29 |   0.602852  |   0.517956  | flcw_pop            | 2018-11-13___23-36-58 |       250 |\n",
      "| 30 |   0.88921   |   0.651515  | cycle_sgd_2         | 2018-11-14___17-00-00 |       400 |\n",
      "| 31 |   0.765724  |   0.57696   | cycle_sgd_0         | 2018-11-14___22-47-06 |       100 |\n",
      "| 32 |   0.852245  |   0.623333  | cycle_sgd_1         | 2018-11-15___15-34-49 |       200 |\n",
      "| 33 |   0.448341  |   0.414462  | keep_crop_ratio     | 2018-11-15___21-33-19 |        50 |\n",
      "| 34 |   0.264362  |   0.188187  | change_crop_ratio   | 2018-11-15___21-34-43 |        50 |\n",
      "| 35 |   0.0248624 |   0.0229158 | flcw_no_pop         | 2018-11-15___23-28-21 |       250 |\n",
      "| 36 |   0.792745  |   0.591652  | fl_pop              | 2018-11-16___00-02-28 |       250 |\n",
      "| 37 |   0.221185  |   0.132536  | change_crop_ratio   | 2018-11-16___13-24-36 |        50 |\n",
      "| 38 |   0.369987  |   0.346508  | change_crop_ratio   | 2018-11-16___13-32-50 |        50 |\n",
      "| 39 |   0.378793  |   0.325898  | change_crop_ratio04 | 2018-11-16___14-49-03 |        50 |\n",
      "| 40 |   0.566011  |   0.311546  | w_resnet_head       | 2018-11-16___18-57-28 |        50 |\n",
      "| 41 |   0.349747  |   0.168421  | wo_resnet_head      | 2018-11-16___19-17-55 |        50 |\n",
      "| 42 |   0.605244  |   0.393496  | freeze_layer045     | 2018-11-16___20-25-32 |        50 |\n",
      "| 43 |   0.668338  |   0.593148  | vgg19_freeze3_5     | 2018-11-16___20-47-03 |       100 |\n",
      "| 44 |   0.604936  |   0.472562  | w_resnet_head2      | 2018-11-16___20-53-31 |       100 |\n",
      "| 45 |   0.670808  |   0.428208  | freeze_layer045     | 2018-11-16___22-39-28 |        50 |\n",
      "| 46 |   0.37623   |   0.330849  | change_crop_ratio05 | 2018-11-17___00-06-05 |        50 |\n",
      "| 47 |   0.520772  |   0.487923  | res50_freeze4_3_0   | 2018-11-17___00-20-30 |        15 |\n",
      "| 48 |   0.637632  |   0.560305  | res50_freeze4_3_1   | 2018-11-17___05-01-19 |        30 |\n",
      "| 49 |   0.628333  |   0.390597  | scheduler043_pop    | 2018-11-17___12-04-16 |       100 |\n",
      "| 50 |   0.451383  |   0.399587  | keep_crop_ratio     | 2018-11-17___12-13-19 |        50 |\n",
      "| 51 |   0.694688  |   0.580893  | res50_freeze4_3_2   | 2018-11-17___12-52-00 |        60 |\n",
      "| 52 |   0.670823  |   0.410676  | scheduler043_adam   | 2018-11-17___15-15-39 |       100 |\n",
      "| 53 |   0.449149  |   0.33499   | scheduler043_poly   | 2018-11-17___19-34-57 |       100 |\n",
      "| 54 |   0.45044   |   0.40584   | keep_crop_ratio     | 2018-11-17___20-44-19 |        50 |\n",
      "| 55 |   0.38759   |   0.369896  | change_crop_ratio05 | 2018-11-18___04-43-11 |        50 |\n",
      "| 56 |   0.389605  |   0.375429  | change_crop_ratio05 | 2018-11-18___08-15-41 |        50 |\n",
      "| 57 |   0.874513  |   0.639883  | cycle_sgd_2         | 2018-11-18___09-32-10 |       400 |\n",
      "| 58 |   0.389654  |   0.368599  | change_crop_ratio05 | 2018-11-18___11-42-15 |        50 |\n",
      "| 59 |   0.544159  |   0.502219  | res50_freeze5_3_0   | 2018-11-18___21-49-58 |        15 |\n",
      "| 60 |   0.63801   |   0.561965  | cycle_sgd_0         | 2018-11-18___22-00-18 |        20 |\n",
      "| 61 |   0.674059  |   0.57963   | res50_freeze5_3_1   | 2018-11-19___00-48-58 |        30 |\n",
      "| 62 |   0.705706  |   0.595081  | cycle_sgd_1         | 2018-11-19___01-13-07 |        40 |\n",
      "| 63 |   0.713566  |   0.596853  | res50_freeze5_3_2   | 2018-11-19___06-34-15 |        60 |\n",
      "| 64 |   0.758444  |   0.610479  | cycle_sgd_2         | 2018-11-19___07-30-52 |        80 |\n",
      "| 65 |   0.614322  |   0.488148  | mres50_freeze5_3_0  | 2018-11-20___00-13-26 |        30 |\n",
      "| 66 |   0.70172   |   0.504066  | mres50_freeze5_3_1  | 2018-11-20___14-38-32 |        60 |\n",
      "| 67 |   0.592956  |   0.489685  | fr0.5               | 2018-11-21___00-36-31 |       100 |\n",
      "| 68 |   0.814978  |   0.631636  | cos_lr5_2           | 2018-11-21___01-09-22 |       150 |\n",
      "| 69 |   0.683408  |   0.580683  | ul4_fr0.3           | 2018-11-21___01-15-49 |       100 |\n",
      "| 70 |   0.746501  |   0.624686  | cos_lr5_2           | 2018-11-21___01-59-15 |       150 |\n",
      "| 71 |   0.730959  |   0.501585  | mres50_freeze5_3_2  | 2018-11-21___10-13-09 |       120 |\n",
      "| 72 |   0.70724   |   0.580211  | vgg16_gn            | 2018-12-02___23-15-51 |       100 |\n",
      "| 73 |   0.664645  |   0.539331  | vgg19_gn            | 2018-12-02___23-16-25 |       100 |\n",
      "| 74 |   0.666785  |   0.539916  | vgg19_gn_nopre      | 2018-12-02___23-22-28 |       100 |\n",
      "| 75 |   0.704294  |   0.599245  | vgg19_gn_nopre      | 2018-12-02___23-22-47 |       100 |\n",
      "| 76 |   0.72956   |   0.589235  | vgg16_bn            | 2018-12-03___13-26-29 |       100 |\n",
      "| 77 |   0.701463  |   0.622954  | vgg16_duc           | 2018-12-03___17-22-42 |       100 |\n",
      "| 78 |   0.71189   |   0.588305  | vgg16_gn32          | 2018-12-04___21-01-08 |       100 |\n",
      "| 79 |   0.602388  |   0.481789  | fcn8_vgg16          | 2018-12-04___22-46-33 |       100 |\n",
      "| 80 |   0.711822  |   0.560617  | fcn16_vgg16         | 2018-12-05___13-07-13 |       100 |\n",
      "| 81 |   0.722444  |   0.592189  | fcn32_vgg16         | 2018-12-05___13-07-46 |       100 |\n",
      "| 82 |   0.714108  |   0.616367  | motionnet           | 2018-12-05___17-44-33 |       100 |\n",
      "| 83 |   0.225388  |   0.119103  | min_crop_size       | 2018-12-06___20-53-46 |        50 |\n",
      "| 84 |   0.245791  |   0.123478  | min_crop_size       | 2018-12-06___21-20-35 |        50 |\n",
      "| 85 |   0.252041  |   0.216793  | min_crop_size       | 2018-12-06___22-17-32 |        50 |\n",
      "| 86 |   0.250772  |   0.148659  | min_crop_size       | 2018-12-06___23-22-22 |        50 |\n",
      "| 87 |   0.263122  |   0.16726   | min_crop_size       | 2018-12-07___00-01-16 |        50 |\n",
      "| 88 |   0.694472  |   0.585284  | motionnet           | 2018-12-07___19-02-38 |       100 |\n",
      "| 89 |   0.704552  |   0.571447  | motionnet_nl        | 2018-12-07___19-31-56 |       100 |\n",
      "| 90 |   0.699731  |   0.569535  | motionnet_nl        | 2018-12-09___20-16-21 |       100 |\n",
      "| 91 |   0.678474  |   0.553926  | motionnet_res       | 2018-12-09___20-25-48 |       100 |\n",
      "| 92 |   0.716365  |   0.579735  | motionnet_res       | 2018-12-09___20-26-23 |       100 |\n",
      "| 93 |   0.221328  | nan         | center_loss         | 2019-03-14___18-50-58 |       150 |\n",
      "| 94 |   0.700528  |   0.603254  | center_loss         | 2019-03-14___20-49-50 |       150 |\n",
      "| 95 |   0.597911  |   0.489733  | center_loss         | 2019-03-14___23-32-21 |       150 |\n",
      "| 96 |   0.132616  |   0.145005  | center_loss         | 2019-03-15___14-14-33 |       150 |\n",
      "| 97 |   0.393983  |   0.362395  | center_loss         | 2019-03-15___15-19-56 |       150 |\n",
      "| 98 |   0.565192  |   0.507013  | wo_center_loss      | 2019-03-15___15-21-31 |       150 |\n",
      "| 99 |   0.149774  |   0.172003  | wo_sum_feature      | 2019-03-15___16-25-36 |       150 |\n",
      "\n",
      "\n",
      "|    |     val/iou | dir                                                                                                |\n",
      "|---:|------------:|:---------------------------------------------------------------------------------------------------|\n",
      "| 35 |   0.0229158 | /home/yzbx/tmp/logs/pytorch/pspnet/cityscapes/flcw_no_pop/2018-11-15___23-28-21/config.txt         |\n",
      "| 83 |   0.119103  | /home/yzbx/tmp/logs/pytorch/pspnet/cityscapes/min_crop_size/2018-12-06___20-53-46/config.txt       |\n",
      "| 84 |   0.123478  | /home/yzbx/tmp/logs/pytorch/pspnet/cityscapes/min_crop_size/2018-12-06___21-20-35/config.txt       |\n",
      "| 37 |   0.132536  | /home/yzbx/tmp/logs/pytorch/pspnet/cityscapes/change_crop_ratio/2018-11-16___13-24-36/config.txt   |\n",
      "|  5 |   0.135332  | /home/yzbx/tmp/logs/pytorch/pspnet/voc2012/jupyter001_cycle_0/2018-11-10___22-32-21/config.txt     |\n",
      "| 96 |   0.145005  | /home/yzbx/tmp/logs/pytorch/pspnet/cityscapes/center_loss/2019-03-15___14-14-33/config.txt         |\n",
      "| 86 |   0.148659  | /home/yzbx/tmp/logs/pytorch/pspnet/cityscapes/min_crop_size/2018-12-06___23-22-22/config.txt       |\n",
      "| 87 |   0.16726   | /home/yzbx/tmp/logs/pytorch/pspnet/cityscapes/min_crop_size/2018-12-07___00-01-16/config.txt       |\n",
      "| 41 |   0.168421  | /home/yzbx/tmp/logs/pytorch/pspnet/cityscapes/wo_resnet_head/2018-11-16___19-17-55/config.txt      |\n",
      "| 99 |   0.172003  | /home/yzbx/tmp/logs/pytorch/pspnet/cityscapes/wo_sum_feature/2019-03-15___16-25-36/config.txt      |\n",
      "| 34 |   0.188187  | /home/yzbx/tmp/logs/pytorch/pspnet/cityscapes/change_crop_ratio/2018-11-15___21-34-43/config.txt   |\n",
      "|  6 |   0.190971  | /home/yzbx/tmp/logs/pytorch/pspnet/voc2012/jupyter001_cycle_1/2018-11-10___22-41-08/config.txt     |\n",
      "| 85 |   0.216793  | /home/yzbx/tmp/logs/pytorch/pspnet/cityscapes/min_crop_size/2018-12-06___22-17-32/config.txt       |\n",
      "|  8 |   0.228233  | /home/yzbx/tmp/logs/pytorch/pspnet/voc2012/jupyter001_cycle_2/2018-11-10___22-58-13/config.txt     |\n",
      "|  2 |   0.249211  | /home/yzbx/tmp/logs/pytorch/pspnet/voc2012/jupyter001_cycle_2/2018-11-09___19-29-31/config.txt     |\n",
      "| 40 |   0.311546  | /home/yzbx/tmp/logs/pytorch/pspnet/cityscapes/w_resnet_head/2018-11-16___18-57-28/config.txt       |\n",
      "| 39 |   0.325898  | /home/yzbx/tmp/logs/pytorch/pspnet/cityscapes/change_crop_ratio04/2018-11-16___14-49-03/config.txt |\n",
      "| 46 |   0.330849  | /home/yzbx/tmp/logs/pytorch/pspnet/cityscapes/change_crop_ratio05/2018-11-17___00-06-05/config.txt |\n",
      "| 53 |   0.33499   | /home/yzbx/tmp/logs/pytorch/pspnet/cityscapes/scheduler043_poly/2018-11-17___19-34-57/config.txt   |\n",
      "| 38 |   0.346508  | /home/yzbx/tmp/logs/pytorch/pspnet/cityscapes/change_crop_ratio/2018-11-16___13-32-50/config.txt   |\n",
      "| 97 |   0.362395  | /home/yzbx/tmp/logs/pytorch/pspnet/cityscapes/center_loss/2019-03-15___15-19-56/config.txt         |\n",
      "| 58 |   0.368599  | /home/yzbx/tmp/logs/pytorch/pspnet/cityscapes/change_crop_ratio05/2018-11-18___11-42-15/config.txt |\n",
      "| 55 |   0.369896  | /home/yzbx/tmp/logs/pytorch/pspnet/cityscapes/change_crop_ratio05/2018-11-18___04-43-11/config.txt |\n",
      "|  0 |   0.372586  | /home/yzbx/tmp/logs/pytorch/pspnet/voc2012/jupyter003/2018-11-09___19-03-44/config.txt             |\n",
      "| 56 |   0.375429  | /home/yzbx/tmp/logs/pytorch/pspnet/cityscapes/change_crop_ratio05/2018-11-18___08-15-41/config.txt |\n",
      "| 49 |   0.390597  | /home/yzbx/tmp/logs/pytorch/pspnet/cityscapes/scheduler043_pop/2018-11-17___12-04-16/config.txt    |\n",
      "| 42 |   0.393496  | /home/yzbx/tmp/logs/pytorch/pspnet/cityscapes/freeze_layer045/2018-11-16___20-25-32/config.txt     |\n",
      "| 50 |   0.399587  | /home/yzbx/tmp/logs/pytorch/pspnet/cityscapes/keep_crop_ratio/2018-11-17___12-13-19/config.txt     |\n",
      "| 54 |   0.40584   | /home/yzbx/tmp/logs/pytorch/pspnet/cityscapes/keep_crop_ratio/2018-11-17___20-44-19/config.txt     |\n",
      "| 13 |   0.408618  | /home/yzbx/tmp/logs/pytorch/pspnet/voc2012/vgg19_bn_psp/2018-11-10___23-29-48/config.txt           |\n",
      "| 52 |   0.410676  | /home/yzbx/tmp/logs/pytorch/pspnet/cityscapes/scheduler043_adam/2018-11-17___15-15-39/config.txt   |\n",
      "|  7 |   0.412924  | /home/yzbx/tmp/logs/pytorch/pspnet/voc2012/jupyter001_cycle_0/2018-11-10___22-56-52/config.txt     |\n",
      "| 33 |   0.414462  | /home/yzbx/tmp/logs/pytorch/pspnet/cityscapes/keep_crop_ratio/2018-11-15___21-33-19/config.txt     |\n",
      "| 11 |   0.421898  | /home/yzbx/tmp/logs/pytorch/pspnet/voc2012/jupyter001_cycle_1/2018-11-10___23-14-06/config.txt     |\n",
      "| 45 |   0.428208  | /home/yzbx/tmp/logs/pytorch/pspnet/cityscapes/freeze_layer045/2018-11-16___22-39-28/config.txt     |\n",
      "| 28 |   0.431579  | /home/yzbx/tmp/logs/pytorch/pspnet/cityscapes/flcw_poly_rop_ft/2018-11-13___15-07-56/config.txt    |\n",
      "| 10 |   0.431868  | /home/yzbx/tmp/logs/pytorch/pspnet/cityscapes/fl_cw_alpha7_ft2_0/2018-11-10___23-10-58/config.txt  |\n",
      "| 14 |   0.435213  | /home/yzbx/tmp/logs/pytorch/pspnet/voc2012/jupyter001_cycle_2/2018-11-10___23-48-27/config.txt     |\n",
      "| 25 |   0.436921  | /home/yzbx/tmp/logs/pytorch/pspnet/cityscapes/fl_plateau_ul4/2018-11-12___23-19-51/config.txt      |\n",
      "| 15 |   0.441564  | /home/yzbx/tmp/logs/pytorch/pspnet/cityscapes/fl_cw_alpha7_ft2_1/2018-11-11___03-18-18/config.txt  |\n",
      "| 16 |   0.443782  | /home/yzbx/tmp/logs/pytorch/pspnet/cityscapes/fl_cw_alpha7_ft2_2/2018-11-11___11-26-20/config.txt  |\n",
      "| 24 |   0.443785  | /home/yzbx/tmp/logs/pytorch/pspnet/cityscapes/fl_plateau_ul4/2018-11-12___23-10-24/config.txt      |\n",
      "|  9 |   0.451766  | /home/yzbx/tmp/logs/pytorch/pspnet/cityscapes/fl_cw_alpha7/2018-11-10___23-05-39/config.txt        |\n",
      "| 22 |   0.454455  | /home/yzbx/tmp/logs/pytorch/pspnet/cityscapes/plateau/2018-11-12___22-16-55/config.txt             |\n",
      "| 27 |   0.463747  | /home/yzbx/tmp/logs/pytorch/pspnet/cityscapes/fl_poly_rop/2018-11-13___15-06-54/config.txt         |\n",
      "| 26 |   0.463881  | /home/yzbx/tmp/logs/pytorch/pspnet/cityscapes/fl_poly_rop/2018-11-13___15-01-42/config.txt         |\n",
      "| 44 |   0.472562  | /home/yzbx/tmp/logs/pytorch/pspnet/cityscapes/w_resnet_head2/2018-11-16___20-53-31/config.txt      |\n",
      "| 19 |   0.473572  | /home/yzbx/tmp/logs/pytorch/pspnet/cityscapes/vgg16_fz_psp/2018-11-11___21-28-10/config.txt        |\n",
      "|  1 |   0.480891  | /home/yzbx/tmp/logs/pytorch/pspnet/cityscapes/jupyter004_0/2018-11-09___19-10-56/config.txt        |\n",
      "| 79 |   0.481789  | /home/yzbx/tmp/logs/pytorch/fcn/cityscapes/fcn8_vgg16/2018-12-04___22-46-33/config.txt             |\n",
      "| 47 |   0.487923  | /home/yzbx/tmp/logs/pytorch/pspnet/cityscapes/res50_freeze4_3_0/2018-11-17___00-20-30/config.txt   |\n",
      "| 65 |   0.488148  | /home/yzbx/tmp/logs/pytorch/pspnet/cityscapes/mres50_freeze5_3_0/2018-11-20___00-13-26/config.txt  |\n",
      "| 67 |   0.489685  | /home/yzbx/tmp/logs/pytorch/pspnet/cityscapes/fr0.5/2018-11-21___00-36-31/config.txt               |\n",
      "| 95 |   0.489733  | /home/yzbx/tmp/logs/pytorch/pspnet/cityscapes/center_loss/2019-03-14___23-32-21/config.txt         |\n",
      "| 71 |   0.501585  | /home/yzbx/tmp/logs/pytorch/pspnet/cityscapes/mres50_freeze5_3_2/2018-11-21___10-13-09/config.txt  |\n",
      "| 59 |   0.502219  | /home/yzbx/tmp/logs/pytorch/pspnet/cityscapes/res50_freeze5_3_0/2018-11-18___21-49-58/config.txt   |\n",
      "| 66 |   0.504066  | /home/yzbx/tmp/logs/pytorch/pspnet/cityscapes/mres50_freeze5_3_1/2018-11-20___14-38-32/config.txt  |\n",
      "| 98 |   0.507013  | /home/yzbx/tmp/logs/pytorch/pspnet/cityscapes/wo_center_loss/2019-03-15___15-21-31/config.txt      |\n",
      "| 23 |   0.515256  | /home/yzbx/tmp/logs/pytorch/pspnet/cityscapes/fl_plateau_ft/2018-11-12___22-58-04/config.txt       |\n",
      "| 29 |   0.517956  | /home/yzbx/tmp/logs/pytorch/pspnet/cityscapes/flcw_pop/2018-11-13___23-36-58/config.txt            |\n",
      "| 20 |   0.523931  | /home/yzbx/tmp/logs/pytorch/pspnet/cityscapes/vgg11_psp/2018-11-11___22-20-13/config.txt           |\n",
      "| 73 |   0.539331  | /home/yzbx/tmp/logs/pytorch/pspnet/cityscapes/vgg19_gn/2018-12-02___23-16-25/config.txt            |\n",
      "| 74 |   0.539916  | /home/yzbx/tmp/logs/pytorch/pspnet/cityscapes/vgg19_gn_nopre/2018-12-02___23-22-28/config.txt      |\n",
      "| 91 |   0.553926  | /home/yzbx/tmp/logs/pytorch/motionnet/cityscapes/motionnet_res/2018-12-09___20-25-48/config.txt    |\n",
      "| 48 |   0.560305  | /home/yzbx/tmp/logs/pytorch/pspnet/cityscapes/res50_freeze4_3_1/2018-11-17___05-01-19/config.txt   |\n",
      "| 80 |   0.560617  | /home/yzbx/tmp/logs/pytorch/fcn/cityscapes/fcn16_vgg16/2018-12-05___13-07-13/config.txt            |\n",
      "| 17 |   0.561583  | /home/yzbx/tmp/logs/pytorch/pspnet/cityscapes/cycle_sgd_0/2018-11-11___18-06-18/config.txt         |\n",
      "| 60 |   0.561965  | /home/yzbx/tmp/logs/pytorch/pspnet/cityscapes/cycle_sgd_0/2018-11-18___22-00-18/config.txt         |\n",
      "| 90 |   0.569535  | /home/yzbx/tmp/logs/pytorch/motionnet/cityscapes/motionnet_nl/2018-12-09___20-16-21/config.txt     |\n",
      "| 89 |   0.571447  | /home/yzbx/tmp/logs/pytorch/motionnet/cityscapes/motionnet_nl/2018-12-07___19-31-56/config.txt     |\n",
      "| 31 |   0.57696   | /home/yzbx/tmp/logs/pytorch/pspnet/cityscapes/cycle_sgd_0/2018-11-14___22-47-06/config.txt         |\n",
      "| 61 |   0.57963   | /home/yzbx/tmp/logs/pytorch/pspnet/cityscapes/res50_freeze5_3_1/2018-11-19___00-48-58/config.txt   |\n",
      "| 92 |   0.579735  | /home/yzbx/tmp/logs/pytorch/motionnet/cityscapes/motionnet_res/2018-12-09___20-26-23/config.txt    |\n",
      "| 72 |   0.580211  | /home/yzbx/tmp/logs/pytorch/pspnet/cityscapes/vgg16_gn/2018-12-02___23-15-51/config.txt            |\n",
      "| 69 |   0.580683  | /home/yzbx/tmp/logs/pytorch/pspnet/cityscapes/ul4_fr0.3/2018-11-21___01-15-49/config.txt           |\n",
      "| 51 |   0.580893  | /home/yzbx/tmp/logs/pytorch/pspnet/cityscapes/res50_freeze4_3_2/2018-11-17___12-52-00/config.txt   |\n",
      "|  3 |   0.583679  | /home/yzbx/tmp/logs/pytorch/pspnet/cityscapes/jupyter004_1/2018-11-09___23-02-22/config.txt        |\n",
      "| 88 |   0.585284  | /home/yzbx/tmp/logs/pytorch/motionnet/cityscapes/motionnet/2018-12-07___19-02-38/config.txt        |\n",
      "| 78 |   0.588305  | /home/yzbx/tmp/logs/pytorch/pspnet/cityscapes/vgg16_gn32/2018-12-04___21-01-08/config.txt          |\n",
      "| 76 |   0.589235  | /home/yzbx/tmp/logs/pytorch/pspnet/cityscapes/vgg16_bn/2018-12-03___13-26-29/config.txt            |\n",
      "| 36 |   0.591652  | /home/yzbx/tmp/logs/pytorch/pspnet/cityscapes/fl_pop/2018-11-16___00-02-28/config.txt              |\n",
      "| 81 |   0.592189  | /home/yzbx/tmp/logs/pytorch/fcn/cityscapes/fcn32_vgg16/2018-12-05___13-07-46/config.txt            |\n",
      "| 43 |   0.593148  | /home/yzbx/tmp/logs/pytorch/pspnet/cityscapes/vgg19_freeze3_5/2018-11-16___20-47-03/config.txt     |\n",
      "| 62 |   0.595081  | /home/yzbx/tmp/logs/pytorch/pspnet/cityscapes/cycle_sgd_1/2018-11-19___01-13-07/config.txt         |\n",
      "| 63 |   0.596853  | /home/yzbx/tmp/logs/pytorch/pspnet/cityscapes/res50_freeze5_3_2/2018-11-19___06-34-15/config.txt   |\n",
      "| 75 |   0.599245  | /home/yzbx/tmp/logs/pytorch/pspnet/cityscapes/vgg19_gn_nopre/2018-12-02___23-22-47/config.txt      |\n",
      "| 94 |   0.603254  | /home/yzbx/tmp/logs/pytorch/pspnet/cityscapes/center_loss/2019-03-14___20-49-50/config.txt         |\n",
      "| 64 |   0.610479  | /home/yzbx/tmp/logs/pytorch/pspnet/cityscapes/cycle_sgd_2/2018-11-19___07-30-52/config.txt         |\n",
      "| 82 |   0.616367  | /home/yzbx/tmp/logs/pytorch/motionnet/cityscapes/motionnet/2018-12-05___17-44-33/config.txt        |\n",
      "|  4 |   0.620921  | /home/yzbx/tmp/logs/pytorch/pspnet/cityscapes/jupyter004_2/2018-11-10___06-20-27/config.txt        |\n",
      "| 77 |   0.622954  | /home/yzbx/tmp/logs/pytorch/pspnet/cityscapes/vgg16_duc/2018-12-03___17-22-42/config.txt           |\n",
      "| 32 |   0.623333  | /home/yzbx/tmp/logs/pytorch/pspnet/cityscapes/cycle_sgd_1/2018-11-15___15-34-49/config.txt         |\n",
      "| 70 |   0.624686  | /home/yzbx/tmp/logs/pytorch/pspnet/cityscapes/cos_lr5_2/2018-11-21___01-59-15/config.txt           |\n",
      "| 21 |   0.626912  | /home/yzbx/tmp/logs/pytorch/pspnet/cityscapes/cycle_sgd_1/2018-11-12___18-18-22/config.txt         |\n",
      "| 68 |   0.631636  | /home/yzbx/tmp/logs/pytorch/pspnet/cityscapes/cos_lr5_2/2018-11-21___01-09-22/config.txt           |\n",
      "| 57 |   0.639883  | /home/yzbx/tmp/logs/pytorch/pspnet/cityscapes/cycle_sgd_2/2018-11-18___09-32-10/config.txt         |\n",
      "| 30 |   0.651515  | /home/yzbx/tmp/logs/pytorch/pspnet/cityscapes/cycle_sgd_2/2018-11-14___17-00-00/config.txt         |\n",
      "| 12 | nan         | /home/yzbx/tmp/logs/pytorch/pspnet/cityscapes/cycle_sgd_0/2018-11-10___23-17-14/config.txt         |\n",
      "| 18 | nan         | /home/yzbx/tmp/logs/pytorch/pspnet/cityscapes/cycle_sgd_0/2018-11-11___18-13-13/config.txt         |\n",
      "| 93 | nan         | /home/yzbx/tmp/logs/pytorch/pspnet/cityscapes/center_loss/2019-03-14___18-50-58/config.txt         |\n",
      "\n",
      "\n"
     ]
    }
   ],
   "source": [
    "rootpath=os.path.expanduser('~/tmp/logs/pytorch')\n",
    "tags=['train/iou','val/iou']\n",
    "notes=['today','recent']\n",
    "note_gtags=[['log_time'],\n",
    "           ['log_time']]\n",
    "dump(tags,rootpath,notes,note_gtags,dump_dir=True)"
   ]
  },
  {
   "cell_type": "code",
   "execution_count": null,
   "metadata": {},
   "outputs": [],
   "source": []
  }
 ],
 "metadata": {
  "kernelspec": {
   "display_name": "Python [conda env:new]",
   "language": "python",
   "name": "conda-env-new-py"
  },
  "language_info": {
   "codemirror_mode": {
    "name": "ipython",
    "version": 3
   },
   "file_extension": ".py",
   "mimetype": "text/x-python",
   "name": "python",
   "nbconvert_exporter": "python",
   "pygments_lexer": "ipython3",
   "version": "3.6.5"
  },
  "nbpresent": {
   "slides": {},
   "themes": {
    "default": "fc255d06-66c6-4a6b-a8c4-42a6f20eb29b",
    "theme": {
     "738f3cfd-9013-49aa-939c-a1216d389da2": {
      "backgrounds": {
       "dc7afa04-bf90-40b1-82a5-726e3cff5267": {
        "background-color": "31af15d2-7e15-44c5-ab5e-e04b16a89eff",
        "id": "dc7afa04-bf90-40b1-82a5-726e3cff5267"
       }
      },
      "id": "738f3cfd-9013-49aa-939c-a1216d389da2",
      "palette": {
       "19cc588f-0593-49c9-9f4b-e4d7cc113b1c": {
        "id": "19cc588f-0593-49c9-9f4b-e4d7cc113b1c",
        "rgb": [
         252,
         252,
         252
        ]
       },
       "31af15d2-7e15-44c5-ab5e-e04b16a89eff": {
        "id": "31af15d2-7e15-44c5-ab5e-e04b16a89eff",
        "rgb": [
         68,
         68,
         68
        ]
       },
       "50f92c45-a630-455b-aec3-788680ec7410": {
        "id": "50f92c45-a630-455b-aec3-788680ec7410",
        "rgb": [
         197,
         226,
         245
        ]
       },
       "c5cc3653-2ee1-402a-aba2-7caae1da4f6c": {
        "id": "c5cc3653-2ee1-402a-aba2-7caae1da4f6c",
        "rgb": [
         43,
         126,
         184
        ]
       },
       "efa7f048-9acb-414c-8b04-a26811511a21": {
        "id": "efa7f048-9acb-414c-8b04-a26811511a21",
        "rgb": [
         25.118061674008803,
         73.60176211453744,
         107.4819383259912
        ]
       }
      },
      "rules": {
       "a": {
        "color": "19cc588f-0593-49c9-9f4b-e4d7cc113b1c"
       },
       "blockquote": {
        "color": "50f92c45-a630-455b-aec3-788680ec7410",
        "font-size": 3
       },
       "code": {
        "font-family": "Anonymous Pro"
       },
       "h1": {
        "color": "19cc588f-0593-49c9-9f4b-e4d7cc113b1c",
        "font-family": "Merriweather",
        "font-size": 8
       },
       "h2": {
        "color": "19cc588f-0593-49c9-9f4b-e4d7cc113b1c",
        "font-family": "Merriweather",
        "font-size": 6
       },
       "h3": {
        "color": "50f92c45-a630-455b-aec3-788680ec7410",
        "font-family": "Lato",
        "font-size": 5.5
       },
       "h4": {
        "color": "c5cc3653-2ee1-402a-aba2-7caae1da4f6c",
        "font-family": "Lato",
        "font-size": 5
       },
       "h5": {
        "font-family": "Lato"
       },
       "h6": {
        "font-family": "Lato"
       },
       "h7": {
        "font-family": "Lato"
       },
       "li": {
        "color": "50f92c45-a630-455b-aec3-788680ec7410",
        "font-size": 3.25
       },
       "pre": {
        "font-family": "Anonymous Pro",
        "font-size": 4
       }
      },
      "text-base": {
       "color": "19cc588f-0593-49c9-9f4b-e4d7cc113b1c",
       "font-family": "Lato",
       "font-size": 4
      }
     },
     "fc255d06-66c6-4a6b-a8c4-42a6f20eb29b": {
      "backgrounds": {
       "backgroundColor": {
        "background-color": "backgroundColor",
        "id": "backgroundColor"
       }
      },
      "id": "fc255d06-66c6-4a6b-a8c4-42a6f20eb29b",
      "palette": {
       "backgroundColor": {
        "id": "backgroundColor",
        "rgb": [
         34,
         34,
         34
        ]
       },
       "headingColor": {
        "id": "headingColor",
        "rgb": [
         256,
         256,
         256
        ]
       },
       "linkColor": {
        "id": "linkColor",
        "rgb": [
         66,
         175,
         250
        ]
       },
       "mainColor": {
        "id": "mainColor",
        "rgb": [
         256,
         256,
         256
        ]
       }
      },
      "rules": {
       "a": {
        "color": "linkColor"
       },
       "h1": {
        "color": "headingColor",
        "font-family": "Source Sans Pro",
        "font-size": 5.25
       },
       "h2": {
        "color": "headingColor",
        "font-family": "Source Sans Pro",
        "font-size": 4
       },
       "h3": {
        "color": "headingColor",
        "font-family": "Source Sans Pro",
        "font-size": 3.5
       },
       "h4": {
        "color": "headingColor",
        "font-family": "Source Sans Pro",
        "font-size": 3
       },
       "h5": {
        "color": "headingColor",
        "font-family": "Source Sans Pro"
       },
       "h6": {
        "color": "headingColor",
        "font-family": "Source Sans Pro"
       },
       "h7": {
        "color": "headingColor",
        "font-family": "Source Sans Pro"
       },
       "li": {
        "color": "mainColor",
        "font-family": "Source Sans Pro",
        "font-size": 6
       },
       "p": {
        "color": "mainColor",
        "font-family": "Source Sans Pro",
        "font-size": 6
       }
      },
      "text-base": {
       "color": "mainColor",
       "font-family": "Source Sans Pro",
       "font-size": 6
      }
     }
    }
   }
  }
 },
 "nbformat": 4,
 "nbformat_minor": 2
}
