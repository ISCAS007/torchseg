{
 "cells": [
  {
   "cell_type": "code",
   "execution_count": 8,
   "metadata": {
    "scrolled": true
   },
   "outputs": [
    {
     "name": "stdout",
     "output_type": "stream",
     "text": [
      "['/home/yzbx/git/torchseg', '/home/yzbx/git/torchseg', '', '/home/yzbx/git/torchseg/notebooks', '/home/yzbx/git/gnu/models/research', '/home/yzbx/git/gnu/models/research/slim', '/home/yzbx/bin/miniconda3/envs/new/lib/python36.zip', '/home/yzbx/bin/miniconda3/envs/new/lib/python3.6', '/home/yzbx/bin/miniconda3/envs/new/lib/python3.6/lib-dynload', '/home/yzbx/bin/miniconda3/envs/new/lib/python3.6/site-packages', '/home/yzbx/bin/miniconda3/envs/new/lib/python3.6/site-packages/cityscapesscripts-1.0.0-py3.6-linux-x86_64.egg', '/home/yzbx/bin/miniconda3/envs/new/lib/python3.6/site-packages/torchvision-0.2.1-py3.6.egg', '/home/yzbx/bin/miniconda3/envs/new/lib/python3.6/site-packages/IPython/extensions', '/home/yzbx/.ipython']\n"
     ]
    }
   ],
   "source": [
    "import pandas as pd\n",
    "import tensorflow as tf\n",
    "from glob import glob\n",
    "import numpy as np\n",
    "from easydict import EasyDict as edict\n",
    "import os\n",
    "import time\n",
    "import sys\n",
    "\n",
    "sys.path.insert(0,os.path.expanduser('~/git/torchseg'))\n",
    "print(sys.path)\n",
    "\n",
    "from utils.config import load_config\n",
    "from utils.summary_to_csv import config_to_log,load_log,edict_to_pandas\n",
    "\n",
    "def summary(rootpath,tags,filter_str=None,):\n",
    "    config_files=glob(os.path.join(rootpath,'**','config.txt'),recursive=True)\n",
    "    if filter_str is not None:\n",
    "        config_files=[f for f in config_files if f.find(filter_str)>=0]\n",
    "    \n",
    "    tasks=pd.DataFrame()\n",
    "    for cfg in config_files:\n",
    "        log=config_to_log(cfg)\n",
    "        if log is not None:\n",
    "            ed=load_config(cfg)\n",
    "            metrics=load_log(log,tags)\n",
    "            for key,value in metrics.items():\n",
    "                ed[key]=value\n",
    "                \n",
    "            task=edict_to_pandas(ed)\n",
    "            tasks=tasks.append(task,ignore_index=True,sort=False)\n",
    "        else:\n",
    "            print('cannot find log file for',cfg)\n",
    "            \n",
    "    return tasks"
   ]
  },
  {
   "cell_type": "code",
   "execution_count": 11,
   "metadata": {},
   "outputs": [
    {
     "name": "stdout",
     "output_type": "stream",
     "text": [
      "   train/iou   val/iou        note\n",
      "0   0.459440  0.403973       caffe\n",
      "1   0.460660  0.405963     pytorch\n",
      "2   0.463188  0.416964  cityscapes\n",
      "3   0.460112  0.400258        -1,1\n",
      "4   0.460654  0.401508         0,1\n"
     ]
    }
   ],
   "source": [
    "rootpath=os.path.expanduser('~/tmp/logs/pytorch')\n",
    "tags=['train/iou','val/iou']\n",
    "filters=['caffe','pytorch','cityscapes','-1,1','0,1']\n",
    "\n",
    "group_str='note'\n",
    "group_tags=tags.copy()\n",
    "group_tags.append(group_str)\n",
    "    \n",
    "tasks=summary(rootpath,tags)\n",
    "filter_tasks=pd.DataFrame()\n",
    "for filter_str in filters:\n",
    "    filter_tasks=filter_tasks.append(tasks[tasks[group_str]==filter_str][group_tags],ignore_index=True,sort=False)\n",
    "\n",
    "print(filter_tasks.to_string())"
   ]
  },
  {
   "cell_type": "code",
   "execution_count": 45,
   "metadata": {},
   "outputs": [],
   "source": [
    "rootpath=os.path.expanduser('~/tmp/logs/pytorch')\n",
    "tags=['train/iou','val/iou']\n",
    "configs=[\n",
    "    {'filter_str':'hyperopt004',\n",
    "    'group_str':'norm_ways'},\n",
    "    {'filter_str':'hyperopt005',\n",
    "    'group_str':'l2_reg'},\n",
    "    {'filter_str':'hyperopt006',\n",
    "    'group_str':'l2_reg'},\n",
    "    {'filter_str':'hyperopt007',\n",
    "    'group_str':'norm_ways'},\n",
    "    {'filter_str':'hyperopt008',\n",
    "    'group_str':'norm_ways'},\n",
    "    {'filter_str':'hyperopt009',\n",
    "    'group_str':'norm_ways'},\n",
    "    {'filter_str':'hyperopt010',\n",
    "    'group_str':'norm_ways'},\n",
    "]\n",
    "\n",
    "pd_strs=[]\n",
    "for config in configs:\n",
    "    tasks=summary(rootpath,tags,config['filter_str'])\n",
    "    group_str=config['group_str']\n",
    "    group_tags=tags.copy()\n",
    "    group_tags.append(group_str)\n",
    "    max_str=tasks[group_tags].groupby([group_str]).max().to_string()\n",
    "    mean_str=tasks[group_tags].groupby([group_str]).mean().to_string()\n",
    "    \n",
    "    pd_strs.append((max_str,mean_str))"
   ]
  },
  {
   "cell_type": "code",
   "execution_count": 6,
   "metadata": {},
   "outputs": [
    {
     "name": "stdout",
     "output_type": "stream",
     "text": [
      "max hyperopt004 norm_ways ******************************\n",
      "            train/iou   val/iou\n",
      "norm_ways                      \n",
      "-1,1         0.737600  0.222334\n",
      "0,1          0.733858  0.206601\n",
      "caffe        0.737186  0.214802\n",
      "cityscapes   0.743215  0.231846\n",
      "pytorch      0.730023  0.208678\n",
      "mean hyperopt004 norm_ways ******************************\n",
      "            train/iou   val/iou\n",
      "norm_ways                      \n",
      "-1,1         0.731978  0.186179\n",
      "0,1          0.728715  0.189355\n",
      "caffe        0.711750  0.191525\n",
      "cityscapes   0.727899  0.200267\n",
      "pytorch      0.727013  0.187163\n",
      "max hyperopt005 l2_reg ******************************\n",
      "        train/iou   val/iou\n",
      "l2_reg                     \n",
      "0.0001   0.745121  0.221688\n",
      "0.001    0.725888  0.221025\n",
      "0.01     0.711914  0.220541\n",
      "0.1      0.533035  0.197450\n",
      "1e-05    0.738100  0.209281\n",
      "mean hyperopt005 l2_reg ******************************\n",
      "        train/iou   val/iou\n",
      "l2_reg                     \n",
      "0.0001   0.727874  0.191264\n",
      "0.001    0.721769  0.185075\n",
      "0.01     0.694604  0.194846\n",
      "0.1      0.516797  0.181090\n",
      "1e-05    0.729217  0.187572\n",
      "max hyperopt006 l2_reg ******************************\n",
      "        train/iou   val/iou\n",
      "l2_reg                     \n",
      "0.0001   0.797486  0.377943\n",
      "0.001    0.783965  0.381637\n",
      "0.01     0.658299  0.366019\n",
      "0.1      0.349307  0.254865\n",
      "1e-05    0.788434  0.378732\n",
      "mean hyperopt006 l2_reg ******************************\n",
      "        train/iou   val/iou\n",
      "l2_reg                     \n",
      "0.0001   0.785462  0.370618\n",
      "0.001    0.777588  0.374658\n",
      "0.01     0.651019  0.349297\n",
      "0.1      0.340829  0.241365\n",
      "1e-05    0.782067  0.373603\n",
      "max hyperopt007 norm_ways ******************************\n",
      "            train/iou   val/iou\n",
      "norm_ways                      \n",
      "-1,1         0.796653  0.377777\n",
      "0,1          0.797381  0.381825\n",
      "caffe        0.789363  0.379361\n",
      "cityscapes   0.793626  0.392324\n",
      "pytorch      0.792334  0.383774\n",
      "mean hyperopt007 norm_ways ******************************\n",
      "            train/iou   val/iou\n",
      "norm_ways                      \n",
      "-1,1         0.787498  0.364685\n",
      "0,1          0.783770  0.368864\n",
      "caffe        0.782131  0.371920\n",
      "cityscapes   0.785335  0.371775\n",
      "pytorch      0.782552  0.368613\n",
      "max hyperopt008 norm_ways ******************************\n",
      "            train/iou   val/iou\n",
      "norm_ways                      \n",
      "-1,1         0.734129  0.223043\n",
      "0,1          0.743829  0.209925\n",
      "caffe        0.740234  0.203969\n",
      "cityscapes   0.734632  0.216859\n",
      "pytorch      0.737144  0.216049\n",
      "mean hyperopt008 norm_ways ******************************\n",
      "            train/iou   val/iou\n",
      "norm_ways                      \n",
      "-1,1         0.725734  0.190831\n",
      "0,1          0.729589  0.193581\n",
      "caffe        0.731093  0.184074\n",
      "cityscapes   0.725789  0.199930\n",
      "pytorch      0.726876  0.189584\n",
      "max hyperopt009 norm_ways ******************************\n",
      "            train/iou   val/iou\n",
      "norm_ways                      \n",
      "-1,1         0.715410  0.204841\n",
      "0,1          0.716581  0.205622\n",
      "caffe        0.714231  0.202703\n",
      "cityscapes   0.718410  0.207391\n",
      "pytorch      0.719986  0.215195\n",
      "mean hyperopt009 norm_ways ******************************\n",
      "            train/iou   val/iou\n",
      "norm_ways                      \n",
      "-1,1         0.706099  0.187279\n",
      "0,1          0.709263  0.185067\n",
      "caffe        0.710132  0.183899\n",
      "cityscapes   0.706856  0.178887\n",
      "pytorch      0.706030  0.184660\n",
      "max hyperopt010 norm_ways ******************************\n",
      "            train/iou   val/iou\n",
      "norm_ways                      \n",
      "-1,1         0.676492  0.152615\n",
      "0,1          0.679592  0.154941\n",
      "caffe        0.684939  0.150943\n",
      "cityscapes   0.681049  0.126306\n",
      "pytorch      0.680471  0.150084\n",
      "mean hyperopt010 norm_ways ******************************\n",
      "            train/iou   val/iou\n",
      "norm_ways                      \n",
      "-1,1         0.656932  0.132506\n",
      "0,1          0.655741  0.137881\n",
      "caffe        0.662873  0.133385\n",
      "cityscapes   0.654435  0.121993\n",
      "pytorch      0.653812  0.130335\n"
     ]
    }
   ],
   "source": [
    "for d,(max_str,mean_str) in zip(configs,pd_strs):\n",
    "    print('max',d['filter_str'],d['group_str'],'*'*30)\n",
    "    print(max_str)\n",
    "    print('mean',d['filter_str'],d['group_str'],'*'*30)\n",
    "    print(mean_str)"
   ]
  },
  {
   "cell_type": "code",
   "execution_count": 52,
   "metadata": {},
   "outputs": [
    {
     "name": "stdout",
     "output_type": "stream",
     "text": [
      "   train/iou   val/iou        note\n",
      "0    0.73829  0.526092  wo_lr_mult\n",
      "   train/iou   val/iou       note\n",
      "0   0.718299  0.532547  w_lr_mult\n",
      "   train/iou   val/iou             note learning_rate\n",
      "4   0.463188  0.416964       cityscapes         0.001\n",
      "1   0.560245  0.477189  cityscapes_5e-4        0.0005\n",
      "5   0.687637  0.528059  cityscapes_2e-4        0.0002\n",
      "3   0.723264  0.528135       cityscapes        0.0001\n",
      "2   0.697064  0.534142  cityscapes_2e-5         2e-05\n",
      "0   0.714838  0.537532  cityscapes_5e-5         5e-05\n",
      "    train/iou   val/iou         note     use_lr_mult\n",
      "43   0.715835  0.149177  hyperopt011  [False, False]\n",
      "30   0.722474  0.159253  hyperopt011   [True, False]\n",
      "24   0.732672  0.163634  hyperopt011  [False, False]\n",
      "48   0.731854  0.168646  hyperopt011    [True, True]\n",
      "32   0.721646  0.168952  hyperopt011    [True, True]\n",
      "5    0.725330  0.169306  hyperopt011    [True, True]\n",
      "7    0.720225  0.170528  hyperopt011   [True, False]\n",
      "1    0.736799  0.171190  hyperopt011   [True, False]\n",
      "0    0.725113  0.174641  hyperopt011  [False, False]\n",
      "35   0.736476  0.174701  hyperopt011   [True, False]\n",
      "37   0.735646  0.176244  hyperopt011   [True, False]\n",
      "3    0.725902  0.178999  hyperopt011  [False, False]\n",
      "19   0.733508  0.180876  hyperopt011   [True, False]\n",
      "10   0.733051  0.183754  hyperopt011  [False, False]\n",
      "11   0.722264  0.187104  hyperopt011    [True, True]\n",
      "16   0.724487  0.187726  hyperopt011  [False, False]\n",
      "42   0.721065  0.189568  hyperopt011   [True, False]\n",
      "15   0.735773  0.189588  hyperopt011    [True, True]\n",
      "2    0.733675  0.191971  hyperopt011    [True, True]\n",
      "47   0.730563  0.193569  hyperopt011   [False, True]\n",
      "14   0.727196  0.193808  hyperopt011  [False, False]\n",
      "34   0.748290  0.193861  hyperopt011    [True, True]\n",
      "18   0.727700  0.194592  hyperopt011   [True, False]\n",
      "33   0.729695  0.194983  hyperopt011   [True, False]\n",
      "36   0.723037  0.195320  hyperopt011   [True, False]\n",
      "45   0.725843  0.195330  hyperopt011    [True, True]\n",
      "23   0.730122  0.195397  hyperopt011   [True, False]\n",
      "17   0.733639  0.195843  hyperopt011   [False, True]\n",
      "26   0.722372  0.195874  hyperopt011   [True, False]\n",
      "21   0.725336  0.195934  hyperopt011   [True, False]\n",
      "9    0.723781  0.196605  hyperopt011    [True, True]\n",
      "29   0.725503  0.196718  hyperopt011  [False, False]\n",
      "46   0.731377  0.196820  hyperopt011  [False, False]\n",
      "25   0.730586  0.197004  hyperopt011  [False, False]\n",
      "13   0.730602  0.198221  hyperopt011  [False, False]\n",
      "20   0.716623  0.198539  hyperopt011    [True, True]\n",
      "6    0.744329  0.198558  hyperopt011   [True, False]\n",
      "39   0.722081  0.198684  hyperopt011  [False, False]\n",
      "27   0.730415  0.198869  hyperopt011   [False, True]\n",
      "41   0.722216  0.199866  hyperopt011  [False, False]\n",
      "49   0.734115  0.199913  hyperopt011   [False, True]\n",
      "38   0.731579  0.200216  hyperopt011   [True, False]\n",
      "40   0.722684  0.200300  hyperopt011  [False, False]\n",
      "8    0.723205  0.202396  hyperopt011   [True, False]\n",
      "31   0.728223  0.204266  hyperopt011   [False, True]\n",
      "28   0.725556  0.206815  hyperopt011    [True, True]\n",
      "22   0.730780  0.207582  hyperopt011    [True, True]\n",
      "4    0.728857  0.210649  hyperopt011  [False, False]\n",
      "12   0.734560  0.215217  hyperopt011   [False, True]\n",
      "44   0.726977  0.215824  hyperopt011   [False, True]\n"
     ]
    }
   ],
   "source": [
    "notes=['wo_lr_mult','w_lr_mult']\n",
    "rootpath=os.path.expanduser('~/tmp/logs/pytorch')\n",
    "tags=['train/iou','val/iou']\n",
    "\n",
    "show_tags=tags.copy()\n",
    "show_tags.append('note')\n",
    "for note in notes:\n",
    "    tasks=summary(rootpath,tags,note)\n",
    "    print(tasks[show_tags].to_string())\n",
    "    \n",
    "notes=['cityscapes/cityscapes']\n",
    "show_tags=tags.copy()\n",
    "show_tags.append('note')\n",
    "show_tags.append('learning_rate')\n",
    "for note in notes:\n",
    "    tasks=summary(rootpath,tags,note)\n",
    "    print(tasks[show_tags].sort_values('val/iou').to_string())\n",
    "\n",
    "notes=['hyperopt011']\n",
    "show_tags=tags.copy()\n",
    "show_tags.append('note')\n",
    "show_tags.append('use_lr_mult')\n",
    "for note in notes:\n",
    "    tasks=summary(rootpath,tags,note)\n",
    "    print(tasks[show_tags].sort_values('val/iou').to_string())"
   ]
  },
  {
   "cell_type": "code",
   "execution_count": 44,
   "metadata": {
    "scrolled": true
   },
   "outputs": [
    {
     "name": "stdout",
     "output_type": "stream",
     "text": [
      "    train/iou   val/iou         note       l1_reg       l2_reg  learning_rate\n",
      "42   0.330699  0.246900  hyperopt012  1.20756e-05  5.19419e-05      39.978041\n",
      "39   0.309704  0.254502  hyperopt012  3.12072e-05  3.44768e-06      49.488407\n",
      "11   0.419695  0.267556  hyperopt012  2.97143e-06  0.000673939      19.785350\n",
      "16   0.357555  0.273255  hyperopt012  2.65235e-07  7.84155e-06      32.902678\n",
      "18   0.394275  0.297194  hyperopt012  2.12853e-05  1.41089e-05      27.622648\n",
      "33   0.538827  0.309125  hyperopt012  0.000238267   0.00027026      15.335193\n",
      "37   0.695417  0.348852  hyperopt012  0.000177286  8.31589e-06       9.022569\n",
      "24   0.733858  0.349068  hyperopt012  0.000994241  1.06206e-07       7.908760\n",
      "47   0.733766  0.351638  hyperopt012  0.000220961  2.23658e-06       6.103369\n",
      "5    0.755240  0.357506  hyperopt012  2.90612e-07  0.000935574       3.792917\n",
      "31   0.792348  0.362193  hyperopt012        0.001  1.22799e-05       1.000000\n",
      "13   0.753151  0.362380  hyperopt012  1.11975e-07  0.000983984       1.827985\n",
      "41   0.786223  0.362409  hyperopt012   0.00089585  8.05343e-06       1.551195\n",
      "29   0.760846  0.363258  hyperopt012  0.000393365        1e-07       4.239918\n",
      "43   0.802963  0.363404  hyperopt012  1.46997e-07  7.48749e-06       1.592936\n",
      "12   0.778904  0.363430  hyperopt012  1.68598e-07  1.23204e-06       3.936128\n",
      "28   0.779419  0.364164  hyperopt012  9.94583e-05  1.01343e-07       3.276611\n",
      "10   0.785491  0.364684  hyperopt012  1.30334e-07  1.34681e-05       1.004360\n",
      "1    0.801764  0.364726  hyperopt012        0.001        1e-07       1.674579\n",
      "40   0.761850  0.365630  hyperopt012  0.000575536  0.000958384       2.647493\n",
      "0    0.778303  0.369723  hyperopt012        1e-07        1e-07       1.000000\n",
      "49   0.777692  0.370570  hyperopt012  1.46324e-07  0.000935528       1.013013\n",
      "19   0.781962  0.370947  hyperopt012  1.62734e-06  1.00775e-07       1.018106\n",
      "15   0.761492  0.371246  hyperopt012  0.000803591        0.001       2.167340\n",
      "38   0.787012  0.371252  hyperopt012        0.001        1e-07       1.000000\n",
      "14   0.770455  0.371632  hyperopt012   0.00023959  0.000865142       1.016730\n",
      "26   0.780563  0.372621  hyperopt012        0.001        1e-07       1.000000\n",
      "9    0.805527  0.372948  hyperopt012  6.72401e-07  1.05768e-07       2.335814\n",
      "22   0.797232  0.373183  hyperopt012  1.54164e-07  1.02631e-07       2.109445\n",
      "36   0.777954  0.373629  hyperopt012  4.33927e-05  0.000904399       1.004532\n",
      "46   0.791971  0.374922  hyperopt012  0.000302238   7.8421e-06       1.908541\n",
      "30   0.765227  0.375311  hyperopt012        1e-07        0.001       1.000000\n",
      "45   0.778143  0.375357  hyperopt012  5.59515e-06  0.000942209       1.022139\n",
      "25   0.752739  0.376387  hyperopt012  0.000924166  0.000969766       2.472743\n",
      "27   0.784970  0.376633  hyperopt012  0.000218578  0.000955656       1.003155\n",
      "17   0.799290  0.377605  hyperopt012        0.001        1e-07       2.105022\n",
      "44   0.780406  0.378942  hyperopt012        0.001        0.001       1.000000\n",
      "34   0.778105  0.378969  hyperopt012  2.48093e-06  0.000787158       1.003899\n",
      "2    0.792507  0.379150  hyperopt012  0.000130612  1.01029e-07       1.910926\n",
      "23   0.785932  0.380095  hyperopt012        0.001        1e-07       1.000000\n",
      "7    0.784202  0.380225  hyperopt012  1.15614e-07        1e-07       1.000000\n",
      "3    0.799673  0.380921  hyperopt012        1e-07        1e-07       2.233222\n",
      "32   0.780359  0.381205  hyperopt012  2.36643e-07    0.0009736       1.012365\n",
      "48   0.780334  0.382831  hyperopt012        1e-07  1.14353e-05       1.000000\n",
      "20   0.783472  0.382921  hyperopt012        0.001        1e-07       1.000000\n",
      "21   0.782420  0.383049  hyperopt012        0.001        1e-07       1.000000\n",
      "4    0.793816  0.383942  hyperopt012        0.001  1.37172e-05       1.000000\n",
      "8    0.793777  0.384268  hyperopt012   4.5157e-07  1.17026e-07       1.001952\n",
      "6    0.786611  0.384560  hyperopt012        0.001        1e-07       1.000000\n",
      "35   0.784682  0.385403  hyperopt012        0.001  1.11085e-05       1.000000\n",
      "    train/iou   val/iou         note       l1_reg       l2_reg  learning_rate\n",
      "32   0.302732  0.253993  hyperopt013  3.12072e-05  3.44768e-06      49.488407\n",
      "16   0.325483  0.260770  hyperopt013  1.20756e-05  5.19419e-05      39.978041\n",
      "41   0.370776  0.294552  hyperopt013  2.12853e-05  1.41089e-05      27.622648\n",
      "10   0.352339  0.301990  hyperopt013  2.65235e-07  7.84155e-06      32.902678\n",
      "23   0.393495  0.333704  hyperopt013  2.97143e-06  0.000673939      19.785350\n",
      "15   0.508707  0.343164  hyperopt013  0.000238267   0.00027026      15.335193\n",
      "43   0.666636  0.385745  hyperopt013  0.000177286  8.31589e-06       9.022569\n",
      "4    0.739569  0.398805  hyperopt013  0.000220961  2.23658e-06       6.103369\n",
      "38   0.715220  0.401254  hyperopt013   1.0586e-07  1.42221e-07       7.534755\n",
      "37   0.769597  0.413027  hyperopt013  1.48043e-07  0.000943543       3.327895\n",
      "45   0.796475  0.418749  hyperopt013  1.68598e-07  1.23204e-06       3.936128\n",
      "40   0.815788  0.420533  hyperopt013   0.00097425  1.58648e-07       2.808254\n",
      "19   0.810925  0.422626  hyperopt013  1.30848e-07  0.000928579       1.025264\n",
      "5    0.823737  0.424433  hyperopt013  1.31385e-07  1.51759e-07       1.972624\n",
      "24   0.801117  0.425669  hyperopt013  0.000960593  1.66292e-07       2.992403\n",
      "13   0.800213  0.426330  hyperopt013  5.68766e-07   0.00098792       1.012823\n",
      "27   0.812815  0.426868  hyperopt013  1.00263e-07  0.000743163       1.561752\n",
      "8    0.809767  0.431317  hyperopt013  1.13177e-07  0.000363672       1.006154\n",
      "25   0.817308  0.431813  hyperopt013  0.000891571  0.000652886       1.442016\n",
      "47   0.820552  0.431866  hyperopt013  1.89677e-05   1.0282e-07       1.313724\n",
      "12   0.819648  0.432454  hyperopt013  1.63585e-07  1.08681e-07       1.437094\n",
      "48   0.809693  0.433318  hyperopt013  1.34057e-05   0.00092859       1.015681\n",
      "14   0.808585  0.435728  hyperopt013        0.001        0.001       1.000000\n",
      "44   0.815238  0.436184  hyperopt013  0.000492331  0.000650626       1.823089\n",
      "35   0.821490  0.436671  hyperopt013  0.000302238   7.8421e-06       1.908541\n",
      "36   0.823347  0.437272  hyperopt013  1.13228e-07  1.29467e-07       1.722233\n",
      "1    0.815297  0.437999  hyperopt013        1e-07        1e-07       1.000000\n",
      "20   0.806480  0.438456  hyperopt013  0.000961396  0.000852259       1.015561\n",
      "46   0.811268  0.439006  hyperopt013        1e-07        1e-07       1.000000\n",
      "2    0.806589  0.439524  hyperopt013        0.001        1e-07       1.000000\n",
      "21   0.820846  0.439534  hyperopt013  0.000707614  1.00508e-07       1.594139\n",
      "39   0.825185  0.439668  hyperopt013  1.36742e-07  1.04568e-07       1.586572\n",
      "11   0.807088  0.440567  hyperopt013  1.05178e-07  1.08942e-07       1.012770\n",
      "34   0.810899  0.440673  hyperopt013        0.001        1e-07       1.000000\n",
      "26   0.813315  0.441511  hyperopt013  0.000530348    5.352e-06       1.000491\n",
      "7    0.815340  0.441788  hyperopt013  1.19774e-07  1.28927e-07       1.020808\n",
      "9    0.804187  0.442197  hyperopt013        0.001        1e-07       1.000000\n",
      "49   0.806453  0.442333  hyperopt013        0.001        1e-07       1.000000\n",
      "31   0.821967  0.443971  hyperopt013  0.000506164   1.0951e-07       1.754176\n",
      "28   0.809781  0.444017  hyperopt013        0.001        1e-07       1.000000\n",
      "22   0.798189  0.444396  hyperopt013  1.46324e-07  0.000935528       1.013013\n",
      "3    0.812341  0.444853  hyperopt013        1e-07        1e-07       1.000000\n",
      "33   0.814213  0.446117  hyperopt013    1.396e-05  1.34724e-07       1.054220\n",
      "29   0.810424  0.446843  hyperopt013        0.001        1e-07       1.000000\n",
      "17   0.803408  0.446871  hyperopt013  0.000766685  2.83924e-07       1.004644\n",
      "18   0.806705  0.447206  hyperopt013  0.000820403  1.07813e-07       1.006030\n",
      "30   0.815089  0.448159  hyperopt013  1.12115e-05        1e-07       1.000000\n",
      "42   0.806605  0.450803  hyperopt013        1e-07        0.001       1.000000\n",
      "0    0.812492  0.451280  hyperopt013  1.04673e-07  1.32046e-07       1.003466\n",
      "6    0.812712  0.454330  hyperopt013  0.000226119  1.15701e-07       1.004154\n"
     ]
    }
   ],
   "source": [
    "notes=['hyperopt012','hyperopt013']\n",
    "show_tags=[]\n",
    "show_tags=tags.copy()\n",
    "show_tags.append('note')\n",
    "show_tags.append('l1_reg')\n",
    "show_tags.append('l2_reg')\n",
    "show_tags.append('learning_rate')\n",
    "for note in notes:\n",
    "    tasks=summary(rootpath,tags,note)\n",
    "    tasks['learning_rate']=tasks['learning_rate']*float(10**4)\n",
    "    print(tasks[show_tags].sort_values('val/iou').to_string())"
   ]
  },
  {
   "cell_type": "code",
   "execution_count": 50,
   "metadata": {},
   "outputs": [
    {
     "name": "stdout",
     "output_type": "stream",
     "text": [
      "                              train/iou   val/iou\n",
      "dataset_use_part note                            \n",
      "0                hyperopt      0.467577  0.402875\n",
      "1                hyperopt002   0.800826  0.228747\n",
      "                 hyperopt004   0.743215  0.231846\n",
      "                 hyperopt005   0.745121  0.221688\n",
      "32               hyperopt008   0.743829  0.223043\n",
      "                 hyperopt009   0.719986  0.215195\n",
      "                 hyperopt010   0.684939  0.154941\n",
      "                 hyperopt011   0.748290  0.215824\n",
      "320              hyperopt006   0.797486  0.381637\n",
      "                 hyperopt007   0.797381  0.392324\n",
      "                 hyperopt012   0.805527  0.385403\n",
      "                 hyperopt014   0.749712  0.358767\n",
      "640              hyperopt013   0.825185  0.454330\n"
     ]
    }
   ],
   "source": [
    "notes=['hyperopt']\n",
    "show_tags=[]\n",
    "show_tags=tags.copy()\n",
    "show_tags.append('note')\n",
    "show_tags.append('dataset_use_part')\n",
    "for note in notes:\n",
    "    tasks=summary(rootpath,tags,note)\n",
    "    print(tasks[show_tags].groupby(['dataset_use_part','note']).max().to_string())"
   ]
  }
 ],
 "metadata": {
  "kernelspec": {
   "display_name": "Python [conda env:new]",
   "language": "python",
   "name": "conda-env-new-py"
  },
  "language_info": {
   "codemirror_mode": {
    "name": "ipython",
    "version": 3
   },
   "file_extension": ".py",
   "mimetype": "text/x-python",
   "name": "python",
   "nbconvert_exporter": "python",
   "pygments_lexer": "ipython3",
   "version": "3.6.5"
  },
  "nbpresent": {
   "slides": {},
   "themes": {
    "default": "fc255d06-66c6-4a6b-a8c4-42a6f20eb29b",
    "theme": {
     "738f3cfd-9013-49aa-939c-a1216d389da2": {
      "backgrounds": {
       "dc7afa04-bf90-40b1-82a5-726e3cff5267": {
        "background-color": "31af15d2-7e15-44c5-ab5e-e04b16a89eff",
        "id": "dc7afa04-bf90-40b1-82a5-726e3cff5267"
       }
      },
      "id": "738f3cfd-9013-49aa-939c-a1216d389da2",
      "palette": {
       "19cc588f-0593-49c9-9f4b-e4d7cc113b1c": {
        "id": "19cc588f-0593-49c9-9f4b-e4d7cc113b1c",
        "rgb": [
         252,
         252,
         252
        ]
       },
       "31af15d2-7e15-44c5-ab5e-e04b16a89eff": {
        "id": "31af15d2-7e15-44c5-ab5e-e04b16a89eff",
        "rgb": [
         68,
         68,
         68
        ]
       },
       "50f92c45-a630-455b-aec3-788680ec7410": {
        "id": "50f92c45-a630-455b-aec3-788680ec7410",
        "rgb": [
         197,
         226,
         245
        ]
       },
       "c5cc3653-2ee1-402a-aba2-7caae1da4f6c": {
        "id": "c5cc3653-2ee1-402a-aba2-7caae1da4f6c",
        "rgb": [
         43,
         126,
         184
        ]
       },
       "efa7f048-9acb-414c-8b04-a26811511a21": {
        "id": "efa7f048-9acb-414c-8b04-a26811511a21",
        "rgb": [
         25.118061674008803,
         73.60176211453744,
         107.4819383259912
        ]
       }
      },
      "rules": {
       "a": {
        "color": "19cc588f-0593-49c9-9f4b-e4d7cc113b1c"
       },
       "blockquote": {
        "color": "50f92c45-a630-455b-aec3-788680ec7410",
        "font-size": 3
       },
       "code": {
        "font-family": "Anonymous Pro"
       },
       "h1": {
        "color": "19cc588f-0593-49c9-9f4b-e4d7cc113b1c",
        "font-family": "Merriweather",
        "font-size": 8
       },
       "h2": {
        "color": "19cc588f-0593-49c9-9f4b-e4d7cc113b1c",
        "font-family": "Merriweather",
        "font-size": 6
       },
       "h3": {
        "color": "50f92c45-a630-455b-aec3-788680ec7410",
        "font-family": "Lato",
        "font-size": 5.5
       },
       "h4": {
        "color": "c5cc3653-2ee1-402a-aba2-7caae1da4f6c",
        "font-family": "Lato",
        "font-size": 5
       },
       "h5": {
        "font-family": "Lato"
       },
       "h6": {
        "font-family": "Lato"
       },
       "h7": {
        "font-family": "Lato"
       },
       "li": {
        "color": "50f92c45-a630-455b-aec3-788680ec7410",
        "font-size": 3.25
       },
       "pre": {
        "font-family": "Anonymous Pro",
        "font-size": 4
       }
      },
      "text-base": {
       "color": "19cc588f-0593-49c9-9f4b-e4d7cc113b1c",
       "font-family": "Lato",
       "font-size": 4
      }
     },
     "fc255d06-66c6-4a6b-a8c4-42a6f20eb29b": {
      "backgrounds": {
       "backgroundColor": {
        "background-color": "backgroundColor",
        "id": "backgroundColor"
       }
      },
      "id": "fc255d06-66c6-4a6b-a8c4-42a6f20eb29b",
      "palette": {
       "backgroundColor": {
        "id": "backgroundColor",
        "rgb": [
         34,
         34,
         34
        ]
       },
       "headingColor": {
        "id": "headingColor",
        "rgb": [
         256,
         256,
         256
        ]
       },
       "linkColor": {
        "id": "linkColor",
        "rgb": [
         66,
         175,
         250
        ]
       },
       "mainColor": {
        "id": "mainColor",
        "rgb": [
         256,
         256,
         256
        ]
       }
      },
      "rules": {
       "a": {
        "color": "linkColor"
       },
       "h1": {
        "color": "headingColor",
        "font-family": "Source Sans Pro",
        "font-size": 5.25
       },
       "h2": {
        "color": "headingColor",
        "font-family": "Source Sans Pro",
        "font-size": 4
       },
       "h3": {
        "color": "headingColor",
        "font-family": "Source Sans Pro",
        "font-size": 3.5
       },
       "h4": {
        "color": "headingColor",
        "font-family": "Source Sans Pro",
        "font-size": 3
       },
       "h5": {
        "color": "headingColor",
        "font-family": "Source Sans Pro"
       },
       "h6": {
        "color": "headingColor",
        "font-family": "Source Sans Pro"
       },
       "h7": {
        "color": "headingColor",
        "font-family": "Source Sans Pro"
       },
       "li": {
        "color": "mainColor",
        "font-family": "Source Sans Pro",
        "font-size": 6
       },
       "p": {
        "color": "mainColor",
        "font-family": "Source Sans Pro",
        "font-size": 6
       }
      },
      "text-base": {
       "color": "mainColor",
       "font-family": "Source Sans Pro",
       "font-size": 6
      }
     }
    }
   }
  }
 },
 "nbformat": 4,
 "nbformat_minor": 2
}
