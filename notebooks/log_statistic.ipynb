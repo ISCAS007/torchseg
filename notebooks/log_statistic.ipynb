{
 "cells": [
  {
   "cell_type": "markdown",
   "metadata": {},
   "source": [
    "# Analysis of tensorboard results\n",
    "- view motion_statistic for automatic analysis.\n",
    "- due to history code problem, cannot show dataset name in table directly (name for ss001 and ss002, dataset_name for others), modify summary() to support it."
   ]
  },
  {
   "cell_type": "code",
   "execution_count": 7,
   "metadata": {},
   "outputs": [
    {
     "name": "stdout",
     "output_type": "stream",
     "text": [
      "['/data02/jiaxin15/git/torchseg', '/data02/jiaxin15/git/torchseg', '', '/data02/jiaxin15/git/torchseg/notebooks', '/data02/jiaxin15/bin/miniconda3/envs/env3/lib/python36.zip', '/data02/jiaxin15/bin/miniconda3/envs/env3/lib/python3.6', '/data02/jiaxin15/bin/miniconda3/envs/env3/lib/python3.6/lib-dynload', '/data02/jiaxin15/bin/miniconda3/envs/env3/lib/python3.6/site-packages', '/data02/jiaxin15/bin/miniconda3/envs/env3/lib/python3.6/site-packages/Sphinx-1.6.3-py3.6.egg', '/data02/jiaxin15/bin/miniconda3/envs/env3/lib/python3.6/site-packages/IPython/extensions', '/data02/jiaxin15/.ipython']\n"
     ]
    }
   ],
   "source": [
    "import os\n",
    "import sys\n",
    "sys.path.insert(0,os.path.expanduser('~/git/torchseg'))\n",
    "print(sys.path)\n",
    "\n",
    "%reload_ext autoreload\n",
    "%autoreload 2\n",
    "from utils.summary_to_jupyter import summary,dump"
   ]
  },
  {
   "cell_type": "code",
   "execution_count": 37,
   "metadata": {
    "scrolled": false
   },
   "outputs": [
    {
     "name": "stdout",
     "output_type": "stream",
     "text": [
      "no group None column  decode_main_layer\n",
      "no group None column  max_channel_number\n",
      "no group None column  min_channel_number\n",
      "ss004 backbone_name,net_name,note,upsample_layer\n",
      "|                                             |   val/iou |   n_epoch |   train/iou |\n",
      "|:--------------------------------------------|----------:|----------:|------------:|\n",
      "| ('vgg16', 'UNet', 'ss004_UNet', 5)          |  0.304328 |       100 |    0.715199 |\n",
      "| ('vgg16', 'PSPUNet', 'ss004_PSPUNet', 1)    |  0.443323 |       100 |    0.506086 |\n",
      "| ('resnet50', 'PSPUNet', 'ss004_PSPUNet', 1) |  0.523854 |       100 |    0.801329 |\n",
      "\n",
      "\n",
      "|                                             |   ('val/iou', 'mean') |   ('val/iou', 'std') |   ('val/iou', 'amax') |\n",
      "|:--------------------------------------------|----------------------:|---------------------:|----------------------:|\n",
      "| ('resnet50', 'PSPUNet', 'ss004_PSPUNet', 1) |              0.523854 |                  nan |              0.523854 |\n",
      "| ('vgg16', 'PSPUNet', 'ss004_PSPUNet', 1)    |              0.443323 |                  nan |              0.443323 |\n",
      "| ('vgg16', 'UNet', 'ss004_UNet', 5)          |              0.304328 |                  nan |              0.304328 |\n",
      "\n",
      "\n",
      "|    | net_name   | backbone_name   |   val/iou |   n_epoch | note          |   upsample_layer |   train/iou |\n",
      "|---:|:-----------|:----------------|----------:|----------:|:--------------|-----------------:|------------:|\n",
      "|  2 | UNet       | vgg16           |  0.304328 |       100 | ss004_UNet    |                5 |    0.715199 |\n",
      "|  1 | PSPUNet    | vgg16           |  0.443323 |       100 | ss004_PSPUNet |                1 |    0.506086 |\n",
      "|  0 | PSPUNet    | resnet50        |  0.523854 |       100 | ss004_PSPUNet |                1 |    0.801329 |\n",
      "\n",
      "\n",
      "|    |   val/iou | dir                                                                                                 |\n",
      "|---:|----------:|:----------------------------------------------------------------------------------------------------|\n",
      "|  2 |  0.304328 | /data02/jiaxin15/tmp/logs/pytorch/UNet/cityscapes/ss004_UNet/2019-09-18___18-39-16/config.txt       |\n",
      "|  1 |  0.443323 | /data02/jiaxin15/tmp/logs/pytorch/PSPUNet/cityscapes/ss004_PSPUNet/2019-09-18___23-52-35/config.txt |\n",
      "|  0 |  0.523854 | /data02/jiaxin15/tmp/logs/pytorch/PSPUNet/cityscapes/ss004_PSPUNet/2019-09-18___18-38-28/config.txt |\n",
      "\n",
      "\n"
     ]
    }
   ],
   "source": [
    "tags=['train/iou','val/iou']\n",
    "rootpath=os.path.expanduser('~/tmp/logs/pytorch')\n",
    "descripe=['note','n_epoch']\n",
    "# attention_type aux_backbone filter_feature\n",
    "invalid_param_list=['dir','log_time','root_path',\n",
    "                    'test_path', 'train_path', 'val_path',\n",
    "                    'use_optical_flow','flow_backbone','ignore_outOfRoi','exception_value','cityscapes_split']\n",
    "note_gtags=[['dataset','note'],['dataset','note']]\n",
    "note_gtags=None\n",
    "notes=['ss004']\n",
    "tasks=dump(tags=tags,rootpath=rootpath,notes=notes,descripe=descripe,\n",
    "     invalid_param_list=invalid_param_list,delete_nan=False,dump_group=True,\n",
    "     note_gtags=note_gtags)"
   ]
  },
  {
   "cell_type": "code",
   "execution_count": 4,
   "metadata": {
    "scrolled": false
   },
   "outputs": [
    {
     "name": "stdout",
     "output_type": "stream",
     "text": [
      "|    | net_name   | log_time              |   val/iou |   n_epoch | note     |   train/iou | dataset_name   |\n",
      "|---:|:-----------|:----------------------|----------:|----------:|:---------|------------:|:---------------|\n",
      "|  2 | pspnet     | 2019-09-17___15-04-22 |  0.342879 |       100 | ss003_n  |    0.412785 | cityscapes     |\n",
      "|  1 | pspnet     | 2019-09-17___14-36-01 |  0.427704 |       150 | ss002_sc |    0.588403 | cityscapes     |\n",
      "|  0 | pspnet     | 2019-09-17___06-12-46 |  0.446443 |       150 | ss002_sc |    0.669594 | cityscapes     |\n",
      "|  3 | motionnet  | 2019-09-17___02-25-23 |  0.600028 |       100 | ss001    |    0.861013 | cityscapes     |\n",
      "|  5 | motionnet  | 2019-09-17___14-47-56 |  0.600607 |       100 | ss001    |    0.82869  | cityscapes     |\n",
      "|  4 | motionnet  | 2019-09-17___08-37-01 |  0.60249  |       100 | ss001    |    0.858871 | cityscapes     |\n",
      "\n",
      "\n",
      "|    |   val/iou | dir                                                                                           |\n",
      "|---:|----------:|:----------------------------------------------------------------------------------------------|\n",
      "|  2 |  0.342879 | /data02/jiaxin15/tmp/logs/pytorch/pspnet/cityscapes/ss003_n/2019-09-17___15-04-22/config.txt  |\n",
      "|  1 |  0.427704 | /data02/jiaxin15/tmp/logs/pytorch/pspnet/cityscapes/ss002_sc/2019-09-17___14-36-01/config.txt |\n",
      "|  0 |  0.446443 | /data02/jiaxin15/tmp/logs/pytorch/pspnet/cityscapes/ss002_sc/2019-09-17___06-12-46/config.txt |\n",
      "|  3 |  0.600028 | /data02/jiaxin15/tmp/logs/pytorch/motionnet/cityscapes/ss001/2019-09-17___02-25-23/config.txt |\n",
      "|  5 |  0.600607 | /data02/jiaxin15/tmp/logs/pytorch/motionnet/cityscapes/ss001/2019-09-17___14-47-56/config.txt |\n",
      "|  4 |  0.60249  | /data02/jiaxin15/tmp/logs/pytorch/motionnet/cityscapes/ss001/2019-09-17___08-37-01/config.txt |\n",
      "\n",
      "\n",
      "|    | net_name     | log_time              |   val/iou |   n_epoch | note                |   train/iou | dataset_name   |\n",
      "|---:|:-------------|:----------------------|----------:|----------:|:--------------------|------------:|:---------------|\n",
      "| 61 | pspnet       | 2019-09-16___21-48-19 | 0.0198277 |       150 | ss002_sc            |   0.0214864 | cityscapes     |\n",
      "| 51 | pspnet       | 2019-07-20___17-09-45 | 0.295821  |       100 | accumulate16        |   0.24175   | cityscapes     |\n",
      "| 67 | pspnet       | 2019-09-17___15-04-22 | 0.342879  |       100 | ss003_n             |   0.412785  | cityscapes     |\n",
      "| 56 | pspnet       | 2019-07-22___13-21-37 | 0.39113   |       200 | acc_cycle_lr_0      |   0.503129  | cityscapes     |\n",
      "| 20 | motion_panet | 2019-04-01___21-02-28 | 0.416104  |       100 | task058_up3_part320 |   0.692555  | cityscapes     |\n",
      "| 32 | motion_panet | 2019-04-02___12-48-51 | 0.424587  |       100 | task058_up1_part320 |   0.674697  | cityscapes     |\n",
      "| 25 | motion_panet | 2019-04-02___03-31-03 | 0.42736   |       100 | task058_up1_part320 |   0.630823  | cityscapes     |\n",
      "| 65 | pspnet       | 2019-09-17___14-36-01 | 0.427704  |       150 | ss002_sc            |   0.588403  | cityscapes     |\n",
      "| 18 | motion_panet | 2019-04-01___18-12-59 | 0.432503  |       100 | task058_up1_part320 |   0.663163  | cityscapes     |\n",
      "| 27 | motion_panet | 2019-04-02___06-20-09 | 0.434149  |       100 | task058_up3_part320 |   0.710328  | cityscapes     |\n",
      "| 34 | motion_panet | 2019-04-02___15-38-20 | 0.43488   |       100 | task058_up3_part320 |   0.707379  | cityscapes     |\n",
      "| 26 | motion_panet | 2019-04-02___05-13-48 | 0.441205  |       100 | task058_up2_part320 |   0.694737  | cityscapes     |\n",
      "| 33 | motion_panet | 2019-04-02___14-31-47 | 0.442667  |       100 | task058_up2_part320 |   0.684818  | cityscapes     |\n",
      "| 53 | pspnet       | 2019-07-20___17-15-56 | 0.444104  |       100 | accumulate16_16     |   0.561837  | cityscapes     |\n",
      "| 19 | motion_panet | 2019-04-01___19-55-59 | 0.445684  |       100 | task058_up2_part320 |   0.717947  | cityscapes     |\n",
      "| 63 | pspnet       | 2019-09-17___06-12-46 | 0.446443  |       150 | ss002_sc            |   0.669594  | cityscapes     |\n",
      "| 54 | pspnet       | 2019-07-21___09-20-20 | 0.451028  |       100 | acc_cycle_sgd_0     |   0.56122   | cityscapes     |\n",
      "| 36 | motion_panet | 2019-04-02___16-33-22 | 0.455112  |       100 | task058_up1_part480 |   0.662772  | cityscapes     |\n",
      "| 38 | motion_panet | 2019-04-02___20-45-25 | 0.460968  |       100 | task058_up3_part480 |   0.726587  | cityscapes     |\n",
      "| 23 | motion_panet | 2019-04-02___02-09-46 | 0.462201  |       100 | task058_up3_part480 |   0.737599  | cityscapes     |\n",
      "| 57 | pspnet       | 2019-07-23___06-39-06 | 0.466276  |       400 | acc_cycle_lr_1      |   0.691529  | cityscapes     |\n",
      "| 21 | motion_panet | 2019-04-01___21-57-26 | 0.467161  |       100 | task058_up1_part480 |   0.705239  | cityscapes     |\n",
      "| 37 | motion_panet | 2019-04-02___19-06-48 | 0.472948  |       100 | task058_up2_part480 |   0.730002  | cityscapes     |\n",
      "| 31 | motion_panet | 2019-04-02___11-27-09 | 0.475957  |       100 | task058_up3_part480 |   0.739723  | cityscapes     |\n",
      "| 59 | pspnet       | 2019-07-24___17-08-50 | 0.476264  |       800 | acc_cycle_lr_2      |   0.78828   | cityscapes     |\n",
      "| 28 | motion_panet | 2019-04-02___07-14-56 | 0.481265  |       100 | task058_up1_part480 |   0.694819  | cityscapes     |\n",
      "| 30 | motion_panet | 2019-04-02___09-48-26 | 0.483937  |       100 | task058_up2_part480 |   0.728457  | cityscapes     |\n",
      "| 22 | motion_panet | 2019-04-02___00-30-58 | 0.491319  |       100 | task058_up2_part480 |   0.695234  | cityscapes     |\n",
      "| 52 | pspnet       | 2019-07-20___17-14-30 | 0.496279  |       100 | accumulate16        |   0.692469  | cityscapes     |\n",
      "| 55 | pspnet       | 2019-07-22___02-27-24 | 0.505903  |       200 | acc_cycle_sgd_1     |   0.726061  | cityscapes     |\n",
      "| 50 | pspnet       | 2019-07-20___16-59-35 | 0.510361  |       100 | accumulateT         |   0.736669  | cityscapes     |\n",
      "|  5 | motion_panet | 2019-03-29___12-03-01 | 0.516529  |       100 | task057             |   0.610711  | cityscapes     |\n",
      "| 49 | pspnet       | 2019-07-20___16-58-23 | 0.519232  |       100 | accumulate          |   0.72772   | cityscapes     |\n",
      "| 58 | pspnet       | 2019-07-23___12-40-37 | 0.525859  |       400 | acc_cycle_sgd_2     |   0.809112  | cityscapes     |\n",
      "|  3 | motion_panet | 2019-03-29___06-35-41 | 0.552337  |       100 | task056             |   0.655683  | cityscapes     |\n",
      "|  1 | motion_panet | 2019-03-28___22-26-00 | 0.558351  |       100 | task056             |   0.684083  | cityscapes     |\n",
      "| 17 | motion_panet | 2019-04-01___18-11-12 | 0.558706  |       100 | task056             |   0.681969  | cityscapes     |\n",
      "| 24 | motion_panet | 2019-04-02___02-20-16 | 0.569702  |       100 | task056             |   0.688631  | cityscapes     |\n",
      "| 44 | motion_panet | 2019-04-05___17-00-20 | 0.569822  |       100 | naive_bs2_aug_T     |   0.681539  | cityscapes     |\n",
      "|  0 | motion_panet | 2019-03-28___21-36-17 | 0.579013  |       100 | naive_bs2_aug_T     |   0.690968  | cityscapes     |\n",
      "| 48 | motion_panet | 2019-04-07___21-44-10 | 0.58402   |       100 | naive_bs2_aug_T     |   0.677938  | cityscapes     |\n",
      "| 60 | motionnet    | 2019-09-16___20-15-06 | 0.585204  |       100 | ss001               |   0.861527  | cityscapes     |\n",
      "| 10 | motion_panet | 2019-03-30___04-40-40 | 0.586668  |       100 | task056             |   0.701957  | cityscapes     |\n",
      "| 12 | motion_panet | 2019-03-30___18-51-39 | 0.588755  |       100 | task056             |   0.690138  | cityscapes     |\n",
      "|  7 | motion_panet | 2019-03-29___19-54-05 | 0.588979  |       100 | task057             |   0.707415  | cityscapes     |\n",
      "|  4 | motion_panet | 2019-03-29___11-45-19 | 0.589426  |       100 | task056             |   0.690111  | cityscapes     |\n",
      "|  8 | motion_panet | 2019-03-29___21-35-21 | 0.589475  |       100 | task056             |   0.697079  | cityscapes     |\n",
      "| 40 | motion_panet | 2019-04-03___12-16-03 | 0.589864  |       100 | naive_bs2_aug_T     |   0.683607  | cityscapes     |\n",
      "| 41 | motion_panet | 2019-04-04___12-58-33 | 0.593661  |       100 | naive_bs2_aug_T     |   0.693776  | cityscapes     |\n",
      "| 42 | motion_panet | 2019-04-04___20-47-33 | 0.59522   |       100 | naive_bs2_aug_T     |   0.691913  | cityscapes     |\n",
      "| 39 | motion_panet | 2019-04-03___01-40-55 | 0.5973    |       100 | naive_bs2_aug_T     |   0.676776  | cityscapes     |\n",
      "| 16 | motion_panet | 2019-04-01___07-24-56 | 0.597567  |       100 | naive_bs2_aug_T     |   0.683291  | cityscapes     |\n",
      "|  9 | motion_panet | 2019-03-30___02-10-32 | 0.598682  |       100 | naive_bs2_aug_T     |   0.688839  | cityscapes     |\n",
      "| 11 | motion_panet | 2019-03-30___11-46-45 | 0.59872   |       100 | task056             |   0.699427  | cityscapes     |\n",
      "| 62 | motionnet    | 2019-09-17___02-25-23 | 0.600028  |       100 | ss001               |   0.861013  | cityscapes     |\n",
      "| 66 | motionnet    | 2019-09-17___14-47-56 | 0.600607  |       100 | ss001               |   0.82869   | cityscapes     |\n",
      "| 13 | motion_panet | 2019-03-31___03-19-33 | 0.60105   |       100 | naive_bs2_aug_T     |   0.688724  | cityscapes     |\n",
      "| 64 | motionnet    | 2019-09-17___08-37-01 | 0.60249   |       100 | ss001               |   0.858871  | cityscapes     |\n",
      "| 15 | motion_panet | 2019-03-31___20-48-28 | 0.602975  |       100 | naive_bs2_aug_T     |   0.675972  | cityscapes     |\n",
      "| 45 | motion_panet | 2019-04-06___17-43-09 | 0.603195  |       100 | naive_bs2_aug_T     |   0.697181  | cityscapes     |\n",
      "| 43 | motion_panet | 2019-04-05___06-25-41 | 0.603207  |       100 | naive_bs2_aug_T     |   0.666245  | cityscapes     |\n",
      "| 29 | motion_panet | 2019-04-02___08-09-44 | 0.603923  |       100 | naive_bs2_aug_T     |   0.688536  | cityscapes     |\n",
      "| 14 | motion_panet | 2019-03-31___11-09-56 | 0.604141  |       100 | naive_bs2_aug_T     |   0.683746  | cityscapes     |\n",
      "| 35 | motion_panet | 2019-04-02___16-01-30 | 0.607761  |       100 | naive_bs2_aug_T     |   0.677302  | cityscapes     |\n",
      "|  6 | motion_panet | 2019-03-29___15-10-00 | 0.609879  |       100 | naive_bs2_aug_T     |   0.682178  | cityscapes     |\n",
      "| 47 | motion_panet | 2019-04-07___11-09-12 | 0.618047  |       100 | naive_bs2_aug_T     |   0.669879  | cityscapes     |\n",
      "| 46 | motion_panet | 2019-04-07___01-31-56 | 0.618563  |       100 | naive_bs2_aug_T     |   0.685286  | cityscapes     |\n",
      "|  2 | motion_panet | 2019-03-29___05-29-53 | 0.626377  |       100 | naive_bs2_aug_T     |   0.681825  | cityscapes     |\n",
      "\n",
      "\n",
      "|    |   val/iou | dir                                                                                                            |\n",
      "|---:|----------:|:---------------------------------------------------------------------------------------------------------------|\n",
      "| 61 | 0.0198277 | /data02/jiaxin15/tmp/logs/pytorch/pspnet/cityscapes/ss002_sc/2019-09-16___21-48-19/config.txt                  |\n",
      "| 51 | 0.295821  | /data02/jiaxin15/tmp/logs/pytorch/pspnet/cityscapes/accumulate16/2019-07-20___17-09-45/config.txt              |\n",
      "| 67 | 0.342879  | /data02/jiaxin15/tmp/logs/pytorch/pspnet/cityscapes/ss003_n/2019-09-17___15-04-22/config.txt                   |\n",
      "| 56 | 0.39113   | /data02/jiaxin15/tmp/logs/pytorch/pspnet/cityscapes/acc_cycle_lr_0/2019-07-22___13-21-37/config.txt            |\n",
      "| 20 | 0.416104  | /data02/jiaxin15/tmp/logs/pytorch/motion_panet/cityscapes/task058_up3_part320/2019-04-01___21-02-28/config.txt |\n",
      "| 32 | 0.424587  | /data02/jiaxin15/tmp/logs/pytorch/motion_panet/cityscapes/task058_up1_part320/2019-04-02___12-48-51/config.txt |\n",
      "| 25 | 0.42736   | /data02/jiaxin15/tmp/logs/pytorch/motion_panet/cityscapes/task058_up1_part320/2019-04-02___03-31-03/config.txt |\n",
      "| 65 | 0.427704  | /data02/jiaxin15/tmp/logs/pytorch/pspnet/cityscapes/ss002_sc/2019-09-17___14-36-01/config.txt                  |\n",
      "| 18 | 0.432503  | /data02/jiaxin15/tmp/logs/pytorch/motion_panet/cityscapes/task058_up1_part320/2019-04-01___18-12-59/config.txt |\n",
      "| 27 | 0.434149  | /data02/jiaxin15/tmp/logs/pytorch/motion_panet/cityscapes/task058_up3_part320/2019-04-02___06-20-09/config.txt |\n",
      "| 34 | 0.43488   | /data02/jiaxin15/tmp/logs/pytorch/motion_panet/cityscapes/task058_up3_part320/2019-04-02___15-38-20/config.txt |\n",
      "| 26 | 0.441205  | /data02/jiaxin15/tmp/logs/pytorch/motion_panet/cityscapes/task058_up2_part320/2019-04-02___05-13-48/config.txt |\n",
      "| 33 | 0.442667  | /data02/jiaxin15/tmp/logs/pytorch/motion_panet/cityscapes/task058_up2_part320/2019-04-02___14-31-47/config.txt |\n",
      "| 53 | 0.444104  | /data02/jiaxin15/tmp/logs/pytorch/pspnet/cityscapes/accumulate16_16/2019-07-20___17-15-56/config.txt           |\n",
      "| 19 | 0.445684  | /data02/jiaxin15/tmp/logs/pytorch/motion_panet/cityscapes/task058_up2_part320/2019-04-01___19-55-59/config.txt |\n",
      "| 63 | 0.446443  | /data02/jiaxin15/tmp/logs/pytorch/pspnet/cityscapes/ss002_sc/2019-09-17___06-12-46/config.txt                  |\n",
      "| 54 | 0.451028  | /data02/jiaxin15/tmp/logs/pytorch/pspnet/cityscapes/acc_cycle_sgd_0/2019-07-21___09-20-20/config.txt           |\n",
      "| 36 | 0.455112  | /data02/jiaxin15/tmp/logs/pytorch/motion_panet/cityscapes/task058_up1_part480/2019-04-02___16-33-22/config.txt |\n",
      "| 38 | 0.460968  | /data02/jiaxin15/tmp/logs/pytorch/motion_panet/cityscapes/task058_up3_part480/2019-04-02___20-45-25/config.txt |\n",
      "| 23 | 0.462201  | /data02/jiaxin15/tmp/logs/pytorch/motion_panet/cityscapes/task058_up3_part480/2019-04-02___02-09-46/config.txt |\n",
      "| 57 | 0.466276  | /data02/jiaxin15/tmp/logs/pytorch/pspnet/cityscapes/acc_cycle_lr_1/2019-07-23___06-39-06/config.txt            |\n",
      "| 21 | 0.467161  | /data02/jiaxin15/tmp/logs/pytorch/motion_panet/cityscapes/task058_up1_part480/2019-04-01___21-57-26/config.txt |\n",
      "| 37 | 0.472948  | /data02/jiaxin15/tmp/logs/pytorch/motion_panet/cityscapes/task058_up2_part480/2019-04-02___19-06-48/config.txt |\n",
      "| 31 | 0.475957  | /data02/jiaxin15/tmp/logs/pytorch/motion_panet/cityscapes/task058_up3_part480/2019-04-02___11-27-09/config.txt |\n",
      "| 59 | 0.476264  | /data02/jiaxin15/tmp/logs/pytorch/pspnet/cityscapes/acc_cycle_lr_2/2019-07-24___17-08-50/config.txt            |\n",
      "| 28 | 0.481265  | /data02/jiaxin15/tmp/logs/pytorch/motion_panet/cityscapes/task058_up1_part480/2019-04-02___07-14-56/config.txt |\n",
      "| 30 | 0.483937  | /data02/jiaxin15/tmp/logs/pytorch/motion_panet/cityscapes/task058_up2_part480/2019-04-02___09-48-26/config.txt |\n",
      "| 22 | 0.491319  | /data02/jiaxin15/tmp/logs/pytorch/motion_panet/cityscapes/task058_up2_part480/2019-04-02___00-30-58/config.txt |\n",
      "| 52 | 0.496279  | /data02/jiaxin15/tmp/logs/pytorch/pspnet/cityscapes/accumulate16/2019-07-20___17-14-30/config.txt              |\n",
      "| 55 | 0.505903  | /data02/jiaxin15/tmp/logs/pytorch/pspnet/cityscapes/acc_cycle_sgd_1/2019-07-22___02-27-24/config.txt           |\n",
      "| 50 | 0.510361  | /data02/jiaxin15/tmp/logs/pytorch/pspnet/cityscapes/accumulateT/2019-07-20___16-59-35/config.txt               |\n",
      "|  5 | 0.516529  | /data02/jiaxin15/tmp/logs/pytorch/motion_panet/cityscapes/task057/2019-03-29___12-03-01/config.txt             |\n",
      "| 49 | 0.519232  | /data02/jiaxin15/tmp/logs/pytorch/pspnet/cityscapes/accumulate/2019-07-20___16-58-23/config.txt                |\n",
      "| 58 | 0.525859  | /data02/jiaxin15/tmp/logs/pytorch/pspnet/cityscapes/acc_cycle_sgd_2/2019-07-23___12-40-37/config.txt           |\n",
      "|  3 | 0.552337  | /data02/jiaxin15/tmp/logs/pytorch/motion_panet/cityscapes/task056/2019-03-29___06-35-41/config.txt             |\n",
      "|  1 | 0.558351  | /data02/jiaxin15/tmp/logs/pytorch/motion_panet/cityscapes/task056/2019-03-28___22-26-00/config.txt             |\n",
      "| 17 | 0.558706  | /data02/jiaxin15/tmp/logs/pytorch/motion_panet/cityscapes/task056/2019-04-01___18-11-12/config.txt             |\n",
      "| 24 | 0.569702  | /data02/jiaxin15/tmp/logs/pytorch/motion_panet/cityscapes/task056/2019-04-02___02-20-16/config.txt             |\n",
      "| 44 | 0.569822  | /data02/jiaxin15/tmp/logs/pytorch/motion_panet/cityscapes/naive_bs2_aug_T/2019-04-05___17-00-20/config.txt     |\n",
      "|  0 | 0.579013  | /data02/jiaxin15/tmp/logs/pytorch/motion_panet/cityscapes/naive_bs2_aug_T/2019-03-28___21-36-17/config.txt     |\n",
      "| 48 | 0.58402   | /data02/jiaxin15/tmp/logs/pytorch/motion_panet/cityscapes/naive_bs2_aug_T/2019-04-07___21-44-10/config.txt     |\n",
      "| 60 | 0.585204  | /data02/jiaxin15/tmp/logs/pytorch/motionnet/cityscapes/ss001/2019-09-16___20-15-06/config.txt                  |\n",
      "| 10 | 0.586668  | /data02/jiaxin15/tmp/logs/pytorch/motion_panet/cityscapes/task056/2019-03-30___04-40-40/config.txt             |\n",
      "| 12 | 0.588755  | /data02/jiaxin15/tmp/logs/pytorch/motion_panet/cityscapes/task056/2019-03-30___18-51-39/config.txt             |\n",
      "|  7 | 0.588979  | /data02/jiaxin15/tmp/logs/pytorch/motion_panet/cityscapes/task057/2019-03-29___19-54-05/config.txt             |\n",
      "|  4 | 0.589426  | /data02/jiaxin15/tmp/logs/pytorch/motion_panet/cityscapes/task056/2019-03-29___11-45-19/config.txt             |\n",
      "|  8 | 0.589475  | /data02/jiaxin15/tmp/logs/pytorch/motion_panet/cityscapes/task056/2019-03-29___21-35-21/config.txt             |\n",
      "| 40 | 0.589864  | /data02/jiaxin15/tmp/logs/pytorch/motion_panet/cityscapes/naive_bs2_aug_T/2019-04-03___12-16-03/config.txt     |\n",
      "| 41 | 0.593661  | /data02/jiaxin15/tmp/logs/pytorch/motion_panet/cityscapes/naive_bs2_aug_T/2019-04-04___12-58-33/config.txt     |\n",
      "| 42 | 0.59522   | /data02/jiaxin15/tmp/logs/pytorch/motion_panet/cityscapes/naive_bs2_aug_T/2019-04-04___20-47-33/config.txt     |\n",
      "| 39 | 0.5973    | /data02/jiaxin15/tmp/logs/pytorch/motion_panet/cityscapes/naive_bs2_aug_T/2019-04-03___01-40-55/config.txt     |\n",
      "| 16 | 0.597567  | /data02/jiaxin15/tmp/logs/pytorch/motion_panet/cityscapes/naive_bs2_aug_T/2019-04-01___07-24-56/config.txt     |\n",
      "|  9 | 0.598682  | /data02/jiaxin15/tmp/logs/pytorch/motion_panet/cityscapes/naive_bs2_aug_T/2019-03-30___02-10-32/config.txt     |\n",
      "| 11 | 0.59872   | /data02/jiaxin15/tmp/logs/pytorch/motion_panet/cityscapes/task056/2019-03-30___11-46-45/config.txt             |\n",
      "| 62 | 0.600028  | /data02/jiaxin15/tmp/logs/pytorch/motionnet/cityscapes/ss001/2019-09-17___02-25-23/config.txt                  |\n",
      "| 66 | 0.600607  | /data02/jiaxin15/tmp/logs/pytorch/motionnet/cityscapes/ss001/2019-09-17___14-47-56/config.txt                  |\n",
      "| 13 | 0.60105   | /data02/jiaxin15/tmp/logs/pytorch/motion_panet/cityscapes/naive_bs2_aug_T/2019-03-31___03-19-33/config.txt     |\n",
      "| 64 | 0.60249   | /data02/jiaxin15/tmp/logs/pytorch/motionnet/cityscapes/ss001/2019-09-17___08-37-01/config.txt                  |\n",
      "| 15 | 0.602975  | /data02/jiaxin15/tmp/logs/pytorch/motion_panet/cityscapes/naive_bs2_aug_T/2019-03-31___20-48-28/config.txt     |\n",
      "| 45 | 0.603195  | /data02/jiaxin15/tmp/logs/pytorch/motion_panet/cityscapes/naive_bs2_aug_T/2019-04-06___17-43-09/config.txt     |\n",
      "| 43 | 0.603207  | /data02/jiaxin15/tmp/logs/pytorch/motion_panet/cityscapes/naive_bs2_aug_T/2019-04-05___06-25-41/config.txt     |\n",
      "| 29 | 0.603923  | /data02/jiaxin15/tmp/logs/pytorch/motion_panet/cityscapes/naive_bs2_aug_T/2019-04-02___08-09-44/config.txt     |\n",
      "| 14 | 0.604141  | /data02/jiaxin15/tmp/logs/pytorch/motion_panet/cityscapes/naive_bs2_aug_T/2019-03-31___11-09-56/config.txt     |\n",
      "| 35 | 0.607761  | /data02/jiaxin15/tmp/logs/pytorch/motion_panet/cityscapes/naive_bs2_aug_T/2019-04-02___16-01-30/config.txt     |\n",
      "|  6 | 0.609879  | /data02/jiaxin15/tmp/logs/pytorch/motion_panet/cityscapes/naive_bs2_aug_T/2019-03-29___15-10-00/config.txt     |\n",
      "| 47 | 0.618047  | /data02/jiaxin15/tmp/logs/pytorch/motion_panet/cityscapes/naive_bs2_aug_T/2019-04-07___11-09-12/config.txt     |\n",
      "| 46 | 0.618563  | /data02/jiaxin15/tmp/logs/pytorch/motion_panet/cityscapes/naive_bs2_aug_T/2019-04-07___01-31-56/config.txt     |\n",
      "|  2 | 0.626377  | /data02/jiaxin15/tmp/logs/pytorch/motion_panet/cityscapes/naive_bs2_aug_T/2019-03-29___05-29-53/config.txt     |\n",
      "\n",
      "\n"
     ]
    }
   ],
   "source": [
    "rootpath=os.path.expanduser('~/tmp/logs/pytorch')\n",
    "tags=['train/iou','val/iou']\n",
    "descripe=['note','n_epoch']\n",
    "notes=['today','recent']\n",
    "note_gtags=[['dataset_name','log_time','net_name'],\n",
    "           ['dataset_name','log_time','net_name']]\n",
    "recent_log_number=100\n",
    "tasks=dump(tags=tags,rootpath=rootpath,notes=notes,note_gtags=note_gtags,sort_tags=['dataset_name','val/iou'],\n",
    "     descripe=descripe,delete_nan=False,dump_group=False,recent_log_number=recent_log_number)"
   ]
  },
  {
   "cell_type": "code",
   "execution_count": 36,
   "metadata": {},
   "outputs": [
    {
     "name": "stdout",
     "output_type": "stream",
     "text": [
      "Index(['accumulate', 'attention_type', 'augmentation', 'augmentations_blur',\n",
      "       'aux_base_weight', 'auxnet_layer', 'auxnet_type', 'backbone_freeze',\n",
      "       'backbone_name', 'backbone_pretrained',\n",
      "       ...\n",
      "       'use_lr_mult', 'use_none_layer', 'use_reg', 'use_rotate',\n",
      "       'vertical_flip', 'with_edge', 'train/iou', 'val/iou', 'dir',\n",
      "       'log_time'],\n",
      "      dtype='object', length=104)\n",
      "0    1.0\n",
      "1    1.0\n",
      "2    NaN\n",
      "Name: decode_main_layer, dtype: float64\n",
      "a is not nan\n",
      "False\n",
      "False\n"
     ]
    }
   ],
   "source": [
    "print(tasks.columns)\n",
    "print(tasks['decode_main_layer'])\n",
    "import math\n",
    "import numpy as np\n",
    "a=tasks['decode_main_layer']\n",
    "if np.nan in tasks['decode_main_layer']:\n",
    "    print('a is nan')\n",
    "else:\n",
    "    print('a is not nan')\n",
    "\n",
    "import pandas as pd\n",
    "print(pd.isna(tasks['accumulate']).any())\n",
    "print(pd.isnull(tasks['accumulate']).any())"
   ]
  },
  {
   "cell_type": "code",
   "execution_count": null,
   "metadata": {
    "collapsed": true
   },
   "outputs": [],
   "source": []
  }
 ],
 "metadata": {
  "kernelspec": {
   "display_name": "Python [conda env:env3]",
   "language": "python",
   "name": "conda-env-env3-py"
  },
  "language_info": {
   "codemirror_mode": {
    "name": "ipython",
    "version": 3
   },
   "file_extension": ".py",
   "mimetype": "text/x-python",
   "name": "python",
   "nbconvert_exporter": "python",
   "pygments_lexer": "ipython3",
   "version": "3.6.3"
  },
  "nbpresent": {
   "slides": {},
   "themes": {
    "default": "fc255d06-66c6-4a6b-a8c4-42a6f20eb29b",
    "theme": {
     "738f3cfd-9013-49aa-939c-a1216d389da2": {
      "backgrounds": {
       "dc7afa04-bf90-40b1-82a5-726e3cff5267": {
        "background-color": "31af15d2-7e15-44c5-ab5e-e04b16a89eff",
        "id": "dc7afa04-bf90-40b1-82a5-726e3cff5267"
       }
      },
      "id": "738f3cfd-9013-49aa-939c-a1216d389da2",
      "palette": {
       "19cc588f-0593-49c9-9f4b-e4d7cc113b1c": {
        "id": "19cc588f-0593-49c9-9f4b-e4d7cc113b1c",
        "rgb": [
         252,
         252,
         252
        ]
       },
       "31af15d2-7e15-44c5-ab5e-e04b16a89eff": {
        "id": "31af15d2-7e15-44c5-ab5e-e04b16a89eff",
        "rgb": [
         68,
         68,
         68
        ]
       },
       "50f92c45-a630-455b-aec3-788680ec7410": {
        "id": "50f92c45-a630-455b-aec3-788680ec7410",
        "rgb": [
         197,
         226,
         245
        ]
       },
       "c5cc3653-2ee1-402a-aba2-7caae1da4f6c": {
        "id": "c5cc3653-2ee1-402a-aba2-7caae1da4f6c",
        "rgb": [
         43,
         126,
         184
        ]
       },
       "efa7f048-9acb-414c-8b04-a26811511a21": {
        "id": "efa7f048-9acb-414c-8b04-a26811511a21",
        "rgb": [
         25.118061674008803,
         73.60176211453744,
         107.4819383259912
        ]
       }
      },
      "rules": {
       "a": {
        "color": "19cc588f-0593-49c9-9f4b-e4d7cc113b1c"
       },
       "blockquote": {
        "color": "50f92c45-a630-455b-aec3-788680ec7410",
        "font-size": 3
       },
       "code": {
        "font-family": "Anonymous Pro"
       },
       "h1": {
        "color": "19cc588f-0593-49c9-9f4b-e4d7cc113b1c",
        "font-family": "Merriweather",
        "font-size": 8
       },
       "h2": {
        "color": "19cc588f-0593-49c9-9f4b-e4d7cc113b1c",
        "font-family": "Merriweather",
        "font-size": 6
       },
       "h3": {
        "color": "50f92c45-a630-455b-aec3-788680ec7410",
        "font-family": "Lato",
        "font-size": 5.5
       },
       "h4": {
        "color": "c5cc3653-2ee1-402a-aba2-7caae1da4f6c",
        "font-family": "Lato",
        "font-size": 5
       },
       "h5": {
        "font-family": "Lato"
       },
       "h6": {
        "font-family": "Lato"
       },
       "h7": {
        "font-family": "Lato"
       },
       "li": {
        "color": "50f92c45-a630-455b-aec3-788680ec7410",
        "font-size": 3.25
       },
       "pre": {
        "font-family": "Anonymous Pro",
        "font-size": 4
       }
      },
      "text-base": {
       "color": "19cc588f-0593-49c9-9f4b-e4d7cc113b1c",
       "font-family": "Lato",
       "font-size": 4
      }
     },
     "fc255d06-66c6-4a6b-a8c4-42a6f20eb29b": {
      "backgrounds": {
       "backgroundColor": {
        "background-color": "backgroundColor",
        "id": "backgroundColor"
       }
      },
      "id": "fc255d06-66c6-4a6b-a8c4-42a6f20eb29b",
      "palette": {
       "backgroundColor": {
        "id": "backgroundColor",
        "rgb": [
         34,
         34,
         34
        ]
       },
       "headingColor": {
        "id": "headingColor",
        "rgb": [
         256,
         256,
         256
        ]
       },
       "linkColor": {
        "id": "linkColor",
        "rgb": [
         66,
         175,
         250
        ]
       },
       "mainColor": {
        "id": "mainColor",
        "rgb": [
         256,
         256,
         256
        ]
       }
      },
      "rules": {
       "a": {
        "color": "linkColor"
       },
       "h1": {
        "color": "headingColor",
        "font-family": "Source Sans Pro",
        "font-size": 5.25
       },
       "h2": {
        "color": "headingColor",
        "font-family": "Source Sans Pro",
        "font-size": 4
       },
       "h3": {
        "color": "headingColor",
        "font-family": "Source Sans Pro",
        "font-size": 3.5
       },
       "h4": {
        "color": "headingColor",
        "font-family": "Source Sans Pro",
        "font-size": 3
       },
       "h5": {
        "color": "headingColor",
        "font-family": "Source Sans Pro"
       },
       "h6": {
        "color": "headingColor",
        "font-family": "Source Sans Pro"
       },
       "h7": {
        "color": "headingColor",
        "font-family": "Source Sans Pro"
       },
       "li": {
        "color": "mainColor",
        "font-family": "Source Sans Pro",
        "font-size": 6
       },
       "p": {
        "color": "mainColor",
        "font-family": "Source Sans Pro",
        "font-size": 6
       }
      },
      "text-base": {
       "color": "mainColor",
       "font-family": "Source Sans Pro",
       "font-size": 6
      }
     }
    }
   }
  }
 },
 "nbformat": 4,
 "nbformat_minor": 2
}
