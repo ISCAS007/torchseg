{
 "cells": [
  {
   "cell_type": "markdown",
   "metadata": {},
   "source": [
    "# Analysis of tensorboard results\n",
    "- view motion_statistic for automatic analysis.\n",
    "- due to history code problem, cannot show dataset name in table directly (name for ss001 and ss002, dataset_name for others), modify summary() to support it."
   ]
  },
  {
   "cell_type": "code",
   "execution_count": 19,
   "metadata": {},
   "outputs": [
    {
     "name": "stdout",
     "output_type": "stream",
     "text": [
      "['/home/yzbx/git/torchseg', '/home/yzbx/git/torchseg', '/home/yzbx/git/torchseg', '/home/yzbx/git/torchseg', '/home/yzbx/git/torchseg', '/home/yzbx/git/torchseg', '/home/yzbx/git/torchseg', '/home/yzbx/git/torchseg/notebooks', '/home/yzbx/git/torchseg/notebooks', '/home/yzbx/miniconda3/envs/new/lib/python38.zip', '/home/yzbx/miniconda3/envs/new/lib/python3.8', '/home/yzbx/miniconda3/envs/new/lib/python3.8/lib-dynload', '', '/home/yzbx/.local/lib/python3.8/site-packages', '/home/yzbx/miniconda3/envs/new/lib/python3.8/site-packages', '/home/yzbx/miniconda3/envs/new/lib/python3.8/site-packages/IPython/extensions', '/home/yzbx/.ipython']\n"
     ]
    }
   ],
   "source": [
    "import os\n",
    "import sys\n",
    "sys.path.insert(0,os.path.expanduser('~/git/torchseg'))\n",
    "print(sys.path)\n",
    "\n",
    "%reload_ext autoreload\n",
    "%autoreload 2\n",
    "from torchseg.utils.summary_to_jupyter import summary,dump"
   ]
  },
  {
   "cell_type": "code",
   "execution_count": 21,
   "metadata": {
    "scrolled": false
   },
   "outputs": [
    {
     "name": "stdout",
     "output_type": "stream",
     "text": [
      "### mox001 batch_size,dataset_name,freeze_layer,midnet_scale,n_epoch,net_name,save_model,txt_note,upsample_layer,use_sync_bn,actual_step\n",
      "|    |   n_epoch |   freeze_layer | txt_note        | save_model   |   actual_step |   batch_size |   train/iou |   midnet_scale |   upsample_layer | note   | dataset_name        | input_shape   |   val/iou | use_sync_bn   | net_name      |\n",
      "|---:|----------:|---------------:|:----------------|:-------------|--------------:|-------------:|------------:|---------------:|-----------------:|:-------|:--------------------|:--------------|----------:|:--------------|:--------------|\n",
      "|  0 |         5 |              1 | cityscapes_fine | True         |             5 |            4 |    0.779446 |              1 |                1 | mox001 | cityscapes_category | [480, 480]    |  0.765276 | True          | PSPUNet       |\n",
      "|  1 |        50 |              1 | huawei          | False        |            50 |            4 |    0.80292  |              1 |                1 | mox001 | huawei              | [480, 480]    |  0.624322 | True          | PSPUNet       |\n",
      "|  2 |         5 |              1 | huawei          | True         |             5 |            4 |    0.585819 |              1 |                1 | mox001 | huawei              | [480, 480]    |  0.581732 | True          | PSPUNet       |\n",
      "|  3 |        50 |              0 | huawei          | True         |            50 |            8 |    0.864692 |              5 |                3 | mox001 | huawei              | [256, 512]    |  0.731056 | False         | DeepLabV3Plus |\n",
      "|  4 |        50 |              0 | huawei          | False        |            50 |            4 |    0.816314 |              5 |                3 | mox001 | huawei              | [256, 512]    |  0.614639 | True          | DeepLabV3Plus |\n",
      "|  5 |        50 |              0 | huawei          | True         |            50 |            8 |    0.82232  |              5 |                3 | mox001 | huawei              | [256, 512]    |  0.613748 | False         | DeepLabV3Plus |\n",
      "|  6 |        50 |              0 | huawei          | True         |            50 |            8 |    0.862657 |              5 |                3 | mox001 | huawei              | [256, 512]    |  0.728364 | False         | DeepLabV3Plus |\n",
      "|  7 |        50 |              0 | huawei          | True         |            50 |            8 |    0.86349  |              5 |                3 | mox001 | huawei              | [256, 512]    |  0.731069 | False         | DeepLabV3Plus |\n",
      "|  8 |        50 |              0 | huawei          | True         |            50 |            8 |    0.815139 |              5 |                3 | mox001 | huawei              | [256, 512]    |  0.619493 | False         | DeepLabV3Plus |\n",
      "|  9 |        50 |              0 | huawei          | True         |            50 |            8 |    0.863861 |              5 |                3 | mox001 | huawei              | [256, 512]    |  0.731621 | False         | DeepLabV3Plus |\n",
      "| 10 |        50 |              0 | huawei          | True         |            50 |            8 |    0.821357 |              5 |                3 | mox001 | huawei              | [256, 512]    |  0.617964 | False         | DeepLabV3Plus |\n",
      "| 11 |        50 |              0 | huawei          | False        |            50 |            4 |    0.755054 |              5 |                3 | mox001 | huawei              | [240, 240]    |  0.558589 | True          | DeepLabV3Plus |\n",
      "| 12 |        50 |              0 | huawei          | True         |            50 |            8 |    0.827575 |              5 |                3 | mox001 | huawei              | [256, 512]    |  0.614761 | False         | DeepLabV3Plus |\n",
      "| 13 |        50 |              0 | huawei          | True         |            50 |            8 |    0.8203   |              5 |                3 | mox001 | huawei              | [256, 512]    |  0.615319 | False         | DeepLabV3Plus |\n",
      "| 14 |        50 |              0 | huawei          | True         |            50 |            8 |    0.861771 |              5 |                3 | mox001 | huawei              | [256, 512]    |  0.732483 | False         | DeepLabV3Plus |\n",
      "| 15 |        50 |              0 | huawei          | True         |            50 |            8 |    0.86339  |              5 |                3 | mox001 | huawei              | [256, 512]    |  0.733331 | False         | DeepLabV3Plus |\n",
      "\n",
      "\n",
      "|    |   val/iou | dir                                                                                             |\n",
      "|---:|----------:|:------------------------------------------------------------------------------------------------|\n",
      "| 11 |  0.558589 | /home/yzbx/tmp/logs/pytorch/DeepLabV3Plus/huawei/mox001/2020-12-23___13-42-06/config.txt        |\n",
      "|  2 |  0.581732 | /home/yzbx/tmp/logs/pytorch/PSPUNet/huawei/mox001/2020-12-23___20-44-26/config.txt              |\n",
      "|  5 |  0.613748 | /home/yzbx/tmp/logs/pytorch/DeepLabV3Plus/huawei/mox001/2020-12-23___23-56-40/config.txt        |\n",
      "|  4 |  0.614639 | /home/yzbx/tmp/logs/pytorch/DeepLabV3Plus/huawei/mox001/2020-12-23___13-45-14/config.txt        |\n",
      "| 12 |  0.614761 | /home/yzbx/tmp/logs/pytorch/DeepLabV3Plus/huawei/mox001/2020-12-24___01-20-57/config.txt        |\n",
      "| 13 |  0.615319 | /home/yzbx/tmp/logs/pytorch/DeepLabV3Plus/huawei/mox001/2020-12-23___22-32-21/config.txt        |\n",
      "| 10 |  0.617964 | /home/yzbx/tmp/logs/pytorch/DeepLabV3Plus/huawei/mox001/2020-12-24___02-44-53/config.txt        |\n",
      "|  8 |  0.619493 | /home/yzbx/tmp/logs/pytorch/DeepLabV3Plus/huawei/mox001/2020-12-23___21-08-15/config.txt        |\n",
      "|  1 |  0.624322 | /home/yzbx/tmp/logs/pytorch/PSPUNet/huawei/mox001/2020-12-23___12-31-57/config.txt              |\n",
      "|  6 |  0.728364 | /home/yzbx/tmp/logs/pytorch/DeepLabV3Plus/huawei/mox001/2020-12-25___00-29-39/config.txt        |\n",
      "|  3 |  0.731056 | /home/yzbx/tmp/logs/pytorch/DeepLabV3Plus/huawei/mox001/2020-12-25___03-17-56/config.txt        |\n",
      "|  7 |  0.731069 | /home/yzbx/tmp/logs/pytorch/DeepLabV3Plus/huawei/mox001/2020-12-24___21-40-11/config.txt        |\n",
      "|  9 |  0.731621 | /home/yzbx/tmp/logs/pytorch/DeepLabV3Plus/huawei/mox001/2020-12-25___04-41-58/config.txt        |\n",
      "| 14 |  0.732483 | /home/yzbx/tmp/logs/pytorch/DeepLabV3Plus/huawei/mox001/2020-12-25___01-53-55/config.txt        |\n",
      "| 15 |  0.733331 | /home/yzbx/tmp/logs/pytorch/DeepLabV3Plus/huawei/mox001/2020-12-24___23-05-42/config.txt        |\n",
      "|  0 |  0.765276 | /home/yzbx/tmp/logs/pytorch/PSPUNet/cityscapes_category/mox001/2020-12-24___15-17-36/config.txt |\n",
      "\n",
      "\n",
      "### mox002 \n",
      "|    |   n_epoch | note   |   train/iou | input_shape   |   val/iou |\n",
      "|---:|----------:|:-------|------------:|:--------------|----------:|\n",
      "|  0 |         5 | mox002 |    0.712139 | [256, 512]    |  0.696109 |\n",
      "\n",
      "\n",
      "|    |   val/iou | dir                                                                                      |\n",
      "|---:|----------:|:-----------------------------------------------------------------------------------------|\n",
      "|  0 |  0.696109 | /home/yzbx/tmp/logs/pytorch/DeepLabV3Plus/huawei/mox002/2020-12-24___20-31-50/config.txt |\n",
      "\n",
      "\n"
     ]
    }
   ],
   "source": [
    "tags=['train/iou','val/iou']\n",
    "rootpath=os.path.expanduser('~/tmp/logs/pytorch')\n",
    "descripe=['note','n_epoch','input_shape']\n",
    "# attention_type aux_backbone filter_feature\n",
    "invalid_param_list=['dir','log_time','root_path',\n",
    "                    'test_path', 'train_path', 'val_path',\n",
    "                    'use_optical_flow','flow_backbone',\n",
    "                    'ignore_outOfRoi','exception_value',\n",
    "                    'cityscapes_split','txt_path',\n",
    "                    'decode_main_layer','gpu','ngpus_per_node',\n",
    "                    'rank']\n",
    "note_gtags=[['dataset','note'],['dataset','note']]\n",
    "note_gtags=None\n",
    "notes=['mox001','mox002']\n",
    "# notes=['ss042_attention','ss042_resnet','ss042_vgg']\n",
    "# notes=['ss059']\n",
    "tasks=dump(tags=tags,rootpath=rootpath,notes=notes,descripe=descripe,\n",
    "     invalid_param_list=invalid_param_list,delete_nan=False,dump_group=False,\n",
    "     note_gtags=note_gtags)"
   ]
  },
  {
   "cell_type": "code",
   "execution_count": 4,
   "metadata": {
    "scrolled": false
   },
   "outputs": [
    {
     "name": "stdout",
     "output_type": "stream",
     "text": [
      "|    |   n_epoch | log_time              | note   |   train/iou | dataset_name   |   val/iou | net_name      |\n",
      "|---:|----------:|:----------------------|:-------|------------:|:---------------|----------:|:--------------|\n",
      "|  2 |        50 | 2020-12-23___13-42-06 | mox001 |    0.746095 | huawei         |  0.558589 | DeepLabV3Plus |\n",
      "|  1 |        50 | 2020-12-23___13-45-14 | mox001 |    0.790604 | huawei         |  0.611118 | DeepLabV3Plus |\n",
      "|  0 |        50 | 2020-12-23___12-31-57 | mox001 |    0.80292  | huawei         |  0.624322 | PSPUNet       |\n",
      "\n",
      "\n",
      "|    |   val/iou | dir                                                                                      |\n",
      "|---:|----------:|:-----------------------------------------------------------------------------------------|\n",
      "|  2 |  0.558589 | /home/yzbx/tmp/logs/pytorch/DeepLabV3Plus/huawei/mox001/2020-12-23___13-42-06/config.txt |\n",
      "|  1 |  0.611118 | /home/yzbx/tmp/logs/pytorch/DeepLabV3Plus/huawei/mox001/2020-12-23___13-45-14/config.txt |\n",
      "|  0 |  0.624322 | /home/yzbx/tmp/logs/pytorch/PSPUNet/huawei/mox001/2020-12-23___12-31-57/config.txt       |\n",
      "\n",
      "\n",
      "|    |   n_epoch | log_time              | note   |   train/iou | dataset_name   |   val/iou | net_name      |\n",
      "|---:|----------:|:----------------------|:-------|------------:|:---------------|----------:|:--------------|\n",
      "|  1 |        50 | 2020-12-23___13-42-06 | mox001 |    0.746095 | huawei         |  0.558589 | DeepLabV3Plus |\n",
      "|  2 |        50 | 2020-12-23___13-45-14 | mox001 |    0.790604 | huawei         |  0.611118 | DeepLabV3Plus |\n",
      "|  0 |        50 | 2020-12-23___12-31-57 | mox001 |    0.80292  | huawei         |  0.624322 | PSPUNet       |\n",
      "\n",
      "\n",
      "|    |   val/iou | dir                                                                                      |\n",
      "|---:|----------:|:-----------------------------------------------------------------------------------------|\n",
      "|  1 |  0.558589 | /home/yzbx/tmp/logs/pytorch/DeepLabV3Plus/huawei/mox001/2020-12-23___13-42-06/config.txt |\n",
      "|  2 |  0.611118 | /home/yzbx/tmp/logs/pytorch/DeepLabV3Plus/huawei/mox001/2020-12-23___13-45-14/config.txt |\n",
      "|  0 |  0.624322 | /home/yzbx/tmp/logs/pytorch/PSPUNet/huawei/mox001/2020-12-23___12-31-57/config.txt       |\n",
      "\n",
      "\n"
     ]
    }
   ],
   "source": [
    "rootpath=os.path.expanduser('~/tmp/logs/pytorch')\n",
    "tags=['train/iou','val/iou']\n",
    "descripe=['note','n_epoch']\n",
    "notes=['today','recent']\n",
    "note_gtags=[['dataset_name','log_time','net_name'],\n",
    "           ['dataset_name','log_time','net_name']]\n",
    "recent_log_number=100\n",
    "tasks=dump(tags=tags,rootpath=rootpath,notes=notes,note_gtags=note_gtags,sort_tags=['dataset_name','val/iou'],\n",
    "     descripe=descripe,delete_nan=False,dump_group=False,recent_log_number=recent_log_number)"
   ]
  },
  {
   "cell_type": "code",
   "execution_count": 36,
   "metadata": {},
   "outputs": [
    {
     "name": "stdout",
     "output_type": "stream",
     "text": [
      "Index(['accumulate', 'attention_type', 'augmentation', 'augmentations_blur',\n",
      "       'aux_base_weight', 'auxnet_layer', 'auxnet_type', 'backbone_freeze',\n",
      "       'backbone_name', 'backbone_pretrained',\n",
      "       ...\n",
      "       'use_lr_mult', 'use_none_layer', 'use_reg', 'use_rotate',\n",
      "       'vertical_flip', 'with_edge', 'train/iou', 'val/iou', 'dir',\n",
      "       'log_time'],\n",
      "      dtype='object', length=104)\n",
      "0    1.0\n",
      "1    1.0\n",
      "2    NaN\n",
      "Name: decode_main_layer, dtype: float64\n",
      "a is not nan\n",
      "False\n",
      "False\n"
     ]
    }
   ],
   "source": [
    "print(tasks.columns)\n",
    "print(tasks['decode_main_layer'])\n",
    "import math\n",
    "import numpy as np\n",
    "a=tasks['decode_main_layer']\n",
    "if np.nan in tasks['decode_main_layer']:\n",
    "    print('a is nan')\n",
    "else:\n",
    "    print('a is not nan')\n",
    "\n",
    "import pandas as pd\n",
    "print(pd.isna(tasks['accumulate']).any())\n",
    "print(pd.isnull(tasks['accumulate']).any())"
   ]
  },
  {
   "cell_type": "code",
   "execution_count": null,
   "metadata": {
    "collapsed": true
   },
   "outputs": [],
   "source": []
  }
 ],
 "metadata": {
  "kernelspec": {
   "display_name": "Python 3",
   "language": "python",
   "name": "python3"
  },
  "language_info": {
   "codemirror_mode": {
    "name": "ipython",
    "version": 3
   },
   "file_extension": ".py",
   "mimetype": "text/x-python",
   "name": "python",
   "nbconvert_exporter": "python",
   "pygments_lexer": "ipython3",
   "version": "3.8.3"
  },
  "nbpresent": {
   "slides": {},
   "themes": {
    "default": "fc255d06-66c6-4a6b-a8c4-42a6f20eb29b",
    "theme": {
     "738f3cfd-9013-49aa-939c-a1216d389da2": {
      "backgrounds": {
       "dc7afa04-bf90-40b1-82a5-726e3cff5267": {
        "background-color": "31af15d2-7e15-44c5-ab5e-e04b16a89eff",
        "id": "dc7afa04-bf90-40b1-82a5-726e3cff5267"
       }
      },
      "id": "738f3cfd-9013-49aa-939c-a1216d389da2",
      "palette": {
       "19cc588f-0593-49c9-9f4b-e4d7cc113b1c": {
        "id": "19cc588f-0593-49c9-9f4b-e4d7cc113b1c",
        "rgb": [
         252,
         252,
         252
        ]
       },
       "31af15d2-7e15-44c5-ab5e-e04b16a89eff": {
        "id": "31af15d2-7e15-44c5-ab5e-e04b16a89eff",
        "rgb": [
         68,
         68,
         68
        ]
       },
       "50f92c45-a630-455b-aec3-788680ec7410": {
        "id": "50f92c45-a630-455b-aec3-788680ec7410",
        "rgb": [
         197,
         226,
         245
        ]
       },
       "c5cc3653-2ee1-402a-aba2-7caae1da4f6c": {
        "id": "c5cc3653-2ee1-402a-aba2-7caae1da4f6c",
        "rgb": [
         43,
         126,
         184
        ]
       },
       "efa7f048-9acb-414c-8b04-a26811511a21": {
        "id": "efa7f048-9acb-414c-8b04-a26811511a21",
        "rgb": [
         25.118061674008803,
         73.60176211453744,
         107.4819383259912
        ]
       }
      },
      "rules": {
       "a": {
        "color": "19cc588f-0593-49c9-9f4b-e4d7cc113b1c"
       },
       "blockquote": {
        "color": "50f92c45-a630-455b-aec3-788680ec7410",
        "font-size": 3
       },
       "code": {
        "font-family": "Anonymous Pro"
       },
       "h1": {
        "color": "19cc588f-0593-49c9-9f4b-e4d7cc113b1c",
        "font-family": "Merriweather",
        "font-size": 8
       },
       "h2": {
        "color": "19cc588f-0593-49c9-9f4b-e4d7cc113b1c",
        "font-family": "Merriweather",
        "font-size": 6
       },
       "h3": {
        "color": "50f92c45-a630-455b-aec3-788680ec7410",
        "font-family": "Lato",
        "font-size": 5.5
       },
       "h4": {
        "color": "c5cc3653-2ee1-402a-aba2-7caae1da4f6c",
        "font-family": "Lato",
        "font-size": 5
       },
       "h5": {
        "font-family": "Lato"
       },
       "h6": {
        "font-family": "Lato"
       },
       "h7": {
        "font-family": "Lato"
       },
       "li": {
        "color": "50f92c45-a630-455b-aec3-788680ec7410",
        "font-size": 3.25
       },
       "pre": {
        "font-family": "Anonymous Pro",
        "font-size": 4
       }
      },
      "text-base": {
       "color": "19cc588f-0593-49c9-9f4b-e4d7cc113b1c",
       "font-family": "Lato",
       "font-size": 4
      }
     },
     "fc255d06-66c6-4a6b-a8c4-42a6f20eb29b": {
      "backgrounds": {
       "backgroundColor": {
        "background-color": "backgroundColor",
        "id": "backgroundColor"
       }
      },
      "id": "fc255d06-66c6-4a6b-a8c4-42a6f20eb29b",
      "palette": {
       "backgroundColor": {
        "id": "backgroundColor",
        "rgb": [
         34,
         34,
         34
        ]
       },
       "headingColor": {
        "id": "headingColor",
        "rgb": [
         256,
         256,
         256
        ]
       },
       "linkColor": {
        "id": "linkColor",
        "rgb": [
         66,
         175,
         250
        ]
       },
       "mainColor": {
        "id": "mainColor",
        "rgb": [
         256,
         256,
         256
        ]
       }
      },
      "rules": {
       "a": {
        "color": "linkColor"
       },
       "h1": {
        "color": "headingColor",
        "font-family": "Source Sans Pro",
        "font-size": 5.25
       },
       "h2": {
        "color": "headingColor",
        "font-family": "Source Sans Pro",
        "font-size": 4
       },
       "h3": {
        "color": "headingColor",
        "font-family": "Source Sans Pro",
        "font-size": 3.5
       },
       "h4": {
        "color": "headingColor",
        "font-family": "Source Sans Pro",
        "font-size": 3
       },
       "h5": {
        "color": "headingColor",
        "font-family": "Source Sans Pro"
       },
       "h6": {
        "color": "headingColor",
        "font-family": "Source Sans Pro"
       },
       "h7": {
        "color": "headingColor",
        "font-family": "Source Sans Pro"
       },
       "li": {
        "color": "mainColor",
        "font-family": "Source Sans Pro",
        "font-size": 6
       },
       "p": {
        "color": "mainColor",
        "font-family": "Source Sans Pro",
        "font-size": 6
       }
      },
      "text-base": {
       "color": "mainColor",
       "font-family": "Source Sans Pro",
       "font-size": 6
      }
     }
    }
   }
  }
 },
 "nbformat": 4,
 "nbformat_minor": 2
}
