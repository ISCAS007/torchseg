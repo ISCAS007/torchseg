{
 "cells": [
  {
   "cell_type": "code",
   "execution_count": 1,
   "metadata": {},
   "outputs": [
    {
     "name": "stdout",
     "output_type": "stream",
     "text": [
      "['/data02/jiaxin15/git/torchseg', '', '/data02/jiaxin15/git/torchseg/notebooks', '/data02/jiaxin15/bin/miniconda3/envs/env3/lib/python36.zip', '/data02/jiaxin15/bin/miniconda3/envs/env3/lib/python3.6', '/data02/jiaxin15/bin/miniconda3/envs/env3/lib/python3.6/lib-dynload', '/data02/jiaxin15/bin/miniconda3/envs/env3/lib/python3.6/site-packages', '/data02/jiaxin15/bin/miniconda3/envs/env3/lib/python3.6/site-packages/Sphinx-1.6.3-py3.6.egg', '/data02/jiaxin15/bin/miniconda3/envs/env3/lib/python3.6/site-packages/IPython/extensions', '/data02/jiaxin15/.ipython']\n"
     ]
    }
   ],
   "source": [
    "import os\n",
    "import glob\n",
    "import sys\n",
    "import time\n",
    "from tabulate import tabulate\n",
    "import pandas as pd\n",
    "sys.path.insert(0,os.path.expanduser('~/git/torchseg'))\n",
    "print(sys.path)\n",
    "\n",
    "from utils.config import load_config\n",
    "from utils.summary_to_csv import config_to_log,load_log,edict_to_pandas,today_log,recent_log"
   ]
  },
  {
   "cell_type": "code",
   "execution_count": 2,
   "metadata": {},
   "outputs": [
    {
     "name": "stdout",
     "output_type": "stream",
     "text": [
      "4347\n",
      "today log##############################\n",
      "\n",
      " recent log##############################\n",
      "/data02/jiaxin15/tmp/logs/pytorch/PSPUNet/cityscapes/ss041_up2_fz2/2019-10-11___11-16-10/config.txt\n",
      "/data02/jiaxin15/tmp/logs/pytorch/PSPUNet/cityscapes/ss040_up2_fz2/2019-10-11___12-56-01/config.txt\n",
      "/data02/jiaxin15/tmp/logs/pytorch/PSPUNet/cityscapes/ss042_vgg16_bn_ucwF/2019-10-11___13-08-02/config.txt\n",
      "/data02/jiaxin15/tmp/logs/pytorch/PSPUNet/cityscapes/ss041_up2_fz3/2019-10-11___16-35-00/config.txt\n",
      "/data02/jiaxin15/tmp/logs/pytorch/PSPUNet/cityscapes/ss040_up2_fz3/2019-10-11___18-28-46/config.txt\n",
      "/data02/jiaxin15/tmp/logs/pytorch/PSPUNet/cityscapes/ss042_resnet50_ucwT/2019-10-11___18-44-49/config.txt\n",
      "/data02/jiaxin15/tmp/logs/pytorch/PSPUNet/cityscapes/ss042_attentionh_resT/2019-10-11___20-52-09/config.txt\n",
      "/data02/jiaxin15/tmp/logs/pytorch/PSPUNet/cityscapes/ss043/2019-10-11___21-14-43/config.txt\n",
      "/data02/jiaxin15/tmp/logs/pytorch/PSPUNet/cityscapes/ss041_up1_fz0/2019-10-11___21-44-45/config.txt\n",
      "/data02/jiaxin15/tmp/logs/pytorch/PSPUNet/cityscapes/ss040_up1_fz0/2019-10-11___23-57-35/config.txt\n",
      "/data02/jiaxin15/tmp/logs/pytorch/PSPUNet/cityscapes/ss042_resnet50_ucwF/2019-10-12___00-12-03/config.txt\n",
      "/data02/jiaxin15/tmp/logs/pytorch/PSPUNet/cityscapes/ss041_up1_fz1/2019-10-12___04-52-22/config.txt\n",
      "/data02/jiaxin15/tmp/logs/pytorch/PSPUNet/cityscapes/ss042_vgg16_bn_ucwT/2019-10-12___05-37-43/config.txt\n",
      "/data02/jiaxin15/tmp/logs/pytorch/PSPUNet/cityscapes/ss040_up1_fz1/2019-10-12___07-53-28/config.txt\n",
      "/data02/jiaxin15/tmp/logs/pytorch/PSPUNet/cityscapes/ss042_vgg16_bn_ucwF/2019-10-12___11-13-41/config.txt\n",
      "/data02/jiaxin15/tmp/logs/pytorch/PSPUNet/cityscapes/ss041_up1_fz2/2019-10-12___11-54-58/config.txt\n",
      "/data02/jiaxin15/tmp/logs/pytorch/PSPUNet/cityscapes/ss042_attentionn_resT/2019-10-12___12-24-48/config.txt\n",
      "/data02/jiaxin15/tmp/logs/pytorch/PSPUNet/cityscapes/ss043/2019-10-12___12-47-15/config.txt\n",
      "/data02/jiaxin15/tmp/logs/pytorch/PSPUNet/cityscapes/ss040_up1_fz2/2019-10-12___15-03-19/config.txt\n",
      "/data02/jiaxin15/tmp/logs/pytorch/PSPUNet/cityscapes/ss041_up1_fz3/2019-10-12___18-33-16/config.txt\n",
      "/data02/jiaxin15/tmp/logs/pytorch/PSPUNet/cityscapes/ss040_up1_fz3/2019-10-12___21-37-34/config.txt\n",
      "/data02/jiaxin15/tmp/logs/pytorch/PSPUNet/cityscapes/ss040_up2_fz0/2019-10-13___03-33-40/config.txt\n",
      "/data02/jiaxin15/tmp/logs/pytorch/PSPUNet/cityscapes/ss042_attentions_resF/2019-10-13___04-00-10/config.txt\n",
      "/data02/jiaxin15/tmp/logs/pytorch/PSPUNet/cityscapes/ss043/2019-10-13___04-21-55/config.txt\n",
      "/data02/jiaxin15/tmp/logs/pytorch/PSPUNet/cityscapes/ss041_up2_fz0/2019-10-13___07-52-48/config.txt\n",
      "/data02/jiaxin15/tmp/logs/pytorch/PSPUNet/cityscapes/ss040_up2_fz1/2019-10-13___09-21-19/config.txt\n",
      "/data02/jiaxin15/tmp/logs/pytorch/PSPUNet/cityscapes/ss041_up2_fz1/2019-10-13___13-17-35/config.txt\n",
      "/data02/jiaxin15/tmp/logs/pytorch/PSPUNet/cityscapes/ss040_up2_fz2/2019-10-13___14-42-46/config.txt\n",
      "/data02/jiaxin15/tmp/logs/pytorch/PSPUNet/cityscapes/ss042_attentionc_resF/2019-10-13___19-32-10/config.txt\n",
      "/data02/jiaxin15/tmp/logs/pytorch/PSPUNet/cityscapes/ss043/2019-10-13___19-53-57/config.txt\n",
      "/data02/jiaxin15/tmp/logs/pytorch/PSPUNet/cityscapes/ss040_up2_fz3/2019-10-13___19-57-59/config.txt\n",
      "/data02/jiaxin15/tmp/logs/pytorch/PSPUNet/cityscapes/ss041_up2_fz2/2019-10-14___00-24-50/config.txt\n",
      "/data02/jiaxin15/tmp/logs/pytorch/PSPUNet/cityscapes/ss040_up1_fz0/2019-10-14___01-18-16/config.txt\n",
      "/data02/jiaxin15/tmp/logs/pytorch/PSPUNet/cityscapes/ss040_up1_fz1/2019-10-14___09-12-53/config.txt\n",
      "/data02/jiaxin15/tmp/logs/pytorch/PSPUNet/cityscapes/ss042_attentiong_resF/2019-10-14___11-06-47/config.txt\n",
      "/data02/jiaxin15/tmp/logs/pytorch/PSPUNet/cityscapes/ss041_up2_fz3/2019-10-14___11-15-33/config.txt\n",
      "/data02/jiaxin15/tmp/logs/pytorch/PSPUNet/cityscapes/ss043/2019-10-14___11-28-41/config.txt\n",
      "/data02/jiaxin15/tmp/logs/pytorch/PSPUNet/cityscapes/ss040_up1_fz2/2019-10-14___16-21-01/config.txt\n",
      "/data02/jiaxin15/tmp/logs/pytorch/PSPUNet/cityscapes/ss045_biasT/2019-10-14___17-47-33/config.txt\n",
      "/data02/jiaxin15/tmp/logs/pytorch/PSPUNet/cityscapes/ss046_imgaugT/2019-10-14___17-49-08/config.txt\n",
      "/data02/jiaxin15/tmp/logs/pytorch/PSPUNet/cityscapes/ss046_semsegT/2019-10-14___17-51-43/config.txt\n",
      "/data02/jiaxin15/tmp/logs/pytorch/PSPUNet/cityscapes/ss044/2019-10-14___20-08-10/config.txt\n",
      "/data02/jiaxin15/tmp/logs/pytorch/PSPUNet/cityscapes/ss040_up1_fz3/2019-10-14___22-54-54/config.txt\n",
      "/data02/jiaxin15/tmp/logs/pytorch/PSPUNet/cityscapes/ss041_up1_fz0/2019-10-15___02-26-41/config.txt\n",
      "/data02/jiaxin15/tmp/logs/pytorch/PSPUNet/cityscapes/ss040_up2_fz0/2019-10-15___04-54-20/config.txt\n",
      "/data02/jiaxin15/tmp/logs/pytorch/PSPUNet/cityscapes/ss042_attentionh_resF/2019-10-15___05-58-41/config.txt\n",
      "/data02/jiaxin15/tmp/logs/pytorch/PSPUNet/cityscapes/ss043/2019-10-15___06-30-21/config.txt\n",
      "/data02/jiaxin15/tmp/logs/pytorch/PSPUNet/cityscapes/ss046_imgaugF/2019-10-15___09-15-48/config.txt\n",
      "/data02/jiaxin15/tmp/logs/pytorch/PSPUNet/cityscapes/ss046_semsegT/2019-10-15___09-19-05/config.txt\n",
      "/data02/jiaxin15/tmp/logs/pytorch/PSPUNet/cityscapes/ss045_biasF/2019-10-15___09-28-19/config.txt\n",
      "/data02/jiaxin15/tmp/logs/pytorch/PSPUNet/cityscapes/ss040_up2_fz1/2019-10-15___10-48-32/config.txt\n",
      "/data02/jiaxin15/tmp/logs/pytorch/PSPUNet/cityscapes/ss046_imgaugT/2019-10-15___15-57-10/config.txt\n",
      "/data02/jiaxin15/tmp/logs/pytorch/PSPUNet/cityscapes/ss046_semsegT/2019-10-15___16-04-40/config.txt\n",
      "/data02/jiaxin15/tmp/logs/pytorch/PSPUNet/cityscapes/ss040_up2_fz2/2019-10-15___16-28-16/config.txt\n",
      "/data02/jiaxin15/tmp/logs/pytorch/PSPUNet/cityscapes/ss044/2019-10-15___19-33-01/config.txt\n",
      "/data02/jiaxin15/tmp/logs/pytorch/PSPUNet/cityscapes/ss041_up1_fz1/2019-10-15___21-50-57/config.txt\n",
      "/data02/jiaxin15/tmp/logs/pytorch/PSPUNet/cityscapes/ss040_up2_fz3/2019-10-15___22-08-03/config.txt\n",
      "/data02/jiaxin15/tmp/logs/pytorch/PSPUNet/cityscapes/ss046_imgaugF/2019-10-15___22-38-28/config.txt\n",
      "/data02/jiaxin15/tmp/logs/pytorch/PSPUNet/cityscapes/ss045_biasT/2019-10-16___00-57-16/config.txt\n",
      "/data02/jiaxin15/tmp/logs/pytorch/PSPUNet/cityscapes/ss046_imgaugT/2019-10-16___05-18-46/config.txt\n",
      "/data02/jiaxin15/tmp/logs/pytorch/PSPUNet/cityscapes/ss042_attentionn_resF/2019-10-16___05-24-14/config.txt\n",
      "/data02/jiaxin15/tmp/logs/pytorch/PSPUNet/cityscapes/ss043/2019-10-16___05-53-56/config.txt\n",
      "/data02/jiaxin15/tmp/logs/pytorch/PSPUNet/cityscapes/ss046_imgaugF/2019-10-16___11-57-57/config.txt\n",
      "/data02/jiaxin15/tmp/logs/pytorch/PSPUNet/cityscapes/ss045_biasF/2019-10-16___13-11-42/config.txt\n",
      "/data02/jiaxin15/tmp/logs/pytorch/PSPUNet/cityscapes/ss041_up1_fz2/2019-10-16___13-55-05/config.txt\n",
      "/data02/jiaxin15/tmp/logs/pytorch/PSPUNet/cityscapes/ss044/2019-10-16___18-56-22/config.txt\n",
      "/data02/jiaxin15/tmp/logs/pytorch/PSPUNet/cityscapes/ss045_biasT/2019-10-16___19-47-26/config.txt\n",
      "/data02/jiaxin15/tmp/logs/pytorch/PSPUNet/cityscapes/ss045_biasF/2019-10-17___02-29-22/config.txt\n",
      "/data02/jiaxin15/tmp/logs/pytorch/PSPUNet/cityscapes/ss041_up1_fz3/2019-10-17___05-05-42/config.txt\n",
      "/data02/jiaxin15/tmp/logs/pytorch/PSPUNet/cityscapes/ss043/2019-10-17___05-07-56/config.txt\n",
      "/data02/jiaxin15/tmp/logs/pytorch/pspnet/cityscapes/ss048_scale10/2019-10-17___11-23-03/config.txt\n",
      "/data02/jiaxin15/tmp/logs/pytorch/PSPUNet/cityscapes/ss047_accumulate1/2019-10-17___11-26-47/config.txt\n",
      "/data02/jiaxin15/tmp/logs/pytorch/PSPUNet/cityscapes/ss044/2019-10-17___13-47-22/config.txt\n",
      "/data02/jiaxin15/tmp/logs/pytorch/PSPUNet/cityscapes/ss049_dropoutT/2019-10-17___16-40-39/config.txt\n",
      "/data02/jiaxin15/tmp/logs/pytorch/PSPUNet/cityscapes/ss041_up2_fz0/2019-10-17___18-59-55/config.txt\n",
      "/data02/jiaxin15/tmp/logs/pytorch/PSPUNet/cityscapes/ss043/2019-10-17___20-40-25/config.txt\n",
      "/data02/jiaxin15/tmp/logs/pytorch/PSPUNet/cityscapes/ss047_accumulate2/2019-10-18___04-21-19/config.txt\n",
      "/data02/jiaxin15/tmp/logs/pytorch/PSPUNet/cityscapes/ss044/2019-10-18___05-19-45/config.txt\n",
      "/data02/jiaxin15/tmp/logs/pytorch/PSPUNet/cityscapes/ss041_up2_fz1/2019-10-18___06-50-29/config.txt\n",
      "/data02/jiaxin15/tmp/logs/pytorch/PSPUNet/cityscapes/ss049_dropoutF/2019-10-18___09-04-39/config.txt\n",
      "/data02/jiaxin15/tmp/logs/pytorch/PSPUNet/cityscapes/ss044/2019-10-18___16-22-27/config.txt\n",
      "/data02/jiaxin15/tmp/logs/pytorch/PSPUNet/cityscapes/ss041_up2_fz2/2019-10-18___18-31-50/config.txt\n",
      "/data02/jiaxin15/tmp/logs/pytorch/PSPUNet/cityscapes/ss047_accumulate4/2019-10-18___21-58-59/config.txt\n",
      "/data02/jiaxin15/tmp/logs/pytorch/PSPUNet/cityscapes/ss049_dropoutT/2019-10-19___01-37-34/config.txt\n",
      "/data02/jiaxin15/tmp/logs/pytorch/PSPUNet/cityscapes/ss041_up2_fz3/2019-10-19___05-19-38/config.txt\n",
      "/data02/jiaxin15/tmp/logs/pytorch/PSPUNet/cityscapes/ss047_accumulate1/2019-10-19___15-38-27/config.txt\n",
      "/data02/jiaxin15/tmp/logs/pytorch/PSPUNet/cityscapes/ss049_dropoutF/2019-10-19___18-12-47/config.txt\n",
      "/data02/jiaxin15/tmp/logs/pytorch/PSPUNet/cityscapes/ss047_accumulate2/2019-10-20___00-38-08/config.txt\n",
      "/data02/jiaxin15/tmp/logs/pytorch/PSPUNet/cityscapes/ss047_accumulate4/2019-10-20___07-42-34/config.txt\n",
      "/data02/jiaxin15/tmp/logs/pytorch/PSPUNet/cityscapes/ss049_dropoutT/2019-10-20___10-48-46/config.txt\n",
      "/data02/jiaxin15/tmp/logs/pytorch/PSPUNet/cityscapes/ss047_accumulate1/2019-10-20___14-47-00/config.txt\n",
      "/data02/jiaxin15/tmp/logs/pytorch/PSPUNet/cityscapes/ss047_accumulate2/2019-10-20___21-51-56/config.txt\n",
      "/data02/jiaxin15/tmp/logs/pytorch/PSPUNet/cityscapes/ss049_dropoutF/2019-10-21___03-24-17/config.txt\n",
      "/data02/jiaxin15/tmp/logs/pytorch/PSPUNet/cityscapes/ss047_accumulate4/2019-10-21___04-56-25/config.txt\n",
      "/data02/jiaxin15/tmp/logs/pytorch/pspnet/cityscapes/docker/2019-10-22___09-47-10/config.txt\n",
      "/data02/jiaxin15/tmp/logs/pytorch/PSPUNet/cityscapes/ss050_syncbnT/2019-10-25___21-17-41/config.txt\n",
      "/data02/jiaxin15/tmp/logs/pytorch/PSPUNet/cityscapes/ss051_syncbn8/2019-10-26___00-39-12/config.txt\n",
      "/data02/jiaxin15/tmp/logs/pytorch/PSPUNet/cityscapes/ss050_syncbnT/2019-10-26___02-30-18/config.txt\n",
      "/data02/jiaxin15/tmp/logs/pytorch/PSPUNet/cityscapes/ss051_syncbn16/2019-10-26___04-42-15/config.txt\n",
      "/data02/jiaxin15/tmp/logs/pytorch/PSPUNet/cityscapes/ss050_syncbnT/2019-10-26___06-25-34/config.txt\n"
     ]
    }
   ],
   "source": [
    "log_rootpath=os.path.expanduser('~/tmp/logs')\n",
    "log_files=glob.glob(os.path.join(log_rootpath,'**','*.txt'),recursive=True)\n",
    "print(len(log_files))\n",
    "\n",
    "print('today log'+'#'*30)\n",
    "for log in today_log(log_files):\n",
    "    print(log)\n",
    "\n",
    "print('\\n recent log'+'#'*30)\n",
    "for log in recent_log(log_files):\n",
    "    print(log)"
   ]
  },
  {
   "cell_type": "code",
   "execution_count": null,
   "metadata": {
    "collapsed": true,
    "scrolled": false
   },
   "outputs": [],
   "source": []
  },
  {
   "cell_type": "code",
   "execution_count": null,
   "metadata": {
    "collapsed": true
   },
   "outputs": [],
   "source": []
  }
 ],
 "metadata": {
  "kernelspec": {
   "display_name": "Python [conda env:env3]",
   "language": "python",
   "name": "conda-env-env3-py"
  },
  "language_info": {
   "codemirror_mode": {
    "name": "ipython",
    "version": 3
   },
   "file_extension": ".py",
   "mimetype": "text/x-python",
   "name": "python",
   "nbconvert_exporter": "python",
   "pygments_lexer": "ipython3",
   "version": "3.6.3"
  }
 },
 "nbformat": 4,
 "nbformat_minor": 2
}
