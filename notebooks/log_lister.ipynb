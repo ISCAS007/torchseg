{
 "cells": [
  {
   "cell_type": "code",
   "execution_count": 1,
   "metadata": {},
   "outputs": [
    {
     "name": "stdout",
     "output_type": "stream",
     "text": [
      "['/home/yzbx/git/torchseg', '', '/home/yzbx/git/torchseg/notebooks', '/home/yzbx/git/gnu/models/research', '/home/yzbx/git/gnu/models/research/slim', '/home/yzbx/bin/miniconda3/envs/new/lib/python36.zip', '/home/yzbx/bin/miniconda3/envs/new/lib/python3.6', '/home/yzbx/bin/miniconda3/envs/new/lib/python3.6/lib-dynload', '/home/yzbx/bin/miniconda3/envs/new/lib/python3.6/site-packages', '/home/yzbx/bin/miniconda3/envs/new/lib/python3.6/site-packages/cityscapesscripts-1.0.0-py3.6-linux-x86_64.egg', '/home/yzbx/bin/miniconda3/envs/new/lib/python3.6/site-packages/torchvision-0.2.1-py3.6.egg', '/home/yzbx/bin/miniconda3/envs/new/lib/python3.6/site-packages/IPython/extensions', '/home/yzbx/.ipython']\n"
     ]
    },
    {
     "name": "stderr",
     "output_type": "stream",
     "text": [
      "/home/yzbx/bin/miniconda3/envs/new/lib/python3.6/site-packages/h5py/__init__.py:36: FutureWarning: Conversion of the second argument of issubdtype from `float` to `np.floating` is deprecated. In future, it will be treated as `np.float64 == np.dtype(float).type`.\n",
      "  from ._conv import register_converters as _register_converters\n"
     ]
    }
   ],
   "source": [
    "import os\n",
    "import glob\n",
    "import sys\n",
    "import time\n",
    "from tabulate import tabulate\n",
    "import pandas as pd\n",
    "sys.path.insert(0,os.path.expanduser('~/git/torchseg'))\n",
    "print(sys.path)\n",
    "\n",
    "from utils.config import load_config\n",
    "from utils.summary_to_csv import config_to_log,load_log,edict_to_pandas,today_log,recent_log"
   ]
  },
  {
   "cell_type": "code",
   "execution_count": 2,
   "metadata": {},
   "outputs": [
    {
     "name": "stdout",
     "output_type": "stream",
     "text": [
      "2156\n",
      "today log##############################\n",
      "/home/yzbx/tmp/logs/pytorch/pspnet/cityscapes/wo_center_loss/2019-03-15___15-21-31/config.txt\n",
      "/home/yzbx/tmp/logs/pytorch/pspnet/cityscapes/wo_sum_feature/2019-03-15___16-25-36/config.txt\n",
      "/home/yzbx/tmp/logs/pytorch/pspnet/cityscapes/center_loss/2019-03-15___15-19-56/config.txt\n",
      "/home/yzbx/tmp/logs/pytorch/pspnet/cityscapes/center_loss/2019-03-15___14-14-33/config.txt\n",
      "\n",
      " recent log##############################\n",
      "/home/yzbx/tmp/logs/motion/motion_unet_stn/cdnet2014/task009_slw1.0_pmr0.0/2019-03-08___16-57-24/config.txt\n",
      "/home/yzbx/tmp/logs/motion/motion_unet/cdnet2014/task007_u3_d5_f0/2019-03-08___17-21-18/config.txt\n",
      "/home/yzbx/tmp/logs/motion/motion_unet/cdnet2014/task007_u3_d5_f1/2019-03-08___17-37-31/config.txt\n",
      "/home/yzbx/tmp/logs/motion/motion_unet_stn/cdnet2014/task009_slw10_pmr0.0/2019-03-08___17-44-25/config.txt\n",
      "/home/yzbx/tmp/logs/motion/motion_unet/cdnet2014/task007_u4_d5_f0/2019-03-08___17-52-47/config.txt\n",
      "/home/yzbx/tmp/logs/motion/motion_unet/cdnet2014/task007_u4_d5_f1/2019-03-08___18-03-34/config.txt\n",
      "/home/yzbx/tmp/logs/motion/motion_unet_stn/cdnet2014/task007_u3_d5_f0/2019-03-08___18-13-20/config.txt\n",
      "/home/yzbx/tmp/logs/motion/motion_unet_stn/cdnet2014/task007_u3_d5_f1/2019-03-08___18-30-40/config.txt\n",
      "/home/yzbx/tmp/logs/motion/motion_unet_stn/FBMS/task010_u1_d5_f0/2019-03-08___18-44-55/config.txt\n",
      "/home/yzbx/tmp/logs/motion/motion_unet_stn/FBMS/task010_bs2/2019-03-08___18-45-36/config.txt\n",
      "/home/yzbx/tmp/logs/motion/motion_unet_stn/cdnet2014/task007_u4_d5_f0/2019-03-08___18-46-58/config.txt\n",
      "/home/yzbx/tmp/logs/motion/motion_unet_stn/cdnet2014/task007_u4_d5_f1/2019-03-08___18-59-03/config.txt\n",
      "/home/yzbx/tmp/logs/motion/motion_unet_stn/FBMS/task010_u1_d5_f0/2019-03-08___19-04-00/config.txt\n",
      "/home/yzbx/tmp/logs/motion/motion_unet_stn/FBMS/task010_bs4/2019-03-08___19-05-26/config.txt\n",
      "/home/yzbx/tmp/logs/motion/motion_unet_stn/FBMS/task010_bs8/2019-03-08___19-23-15/config.txt\n",
      "/home/yzbx/tmp/logs/motion/motion_unet_stn/FBMS/task010_bs2/2019-03-08___19-41-49/config.txt\n",
      "/home/yzbx/tmp/logs/motion/motion_unet_stn/FBMS/task010_bs4/2019-03-08___20-06-07/config.txt\n",
      "/home/yzbx/tmp/logs/motion/motion_unet_stn/FBMS/task010_bs8/2019-03-08___20-27-53/config.txt\n",
      "/home/yzbx/tmp/logs/motion/motion_unet/cdnet2014/task011_res_u2_d4_f0/2019-03-10___16-09-47/config.txt\n",
      "/home/yzbx/tmp/logs/motion/motion_unet_stn/cdnet2014/task011_res_u2_d4_f0/2019-03-10___16-10-07/config.txt\n",
      "/home/yzbx/tmp/logs/motion/motion_unet/cdnet2014/task011_res_u3_d4_f0/2019-03-10___17-12-47/config.txt\n",
      "/home/yzbx/tmp/logs/motion/motion_unet_stn/cdnet2014/task011_res_u3_d4_f0/2019-03-10___17-14-50/config.txt\n",
      "/home/yzbx/tmp/logs/motion/motion_unet/cdnet2014/task011_res_u2_d5_f0/2019-03-10___17-59-51/config.txt\n",
      "/home/yzbx/tmp/logs/motion/motion_unet_stn/cdnet2014/task011_res_u2_d5_f0/2019-03-10___18-02-47/config.txt\n",
      "/home/yzbx/tmp/logs/motion/motion_unet/cdnet2014/task011_res_u3_d5_f0/2019-03-10___19-48-47/config.txt\n",
      "/home/yzbx/tmp/logs/motion/motion_unet_stn/cdnet2014/task011_res_u3_d5_f0/2019-03-10___19-51-16/config.txt\n",
      "/home/yzbx/tmp/logs/motion/motion_unet/FBMS/task011_res_u2_d4_f0/2019-03-10___21-21-48/config.txt\n",
      "/home/yzbx/tmp/logs/motion/motion_unet_stn/FBMS/task011_res_u2_d4_f0/2019-03-10___21-24-18/config.txt\n",
      "/home/yzbx/tmp/logs/motion/motion_unet/FBMS/task011_res_u3_d4_f0/2019-03-10___21-44-19/config.txt\n",
      "/home/yzbx/tmp/logs/motion/motion_unet_stn/FBMS/task011_res_u3_d4_f0/2019-03-10___21-47-15/config.txt\n",
      "/home/yzbx/tmp/logs/motion/motion_unet/FBMS/task011_res_u2_d5_f0/2019-03-10___22-01-03/config.txt\n",
      "/home/yzbx/tmp/logs/motion/motion_unet_stn/FBMS/task011_res_u2_d5_f0/2019-03-10___22-04-21/config.txt\n",
      "/home/yzbx/tmp/logs/motion/motion_unet/FBMS/task011_res_u3_d5_f0/2019-03-10___22-39-28/config.txt\n",
      "/home/yzbx/tmp/logs/motion/motion_unet_stn/FBMS/task011_res_u3_d5_f0/2019-03-10___22-42-34/config.txt\n",
      "/home/yzbx/tmp/logs/motion/motion_unet_stn/FBMS/task013_pmr/2019-03-11___13-30-42/config.txt\n",
      "/home/yzbx/tmp/logs/motion/motion_unet/FBMS/task012_bs2_f5/2019-03-11___13-31-02/config.txt\n",
      "/home/yzbx/tmp/logs/motion/motion_unet_stn/FBMS/task013_pmr/2019-03-11___13-48-51/config.txt\n",
      "/home/yzbx/tmp/logs/motion/motion_unet/FBMS/task012_bs4_f5/2019-03-11___13-54-51/config.txt\n",
      "/home/yzbx/tmp/logs/motion/motion_unet_stn/FBMS/task013_pmr/2019-03-11___14-07-20/config.txt\n",
      "/home/yzbx/tmp/logs/motion/motion_unet/FBMS/task012_bs8_f5/2019-03-11___14-15-34/config.txt\n",
      "/home/yzbx/tmp/logs/motion/motion_unet_stn/FBMS/task013_pmr/2019-03-11___14-25-52/config.txt\n",
      "/home/yzbx/tmp/logs/motion/motion_unet_stn/FBMS/task012_bs2_f5/2019-03-11___14-36-52/config.txt\n",
      "/home/yzbx/tmp/logs/motion/motion_unet_stn/FBMS/task012_bs4_f5/2019-03-11___15-00-49/config.txt\n",
      "/home/yzbx/tmp/logs/motion/motion_unet_stn/FBMS/task012_bs8_f5/2019-03-11___15-22-03/config.txt\n",
      "/home/yzbx/tmp/logs/motion/motion_unet_stn/FBMS/task013_pmr/2019-03-11___15-36-12/config.txt\n",
      "/home/yzbx/tmp/logs/motion/motion_unet_stn/FBMS/task013_pmr/2019-03-11___15-54-03/config.txt\n",
      "/home/yzbx/tmp/logs/motion/motion_unet/FBMS/task012_bs2_f10/2019-03-11___16-54-22/config.txt\n",
      "/home/yzbx/tmp/logs/motion/motion_unet/FBMS/task012_bs2_f10/2019-03-11___17-02-01/config.txt\n",
      "/home/yzbx/tmp/logs/motion/motion_unet_stn/FBMS/task013_pmr/2019-03-11___17-03-24/config.txt\n",
      "/home/yzbx/tmp/logs/motion/motion_unet_stn/FBMS/task013_pmr/2019-03-11___17-20-17/config.txt\n",
      "/home/yzbx/tmp/logs/motion/motion_unet/FBMS/task012_bs4_f10/2019-03-11___17-27-25/config.txt\n",
      "/home/yzbx/tmp/logs/motion/motion_unet_stn/FBMS/task013_pmr/2019-03-11___17-37-13/config.txt\n",
      "/home/yzbx/tmp/logs/motion/motion_unet/FBMS/task012_bs8_f10/2019-03-11___17-51-41/config.txt\n",
      "/home/yzbx/tmp/logs/motion/motion_unet_stn/FBMS/task013_pmr/2019-03-11___17-54-12/config.txt\n",
      "/home/yzbx/tmp/logs/motion/motion_unet_stn/FBMS/task012_bs2_f10/2019-03-11___18-16-39/config.txt\n",
      "/home/yzbx/tmp/logs/motion/motion_unet_stn/FBMS/task012_bs4_f10/2019-03-11___18-41-53/config.txt\n",
      "/home/yzbx/tmp/logs/motion/motion_unet_stn/FBMS/task012_bs8_f10/2019-03-11___19-03-58/config.txt\n",
      "/home/yzbx/tmp/logs/motion/motion_unet/FBMS/task012_bs2_f20/2019-03-11___19-26-37/config.txt\n",
      "/home/yzbx/tmp/logs/motion/motion_unet/FBMS/task012_bs4_f20/2019-03-11___19-50-47/config.txt\n",
      "/home/yzbx/tmp/logs/motion/motion_unet/FBMS/task012_bs8_f20/2019-03-11___20-12-27/config.txt\n",
      "/home/yzbx/tmp/logs/motion/motion_unet_stn/FBMS/task012_bs2_f20/2019-03-11___20-34-42/config.txt\n",
      "/home/yzbx/tmp/logs/motion/motion_unet_stn/FBMS/task012_bs4_f20/2019-03-11___20-59-33/config.txt\n",
      "/home/yzbx/tmp/logs/motion/motion_unet_stn/FBMS/task012_bs8_f20/2019-03-11___21-21-33/config.txt\n",
      "/home/yzbx/tmp/logs/motion/motion_unet/segtrackv2/segtrack/2019-03-12___16-58-17/config.txt\n",
      "/home/yzbx/tmp/logs/motion/motion_unet/segtrackv2/segtrack/2019-03-12___16-58-56/config.txt\n",
      "/home/yzbx/tmp/logs/imagecls/center_model/cifar100/test_center/2019-03-13___15-14-33/config.txt\n",
      "/home/yzbx/tmp/logs/imagecls/center_model/cifar100/test_center/2019-03-13___15-15-06/config.txt\n",
      "/home/yzbx/tmp/logs/imagecls/center_model/cifar100/test_center/2019-03-13___15-19-32/config.txt\n",
      "/home/yzbx/tmp/logs/imagecls/center_model/cifar100/test_center/2019-03-13___15-21-27/config.txt\n",
      "/home/yzbx/tmp/logs/imagecls/vgg7/cifar100/test_vgg7/2019-03-13___15-42-33/config.txt\n",
      "/home/yzbx/tmp/logs/imagecls/center_model/cifar100/test_center/2019-03-13___16-25-34/config.txt\n",
      "/home/yzbx/tmp/logs/imagecls/center_model/cifar100/test_center/2019-03-13___16-40-27/config.txt\n",
      "/home/yzbx/tmp/logs/imagecls/center_model/cifar100/cos_loss/2019-03-13___16-58-48/config.txt\n",
      "/home/yzbx/tmp/logs/imagecls/center_model/cifar100/cos_loss/2019-03-13___17-00-22/config.txt\n",
      "/home/yzbx/tmp/logs/imagecls/center_model/cifar100/cos_loss/2019-03-13___17-01-09/config.txt\n",
      "/home/yzbx/tmp/logs/imagecls/center_model/cifar100/cos_loss/2019-03-13___17-01-31/config.txt\n",
      "/home/yzbx/tmp/logs/imagecls/center_model/cifar100/loss_weight/2019-03-13___17-04-13/config.txt\n",
      "/home/yzbx/tmp/logs/imagecls/center_model/cifar100/loss_weight/2019-03-13___17-42-08/config.txt\n",
      "/home/yzbx/tmp/logs/imagecls/center_model/cifar100/loss_weight/2019-03-13___17-43-06/config.txt\n",
      "/home/yzbx/tmp/logs/imagecls/vgg7/cifar100/reproduce/2019-03-13___17-44-35/config.txt\n",
      "/home/yzbx/tmp/logs/imagecls/center_model/cifar100/loss_weight/2019-03-13___20-13-50/config.txt\n",
      "/home/yzbx/tmp/logs/imagecls/center_model/cifar100/loss_weight/2019-03-13___23-41-42/config.txt\n",
      "/home/yzbx/tmp/logs/imagecls/vgg7/cifar100/reproduce/2019-03-14___01-46-24/config.txt\n",
      "/home/yzbx/tmp/logs/imagecls/vgg7/cifar100/center_loss/2019-03-14___02-14-23/config.txt\n",
      "/home/yzbx/tmp/logs/imagecls/vgg7/cifar100/center_loss/2019-03-14___02-17-53/config.txt\n",
      "/home/yzbx/tmp/logs/imagecls/vgg7/cifar100/center_loss/2019-03-14___02-18-43/config.txt\n",
      "/home/yzbx/tmp/logs/imagecls/vgg7/cifar100/center_loss/2019-03-14___02-19-10/config.txt\n",
      "/home/yzbx/tmp/logs/imagecls/vgg7/cifar100/center_loss/2019-03-14___02-35-15/config.txt\n",
      "/home/yzbx/tmp/logs/imagecls/vgg7/cifar100/center_loss/2019-03-14___02-56-24/config.txt\n",
      "/home/yzbx/tmp/logs/imagecls/vgg7/cifar100/center_loss/2019-03-14___03-15-00/config.txt\n",
      "/home/yzbx/tmp/logs/imagecls/vgg7/cifar100/center_loss/2019-03-14___03-34-37/config.txt\n",
      "/home/yzbx/tmp/logs/imagecls/vgg7/cifar100/center_loss/2019-03-14___15-19-25/config.txt\n",
      "/home/yzbx/tmp/logs/imagecls/vgg7/cifar100/center_loss/2019-03-14___17-24-08/config.txt\n",
      "/home/yzbx/tmp/logs/pytorch/pspnet/cityscapes/center_loss/2019-03-14___18-50-58/config.txt\n",
      "/home/yzbx/tmp/logs/pytorch/pspnet/cityscapes/center_loss/2019-03-14___20-49-50/config.txt\n",
      "/home/yzbx/tmp/logs/pytorch/pspnet/cityscapes/center_loss/2019-03-14___23-32-21/config.txt\n",
      "/home/yzbx/tmp/logs/pytorch/pspnet/cityscapes/center_loss/2019-03-15___14-14-33/config.txt\n",
      "/home/yzbx/tmp/logs/pytorch/pspnet/cityscapes/center_loss/2019-03-15___15-19-56/config.txt\n",
      "/home/yzbx/tmp/logs/pytorch/pspnet/cityscapes/wo_center_loss/2019-03-15___15-21-31/config.txt\n",
      "/home/yzbx/tmp/logs/pytorch/pspnet/cityscapes/wo_sum_feature/2019-03-15___16-25-36/config.txt\n"
     ]
    }
   ],
   "source": [
    "log_rootpath=os.path.expanduser('~/tmp/logs')\n",
    "log_files=glob.glob(os.path.join(log_rootpath,'**','*.txt'),recursive=True)\n",
    "print(len(log_files))\n",
    "\n",
    "print('today log'+'#'*30)\n",
    "for log in today_log(log_files):\n",
    "    print(log)\n",
    "\n",
    "print('\\n recent log'+'#'*30)\n",
    "for log in recent_log(log_files):\n",
    "    print(log)"
   ]
  },
  {
   "cell_type": "code",
   "execution_count": null,
   "metadata": {
    "scrolled": false
   },
   "outputs": [],
   "source": []
  },
  {
   "cell_type": "code",
   "execution_count": null,
   "metadata": {},
   "outputs": [],
   "source": []
  }
 ],
 "metadata": {
  "kernelspec": {
   "display_name": "Python [conda env:new]",
   "language": "python",
   "name": "conda-env-new-py"
  },
  "language_info": {
   "codemirror_mode": {
    "name": "ipython",
    "version": 3
   },
   "file_extension": ".py",
   "mimetype": "text/x-python",
   "name": "python",
   "nbconvert_exporter": "python",
   "pygments_lexer": "ipython3",
   "version": "3.6.5"
  }
 },
 "nbformat": 4,
 "nbformat_minor": 2
}
