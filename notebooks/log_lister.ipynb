{
 "cells": [
  {
   "cell_type": "code",
   "execution_count": 1,
   "metadata": {},
   "outputs": [
    {
     "name": "stdout",
     "output_type": "stream",
     "text": [
      "['/home/yzbx/git/torchseg', '/home/yzbx/git/torchseg/notebooks', '/home/yzbx/git/gnu/models/research', '/home/yzbx/git/gnu/models/research/slim', '/home/yzbx/bin/miniconda3/envs/cuda10.0/lib/python36.zip', '/home/yzbx/bin/miniconda3/envs/cuda10.0/lib/python3.6', '/home/yzbx/bin/miniconda3/envs/cuda10.0/lib/python3.6/lib-dynload', '', '/home/yzbx/.local/lib/python3.6/site-packages', '/home/yzbx/bin/miniconda3/envs/cuda10.0/lib/python3.6/site-packages', '/home/yzbx/bin/miniconda3/envs/cuda10.0/lib/python3.6/site-packages/pycocotools-2.0-py3.6-linux-x86_64.egg', '/home/yzbx/bin/miniconda3/envs/cuda10.0/lib/python3.6/site-packages/kiwisolver-1.1.0-py3.6-linux-x86_64.egg', '/home/yzbx/bin/miniconda3/envs/cuda10.0/lib/python3.6/site-packages/cycler-0.10.0-py3.6.egg', '/home/yzbx/git/gnu/distiller', '/home/yzbx/bin/miniconda3/envs/cuda10.0/lib/python3.6/site-packages/tqdm-4.41.1-py3.6.egg', '/home/yzbx/bin/miniconda3/envs/cuda10.0/lib/python3.6/site-packages/davis2017-0.1.0-py3.6.egg', '/home/yzbx/bin/miniconda3/envs/cuda10.0/lib/python3.6/site-packages/IPython/extensions', '/home/yzbx/.ipython']\n"
     ]
    },
    {
     "name": "stderr",
     "output_type": "stream",
     "text": [
      "/home/yzbx/bin/miniconda3/envs/cuda10.0/lib/python3.6/site-packages/tensorflow/python/framework/dtypes.py:516: FutureWarning: Passing (type, 1) or '1type' as a synonym of type is deprecated; in a future version of numpy, it will be understood as (type, (1,)) / '(1,)type'.\n",
      "  _np_qint8 = np.dtype([(\"qint8\", np.int8, 1)])\n",
      "/home/yzbx/bin/miniconda3/envs/cuda10.0/lib/python3.6/site-packages/tensorflow/python/framework/dtypes.py:517: FutureWarning: Passing (type, 1) or '1type' as a synonym of type is deprecated; in a future version of numpy, it will be understood as (type, (1,)) / '(1,)type'.\n",
      "  _np_quint8 = np.dtype([(\"quint8\", np.uint8, 1)])\n",
      "/home/yzbx/bin/miniconda3/envs/cuda10.0/lib/python3.6/site-packages/tensorflow/python/framework/dtypes.py:518: FutureWarning: Passing (type, 1) or '1type' as a synonym of type is deprecated; in a future version of numpy, it will be understood as (type, (1,)) / '(1,)type'.\n",
      "  _np_qint16 = np.dtype([(\"qint16\", np.int16, 1)])\n",
      "/home/yzbx/bin/miniconda3/envs/cuda10.0/lib/python3.6/site-packages/tensorflow/python/framework/dtypes.py:519: FutureWarning: Passing (type, 1) or '1type' as a synonym of type is deprecated; in a future version of numpy, it will be understood as (type, (1,)) / '(1,)type'.\n",
      "  _np_quint16 = np.dtype([(\"quint16\", np.uint16, 1)])\n",
      "/home/yzbx/bin/miniconda3/envs/cuda10.0/lib/python3.6/site-packages/tensorflow/python/framework/dtypes.py:520: FutureWarning: Passing (type, 1) or '1type' as a synonym of type is deprecated; in a future version of numpy, it will be understood as (type, (1,)) / '(1,)type'.\n",
      "  _np_qint32 = np.dtype([(\"qint32\", np.int32, 1)])\n",
      "/home/yzbx/bin/miniconda3/envs/cuda10.0/lib/python3.6/site-packages/tensorflow/python/framework/dtypes.py:525: FutureWarning: Passing (type, 1) or '1type' as a synonym of type is deprecated; in a future version of numpy, it will be understood as (type, (1,)) / '(1,)type'.\n",
      "  np_resource = np.dtype([(\"resource\", np.ubyte, 1)])\n",
      "/home/yzbx/bin/miniconda3/envs/cuda10.0/lib/python3.6/site-packages/tensorboard/compat/tensorflow_stub/dtypes.py:541: FutureWarning: Passing (type, 1) or '1type' as a synonym of type is deprecated; in a future version of numpy, it will be understood as (type, (1,)) / '(1,)type'.\n",
      "  _np_qint8 = np.dtype([(\"qint8\", np.int8, 1)])\n",
      "/home/yzbx/bin/miniconda3/envs/cuda10.0/lib/python3.6/site-packages/tensorboard/compat/tensorflow_stub/dtypes.py:542: FutureWarning: Passing (type, 1) or '1type' as a synonym of type is deprecated; in a future version of numpy, it will be understood as (type, (1,)) / '(1,)type'.\n",
      "  _np_quint8 = np.dtype([(\"quint8\", np.uint8, 1)])\n",
      "/home/yzbx/bin/miniconda3/envs/cuda10.0/lib/python3.6/site-packages/tensorboard/compat/tensorflow_stub/dtypes.py:543: FutureWarning: Passing (type, 1) or '1type' as a synonym of type is deprecated; in a future version of numpy, it will be understood as (type, (1,)) / '(1,)type'.\n",
      "  _np_qint16 = np.dtype([(\"qint16\", np.int16, 1)])\n",
      "/home/yzbx/bin/miniconda3/envs/cuda10.0/lib/python3.6/site-packages/tensorboard/compat/tensorflow_stub/dtypes.py:544: FutureWarning: Passing (type, 1) or '1type' as a synonym of type is deprecated; in a future version of numpy, it will be understood as (type, (1,)) / '(1,)type'.\n",
      "  _np_quint16 = np.dtype([(\"quint16\", np.uint16, 1)])\n",
      "/home/yzbx/bin/miniconda3/envs/cuda10.0/lib/python3.6/site-packages/tensorboard/compat/tensorflow_stub/dtypes.py:545: FutureWarning: Passing (type, 1) or '1type' as a synonym of type is deprecated; in a future version of numpy, it will be understood as (type, (1,)) / '(1,)type'.\n",
      "  _np_qint32 = np.dtype([(\"qint32\", np.int32, 1)])\n",
      "/home/yzbx/bin/miniconda3/envs/cuda10.0/lib/python3.6/site-packages/tensorboard/compat/tensorflow_stub/dtypes.py:550: FutureWarning: Passing (type, 1) or '1type' as a synonym of type is deprecated; in a future version of numpy, it will be understood as (type, (1,)) / '(1,)type'.\n",
      "  np_resource = np.dtype([(\"resource\", np.ubyte, 1)])\n"
     ]
    }
   ],
   "source": [
    "import os\n",
    "import glob\n",
    "import sys\n",
    "import time\n",
    "from tabulate import tabulate\n",
    "import pandas as pd\n",
    "sys.path.insert(0,os.path.expanduser('~/git/torchseg'))\n",
    "print(sys.path)\n",
    "\n",
    "from utils.configs.semanticseg_config import load_config\n",
    "from utils.summary_to_csv import config_to_log,load_log,edict_to_pandas,today_log,recent_log"
   ]
  },
  {
   "cell_type": "code",
   "execution_count": 2,
   "metadata": {},
   "outputs": [
    {
     "name": "stdout",
     "output_type": "stream",
     "text": [
      "60\n",
      "today log##############################\n",
      "\n",
      " recent log##############################\n",
      "/home/yzbx/tmp/logs/motion/DeepLabV3Plus/BMCnet/baseline/2020-10-08___14-03-39/config.txt\n",
      "/home/yzbx/tmp/logs/motion/DeepLabV3Plus/segtrackv2/baseline/2020-10-08___14-04-23/config.txt\n",
      "/home/yzbx/tmp/logs/motion/Unet/FBMS/suarez001/2020-10-09___15-11-56/config.txt\n",
      "/home/yzbx/tmp/logs/motion/DeepLabV3Plus/FBMS/suarez001/2020-10-09___15-12-03/config.txt\n",
      "/home/yzbx/tmp/logs/motion/Unet/FBMS/suarez001/2020-10-09___15-36-02/config.txt\n",
      "/home/yzbx/tmp/logs/motion/DeepLabV3Plus/FBMS/suarez001/2020-10-09___15-36-09/config.txt\n",
      "/home/yzbx/tmp/logs/motion/DeepLabV3Plus/cdnet2014/suarez001/2020-10-09___15-41-59/config.txt\n",
      "/home/yzbx/tmp/logs/motion/DeepLabV3Plus/cdnet2014/suarez001/2020-10-09___15-43-35/config.txt\n",
      "/home/yzbx/tmp/logs/motion/DeepLabV3Plus/FBMS/suarez001/2020-10-09___16-58-38/config.txt\n",
      "/home/yzbx/tmp/logs/motion/DeepLabV3Plus/cdnet2014/suarez001/2020-10-09___16-58-57/config.txt\n",
      "/home/yzbx/tmp/logs/motion/Unet/FBMS/suarez001/2020-10-09___17-00-28/config.txt\n",
      "/home/yzbx/tmp/logs/motion/Unet/cdnet2014/suarez001/2020-10-09___17-21-57/config.txt\n",
      "/home/yzbx/tmp/logs/motion/DeepLabV3Plus/FBMS/suarez001/2020-10-09___17-46-16/config.txt\n",
      "/home/yzbx/tmp/logs/motion/DeepLabV3Plus/cdnet2014/suarez001/2020-10-09___18-08-01/config.txt\n",
      "/home/yzbx/tmp/logs/motion/Unet/FBMS/suarez001/2020-10-09___18-09-38/config.txt\n",
      "/home/yzbx/tmp/logs/motion/Unet/cdnet2014/suarez001/2020-10-09___18-31-15/config.txt\n",
      "/home/yzbx/tmp/logs/motion/DeepLabV3Plus/FBMS/suarez001/2020-10-09___18-55-42/config.txt\n",
      "/home/yzbx/tmp/logs/motion/DeepLabV3Plus/cdnet2014/suarez001/2020-10-09___19-17-22/config.txt\n",
      "/home/yzbx/tmp/logs/motion/Unet/FBMS/suarez001/2020-10-09___19-19-07/config.txt\n",
      "/home/yzbx/tmp/logs/motion/Unet/cdnet2014/suarez001/2020-10-09___19-40-57/config.txt\n"
     ]
    }
   ],
   "source": [
    "log_rootpath=os.path.expanduser('~/tmp/logs')\n",
    "log_files=glob.glob(os.path.join(log_rootpath,'**','*.txt'),recursive=True)\n",
    "print(len(log_files))\n",
    "\n",
    "print('today log'+'#'*30)\n",
    "for log in today_log(log_files):\n",
    "    print(log)\n",
    "\n",
    "print('\\n recent log'+'#'*30)\n",
    "for log in recent_log(log_files,20):\n",
    "    print(log)"
   ]
  },
  {
   "cell_type": "code",
   "execution_count": null,
   "metadata": {
    "collapsed": true,
    "scrolled": false
   },
   "outputs": [],
   "source": []
  },
  {
   "cell_type": "code",
   "execution_count": null,
   "metadata": {
    "collapsed": true
   },
   "outputs": [],
   "source": []
  }
 ],
 "metadata": {
  "kernelspec": {
   "display_name": "Python 3",
   "language": "python",
   "name": "python3"
  },
  "language_info": {
   "codemirror_mode": {
    "name": "ipython",
    "version": 3
   },
   "file_extension": ".py",
   "mimetype": "text/x-python",
   "name": "python",
   "nbconvert_exporter": "python",
   "pygments_lexer": "ipython3",
   "version": "3.6.8"
  }
 },
 "nbformat": 4,
 "nbformat_minor": 2
}
